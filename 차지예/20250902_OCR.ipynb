{
 "cells": [
  {
   "cell_type": "markdown",
   "id": "6d1e1ab3",
   "metadata": {},
   "source": [
    "# 오픈소스 OCR라이브러리"
   ]
  },
  {
   "cell_type": "markdown",
   "id": "e280d793",
   "metadata": {},
   "source": [
    "## EasyOCR"
   ]
  },
  {
   "cell_type": "code",
   "execution_count": 7,
   "id": "69abcbe3",
   "metadata": {},
   "outputs": [
    {
     "name": "stdout",
     "output_type": "stream",
     "text": [
      "Collecting easyocr\n",
      "  Downloading easyocr-1.7.2-py3-none-any.whl.metadata (10 kB)\n",
      "Requirement already satisfied: torch in c:\\users\\mynote\\anaconda3\\lib\\site-packages (from easyocr) (2.8.0)\n",
      "Requirement already satisfied: torchvision>=0.5 in c:\\users\\mynote\\anaconda3\\lib\\site-packages (from easyocr) (0.23.0)\n",
      "Collecting opencv-python-headless (from easyocr)\n",
      "  Downloading opencv_python_headless-4.12.0.88-cp37-abi3-win_amd64.whl.metadata (20 kB)\n",
      "Requirement already satisfied: scipy in c:\\users\\mynote\\anaconda3\\lib\\site-packages (from easyocr) (1.15.3)\n",
      "Requirement already satisfied: numpy in c:\\users\\mynote\\anaconda3\\lib\\site-packages (from easyocr) (2.1.3)\n",
      "Requirement already satisfied: Pillow in c:\\users\\mynote\\anaconda3\\lib\\site-packages (from easyocr) (11.1.0)\n",
      "Requirement already satisfied: scikit-image in c:\\users\\mynote\\anaconda3\\lib\\site-packages (from easyocr) (0.25.0)\n",
      "Collecting python-bidi (from easyocr)\n",
      "  Downloading python_bidi-0.6.6-cp313-cp313-win_amd64.whl.metadata (5.0 kB)\n",
      "Requirement already satisfied: PyYAML in c:\\users\\mynote\\anaconda3\\lib\\site-packages (from easyocr) (6.0.2)\n",
      "Collecting Shapely (from easyocr)\n",
      "  Downloading shapely-2.1.1-cp313-cp313-win_amd64.whl.metadata (7.0 kB)\n",
      "Collecting pyclipper (from easyocr)\n",
      "  Downloading pyclipper-1.3.0.post6-cp313-cp313-win_amd64.whl.metadata (9.2 kB)\n",
      "Collecting ninja (from easyocr)\n",
      "  Downloading ninja-1.13.0-py3-none-win_amd64.whl.metadata (5.1 kB)\n",
      "Requirement already satisfied: filelock in c:\\users\\mynote\\anaconda3\\lib\\site-packages (from torch->easyocr) (3.17.0)\n",
      "Requirement already satisfied: typing-extensions>=4.10.0 in c:\\users\\mynote\\anaconda3\\lib\\site-packages (from torch->easyocr) (4.12.2)\n",
      "Requirement already satisfied: sympy>=1.13.3 in c:\\users\\mynote\\anaconda3\\lib\\site-packages (from torch->easyocr) (1.13.3)\n",
      "Requirement already satisfied: networkx in c:\\users\\mynote\\anaconda3\\lib\\site-packages (from torch->easyocr) (3.4.2)\n",
      "Requirement already satisfied: jinja2 in c:\\users\\mynote\\anaconda3\\lib\\site-packages (from torch->easyocr) (3.1.6)\n",
      "Requirement already satisfied: fsspec in c:\\users\\mynote\\anaconda3\\lib\\site-packages (from torch->easyocr) (2025.3.2)\n",
      "Requirement already satisfied: setuptools in c:\\users\\mynote\\anaconda3\\lib\\site-packages (from torch->easyocr) (72.1.0)\n",
      "Requirement already satisfied: mpmath<1.4,>=1.1.0 in c:\\users\\mynote\\anaconda3\\lib\\site-packages (from sympy>=1.13.3->torch->easyocr) (1.3.0)\n",
      "Requirement already satisfied: MarkupSafe>=2.0 in c:\\users\\mynote\\anaconda3\\lib\\site-packages (from jinja2->torch->easyocr) (3.0.2)\n",
      "Requirement already satisfied: imageio!=2.35.0,>=2.33 in c:\\users\\mynote\\anaconda3\\lib\\site-packages (from scikit-image->easyocr) (2.37.0)\n",
      "Requirement already satisfied: tifffile>=2022.8.12 in c:\\users\\mynote\\anaconda3\\lib\\site-packages (from scikit-image->easyocr) (2025.2.18)\n",
      "Requirement already satisfied: packaging>=21 in c:\\users\\mynote\\anaconda3\\lib\\site-packages (from scikit-image->easyocr) (24.2)\n",
      "Requirement already satisfied: lazy-loader>=0.4 in c:\\users\\mynote\\anaconda3\\lib\\site-packages (from scikit-image->easyocr) (0.4)\n",
      "Downloading easyocr-1.7.2-py3-none-any.whl (2.9 MB)\n",
      "   ---------------------------------------- 0.0/2.9 MB ? eta -:--:--\n",
      "   ---------------------------------------- 2.9/2.9 MB 19.0 MB/s eta 0:00:00\n",
      "Downloading ninja-1.13.0-py3-none-win_amd64.whl (309 kB)\n",
      "Downloading opencv_python_headless-4.12.0.88-cp37-abi3-win_amd64.whl (38.9 MB)\n",
      "   ---------------------------------------- 0.0/38.9 MB ? eta -:--:--\n",
      "   ----- ---------------------------------- 5.8/38.9 MB 27.7 MB/s eta 0:00:02\n",
      "   ----------- ---------------------------- 10.7/38.9 MB 26.5 MB/s eta 0:00:02\n",
      "   ---------------- ----------------------- 16.5/38.9 MB 26.2 MB/s eta 0:00:01\n",
      "   ----------------------- ---------------- 22.8/38.9 MB 27.3 MB/s eta 0:00:01\n",
      "   ----------------------------- ---------- 28.6/38.9 MB 27.0 MB/s eta 0:00:01\n",
      "   ---------------------------------- ----- 33.8/38.9 MB 26.9 MB/s eta 0:00:01\n",
      "   ---------------------------------------  38.8/38.9 MB 27.2 MB/s eta 0:00:01\n",
      "   ---------------------------------------- 38.9/38.9 MB 25.3 MB/s eta 0:00:00\n",
      "Downloading pyclipper-1.3.0.post6-cp313-cp313-win_amd64.whl (109 kB)\n",
      "Downloading python_bidi-0.6.6-cp313-cp313-win_amd64.whl (159 kB)\n",
      "Downloading shapely-2.1.1-cp313-cp313-win_amd64.whl (1.7 MB)\n",
      "   ---------------------------------------- 0.0/1.7 MB ? eta -:--:--\n",
      "   ---------------------------------------- 1.7/1.7 MB 25.3 MB/s eta 0:00:00\n",
      "Installing collected packages: python-bidi, pyclipper, Shapely, opencv-python-headless, ninja, easyocr\n",
      "\n",
      "   ------------- -------------------------- 2/6 [Shapely]\n",
      "   ------------- -------------------------- 2/6 [Shapely]\n",
      "   ------------- -------------------------- 2/6 [Shapely]\n",
      "   -------------------- ------------------- 3/6 [opencv-python-headless]\n",
      "   -------------------- ------------------- 3/6 [opencv-python-headless]\n",
      "   -------------------- ------------------- 3/6 [opencv-python-headless]\n",
      "   -------------------- ------------------- 3/6 [opencv-python-headless]\n",
      "   -------------------------- ------------- 4/6 [ninja]\n",
      "   --------------------------------- ------ 5/6 [easyocr]\n",
      "   --------------------------------- ------ 5/6 [easyocr]\n",
      "   ---------------------------------------- 6/6 [easyocr]\n",
      "\n",
      "Successfully installed Shapely-2.1.1 easyocr-1.7.2 ninja-1.13.0 opencv-python-headless-4.12.0.88 pyclipper-1.3.0.post6 python-bidi-0.6.6\n"
     ]
    }
   ],
   "source": [
    "!pip install easyocr"
   ]
  },
  {
   "cell_type": "code",
   "execution_count": null,
   "id": "4ffc1588",
   "metadata": {},
   "outputs": [
    {
     "name": "stderr",
     "output_type": "stream",
     "text": [
      "Neither CUDA nor MPS are available - defaulting to CPU. Note: This module is much faster with a GPU.\n"
     ]
    },
    {
     "name": "stdout",
     "output_type": "stream",
     "text": [
      "✅ 이미지 로딩 성공! OCR을 실행합니다...\n"
     ]
    },
    {
     "name": "stderr",
     "output_type": "stream",
     "text": [
      "c:\\Users\\MYNOTE\\anaconda3\\Lib\\site-packages\\torch\\utils\\data\\dataloader.py:666: UserWarning: 'pin_memory' argument is set as true but no accelerator is found, then device pinned memory won't be used.\n",
      "  warnings.warn(warn_msg)\n"
     ]
    },
    {
     "name": "stdout",
     "output_type": "stream",
     "text": [
      "\n",
      "--- OCR 추출 결과 ---\n",
      "존품명 백설돼지갈비양염 식품의유형 소스살준제품) 내용황하 제조원 [ 시a트}트 논산시 실_침 출하도 [포장재질 용기-유리 (내면 뚜껑-플리엽화비닐 센기한 하단 표기일_지 보방법 실혼 보관 통호 냉장토관j 품목보-번호 [20020464088 38 @필통- 흘입문장하미도--물자뒤 @국프양도탕장원액 달플대드-외국& 제제소금 '기타과당} 설탕 기타과당 배퓨레 (국산), ) 비타민C} , 정제수 양파퓨래중국씩 k과루래사과국하) )비타민C} 다진마늘다 [진생강 '후춧가루 향미증진제 제 [소금 {카라델색소, \"콤콤_스 훌킬동 불륭기 [진제)= 잔단검 '청양고추액기스C 감쨌히추출물 때륙 말함유 [반품뜻 교환장소 전로매점 7 0 러E= D로 . D85 도-; : ;\n"
     ]
    }
   ],
   "source": [
    "import cv2\n",
    "import numpy as np\n",
    "import easyocr\n",
    "import os # 파일 존재 여부 확인을 위해 추가\n",
    "\n",
    "# --- 1. 이미지 파일 경로 설정 ---\n",
    "# Raw string(r'')을 사용하여 경로를 지정하는 것이 안전합니다.\n",
    "image_path = r'C:\\Users\\MYNOTE\\AllerGuard\\Data\\차지예_009.jpg'\n",
    "\n",
    "# --- 2. 한글 경로를 포함한 이미지 안전하게 불러오기 ---\n",
    "image = None # 이미지 변수 초기화\n",
    "\n",
    "# 파일이 실제로 존재하는지 먼저 확인합니다.\n",
    "if os.path.exists(image_path):\n",
    "    try:\n",
    "        # 파일을 바이너리(binary) 모드로 읽어서 numpy 배열로 변환합니다.\n",
    "        bytes_array = np.fromfile(image_path, np.uint8)\n",
    "        # numpy 배열을 OpenCV 이미지 객체로 디코딩합니다.\n",
    "        image = cv2.imdecode(bytes_array, cv2.IMREAD_COLOR)\n",
    "    except Exception as e:\n",
    "        print(f\"이미지 디코딩 중 오류 발생: {e}\")\n",
    "else:\n",
    "    print(f\"파일을 찾을 수 없습니다: {image_path}\")\n",
    "\n",
    "\n",
    "# --- 3. 이미지가 성공적으로 로드되었을 경우 OCR 실행 ---\n",
    "if image is not None:\n",
    "    print(\"✅ 이미지 로딩 성공! OCR을 실행합니다...\")\n",
    "    \n",
    "    # EasyOCR 리더 객체 생성 (한국어, 영어 모델 사용)\n",
    "    # 최초 실행 시 모델 다운로드로 인해 시간이 걸릴 수 있습니다.\n",
    "    reader = easyocr.Reader(['ko', 'en'])\n",
    "    \n",
    "    # 이미지에서 텍스트 추출\n",
    "    result = reader.readtext(image, detail=0, paragraph=True)\n",
    "    \n",
    "    # 추출된 텍스트 결과 출력\n",
    "    print(\"\\n--- OCR 추출 결과 ---\")\n",
    "    if result:\n",
    "        for line in result:\n",
    "            print(line)\n",
    "    else:\n",
    "        print(\"이미지에서 텍스트를 찾지 못했습니다.\")\n",
    "        \n",
    "else:\n",
    "    print(\"이미지 로딩 실패. OCR을 실행할 수 없습니다.\")"
   ]
  },
  {
   "cell_type": "markdown",
   "id": "9b508b01",
   "metadata": {},
   "source": [
    "# GCP ORC"
   ]
  },
  {
   "cell_type": "code",
   "execution_count": 11,
   "id": "141eb094",
   "metadata": {},
   "outputs": [
    {
     "name": "stdout",
     "output_type": "stream",
     "text": [
      "Collecting google-cloud-vision\n",
      "  Downloading google_cloud_vision-3.10.2-py3-none-any.whl.metadata (9.6 kB)\n",
      "Collecting google-api-core!=2.0.*,!=2.1.*,!=2.10.*,!=2.2.*,!=2.3.*,!=2.4.*,!=2.5.*,!=2.6.*,!=2.7.*,!=2.8.*,!=2.9.*,<3.0.0,>=1.34.1 (from google-api-core[grpc]!=2.0.*,!=2.1.*,!=2.10.*,!=2.2.*,!=2.3.*,!=2.4.*,!=2.5.*,!=2.6.*,!=2.7.*,!=2.8.*,!=2.9.*,<3.0.0,>=1.34.1->google-cloud-vision)\n",
      "  Downloading google_api_core-2.25.1-py3-none-any.whl.metadata (3.0 kB)\n",
      "Collecting google-auth!=2.24.0,!=2.25.0,<3.0.0,>=2.14.1 (from google-cloud-vision)\n",
      "  Downloading google_auth-2.40.3-py2.py3-none-any.whl.metadata (6.2 kB)\n",
      "Collecting proto-plus<2.0.0,>=1.22.3 (from google-cloud-vision)\n",
      "  Downloading proto_plus-1.26.1-py3-none-any.whl.metadata (2.2 kB)\n",
      "Requirement already satisfied: protobuf!=4.21.0,!=4.21.1,!=4.21.2,!=4.21.3,!=4.21.4,!=4.21.5,<7.0.0,>=3.20.2 in c:\\users\\mynote\\anaconda3\\lib\\site-packages (from google-cloud-vision) (5.29.3)\n",
      "Collecting googleapis-common-protos<2.0.0,>=1.56.2 (from google-api-core!=2.0.*,!=2.1.*,!=2.10.*,!=2.2.*,!=2.3.*,!=2.4.*,!=2.5.*,!=2.6.*,!=2.7.*,!=2.8.*,!=2.9.*,<3.0.0,>=1.34.1->google-api-core[grpc]!=2.0.*,!=2.1.*,!=2.10.*,!=2.2.*,!=2.3.*,!=2.4.*,!=2.5.*,!=2.6.*,!=2.7.*,!=2.8.*,!=2.9.*,<3.0.0,>=1.34.1->google-cloud-vision)\n",
      "  Downloading googleapis_common_protos-1.70.0-py3-none-any.whl.metadata (9.3 kB)\n",
      "Requirement already satisfied: requests<3.0.0,>=2.18.0 in c:\\users\\mynote\\anaconda3\\lib\\site-packages (from google-api-core!=2.0.*,!=2.1.*,!=2.10.*,!=2.2.*,!=2.3.*,!=2.4.*,!=2.5.*,!=2.6.*,!=2.7.*,!=2.8.*,!=2.9.*,<3.0.0,>=1.34.1->google-api-core[grpc]!=2.0.*,!=2.1.*,!=2.10.*,!=2.2.*,!=2.3.*,!=2.4.*,!=2.5.*,!=2.6.*,!=2.7.*,!=2.8.*,!=2.9.*,<3.0.0,>=1.34.1->google-cloud-vision) (2.32.3)\n",
      "Collecting grpcio<2.0.0,>=1.33.2 (from google-api-core[grpc]!=2.0.*,!=2.1.*,!=2.10.*,!=2.2.*,!=2.3.*,!=2.4.*,!=2.5.*,!=2.6.*,!=2.7.*,!=2.8.*,!=2.9.*,<3.0.0,>=1.34.1->google-cloud-vision)\n",
      "  Downloading grpcio-1.74.0-cp313-cp313-win_amd64.whl.metadata (4.0 kB)\n",
      "Collecting grpcio-status<2.0.0,>=1.33.2 (from google-api-core[grpc]!=2.0.*,!=2.1.*,!=2.10.*,!=2.2.*,!=2.3.*,!=2.4.*,!=2.5.*,!=2.6.*,!=2.7.*,!=2.8.*,!=2.9.*,<3.0.0,>=1.34.1->google-cloud-vision)\n",
      "  Using cached grpcio_status-1.74.0-py3-none-any.whl.metadata (1.1 kB)\n",
      "Requirement already satisfied: cachetools<6.0,>=2.0.0 in c:\\users\\mynote\\anaconda3\\lib\\site-packages (from google-auth!=2.24.0,!=2.25.0,<3.0.0,>=2.14.1->google-cloud-vision) (5.5.1)\n",
      "Requirement already satisfied: pyasn1-modules>=0.2.1 in c:\\users\\mynote\\anaconda3\\lib\\site-packages (from google-auth!=2.24.0,!=2.25.0,<3.0.0,>=2.14.1->google-cloud-vision) (0.2.8)\n",
      "Collecting rsa<5,>=3.1.4 (from google-auth!=2.24.0,!=2.25.0,<3.0.0,>=2.14.1->google-cloud-vision)\n",
      "  Downloading rsa-4.9.1-py3-none-any.whl.metadata (5.6 kB)\n",
      "Collecting protobuf!=4.21.0,!=4.21.1,!=4.21.2,!=4.21.3,!=4.21.4,!=4.21.5,<7.0.0,>=3.20.2 (from google-cloud-vision)\n",
      "  Downloading protobuf-6.32.0-cp310-abi3-win_amd64.whl.metadata (593 bytes)\n",
      "Requirement already satisfied: charset-normalizer<4,>=2 in c:\\users\\mynote\\anaconda3\\lib\\site-packages (from requests<3.0.0,>=2.18.0->google-api-core!=2.0.*,!=2.1.*,!=2.10.*,!=2.2.*,!=2.3.*,!=2.4.*,!=2.5.*,!=2.6.*,!=2.7.*,!=2.8.*,!=2.9.*,<3.0.0,>=1.34.1->google-api-core[grpc]!=2.0.*,!=2.1.*,!=2.10.*,!=2.2.*,!=2.3.*,!=2.4.*,!=2.5.*,!=2.6.*,!=2.7.*,!=2.8.*,!=2.9.*,<3.0.0,>=1.34.1->google-cloud-vision) (3.3.2)\n",
      "Requirement already satisfied: idna<4,>=2.5 in c:\\users\\mynote\\anaconda3\\lib\\site-packages (from requests<3.0.0,>=2.18.0->google-api-core!=2.0.*,!=2.1.*,!=2.10.*,!=2.2.*,!=2.3.*,!=2.4.*,!=2.5.*,!=2.6.*,!=2.7.*,!=2.8.*,!=2.9.*,<3.0.0,>=1.34.1->google-api-core[grpc]!=2.0.*,!=2.1.*,!=2.10.*,!=2.2.*,!=2.3.*,!=2.4.*,!=2.5.*,!=2.6.*,!=2.7.*,!=2.8.*,!=2.9.*,<3.0.0,>=1.34.1->google-cloud-vision) (3.7)\n",
      "Requirement already satisfied: urllib3<3,>=1.21.1 in c:\\users\\mynote\\anaconda3\\lib\\site-packages (from requests<3.0.0,>=2.18.0->google-api-core!=2.0.*,!=2.1.*,!=2.10.*,!=2.2.*,!=2.3.*,!=2.4.*,!=2.5.*,!=2.6.*,!=2.7.*,!=2.8.*,!=2.9.*,<3.0.0,>=1.34.1->google-api-core[grpc]!=2.0.*,!=2.1.*,!=2.10.*,!=2.2.*,!=2.3.*,!=2.4.*,!=2.5.*,!=2.6.*,!=2.7.*,!=2.8.*,!=2.9.*,<3.0.0,>=1.34.1->google-cloud-vision) (2.3.0)\n",
      "Requirement already satisfied: certifi>=2017.4.17 in c:\\users\\mynote\\anaconda3\\lib\\site-packages (from requests<3.0.0,>=2.18.0->google-api-core!=2.0.*,!=2.1.*,!=2.10.*,!=2.2.*,!=2.3.*,!=2.4.*,!=2.5.*,!=2.6.*,!=2.7.*,!=2.8.*,!=2.9.*,<3.0.0,>=1.34.1->google-api-core[grpc]!=2.0.*,!=2.1.*,!=2.10.*,!=2.2.*,!=2.3.*,!=2.4.*,!=2.5.*,!=2.6.*,!=2.7.*,!=2.8.*,!=2.9.*,<3.0.0,>=1.34.1->google-cloud-vision) (2025.4.26)\n",
      "Requirement already satisfied: pyasn1>=0.1.3 in c:\\users\\mynote\\anaconda3\\lib\\site-packages (from rsa<5,>=3.1.4->google-auth!=2.24.0,!=2.25.0,<3.0.0,>=2.14.1->google-cloud-vision) (0.4.8)\n",
      "Downloading google_cloud_vision-3.10.2-py3-none-any.whl (527 kB)\n",
      "   ---------------------------------------- 0.0/527.9 kB ? eta -:--:--\n",
      "   --------------------------------------- 527.9/527.9 kB 12.1 MB/s eta 0:00:00\n",
      "Downloading google_api_core-2.25.1-py3-none-any.whl (160 kB)\n",
      "Downloading google_auth-2.40.3-py2.py3-none-any.whl (216 kB)\n",
      "Downloading googleapis_common_protos-1.70.0-py3-none-any.whl (294 kB)\n",
      "Downloading grpcio-1.74.0-cp313-cp313-win_amd64.whl (4.5 MB)\n",
      "   ---------------------------------------- 0.0/4.5 MB ? eta -:--:--\n",
      "   ---------------------------------------- 4.5/4.5 MB 29.0 MB/s eta 0:00:00\n",
      "Downloading grpcio_status-1.74.0-py3-none-any.whl (14 kB)\n",
      "Downloading proto_plus-1.26.1-py3-none-any.whl (50 kB)\n",
      "Downloading protobuf-6.32.0-cp310-abi3-win_amd64.whl (435 kB)\n",
      "Downloading rsa-4.9.1-py3-none-any.whl (34 kB)\n",
      "Installing collected packages: rsa, protobuf, grpcio, proto-plus, googleapis-common-protos, google-auth, grpcio-status, google-api-core, google-cloud-vision\n",
      "\n",
      "   ---------------------------------------- 0/9 [rsa]\n",
      "  Attempting uninstall: protobuf\n",
      "   ---------------------------------------- 0/9 [rsa]\n",
      "   ---- ----------------------------------- 1/9 [protobuf]\n",
      "    Found existing installation: protobuf 5.29.3\n",
      "   ---- ----------------------------------- 1/9 [protobuf]\n",
      "    Uninstalling protobuf-5.29.3:\n",
      "   ---- ----------------------------------- 1/9 [protobuf]\n",
      "      Successfully uninstalled protobuf-5.29.3\n",
      "   ---- ----------------------------------- 1/9 [protobuf]\n",
      "   ---- ----------------------------------- 1/9 [protobuf]\n",
      "   ---- ----------------------------------- 1/9 [protobuf]\n",
      "   ---- ----------------------------------- 1/9 [protobuf]\n",
      "   -------- ------------------------------- 2/9 [grpcio]\n",
      "   ------------- -------------------------- 3/9 [proto-plus]\n",
      "   ------------- -------------------------- 3/9 [proto-plus]\n",
      "   ------------- -------------------------- 3/9 [proto-plus]\n",
      "   ----------------- ---------------------- 4/9 [googleapis-common-protos]\n",
      "   ----------------- ---------------------- 4/9 [googleapis-common-protos]\n",
      "   ----------------- ---------------------- 4/9 [googleapis-common-protos]\n",
      "   ----------------- ---------------------- 4/9 [googleapis-common-protos]\n",
      "   ---------------------- ----------------- 5/9 [google-auth]\n",
      "   ---------------------- ----------------- 5/9 [google-auth]\n",
      "   ---------------------- ----------------- 5/9 [google-auth]\n",
      "   -------------------------- ------------- 6/9 [grpcio-status]\n",
      "   ------------------------------- -------- 7/9 [google-api-core]\n",
      "   ------------------------------- -------- 7/9 [google-api-core]\n",
      "   ----------------------------------- ---- 8/9 [google-cloud-vision]\n",
      "   ----------------------------------- ---- 8/9 [google-cloud-vision]\n",
      "   ----------------------------------- ---- 8/9 [google-cloud-vision]\n",
      "   ----------------------------------- ---- 8/9 [google-cloud-vision]\n",
      "   ----------------------------------- ---- 8/9 [google-cloud-vision]\n",
      "   ----------------------------------- ---- 8/9 [google-cloud-vision]\n",
      "   ---------------------------------------- 9/9 [google-cloud-vision]\n",
      "\n",
      "Successfully installed google-api-core-2.25.1 google-auth-2.40.3 google-cloud-vision-3.10.2 googleapis-common-protos-1.70.0 grpcio-1.74.0 grpcio-status-1.74.0 proto-plus-1.26.1 protobuf-6.32.0 rsa-4.9.1\n"
     ]
    }
   ],
   "source": [
    "!pip install google-cloud-vision"
   ]
  },
  {
   "cell_type": "code",
   "execution_count": 12,
   "id": "0d333523",
   "metadata": {},
   "outputs": [
    {
     "name": "stdout",
     "output_type": "stream",
     "text": [
      "추출된 전체 텍스트:\n",
      "제품명 백설 돼지갈비양념\n",
      "식품의 유형 소스(살균제품) 내용량 500g\n",
      "제조원\n",
      "씨제이제일제당(주) 충청남도\n",
      "논산시 연무읍 죽본2길 16\n",
      "포장재질 용기-유리\n",
      "(내면)\n",
      "뚜껑-폴리염화비닐\n",
      "소비기한 하단 표기일까지\n",
      "보관방법 실온 보관, 개봉 후 냉장보관 권장\n",
      "품목보고번호 20020464088-38\n",
      "원재료명 혼합간장{아미노산액(탈지대두:\n",
      "●외국산),양조간장원액(탈지대두:외국산),정\n",
      "•제소금, 기타과당}, 설탕, 기타과당,배퓨레(배)\n",
      "(국산),비타민C},정제수,양파퓨레(중국산),\n",
      "사과퓨레(사과(국산), 비타민C}, 다진마늘, 디\n",
      "진생강,카라멜색소 III, 후춧가루, 향미증진제,정\n",
      "•진제), 잔탄검, 청양고추엑기스C, 감귤류추출물\n",
      "●제소금,산도조절제,L-글루탐산나트륨(향미증\n",
      "대두, 밀 함유\n",
      "•반품 및 교환장소 전국판매점\n",
      "2026.02.18\n",
      "DB5\n",
      "GAL\n"
     ]
    }
   ],
   "source": [
    "import io\n",
    "import os\n",
    "from google.cloud import vision\n",
    "\n",
    "key_path = r\"C:\\Users\\MYNOTE\\Desktop\\새 폴더\\ocr-project-470906-7ffeebabeb09.json\"\n",
    "os.environ['GOOGLE_APPLICATION_CREDENTIALS'] = key_path\n",
    "# -----------------------------------------\n",
    "\n",
    "\n",
    "def detect_text(path):\n",
    "    \"\"\"이미지 파일에서 텍스트를 감지합니다.\"\"\"\n",
    "    \n",
    "    # 환경 변수가 설정되어 있으면 클라이언트가 자동으로 인증 정보를 찾습니다.\n",
    "    client = vision.ImageAnnotatorClient()\n",
    "\n",
    "    # 파일이 존재하는지 확인\n",
    "    if not os.path.exists(path):\n",
    "        print(f\"오류: 파일을 찾을 수 없습니다. 경로를 확인하세요: {path}\")\n",
    "        return\n",
    "\n",
    "    with io.open(path, 'rb') as image_file:\n",
    "        content = image_file.read()\n",
    "\n",
    "    image = vision.Image(content=content)\n",
    "\n",
    "    response = client.text_detection(image=image)\n",
    "    \n",
    "    if response.error.message:\n",
    "        raise Exception(\n",
    "            '{}\\nFor more info on error messages, check: '\n",
    "            'https://cloud.google.com/apis/design/errors'.format(\n",
    "                response.error.message))\n",
    "\n",
    "    texts = response.text_annotations\n",
    "    if texts:\n",
    "        print('추출된 전체 텍스트:')\n",
    "        print(texts[0].description)\n",
    "    else:\n",
    "        print('텍스트를 찾을 수 없습니다.')\n",
    "\n",
    "\n",
    "\n",
    "image_path = r'C:\\Users\\MYNOTE\\AllerGuard\\Data\\차지예_009.jpg'\n",
    "detect_text(image_path)"
   ]
  },
  {
   "cell_type": "code",
   "execution_count": 14,
   "id": "5c7ab538",
   "metadata": {},
   "outputs": [
    {
     "name": "stdout",
     "output_type": "stream",
     "text": [
      "추출된 전체 텍스트:\n",
      "팔도 틈새라면 빨계떡 식품유형 유탕면 내용량 120g(500 kcal) 소비기한 후면표기일까지\n",
      "원재료, 건/소맥분(밀:미국산,호주산),팜유(말레이시아산), 감자전분(덴마크산, 독일산), 변성전분1\n",
      "변성전분2, 글루틴, 정제소금, 감미유S, 시즈닝조미액,면류첨가알칼리제(탄산칼륨, 탄산나트륨, 피로인산\n",
      "나트) 구아검, 혼합제제(폴리인산나트륨, 메타인산나트륨, 메타인산칼륨), 녹차풍미액, 비타민B2, 알긴\n",
      "사ㅍ 필렌글리콜 스프/정제소금,고춧가루1,건양배추, 건청경채, 고춧가루2,비프시즈닝분말, L-글루탐\n",
      "산나트륨(향미증진제), 장국베이스, 쇠고기조미분말, 불고기맛분말, 핫스파이스분말,소고기전골에스,조\n",
      "미분에이, 건파, 설탕, 매운풍미분, 매운양념분말, 사골설렁탕분말,양조간장분말, 건표고버섯, 조미마늘분,\n",
      "앙지베이스분말,덱스트린, 흑후추분말,효모조미액분말, 핫베이스분말,표고버섯엑기스분말,건홍피망,계\n",
      "리후레이크, 우마미베이스,산도조절제,매운맛베이스,조미맛분, 파프리카추출색소, 향미증진제1, 향미증\n",
      "진제2, 시즈닝조미액, 비프시즈닝오일\n",
      "계란, 우유, 대두,밀,돼지고기,쇠고기 함유\n",
      "포장재질 폴리프로필렌(내면) 품목보고번호 19830358021-262(F1)/ 20120512055-16(F2)\n",
      "업소명 및 (주)팔도 이천공장 F1: 경기도 이천시 부발읍 중부대로 1655\n",
      "소재지 (주)팔도 나주공장 F2 : 전남 나주시 동수농공단지길 62-107\n"
     ]
    }
   ],
   "source": [
    "import io\n",
    "import os\n",
    "from google.cloud import vision\n",
    "\n",
    "key_path = r\"C:\\Users\\MYNOTE\\Downloads\\ocr-project-470906-7ffeebabeb09.json\"\n",
    "os.environ['GOOGLE_APPLICATION_CREDENTIALS'] = key_path\n",
    "# -----------------------------------------\n",
    "\n",
    "\n",
    "def detect_text(path):\n",
    "    \"\"\"이미지 파일에서 텍스트를 감지합니다.\"\"\"\n",
    "    \n",
    "    # 환경 변수가 설정되어 있으면 클라이언트가 자동으로 인증 정보를 찾습니다.\n",
    "    client = vision.ImageAnnotatorClient()\n",
    "\n",
    "    # 파일이 존재하는지 확인\n",
    "    if not os.path.exists(path):\n",
    "        print(f\"오류: 파일을 찾을 수 없습니다. 경로를 확인하세요: {path}\")\n",
    "        return\n",
    "\n",
    "    with io.open(path, 'rb') as image_file:\n",
    "        content = image_file.read()\n",
    "\n",
    "    image = vision.Image(content=content)\n",
    "\n",
    "    response = client.text_detection(image=image)\n",
    "    \n",
    "    if response.error.message:\n",
    "        raise Exception(\n",
    "            '{}\\nFor more info on error messages, check: '\n",
    "            'https://cloud.google.com/apis/design/errors'.format(\n",
    "                response.error.message))\n",
    "\n",
    "    texts = response.text_annotations\n",
    "    if texts:\n",
    "        print('추출된 전체 텍스트:')\n",
    "        print(texts[0].description)\n",
    "    else:\n",
    "        print('텍스트를 찾을 수 없습니다.')\n",
    "\n",
    "\n",
    "image_path = r'C:\\Users\\MYNOTE\\AllerGuard\\Data\\차지예_002.jpg'\n",
    "detect_text(image_path)"
   ]
  },
  {
   "cell_type": "markdown",
   "id": "69e228d3",
   "metadata": {},
   "source": [
    "# 허깅페이스 ddobokki/ko-trocr\n",
    "\n",
    "https://huggingface.co/ddobokki/ko-trocr"
   ]
  },
  {
   "cell_type": "code",
   "execution_count": null,
   "id": "428d3788",
   "metadata": {},
   "outputs": [
    {
     "data": {
      "application/vnd.jupyter.widget-view+json": {
       "model_id": "8e7dcc5b355c4c0a846c3fa7f88df1d1",
       "version_major": 2,
       "version_minor": 0
      },
      "text/plain": [
       "Fetching 1 files:   0%|          | 0/1 [00:00<?, ?it/s]"
      ]
     },
     "metadata": {},
     "output_type": "display_data"
    },
    {
     "name": "stderr",
     "output_type": "stream",
     "text": [
      "Using a slow image processor as `use_fast` is unset and a slow processor was saved with this model. `use_fast=True` will be the default behavior in v4.52, even if the model was saved with a slow processor. This will result in minor differences in outputs. You'll still be able to use a slow processor with `use_fast=False`.\n"
     ]
    },
    {
     "name": "stdout",
     "output_type": "stream",
     "text": [
      "지방토목주사\n"
     ]
    }
   ],
   "source": [
    "from transformers import TrOCRProcessor, VisionEncoderDecoderModel, AutoTokenizer\n",
    "import unicodedata\n",
    "from PIL import Image\n",
    "\n",
    "# 모델과 프로세서, 토크나이저 불러오기 (이 부분은 동일)\n",
    "processor = TrOCRProcessor.from_pretrained(\"ddobokki/ko-trocr\")\n",
    "model = VisionEncoderDecoderModel.from_pretrained(\"ddobokki/ko-trocr\")\n",
    "tokenizer = AutoTokenizer.from_pretrained(\"ddobokki/ko-trocr\")\n",
    "\n",
    "\n",
    "# 1. 이미지 파일의 전체 경로를 변수에 저장합니다.\n",
    "file_path = r\"C:\\Users\\MYNOTE\\AllerGuard\\Data\\차지예_009.jpg\"\n",
    "\n",
    "# 2. PIL 라이브러리의 Image.open()으로 파일을 직접 엽니다.\n",
    "try:\n",
    "    img = Image.open(file_path)\n",
    "except FileNotFoundError:\n",
    "    print(f\"오류: '{file_path}' 경로에 파일이 없습니다. 경로를 다시 확인해주세요.\")\n",
    "    exit()\n",
    "\n",
    "# 이미지 처리 및 텍스트 생성 (이 부분은 동일)\n",
    "pixel_values = processor(img, return_tensors=\"pt\").pixel_values\n",
    "generated_ids = model.generate(pixel_values, max_length=64)\n",
    "generated_text = tokenizer.batch_decode(generated_ids, skip_special_tokens=True)[0]\n",
    "generated_text = unicodedata.normalize(\"NFC\", generated_text)\n",
    "\n",
    "print(generated_text)"
   ]
  },
  {
   "cell_type": "code",
   "execution_count": 1,
   "id": "3ac26f2c",
   "metadata": {},
   "outputs": [
    {
     "name": "stdout",
     "output_type": "stream",
     "text": [
      "Requirement already satisfied: transformers in c:\\users\\mynote\\anaconda3\\lib\\site-packages (4.56.0)\n",
      "Requirement already satisfied: torch in c:\\users\\mynote\\anaconda3\\lib\\site-packages (2.8.0)\n",
      "Requirement already satisfied: torchvision in c:\\users\\mynote\\anaconda3\\lib\\site-packages (0.23.0)\n",
      "Requirement already satisfied: Pillow in c:\\users\\mynote\\anaconda3\\lib\\site-packages (11.1.0)\n",
      "Requirement already satisfied: filelock in c:\\users\\mynote\\anaconda3\\lib\\site-packages (from transformers) (3.17.0)\n",
      "Requirement already satisfied: huggingface-hub<1.0,>=0.34.0 in c:\\users\\mynote\\anaconda3\\lib\\site-packages (from transformers) (0.34.4)\n",
      "Requirement already satisfied: numpy>=1.17 in c:\\users\\mynote\\anaconda3\\lib\\site-packages (from transformers) (2.1.3)\n",
      "Requirement already satisfied: packaging>=20.0 in c:\\users\\mynote\\anaconda3\\lib\\site-packages (from transformers) (24.2)\n",
      "Requirement already satisfied: pyyaml>=5.1 in c:\\users\\mynote\\anaconda3\\lib\\site-packages (from transformers) (6.0.2)\n",
      "Requirement already satisfied: regex!=2019.12.17 in c:\\users\\mynote\\anaconda3\\lib\\site-packages (from transformers) (2024.11.6)\n",
      "Requirement already satisfied: requests in c:\\users\\mynote\\anaconda3\\lib\\site-packages (from transformers) (2.32.3)\n",
      "Requirement already satisfied: tokenizers<=0.23.0,>=0.22.0 in c:\\users\\mynote\\anaconda3\\lib\\site-packages (from transformers) (0.22.0)\n",
      "Requirement already satisfied: safetensors>=0.4.3 in c:\\users\\mynote\\anaconda3\\lib\\site-packages (from transformers) (0.6.2)\n",
      "Requirement already satisfied: tqdm>=4.27 in c:\\users\\mynote\\anaconda3\\lib\\site-packages (from transformers) (4.67.1)\n",
      "Requirement already satisfied: fsspec>=2023.5.0 in c:\\users\\mynote\\anaconda3\\lib\\site-packages (from huggingface-hub<1.0,>=0.34.0->transformers) (2025.3.2)\n",
      "Requirement already satisfied: typing-extensions>=3.7.4.3 in c:\\users\\mynote\\anaconda3\\lib\\site-packages (from huggingface-hub<1.0,>=0.34.0->transformers) (4.12.2)\n",
      "Requirement already satisfied: sympy>=1.13.3 in c:\\users\\mynote\\anaconda3\\lib\\site-packages (from torch) (1.13.3)\n",
      "Requirement already satisfied: networkx in c:\\users\\mynote\\anaconda3\\lib\\site-packages (from torch) (3.4.2)\n",
      "Requirement already satisfied: jinja2 in c:\\users\\mynote\\anaconda3\\lib\\site-packages (from torch) (3.1.6)\n",
      "Requirement already satisfied: setuptools in c:\\users\\mynote\\anaconda3\\lib\\site-packages (from torch) (72.1.0)\n",
      "Requirement already satisfied: mpmath<1.4,>=1.1.0 in c:\\users\\mynote\\anaconda3\\lib\\site-packages (from sympy>=1.13.3->torch) (1.3.0)\n",
      "Requirement already satisfied: colorama in c:\\users\\mynote\\anaconda3\\lib\\site-packages (from tqdm>=4.27->transformers) (0.4.6)\n",
      "Requirement already satisfied: MarkupSafe>=2.0 in c:\\users\\mynote\\anaconda3\\lib\\site-packages (from jinja2->torch) (3.0.2)\n",
      "Requirement already satisfied: charset-normalizer<4,>=2 in c:\\users\\mynote\\anaconda3\\lib\\site-packages (from requests->transformers) (3.3.2)\n",
      "Requirement already satisfied: idna<4,>=2.5 in c:\\users\\mynote\\anaconda3\\lib\\site-packages (from requests->transformers) (3.7)\n",
      "Requirement already satisfied: urllib3<3,>=1.21.1 in c:\\users\\mynote\\anaconda3\\lib\\site-packages (from requests->transformers) (2.3.0)\n",
      "Requirement already satisfied: certifi>=2017.4.17 in c:\\users\\mynote\\anaconda3\\lib\\site-packages (from requests->transformers) (2025.4.26)\n"
     ]
    }
   ],
   "source": [
    "!pip install transformers torch torchvision Pillow"
   ]
  },
  {
   "cell_type": "code",
   "execution_count": 15,
   "id": "f693a7a1",
   "metadata": {},
   "outputs": [
    {
     "name": "stdout",
     "output_type": "stream",
     "text": [
      "사용 중인 디바이스: cpu\n",
      "모델을 로드하는 중입니다... (처음 실행 시 시간이 걸릴 수 있습니다)\n"
     ]
    },
    {
     "data": {
      "application/vnd.jupyter.widget-view+json": {
       "model_id": "651c93af86084f208166c93fc0e658d4",
       "version_major": 2,
       "version_minor": 0
      },
      "text/plain": [
       "Fetching 1 files:   0%|          | 0/1 [00:00<?, ?it/s]"
      ]
     },
     "metadata": {},
     "output_type": "display_data"
    },
    {
     "name": "stdout",
     "output_type": "stream",
     "text": [
      "모델 로드 완료.\n",
      "\n",
      "--- OCR 추출 결과 ---\n",
      "끝을\n"
     ]
    }
   ],
   "source": [
    "import torch\n",
    "from transformers import TrOCRProcessor, VisionEncoderDecoderModel\n",
    "from PIL import Image\n",
    "\n",
    "def extract_text_from_image(image_path, processor, model, device):\n",
    "    \"\"\"\n",
    "    미리 로드된 TrOCR 모델을 사용하여 이미지에서 텍스트를 추출합니다.\n",
    "\n",
    "    Args:\n",
    "        image_path (str): 텍스트를 추출할 이미지 파일의 경로.\n",
    "        processor: TrOCR 프로세서 객체.\n",
    "        model: TrOCR 모델 객체.\n",
    "        device: 연산에 사용할 디바이스 ('cuda' 또는 'cpu').\n",
    "    \n",
    "    Returns:\n",
    "        str: 추출된 텍스트.\n",
    "    \"\"\"\n",
    "    try:\n",
    "        image = Image.open(image_path).convert(\"RGB\")\n",
    "        pixel_values = processor(images=image, return_tensors=\"pt\").pixel_values.to(device)\n",
    "        generated_ids = model.generate(pixel_values, max_length=1024, num_beams=4)\n",
    "        \n",
    "        generated_text = processor.batch_decode(generated_ids, skip_special_tokens=True)[0]\n",
    "        return generated_text\n",
    "\n",
    "    except FileNotFoundError:\n",
    "        return f\"오류: '{image_path}' 파일을 찾을 수 없습니다. 파일 경로를 확인해주세요.\"\n",
    "    except Exception as e:\n",
    "        return f\"오류가 발생했습니다: {e}\"\n",
    "\n",
    "# --- 메인 코드 실행 ---\n",
    "if __name__ == \"__main__\":\n",
    "    # --- 1. 초기 설정 ---\n",
    "    device = torch.device(\"cuda\" if torch.cuda.is_available() else \"cpu\")\n",
    "    print(f\"사용 중인 디바이스: {device}\")\n",
    "\n",
    "    print(\"모델을 로드하는 중입니다... (처음 실행 시 시간이 걸릴 수 있습니다)\")\n",
    "    processor = TrOCRProcessor.from_pretrained(\"ddobokki/ko-trocr\")\n",
    "    model = VisionEncoderDecoderModel.from_pretrained(\"ddobokki/ko-trocr\").to(device)\n",
    "    print(\"모델 로드 완료.\")\n",
    "\n",
    "    # --- 2. 텍스트 추출 실행 ---\n",
    "    image_file_path = r\"C:\\Users\\MYNOTE\\AllerGuard\\Data\\차지예_009.jpg\"\n",
    "    extracted_text = extract_text_from_image(image_file_path, processor, model, device)\n",
    "    \n",
    "    # --- 3. 결과 출력 ---\n",
    "    print(\"\\n--- OCR 추출 결과 ---\")\n",
    "    print(extracted_text)"
   ]
  }
 ],
 "metadata": {
  "kernelspec": {
   "display_name": "Python 3",
   "language": "python",
   "name": "python3"
  },
  "language_info": {
   "codemirror_mode": {
    "name": "ipython",
    "version": 3
   },
   "file_extension": ".py",
   "mimetype": "text/x-python",
   "name": "python",
   "nbconvert_exporter": "python",
   "pygments_lexer": "ipython3",
   "version": "3.11.9"
  }
 },
 "nbformat": 4,
 "nbformat_minor": 5
}
