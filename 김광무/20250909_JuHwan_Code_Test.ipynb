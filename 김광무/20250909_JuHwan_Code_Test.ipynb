{
 "cells": [
  {
   "cell_type": "code",
   "execution_count": 84,
   "metadata": {},
   "outputs": [],
   "source": [
    "import mykeys\n",
    "\n",
    "mykeys.initGdriveKeyFile(True)"
   ]
  },
  {
   "cell_type": "code",
   "execution_count": 1,
   "metadata": {},
   "outputs": [
    {
     "name": "stdout",
     "output_type": "stream",
     "text": [
      "아래 링크를 복사하여 웹 브라우저에 붙여넣으세요.\n",
      "https://accounts.google.com/o/oauth2/auth?client_id=35726703810-4v13dfqmilhgv6shlc3cv9i3ktuh73j1.apps.googleusercontent.com&redirect_uri=http%3A%2F%2Flocalhost&scope=https%3A%2F%2Fwww.googleapis.com%2Fauth%2Fdrive&access_type=offline&response_type=code\n",
      "Authentication successful.\n",
      "mykey => set HUGGINGFACEHUB_API_TOKEN is done\n",
      "mykey => set OPENAI_API_KEY is done\n",
      "mykey => set LANGCHAIN_API_KEY is done\n",
      "mykey => set LANGCHAIN_HUB_API_KEY is done\n",
      "mykey => set GOOGLE_API_KEY is done\n",
      "mykey => set GOOGLE_CSE_ID is done\n",
      "mykey => set UPSTAGE_API_KEY is done\n",
      "mykey => set COHERE_API_KEY is done\n",
      "mykey => set JINA_API_KEY is done\n",
      "mykey => set ANTHROPIC_API_KEY is done\n",
      "mykey => set DEEPL_API_KEY is done\n",
      "mykey => set TAVILY_API_KEY is done\n",
      "mykey => set TOGETHER_API_KEY is done\n"
     ]
    }
   ],
   "source": [
    "import mykeys\n",
    "\n",
    "mykeys.setOsEnv()"
   ]
  },
  {
   "cell_type": "code",
   "execution_count": 2,
   "metadata": {},
   "outputs": [],
   "source": [
    "# --- 0. 필수 라이브러리 임포트 ---\n",
    "import os\n",
    "import pandas as pd\n",
    "import numpy as np  # .npy 파일 로드를 위해 필요\n",
    "import io\n",
    "import json\n",
    "import re  # 👈 정규식(Regex) 라이브러리 임포트\n",
    "from typing import List, Set, TypedDict"
   ]
  },
  {
   "cell_type": "code",
   "execution_count": 4,
   "metadata": {},
   "outputs": [
    {
     "name": "stdout",
     "output_type": "stream",
     "text": [
      "Collecting sentence_transformers\n",
      "  Using cached sentence_transformers-5.1.0-py3-none-any.whl.metadata (16 kB)\n",
      "Collecting transformers<5.0.0,>=4.41.0 (from sentence_transformers)\n",
      "  Downloading transformers-4.56.1-py3-none-any.whl.metadata (42 kB)\n",
      "Requirement already satisfied: tqdm in /opt/anaconda3/envs/LangGraph/lib/python3.10/site-packages (from sentence_transformers) (4.67.1)\n",
      "Collecting torch>=1.11.0 (from sentence_transformers)\n",
      "  Using cached torch-2.8.0-cp310-none-macosx_11_0_arm64.whl.metadata (30 kB)\n",
      "Collecting scikit-learn (from sentence_transformers)\n",
      "  Downloading scikit_learn-1.7.1-cp310-cp310-macosx_12_0_arm64.whl.metadata (11 kB)\n",
      "Collecting scipy (from sentence_transformers)\n",
      "  Downloading scipy-1.15.3-cp310-cp310-macosx_14_0_arm64.whl.metadata (61 kB)\n",
      "Collecting huggingface-hub>=0.20.0 (from sentence_transformers)\n",
      "  Using cached huggingface_hub-0.34.4-py3-none-any.whl.metadata (14 kB)\n",
      "Requirement already satisfied: Pillow in /opt/anaconda3/envs/LangGraph/lib/python3.10/site-packages (from sentence_transformers) (11.3.0)\n",
      "Requirement already satisfied: typing_extensions>=4.5.0 in /opt/anaconda3/envs/LangGraph/lib/python3.10/site-packages (from sentence_transformers) (4.15.0)\n",
      "Collecting filelock (from transformers<5.0.0,>=4.41.0->sentence_transformers)\n",
      "  Using cached filelock-3.19.1-py3-none-any.whl.metadata (2.1 kB)\n",
      "Requirement already satisfied: numpy>=1.17 in /opt/anaconda3/envs/LangGraph/lib/python3.10/site-packages (from transformers<5.0.0,>=4.41.0->sentence_transformers) (2.2.6)\n",
      "Requirement already satisfied: packaging>=20.0 in /opt/anaconda3/envs/LangGraph/lib/python3.10/site-packages (from transformers<5.0.0,>=4.41.0->sentence_transformers) (25.0)\n",
      "Requirement already satisfied: pyyaml>=5.1 in /opt/anaconda3/envs/LangGraph/lib/python3.10/site-packages (from transformers<5.0.0,>=4.41.0->sentence_transformers) (6.0.2)\n",
      "Requirement already satisfied: regex!=2019.12.17 in /opt/anaconda3/envs/LangGraph/lib/python3.10/site-packages (from transformers<5.0.0,>=4.41.0->sentence_transformers) (2025.7.34)\n",
      "Requirement already satisfied: requests in /opt/anaconda3/envs/LangGraph/lib/python3.10/site-packages (from transformers<5.0.0,>=4.41.0->sentence_transformers) (2.32.5)\n",
      "Collecting tokenizers<=0.23.0,>=0.22.0 (from transformers<5.0.0,>=4.41.0->sentence_transformers)\n",
      "  Downloading tokenizers-0.22.0-cp39-abi3-macosx_11_0_arm64.whl.metadata (6.8 kB)\n",
      "Collecting safetensors>=0.4.3 (from transformers<5.0.0,>=4.41.0->sentence_transformers)\n",
      "  Using cached safetensors-0.6.2-cp38-abi3-macosx_11_0_arm64.whl.metadata (4.1 kB)\n",
      "Collecting fsspec>=2023.5.0 (from huggingface-hub>=0.20.0->sentence_transformers)\n",
      "  Downloading fsspec-2025.9.0-py3-none-any.whl.metadata (10 kB)\n",
      "Collecting hf-xet<2.0.0,>=1.1.3 (from huggingface-hub>=0.20.0->sentence_transformers)\n",
      "  Downloading hf_xet-1.1.9-cp37-abi3-macosx_11_0_arm64.whl.metadata (4.7 kB)\n",
      "Collecting sympy>=1.13.3 (from torch>=1.11.0->sentence_transformers)\n",
      "  Using cached sympy-1.14.0-py3-none-any.whl.metadata (12 kB)\n",
      "Collecting networkx (from torch>=1.11.0->sentence_transformers)\n",
      "  Using cached networkx-3.4.2-py3-none-any.whl.metadata (6.3 kB)\n",
      "Requirement already satisfied: jinja2 in /opt/anaconda3/envs/LangGraph/lib/python3.10/site-packages (from torch>=1.11.0->sentence_transformers) (3.1.6)\n",
      "Collecting mpmath<1.4,>=1.1.0 (from sympy>=1.13.3->torch>=1.11.0->sentence_transformers)\n",
      "  Using cached mpmath-1.3.0-py3-none-any.whl.metadata (8.6 kB)\n",
      "Requirement already satisfied: MarkupSafe>=2.0 in /opt/anaconda3/envs/LangGraph/lib/python3.10/site-packages (from jinja2->torch>=1.11.0->sentence_transformers) (3.0.2)\n",
      "Requirement already satisfied: charset_normalizer<4,>=2 in /opt/anaconda3/envs/LangGraph/lib/python3.10/site-packages (from requests->transformers<5.0.0,>=4.41.0->sentence_transformers) (3.4.3)\n",
      "Requirement already satisfied: idna<4,>=2.5 in /opt/anaconda3/envs/LangGraph/lib/python3.10/site-packages (from requests->transformers<5.0.0,>=4.41.0->sentence_transformers) (3.10)\n",
      "Requirement already satisfied: urllib3<3,>=1.21.1 in /opt/anaconda3/envs/LangGraph/lib/python3.10/site-packages (from requests->transformers<5.0.0,>=4.41.0->sentence_transformers) (2.5.0)\n",
      "Requirement already satisfied: certifi>=2017.4.17 in /opt/anaconda3/envs/LangGraph/lib/python3.10/site-packages (from requests->transformers<5.0.0,>=4.41.0->sentence_transformers) (2025.8.3)\n",
      "Requirement already satisfied: joblib>=1.2.0 in /opt/anaconda3/envs/LangGraph/lib/python3.10/site-packages (from scikit-learn->sentence_transformers) (1.5.2)\n",
      "Collecting threadpoolctl>=3.1.0 (from scikit-learn->sentence_transformers)\n",
      "  Using cached threadpoolctl-3.6.0-py3-none-any.whl.metadata (13 kB)\n",
      "Using cached sentence_transformers-5.1.0-py3-none-any.whl (483 kB)\n",
      "Downloading transformers-4.56.1-py3-none-any.whl (11.6 MB)\n",
      "\u001b[2K   \u001b[38;2;114;156;31m━━━━━━━━━━━━━━━━━━━━━━━━━━━━━━━━━━━━━━━━\u001b[0m \u001b[32m11.6/11.6 MB\u001b[0m \u001b[31m26.7 MB/s\u001b[0m eta \u001b[36m0:00:00\u001b[0m31m28.1 MB/s\u001b[0m eta \u001b[36m0:00:01\u001b[0m\n",
      "\u001b[?25hUsing cached huggingface_hub-0.34.4-py3-none-any.whl (561 kB)\n",
      "Downloading hf_xet-1.1.9-cp37-abi3-macosx_11_0_arm64.whl (2.6 MB)\n",
      "\u001b[2K   \u001b[38;2;114;156;31m━━━━━━━━━━━━━━━━━━━━━━━━━━━━━━━━━━━━━━━━\u001b[0m \u001b[32m2.6/2.6 MB\u001b[0m \u001b[31m24.4 MB/s\u001b[0m eta \u001b[36m0:00:00\u001b[0m\n",
      "\u001b[?25hDownloading tokenizers-0.22.0-cp39-abi3-macosx_11_0_arm64.whl (2.9 MB)\n",
      "\u001b[2K   \u001b[38;2;114;156;31m━━━━━━━━━━━━━━━━━━━━━━━━━━━━━━━━━━━━━━━━\u001b[0m \u001b[32m2.9/2.9 MB\u001b[0m \u001b[31m30.1 MB/s\u001b[0m eta \u001b[36m0:00:00\u001b[0m\n",
      "\u001b[?25hDownloading fsspec-2025.9.0-py3-none-any.whl (199 kB)\n",
      "Using cached safetensors-0.6.2-cp38-abi3-macosx_11_0_arm64.whl (432 kB)\n",
      "Using cached torch-2.8.0-cp310-none-macosx_11_0_arm64.whl (73.6 MB)\n",
      "Using cached sympy-1.14.0-py3-none-any.whl (6.3 MB)\n",
      "Using cached mpmath-1.3.0-py3-none-any.whl (536 kB)\n",
      "Using cached filelock-3.19.1-py3-none-any.whl (15 kB)\n",
      "Using cached networkx-3.4.2-py3-none-any.whl (1.7 MB)\n",
      "Downloading scikit_learn-1.7.1-cp310-cp310-macosx_12_0_arm64.whl (8.7 MB)\n",
      "\u001b[2K   \u001b[38;2;114;156;31m━━━━━━━━━━━━━━━━━━━━━━━━━━━━━━━━━━━━━━━━\u001b[0m \u001b[32m8.7/8.7 MB\u001b[0m \u001b[31m54.7 MB/s\u001b[0m eta \u001b[36m0:00:00\u001b[0m\n",
      "\u001b[?25hDownloading scipy-1.15.3-cp310-cp310-macosx_14_0_arm64.whl (22.4 MB)\n",
      "\u001b[2K   \u001b[38;2;114;156;31m━━━━━━━━━━━━━━━━━━━━━━━━━━━━━━━━━━━━━━━━\u001b[0m \u001b[32m22.4/22.4 MB\u001b[0m \u001b[31m62.2 MB/s\u001b[0m eta \u001b[36m0:00:00\u001b[0m31m68.5 MB/s\u001b[0m eta \u001b[36m0:00:01\u001b[0m\n",
      "\u001b[?25hUsing cached threadpoolctl-3.6.0-py3-none-any.whl (18 kB)\n",
      "Installing collected packages: mpmath, threadpoolctl, sympy, scipy, safetensors, networkx, hf-xet, fsspec, filelock, torch, scikit-learn, huggingface-hub, tokenizers, transformers, sentence_transformers\n",
      "\u001b[2K   \u001b[38;2;114;156;31m━━━━━━━━━━━━━━━━━━━━━━━━━━━━━━━━━━━━━━━━\u001b[0m \u001b[32m15/15\u001b[0m [sentence_transformers]15\u001b[0m [sentence_transformers]\n",
      "\u001b[1A\u001b[2KSuccessfully installed filelock-3.19.1 fsspec-2025.9.0 hf-xet-1.1.9 huggingface-hub-0.34.4 mpmath-1.3.0 networkx-3.4.2 safetensors-0.6.2 scikit-learn-1.7.1 scipy-1.15.3 sentence_transformers-5.1.0 sympy-1.14.0 threadpoolctl-3.6.0 tokenizers-0.22.0 torch-2.8.0 transformers-4.56.1\n"
     ]
    }
   ],
   "source": [
    "!pip install sentence_transformers"
   ]
  },
  {
   "cell_type": "code",
   "execution_count": 6,
   "metadata": {},
   "outputs": [],
   "source": [
    "# 머신러닝 및 모델 관련 라이브러리\n",
    "from sentence_transformers import SentenceTransformer\n",
    "from sklearn.metrics.pairwise import cosine_similarity\n",
    "from transformers import AutoTokenizer, AutoModelForSeq2SeqLM, pipeline # (기본 라이브러리 임포트 유지)\n",
    "from google.cloud import vision\n",
    "from google.oauth2 import service_account  # 👈 직접 인증을 위한 라이브러리\n",
    "\n",
    "# LangGraph 라이브러리\n",
    "from langgraph.graph import StateGraph, END"
   ]
  },
  {
   "cell_type": "code",
   "execution_count": 7,
   "metadata": {},
   "outputs": [
    {
     "name": "stdout",
     "output_type": "stream",
     "text": [
      "--- 🚀 알레르기 분석 서비스 (GCP Vision API + RAG + LLM Fallback) 시작 ---\n",
      "사전 빌드된 임베딩 캐시 파일을 로드합니다...\n",
      "✅ 표준 알레르기 카테고리 19개 로드 완료.\n",
      "✅ 비-성분 필터 키워드 12개 로드 완료.\n"
     ]
    }
   ],
   "source": [
    "print(\"--- 🚀 알레르기 분석 서비스 (GCP Vision API + RAG + LLM Fallback) 시작 ---\")\n",
    "print(\"사전 빌드된 임베딩 캐시 파일을 로드합니다...\")\n",
    "\n",
    "# --- 0a. 표준 알레르기 목록 정의 ---\n",
    "ALLERGENS_STD_SET = set([\n",
    "    \"알류\", \"우유\", \"메밀\", \"땅콩\", \"대두\", \"밀\", \"잣\", \"호두\",\n",
    "    \"게\", \"새우\", \"오징어\", \"고등어\", \"조개류\", \"복숭아\", \"토마토\",\n",
    "    \"닭고기\", \"돼지고기\", \"쇠고기\", \"아황산류\"\n",
    "])\n",
    "print(f\"✅ 표준 알레르기 카테고리 {len(ALLERGENS_STD_SET)}개 로드 완료.\")\n",
    "\n",
    "# --- 0b. 비-성분 키워드 필터 목록 (Node 2 수정용) ---\n",
    "IGNORE_KEYWORDS = set([\n",
    "    '열량', '탄수화물', '단백질', '지방', '당류', '나트륨', '콜레스테롤',\n",
    "    '포화지방', '트랜스지방', '내용량', 'I', 'II' # (빈 문자열 '' 제거된 상태)\n",
    "])\n",
    "print(f\"✅ 비-성분 필터 키워드 {len(IGNORE_KEYWORDS)}개 로드 완료.\")\n"
   ]
  },
  {
   "cell_type": "code",
   "execution_count": 8,
   "metadata": {},
   "outputs": [
    {
     "name": "stdout",
     "output_type": "stream",
     "text": [
      "'distiluse-base-multilingual-cased-v1' 쿼리 임베딩 모델 로드 중...\n"
     ]
    },
    {
     "data": {
      "application/vnd.jupyter.widget-view+json": {
       "model_id": "d42e43e7371949cd87222dbbad220a8b",
       "version_major": 2,
       "version_minor": 0
      },
      "text/plain": [
       "modules.json:   0%|          | 0.00/341 [00:00<?, ?B/s]"
      ]
     },
     "metadata": {},
     "output_type": "display_data"
    },
    {
     "data": {
      "application/vnd.jupyter.widget-view+json": {
       "model_id": "4268a272a96c49b2840f76aa94d005cc",
       "version_major": 2,
       "version_minor": 0
      },
      "text/plain": [
       "config_sentence_transformers.json:   0%|          | 0.00/122 [00:00<?, ?B/s]"
      ]
     },
     "metadata": {},
     "output_type": "display_data"
    },
    {
     "data": {
      "application/vnd.jupyter.widget-view+json": {
       "model_id": "36fe45f8dd7d49cf8e38e6a06eada0bf",
       "version_major": 2,
       "version_minor": 0
      },
      "text/plain": [
       "README.md: 0.00B [00:00, ?B/s]"
      ]
     },
     "metadata": {},
     "output_type": "display_data"
    },
    {
     "data": {
      "application/vnd.jupyter.widget-view+json": {
       "model_id": "5b77ff438f5040b1b2ca378b0e65e5c8",
       "version_major": 2,
       "version_minor": 0
      },
      "text/plain": [
       "sentence_bert_config.json:   0%|          | 0.00/53.0 [00:00<?, ?B/s]"
      ]
     },
     "metadata": {},
     "output_type": "display_data"
    },
    {
     "data": {
      "application/vnd.jupyter.widget-view+json": {
       "model_id": "3e8440e78f164a0396873a1aa8d6b14a",
       "version_major": 2,
       "version_minor": 0
      },
      "text/plain": [
       "config.json:   0%|          | 0.00/556 [00:00<?, ?B/s]"
      ]
     },
     "metadata": {},
     "output_type": "display_data"
    },
    {
     "data": {
      "application/vnd.jupyter.widget-view+json": {
       "model_id": "d015144cfd74415db4e56d3a869c8368",
       "version_major": 2,
       "version_minor": 0
      },
      "text/plain": [
       "model.safetensors:   0%|          | 0.00/539M [00:00<?, ?B/s]"
      ]
     },
     "metadata": {},
     "output_type": "display_data"
    },
    {
     "data": {
      "application/vnd.jupyter.widget-view+json": {
       "model_id": "dcab23faed5742ee963bd457c1341d53",
       "version_major": 2,
       "version_minor": 0
      },
      "text/plain": [
       "tokenizer_config.json:   0%|          | 0.00/452 [00:00<?, ?B/s]"
      ]
     },
     "metadata": {},
     "output_type": "display_data"
    },
    {
     "data": {
      "application/vnd.jupyter.widget-view+json": {
       "model_id": "18bb772de5fd45e5aa9f9392d25fa99c",
       "version_major": 2,
       "version_minor": 0
      },
      "text/plain": [
       "vocab.txt: 0.00B [00:00, ?B/s]"
      ]
     },
     "metadata": {},
     "output_type": "display_data"
    },
    {
     "data": {
      "application/vnd.jupyter.widget-view+json": {
       "model_id": "6db0dd11e2db479389866f4255e19820",
       "version_major": 2,
       "version_minor": 0
      },
      "text/plain": [
       "tokenizer.json: 0.00B [00:00, ?B/s]"
      ]
     },
     "metadata": {},
     "output_type": "display_data"
    },
    {
     "data": {
      "application/vnd.jupyter.widget-view+json": {
       "model_id": "b98b01176aaf417784619df17bfab775",
       "version_major": 2,
       "version_minor": 0
      },
      "text/plain": [
       "special_tokens_map.json:   0%|          | 0.00/112 [00:00<?, ?B/s]"
      ]
     },
     "metadata": {},
     "output_type": "display_data"
    },
    {
     "data": {
      "application/vnd.jupyter.widget-view+json": {
       "model_id": "cda39f76669f44f3829bbd7e12de41ba",
       "version_major": 2,
       "version_minor": 0
      },
      "text/plain": [
       "config.json:   0%|          | 0.00/190 [00:00<?, ?B/s]"
      ]
     },
     "metadata": {},
     "output_type": "display_data"
    },
    {
     "data": {
      "application/vnd.jupyter.widget-view+json": {
       "model_id": "205a7dc068cb47079bba71a6af57d7bc",
       "version_major": 2,
       "version_minor": 0
      },
      "text/plain": [
       "config.json:   0%|          | 0.00/114 [00:00<?, ?B/s]"
      ]
     },
     "metadata": {},
     "output_type": "display_data"
    },
    {
     "data": {
      "application/vnd.jupyter.widget-view+json": {
       "model_id": "c526c278f7d14bb0b932b52633ffa376",
       "version_major": 2,
       "version_minor": 0
      },
      "text/plain": [
       "2_Dense/model.safetensors:   0%|          | 0.00/1.58M [00:00<?, ?B/s]"
      ]
     },
     "metadata": {},
     "output_type": "display_data"
    },
    {
     "name": "stdout",
     "output_type": "stream",
     "text": [
      "✅ 쿼리 임베딩 모델 로드 완료.\n",
      "Zero-Shot NLI 모델 로드 중 (Fallback 전용)...\n"
     ]
    },
    {
     "data": {
      "application/vnd.jupyter.widget-view+json": {
       "model_id": "8ede28d1d72843128d3141b1e7bdf7c6",
       "version_major": 2,
       "version_minor": 0
      },
      "text/plain": [
       "config.json:   0%|          | 0.00/546 [00:00<?, ?B/s]"
      ]
     },
     "metadata": {},
     "output_type": "display_data"
    },
    {
     "data": {
      "application/vnd.jupyter.widget-view+json": {
       "model_id": "612cda39434a4c86aeff9aedf1d33915",
       "version_major": 2,
       "version_minor": 0
      },
      "text/plain": [
       "model.safetensors:   0%|          | 0.00/443M [00:00<?, ?B/s]"
      ]
     },
     "metadata": {},
     "output_type": "display_data"
    },
    {
     "name": "stderr",
     "output_type": "stream",
     "text": [
      "Some weights of RobertaForSequenceClassification were not initialized from the model checkpoint at klue/roberta-base and are newly initialized: ['classifier.dense.bias', 'classifier.dense.weight', 'classifier.out_proj.bias', 'classifier.out_proj.weight']\n",
      "You should probably TRAIN this model on a down-stream task to be able to use it for predictions and inference.\n"
     ]
    },
    {
     "data": {
      "application/vnd.jupyter.widget-view+json": {
       "model_id": "9f651edb1c404fb18004f275e36ab837",
       "version_major": 2,
       "version_minor": 0
      },
      "text/plain": [
       "tokenizer_config.json:   0%|          | 0.00/375 [00:00<?, ?B/s]"
      ]
     },
     "metadata": {},
     "output_type": "display_data"
    },
    {
     "data": {
      "application/vnd.jupyter.widget-view+json": {
       "model_id": "3a7e2ef0b6114a1b8066255a861742c4",
       "version_major": 2,
       "version_minor": 0
      },
      "text/plain": [
       "vocab.txt: 0.00B [00:00, ?B/s]"
      ]
     },
     "metadata": {},
     "output_type": "display_data"
    },
    {
     "data": {
      "application/vnd.jupyter.widget-view+json": {
       "model_id": "43e2f4b3852f4c88b0704acfbba7172a",
       "version_major": 2,
       "version_minor": 0
      },
      "text/plain": [
       "tokenizer.json: 0.00B [00:00, ?B/s]"
      ]
     },
     "metadata": {},
     "output_type": "display_data"
    },
    {
     "data": {
      "application/vnd.jupyter.widget-view+json": {
       "model_id": "0a727d7e83004c4c8d267f8f85e9ed53",
       "version_major": 2,
       "version_minor": 0
      },
      "text/plain": [
       "special_tokens_map.json:   0%|          | 0.00/173 [00:00<?, ?B/s]"
      ]
     },
     "metadata": {},
     "output_type": "display_data"
    },
    {
     "name": "stderr",
     "output_type": "stream",
     "text": [
      "Device set to use mps:0\n",
      "Failed to determine 'entailment' label id from the label2id mapping in the model config. Setting to -1. Define a descriptive label2id mapping in the model config to ensure correct outputs.\n"
     ]
    },
    {
     "name": "stdout",
     "output_type": "stream",
     "text": [
      "✅ Zero-Shot NLI 모델 (klue/roberta-base) 로드 완료.\n",
      "✅ NLI Fallback 후보 레이블 20개 준비 완료.\n",
      "GCP Vision API 클라이언트 (직접 경로 지정) 초기화 중...\n",
      "✅ GCP Vision 클라이언트 (직접 경로) 준비 완료.\n",
      "사전 계산된 RAG 지식 베이스 캐시 로드 중...\n",
      "✅ RAG 지식 베이스 캐시 로드 완료 (702개 항목)\n"
     ]
    }
   ],
   "source": [
    "\n",
    "# --- 1. 글로벌 설정: 모델 로드 및 RAG 지식 베이스 캐시 로드 ---\n",
    "try:\n",
    "    # 1a. RAG 검색을 위한 임베딩 모델 로드 (쿼리 임베딩용)\n",
    "    EMBEDDING_MODEL_NAME = 'distiluse-base-multilingual-cased-v1'\n",
    "    print(f\"'{EMBEDDING_MODEL_NAME}' 쿼리 임베딩 모델 로드 중...\")\n",
    "    embedding_model = SentenceTransformer(EMBEDDING_MODEL_NAME)\n",
    "    print(\"✅ 쿼리 임베딩 모델 로드 완료.\")\n",
    "\n",
    "    # 1b. Zero-Shot NLI 모델 로드 (Fallback 전용) - [T5에서 교체됨]\n",
    "    print(\"Zero-Shot NLI 모델 로드 중 (Fallback 전용)...\")\n",
    "    NLI_MODEL_NAME = \"klue/roberta-base\"\n",
    "    \n",
    "    # 이전 로그에서 CUDA 사용이 확인되었으므로 device=0 (GPU) 설정\n",
    "    nli_pipeline = pipeline(\"zero-shot-classification\", model=NLI_MODEL_NAME, device=0) \n",
    "    print(f\"✅ Zero-Shot NLI 모델 ({NLI_MODEL_NAME}) 로드 완료.\")\n",
    "    \n",
    "    # NLI Fallback이 사용할 후보 레이블 목록 (글로벌 캐시)\n",
    "    ALLERGEN_CANDIDATES = list(ALLERGENS_STD_SET) + [\"관련 없음\"]\n",
    "    print(f\"✅ NLI Fallback 후보 레이블 {len(ALLERGEN_CANDIDATES)}개 준비 완료.\")\n",
    "\n",
    "    # 1c. GCP Vision API 클라이언트 초기화 (직접 경로 지정 방식)\n",
    "    print(\"GCP Vision API 클라이언트 (직접 경로 지정) 초기화 중...\")\n",
    "    \n",
    "    KEY_JSON_PATH = r\"20250908_GCP_Service_Credentials.json\"\n",
    "\n",
    "    try:\n",
    "        credentials = service_account.Credentials.from_service_account_file(KEY_JSON_PATH)\n",
    "        vision_client = vision.ImageAnnotatorClient(credentials=credentials)\n",
    "        print(f\"✅ GCP Vision 클라이언트 (직접 경로) 준비 완료.\")\n",
    "        \n",
    "    except FileNotFoundError:\n",
    "        print(f\"❌ 치명적 오류: 지정된 키 파일 경로를 찾을 수 없습니다! 경로를 다시 확인하세요.\")\n",
    "        print(f\"   시도한 경로: {KEY_JSON_PATH}\")\n",
    "        raise \n",
    "    \n",
    "    # 1d. 사전 계산된 벡터 캐시 로드\n",
    "    print(\"사전 계산된 RAG 지식 베이스 캐시 로드 중...\")\n",
    "    kb_embeddings = np.load(\"kb_embeddings.npy\") \n",
    "    \n",
    "    with open(\"kb_categories.json\", \"r\", encoding=\"utf-8\") as f:\n",
    "            kb_categories = json.load(f) \n",
    "    \n",
    "    print(f\"✅ RAG 지식 베이스 캐시 로드 완료 ({len(kb_categories)}개 항목)\")\n",
    "\n",
    "except Exception as e:\n",
    "    print(f\"❌ 치명적 오류: 글로벌 설정 실패: {e}\")\n",
    "    exit()"
   ]
  },
  {
   "cell_type": "code",
   "execution_count": 9,
   "metadata": {},
   "outputs": [
    {
     "name": "stdout",
     "output_type": "stream",
     "text": [
      "ℹ️ RAG 신뢰도 임계값: 0.85\n",
      "ℹ️ NLI Fallback 신뢰도 임계값: 0.5\n"
     ]
    }
   ],
   "source": [
    "\n",
    "# RAG 검색 시 사용할 유사도 임계값 (튜닝된 값으로 가정, 예: 0.85)\n",
    "# (만약 0.9로 유지하고 NLI가 '유청단백분말'을 잡도록 하려면 0.9로 설정하세요)\n",
    "RAG_CONFIDENCE_THRESHOLD = 0.85\n",
    "print(f\"ℹ️ RAG 신뢰도 임계값: {RAG_CONFIDENCE_THRESHOLD}\")\n",
    "\n",
    "# NLI Fallback 결과가 유효하다고 인정할 최소 점수\n",
    "NLI_FALLBACK_THRESHOLD = 0.5  \n",
    "print(f\"ℹ️ NLI Fallback 신뢰도 임계값: {NLI_FALLBACK_THRESHOLD}\")"
   ]
  },
  {
   "cell_type": "code",
   "execution_count": null,
   "metadata": {},
   "outputs": [],
   "source": [
    "# --- 2. LangGraph 상태 정의 ---\n",
    "class AllergyGraphState(TypedDict):\n",
    "    image_path: str\n",
    "    raw_ocr_text: str\n",
    "    ingredients_to_check: List[str]\n",
    "    current_ingredient: str\n",
    "    rag_result: dict\n",
    "    final_allergens: Set[str]\n",
    "    final_output_json: str\n",
    "    #TODO 처리단계 오류 발생시 메시지를 담을 공간이 필요함 그래야 화면에 노출 가능"
   ]
  },
  {
   "cell_type": "code",
   "execution_count": null,
   "metadata": {},
   "outputs": [],
   "source": [
    "# --- 3. LangGraph 노드 함수 정의 ---\n",
    "\n",
    "def call_gcp_vision_api(state: AllergyGraphState) -> AllergyGraphState:\n",
    "    \"\"\"\n",
    "    ✅ 노드 1 (Entry Point): GCP Vision API 호출\n",
    "    \"\"\"\n",
    "    print(f\"\\n--- (Node 1: call_gcp_vision_api) ---\")\n",
    "    img_path = state['image_path']\n",
    "    print(f\"GCP Vision API 호출... (이미지: {img_path})\")\n",
    "    try:\n",
    "        with io.open(img_path, 'rb') as image_file:\n",
    "            content = image_file.read()\n",
    "        image = vision.Image(content=content)\n",
    "        \n",
    "        response = vision_client.text_detection(image=image)\n",
    "        if response.error.message:\n",
    "            raise Exception(f\"GCP API Error: {response.error.message}\")\n",
    "\n",
    "        raw_text = response.full_text_annotation.text\n",
    "        print(f\"✅ GCP OCR 성공. (추출된 텍스트 길이: {len(raw_text)})\")\n",
    "        return {**state, \"raw_ocr_text\": raw_text}\n",
    "    \n",
    "    except Exception as e:\n",
    "        print(f\"❌ GCP Vision API 처리 실패: {e}\")\n",
    "        return {**state, \"raw_ocr_text\": \"\"}\n",
    "        #TODO 처리가 실패했다면 END로 바로 가는건?"
   ]
  },
  {
   "cell_type": "code",
   "execution_count": null,
   "metadata": {},
   "outputs": [],
   "source": [
    "def parse_text_from_raw(state: AllergyGraphState) -> AllergyGraphState:\n",
    "    \"\"\"\n",
    "    ✅ 노드 2 (Regex 파서 노드)\n",
    "    (startswith 필터 로직이 적용된 최종 수정 버전)\n",
    "    \"\"\"\n",
    "    print(f\"\\n--- (Node 2: parse_text_from_raw) [Regex Parser] ---\")\n",
    "    raw_text = state['raw_ocr_text']\n",
    "    if not raw_text or not raw_text.strip():\n",
    "        print(\"ℹ️ OCR 텍스트가 비어있어 파싱을 건너뜁니다.\")\n",
    "        return {**state, \"ingredients_to_check\": [], \"final_allergens\": set()}\n",
    "        #TODO OCR 텍스트가 비어있다면 해당 오류 메시지를 사용자에게 알려주자\n",
    "\n",
    "    clean_text = raw_text.replace(\"\\n\", \" \")\n",
    "\n",
    "    ingredient_queue = []\n",
    "    found_allergens_set = set()\n",
    "\n",
    "    match1 = re.search(r\"원재료명[ :](.*?)(•|\\||영양정보|영양성분|$)\", clean_text)\n",
    "    \n",
    "    if match1:\n",
    "        ingredient_blob = match1.group(1).strip()\n",
    "        raw_ingredients_list = [item.strip() for item in ingredient_blob.split(',') if item.strip()]\n",
    "        cleaned_ingredients_raw = [name.split('(')[0].strip() for name in raw_ingredients_list if name.strip()]\n",
    "        \n",
    "        cleaned_ingredients_filtered = []\n",
    "        for item in cleaned_ingredients_raw:\n",
    "            is_noise = False\n",
    "            for keyword in IGNORE_KEYWORDS:\n",
    "                if item.startswith(keyword):\n",
    "                    is_noise = True\n",
    "                    print(f\"  -> 필터링됨: '{item}' (노이즈 키워드 '{keyword}'로 시작하므로 제외)\")\n",
    "                    break \n",
    "            \n",
    "            if not is_noise:\n",
    "                cleaned_ingredients_filtered.append(item)\n",
    "        \n",
    "        ingredient_queue.extend(cleaned_ingredients_filtered)\n",
    "        print(f\"✅ Regex 파서: '원재료명' 섹션에서 {len(cleaned_ingredients_filtered)}개 성분 추출: {cleaned_ingredients_filtered}\")\n",
    "    \n",
    "    else:\n",
    "        print(\"ℹ️ Regex 파서: '원재료명' 섹션을 찾지 못함.\")\n",
    "\n",
    "    match2 = re.search(r\"•?\\s*([\\w,]+)\\s+함유\", clean_text)\n",
    "    if match2:\n",
    "        contains_blob = match2.group(1) \n",
    "        contains_list = [item.strip() for item in contains_blob.split(',') if item.strip()]\n",
    "        print(f\"✅ Regex 파서: '...함유' 섹션에서 {len(contains_list)}개 항목 추출: {contains_list}\")\n",
    "        \n",
    "        for item in contains_list:\n",
    "            if item not in IGNORE_KEYWORDS:\n",
    "                ingredient_queue.append(item) \n",
    "            \n",
    "            if item in ALLERGENS_STD_SET:\n",
    "                print(f\"  -> '{item}'은(는) 표준 알레르기이므로 final_set에 직접 추가.\")\n",
    "                found_allergens_set.add(item) \n",
    "    else:\n",
    "        print(\"ℹ️ Regex 파서: '...함유' 섹션을 찾지 못함.\")\n",
    "\n",
    "    final_queue = sorted(list(set(ingredient_queue)))\n",
    "    print(f\"==> 최종 RAG 검사 큐 (중복제거, {len(final_queue)}개): {final_queue}\")\n",
    "    \n",
    "    return {\n",
    "        **state,\n",
    "        \"ingredients_to_check\": final_queue,      \n",
    "        \"final_allergens\": found_allergens_set \n",
    "    }"
   ]
  },
  {
   "cell_type": "code",
   "execution_count": 13,
   "metadata": {},
   "outputs": [],
   "source": [
    "def prepare_next_ingredient(state: AllergyGraphState) -> AllergyGraphState:\n",
    "    \"\"\"\n",
    "    ✅ 노드 3 (루프 컨트롤러)\n",
    "    \"\"\"\n",
    "    print(f\"\\n--- (Node 3: prepare_next_ingredient) ---\")\n",
    "    queue = state['ingredients_to_check']\n",
    "    next_ingredient = queue.pop(0) \n",
    "    print(f\"다음 검사 대상: '{next_ingredient}' (남은 항목: {len(queue)}개)\")\n",
    "    return {\n",
    "        **state,\n",
    "        \"current_ingredient\": next_ingredient,\n",
    "        \"ingredients_to_check\": queue\n",
    "    }"
   ]
  },
  {
   "cell_type": "code",
   "execution_count": 14,
   "metadata": {},
   "outputs": [],
   "source": [
    "def rag_search(state: AllergyGraphState) -> AllergyGraphState:\n",
    "    \"\"\"\n",
    "    ✅ 노드 4 (핵심 RAG 검색 노드)\n",
    "    \"\"\"\n",
    "    print(f\"--- (Node 4: rag_search) ---\")\n",
    "    ingredient = state['current_ingredient']\n",
    "    \n",
    "    query_embedding = embedding_model.encode([ingredient])\n",
    "    similarities = cosine_similarity(query_embedding, kb_embeddings)\n",
    "    \n",
    "    best_match_index = np.argmax(similarities[0])\n",
    "    confidence_score = float(similarities[0][best_match_index])\n",
    "    \n",
    "    found_allergen = kb_categories[best_match_index] \n",
    "    \n",
    "    print(f\"RAG 검색: '{ingredient}' (유사도: {confidence_score:.4f}) -> 매핑: '{found_allergen}'\")\n",
    "    \n",
    "    rag_result_data = {\n",
    "        \"confidence\": confidence_score,\n",
    "        \"found_allergen\": found_allergen\n",
    "    }\n",
    "    return {**state, \"rag_result\": rag_result_data}"
   ]
  },
  {
   "cell_type": "code",
   "execution_count": 15,
   "metadata": {},
   "outputs": [],
   "source": [
    "# ==============================================================================\n",
    "# === 💥 [교체된 노드 5] (Zero-Shot NLI 파이프라인 버전) 💥 ===\n",
    "# ==============================================================================\n",
    "def llm_fallback(state: AllergyGraphState) -> AllergyGraphState:\n",
    "    \"\"\"\n",
    "    ✅ 노드 5 (LLM Fallback 노드) - [NLI Zero-Shot 버전]\n",
    "    \n",
    "    RAG가 실패한 항목을 Zero-Shot Classification 파이프라인(NLI 모델)으로 넘깁니다.\n",
    "    입력 성분을 모든 알레르기 후보 레이블과 비교하여 최고 점수(entailment)를 받은 항목을 반환합니다.\n",
    "    \"\"\"\n",
    "    print(f\"--- (Node 5: llm_fallback) [NLI Zero-Shot] ---\")\n",
    "    ingredient = state['current_ingredient']\n",
    "    print(f\"NLI Fallback: '{ingredient}' 분류 요청... (후보: {len(ALLERGEN_CANDIDATES)}개)\")\n",
    "\n",
    "    try:\n",
    "        # NLI 파이프라인 호출 (글로벌 파이프라인 'nli_pipeline' 및 후보 리스트 'ALLERGEN_CANDIDATES' 재사용)\n",
    "        response = nli_pipeline(ingredient, ALLERGEN_CANDIDATES) \n",
    "        \n",
    "        # 가장 점수가 높은 레이블과 점수를 추출\n",
    "        top_label = response['labels'][0]\n",
    "        top_score = response['scores'][0]\n",
    "        \n",
    "        print(f\"NLI 응답: Label='{top_label}', Score={top_score:.4f}\")\n",
    "\n",
    "        # 최고 점수 레이블이 표준 알레르기 목록(SET)에 있는지 확인\n",
    "        if top_label in ALLERGENS_STD_SET: \n",
    "            # 해당 점수가 우리가 설정한 NLI 임계값(예: 0.5)보다 높은지 확인\n",
    "            if top_score >= NLI_FALLBACK_THRESHOLD:\n",
    "                 print(f\"  -> 유효한 분류: '{top_label}' (Score: {top_score}, 임계값 {NLI_FALLBACK_THRESHOLD} 통과).\")\n",
    "                 return {**state, \"rag_result\": {\"confidence\": top_score, \"found_allergen\": top_label}}\n",
    "            else:\n",
    "                 # 알레르기이긴 하지만, 점수가 너무 낮아서 신뢰할 수 없음\n",
    "                 print(f\"  -> 점수가 낮음 ({top_score} < {NLI_FALLBACK_THRESHOLD}). '없음'으로 처리.\")\n",
    "                 return {**state, \"rag_result\": {\"confidence\": 1.0, \"found_allergen\": \"없음\"}}\n",
    "        else:\n",
    "            # 최고 점수 레이블이 \"관련 없음\"이거나, (혹시 모를) 다른 쓰레기 값인 경우\n",
    "            print(f\"  -> 최고 점수 레이블이 '{top_label}'이므로 '없음'으로 처리.\")\n",
    "            return {**state, \"rag_result\": {\"confidence\": 1.0, \"found_allergen\": \"없음\"}}\n",
    "            \n",
    "    except Exception as e:\n",
    "        print(f\"❌ NLI Fallback 중 오류: {e}\")\n",
    "        return {**state, \"rag_result\": {\"confidence\": 1.0, \"found_allergen\": \"오류\"}}\n",
    "# ==============================================================================\n",
    "# === [교체된 노드 5] 끝 ===\n",
    "# =============================================================================="
   ]
  },
  {
   "cell_type": "code",
   "execution_count": 16,
   "metadata": {},
   "outputs": [],
   "source": [
    "def update_final_list(state: AllergyGraphState) -> AllergyGraphState:\n",
    "    \"\"\"\n",
    "    ✅ 노드 6 (결과 취합 노드)\n",
    "    \"\"\"\n",
    "    print(f\"--- (Node 6: update_final_list) ---\")\n",
    "    result_allergen = state['rag_result']['found_allergen']\n",
    "    \n",
    "    if result_allergen in ALLERGENS_STD_SET:\n",
    "        current_set = state['final_allergens']\n",
    "        print(f\"✅ 유효한 알레르기 발견: '{result_allergen}'. 최종 목록에 추가.\")\n",
    "        current_set.add(result_allergen)\n",
    "        return {**state, \"final_allergens\": current_set}\n",
    "    else:\n",
    "        print(f\"ℹ️ '{result_allergen}'은(는) 표준 알레르기 항목이 아니므로 무시합니다.\")\n",
    "        return state "
   ]
  },
  {
   "cell_type": "code",
   "execution_count": 17,
   "metadata": {},
   "outputs": [],
   "source": [
    "def finalize_processing(state: AllergyGraphState) -> AllergyGraphState:\n",
    "    \"\"\"\n",
    "    ✅ 노드 7 (종료 노드)\n",
    "    \"\"\"\n",
    "    print(f\"\\n--- (Node 7: finalize_processing) ---\")\n",
    "    final_set = state['final_allergens']\n",
    "    \n",
    "    final_list = sorted(list(final_set))\n",
    "    final_json = json.dumps(final_list, ensure_ascii=False)\n",
    "    \n",
    "    print(f\"🎉 모든 성분 검사 완료. 최종 결과: {final_json}\")\n",
    "    return {**state, \"final_output_json\": final_json}"
   ]
  },
  {
   "cell_type": "code",
   "execution_count": 18,
   "metadata": {},
   "outputs": [],
   "source": [
    "# --- 4. LangGraph 엣지(Edge) 함수 정의 ---\n",
    "\n",
    "def route_rag_result(state: AllergyGraphState) -> str:\n",
    "    \"\"\"(조건부 엣지 1: RAG 라우터)\n",
    "    \"\"\"\n",
    "    print(f\"--- (Edge: route_rag_result?) ---\")\n",
    "    confidence = state['rag_result']['confidence']\n",
    "    allergen = state['rag_result']['found_allergen']\n",
    "    \n",
    "    if confidence >= RAG_CONFIDENCE_THRESHOLD and allergen in ALLERGENS_STD_SET:\n",
    "        print(f\"  -> [RAG 성공]. 'update_final_list'로 이동.\")\n",
    "        return \"rag_success\"\n",
    "    else:\n",
    "        print(f\"  -> [RAG 실패/불확실]. 'llm_fallback'으로 이동.\")\n",
    "        return \"needs_llm_fallback\"\n",
    "\n",
    "def check_remaining_ingredients(state: AllergyGraphState) -> str:\n",
    "    \"\"\"(조건부 엣지 2: 루프 제어)\n",
    "    \"\"\"\n",
    "    print(f\"--- (Edge: check_remaining_ingredients?) ---\")\n",
    "    \n",
    "    if state[\"ingredients_to_check\"] and len(state[\"ingredients_to_check\"]) > 0:\n",
    "        print(f\"  -> [항목 남음]. 'prepare_next_ingredient'로 루프.\")\n",
    "        return \"has_more_ingredients\"\n",
    "    else:\n",
    "        print(\"  -> [항목 없음]. 'finalize_processing'로 이동.\")\n",
    "        return \"all_ingredients_done\""
   ]
  },
  {
   "cell_type": "code",
   "execution_count": 19,
   "metadata": {},
   "outputs": [
    {
     "name": "stdout",
     "output_type": "stream",
     "text": [
      "\n",
      "--- LangGraph 워크플로우 빌드 시작 ---\n",
      "--- ✅ LangGraph 워크플로우 컴파일 완료 ---\n"
     ]
    }
   ],
   "source": [
    "# --- 5. 그래프 빌드 및 컴파일 ---\n",
    "\n",
    "print(\"\\n--- LangGraph 워크플로우 빌드 시작 ---\")\n",
    "\n",
    "workflow = StateGraph(AllergyGraphState)\n",
    "\n",
    "# 1. 모든 노드를 그래프에 추가\n",
    "workflow.add_node(\"call_gcp_vision_api\", call_gcp_vision_api)\n",
    "workflow.add_node(\"parse_text_from_raw\", parse_text_from_raw)\n",
    "workflow.add_node(\"prepare_next_ingredient\", prepare_next_ingredient)\n",
    "workflow.add_node(\"rag_search\", rag_search)\n",
    "workflow.add_node(\"llm_fallback\", llm_fallback) # <--- NLI 버전 함수가 등록됨\n",
    "workflow.add_node(\"update_final_list\", update_final_list)\n",
    "workflow.add_node(\"finalize_processing\", finalize_processing)\n",
    "\n",
    "# 2. 엣지 연결 (흐름 정의)\n",
    "workflow.set_entry_point(\"call_gcp_vision_api\")                \n",
    "workflow.add_edge(\"call_gcp_vision_api\", \"parse_text_from_raw\")    \n",
    "workflow.add_edge(\"parse_text_from_raw\", \"prepare_next_ingredient\") \n",
    "workflow.add_edge(\"prepare_next_ingredient\", \"rag_search\")          \n",
    "\n",
    "# 3. RAG 라우팅 (조건부 엣지 1)\n",
    "workflow.add_conditional_edges(\n",
    "    \"rag_search\",\n",
    "    route_rag_result,\n",
    "    {\"rag_success\": \"update_final_list\", \"needs_llm_fallback\": \"llm_fallback\"}\n",
    ")\n",
    "\n",
    "# 4. Fallback 결과도 취합 노드로 연결 (NLI Fallback이 연결됨)\n",
    "workflow.add_edge(\"llm_fallback\", \"update_final_list\") \n",
    "\n",
    "# 5. 메인 루프 (조건부 엣지 2)\n",
    "workflow.add_conditional_edges(\n",
    "    \"update_final_list\",\n",
    "    check_remaining_ingredients,\n",
    "    {\"has_more_ingredients\": \"prepare_next_ingredient\", \"all_ingredients_done\": \"finalize_processing\"}\n",
    ")\n",
    "\n",
    "# 6. 종료 노드 연결\n",
    "workflow.add_edge(\"finalize_processing\", END)\n",
    "\n",
    "# 7. 컴파일\n",
    "app = workflow.compile()\n",
    "print(\"--- ✅ LangGraph 워크플로우 컴파일 완료 ---\")"
   ]
  },
  {
   "cell_type": "code",
   "execution_count": 20,
   "metadata": {},
   "outputs": [
    {
     "data": {
      "image/png": "[encoded data removed]",
      "text/plain": [
       "<IPython.core.display.Image object>"
      ]
     },
     "metadata": {},
     "output_type": "display_data"
    }
   ],
   "source": [
    "from langchain_teddynote.graphs import visualize_graph\n",
    "\n",
    "# 그래프 시각화\n",
    "visualize_graph(app)"
   ]
  },
  {
   "cell_type": "code",
   "execution_count": 21,
   "metadata": {},
   "outputs": [
    {
     "name": "stdout",
     "output_type": "stream",
     "text": [
      "\n",
      "\n",
      "--- [Test Run: GCP API + Regex 파서 + NLI Fallback 기반 실행] ---\n",
      "테스트 실행 시작: ./data_ocr/김광무_142.jpg\n",
      "\n",
      "\n",
      "--- [Test Run: 최종 결과 (invoke)] ---\n",
      "\n",
      "--- (Node 1: call_gcp_vision_api) ---\n",
      "GCP Vision API 호출... (이미지: ./data_ocr/김광무_142.jpg)\n",
      "✅ GCP OCR 성공. (추출된 텍스트 길이: 1008)\n",
      "\n",
      "--- (Node 2: parse_text_from_raw) [Regex Parser] ---\n",
      "✅ Regex 파서: '원재료명' 섹션에서 6개 성분 추출: ['및 함량: 대두 100%[외국산', '캐나다', '중국 등)]', '조제해수염화마그네슘', '현미유', '올리브유 대두 함유']\n",
      "✅ Regex 파서: '...함유' 섹션에서 1개 항목 추출: ['대두']\n",
      "  -> '대두'은(는) 표준 알레르기이므로 final_set에 직접 추가.\n",
      "==> 최종 RAG 검사 큐 (중복제거, 7개): ['대두', '및 함량: 대두 100%[외국산', '올리브유 대두 함유', '조제해수염화마그네슘', '중국 등)]', '캐나다', '현미유']\n",
      "\n",
      "--- (Node 3: prepare_next_ingredient) ---\n",
      "다음 검사 대상: '대두' (남은 항목: 6개)\n",
      "--- (Node 4: rag_search) ---\n",
      "RAG 검색: '대두' (유사도: 0.8702) -> 매핑: '대두'\n",
      "--- (Edge: route_rag_result?) ---\n",
      "  -> [RAG 성공]. 'update_final_list'로 이동.\n",
      "--- (Node 6: update_final_list) ---\n",
      "✅ 유효한 알레르기 발견: '대두'. 최종 목록에 추가.\n",
      "--- (Edge: check_remaining_ingredients?) ---\n",
      "  -> [항목 남음]. 'prepare_next_ingredient'로 루프.\n",
      "\n",
      "--- (Node 3: prepare_next_ingredient) ---\n",
      "다음 검사 대상: '및 함량: 대두 100%[외국산' (남은 항목: 5개)\n",
      "--- (Node 4: rag_search) ---\n",
      "RAG 검색: '및 함량: 대두 100%[외국산' (유사도: 0.1921) -> 매핑: '고등어'\n",
      "--- (Edge: route_rag_result?) ---\n",
      "  -> [RAG 실패/불확실]. 'llm_fallback'으로 이동.\n",
      "--- (Node 5: llm_fallback) [NLI Zero-Shot] ---\n",
      "NLI Fallback: '및 함량: 대두 100%[외국산' 분류 요청... (후보: 20개)\n",
      "NLI 응답: Label='밀', Score=0.0504\n",
      "  -> 점수가 낮음 (0.05037897825241089 < 0.5). '없음'으로 처리.\n",
      "--- (Node 6: update_final_list) ---\n",
      "ℹ️ '없음'은(는) 표준 알레르기 항목이 아니므로 무시합니다.\n",
      "--- (Edge: check_remaining_ingredients?) ---\n",
      "  -> [항목 남음]. 'prepare_next_ingredient'로 루프.\n",
      "\n",
      "--- (Node 3: prepare_next_ingredient) ---\n",
      "다음 검사 대상: '올리브유 대두 함유' (남은 항목: 4개)\n",
      "--- (Node 4: rag_search) ---\n",
      "RAG 검색: '올리브유 대두 함유' (유사도: 0.7105) -> 매핑: '우유'\n",
      "--- (Edge: route_rag_result?) ---\n",
      "  -> [RAG 실패/불확실]. 'llm_fallback'으로 이동.\n",
      "--- (Node 5: llm_fallback) [NLI Zero-Shot] ---\n",
      "NLI Fallback: '올리브유 대두 함유' 분류 요청... (후보: 20개)\n",
      "NLI 응답: Label='조개류', Score=0.0502\n",
      "  -> 점수가 낮음 (0.05023910477757454 < 0.5). '없음'으로 처리.\n",
      "--- (Node 6: update_final_list) ---\n",
      "ℹ️ '없음'은(는) 표준 알레르기 항목이 아니므로 무시합니다.\n",
      "--- (Edge: check_remaining_ingredients?) ---\n",
      "  -> [항목 남음]. 'prepare_next_ingredient'로 루프.\n",
      "\n",
      "--- (Node 3: prepare_next_ingredient) ---\n",
      "다음 검사 대상: '조제해수염화마그네슘' (남은 항목: 3개)\n",
      "--- (Node 4: rag_search) ---\n",
      "RAG 검색: '조제해수염화마그네슘' (유사도: 0.4471) -> 매핑: '토마토'\n",
      "--- (Edge: route_rag_result?) ---\n",
      "  -> [RAG 실패/불확실]. 'llm_fallback'으로 이동.\n",
      "--- (Node 5: llm_fallback) [NLI Zero-Shot] ---\n",
      "NLI Fallback: '조제해수염화마그네슘' 분류 요청... (후보: 20개)\n",
      "NLI 응답: Label='아황산류', Score=0.0505\n",
      "  -> 점수가 낮음 (0.050451893359422684 < 0.5). '없음'으로 처리.\n",
      "--- (Node 6: update_final_list) ---\n",
      "ℹ️ '없음'은(는) 표준 알레르기 항목이 아니므로 무시합니다.\n",
      "--- (Edge: check_remaining_ingredients?) ---\n",
      "  -> [항목 남음]. 'prepare_next_ingredient'로 루프.\n",
      "\n",
      "--- (Node 3: prepare_next_ingredient) ---\n",
      "다음 검사 대상: '중국 등)]' (남은 항목: 2개)\n",
      "--- (Node 4: rag_search) ---\n",
      "RAG 검색: '중국 등)]' (유사도: 0.4887) -> 매핑: '돼지고기'\n",
      "--- (Edge: route_rag_result?) ---\n",
      "  -> [RAG 실패/불확실]. 'llm_fallback'으로 이동.\n",
      "--- (Node 5: llm_fallback) [NLI Zero-Shot] ---\n",
      "NLI Fallback: '중국 등)]' 분류 요청... (후보: 20개)\n",
      "NLI 응답: Label='아황산류', Score=0.0504\n",
      "  -> 점수가 낮음 (0.050446830689907074 < 0.5). '없음'으로 처리.\n",
      "--- (Node 6: update_final_list) ---\n",
      "ℹ️ '없음'은(는) 표준 알레르기 항목이 아니므로 무시합니다.\n",
      "--- (Edge: check_remaining_ingredients?) ---\n",
      "  -> [항목 남음]. 'prepare_next_ingredient'로 루프.\n",
      "\n",
      "--- (Node 3: prepare_next_ingredient) ---\n",
      "다음 검사 대상: '캐나다' (남은 항목: 1개)\n",
      "--- (Node 4: rag_search) ---\n",
      "RAG 검색: '캐나다' (유사도: 0.7439) -> 매핑: '우유'\n",
      "--- (Edge: route_rag_result?) ---\n",
      "  -> [RAG 실패/불확실]. 'llm_fallback'으로 이동.\n",
      "--- (Node 5: llm_fallback) [NLI Zero-Shot] ---\n",
      "NLI Fallback: '캐나다' 분류 요청... (후보: 20개)\n",
      "NLI 응답: Label='조개류', Score=0.0504\n",
      "  -> 점수가 낮음 (0.050397954881191254 < 0.5). '없음'으로 처리.\n",
      "--- (Node 6: update_final_list) ---\n",
      "ℹ️ '없음'은(는) 표준 알레르기 항목이 아니므로 무시합니다.\n",
      "--- (Edge: check_remaining_ingredients?) ---\n",
      "  -> [항목 남음]. 'prepare_next_ingredient'로 루프.\n",
      "\n",
      "--- (Node 3: prepare_next_ingredient) ---\n",
      "다음 검사 대상: '현미유' (남은 항목: 0개)\n",
      "--- (Node 4: rag_search) ---\n",
      "RAG 검색: '현미유' (유사도: 0.7367) -> 매핑: '메밀'\n",
      "--- (Edge: route_rag_result?) ---\n",
      "  -> [RAG 실패/불확실]. 'llm_fallback'으로 이동.\n",
      "--- (Node 5: llm_fallback) [NLI Zero-Shot] ---\n",
      "NLI Fallback: '현미유' 분류 요청... (후보: 20개)\n",
      "NLI 응답: Label='조개류', Score=0.0504\n",
      "  -> 점수가 낮음 (0.05037360265851021 < 0.5). '없음'으로 처리.\n",
      "--- (Node 6: update_final_list) ---\n",
      "ℹ️ '없음'은(는) 표준 알레르기 항목이 아니므로 무시합니다.\n",
      "--- (Edge: check_remaining_ingredients?) ---\n",
      "  -> [항목 없음]. 'finalize_processing'로 이동.\n",
      "\n",
      "--- (Node 7: finalize_processing) ---\n",
      "🎉 모든 성분 검사 완료. 최종 결과: [\"대두\"]\n",
      "\n",
      "최종 반환 JSON:\n",
      "[\"대두\"]\n"
     ]
    }
   ],
   "source": [
    "\n",
    "# --- 6. 테스트 실행 ---\n",
    "print(\"\\n\\n--- [Test Run: GCP API + Regex 파서 + NLI Fallback 기반 실행] ---\")\n",
    "\n",
    "# (테스트할 이미지 파일을 지정해야 합니다)\n",
    "my_test_image_file = \"./data_ocr/김광무_142.jpg\" # 👈 'image.jpg'는 OCR 로그를 제공한 그 이미지 파일 가정\n",
    "\n",
    "if my_test_image_file:\n",
    "    test_input = {\"image_path\": my_test_image_file}\n",
    "    print(f\"테스트 실행 시작: {my_test_image_file}\\n\")\n",
    "\n",
    "    print(\"\\n--- [Test Run: 최종 결과 (invoke)] ---\")\n",
    "    final_state = app.invoke(test_input, {\"recursion_limit\": 100}) \n",
    "    print(\"\\n최종 반환 JSON:\")\n",
    "    print(final_state['final_output_json'])\n",
    "\n",
    "else:\n",
    "    print(\"\\n테스트 실행 건너뜀: 'my_test_image_file' 변수에 이미지 경로가 지정되지 않았습니다.\")"
   ]
  },
  {
   "cell_type": "code",
   "execution_count": 26,
   "metadata": {},
   "outputs": [
    {
     "name": "stdout",
     "output_type": "stream",
     "text": [
      "{'image_path': './data_ocr/김광무_142.jpg', 'raw_ocr_text': '부드럽고 촉촉해서 국물요리에 좋은\\n찌개두부\\n.\\n•포장재질(내면): 폴리에틸렌(리드지), 폴리프로필렌(용기)\\n양념이 쏙 배는\\n찌개용\\n조리예\\nww\\n냉장\\n보관\\n0~10℃\\n無첨가\\n290g\\n\"안전관리인증\\nHACCP\\n거품제거제(규소수지),\\n유화제글리세린지방산에스테르) (247kcal)\\n식품의약품안전처\\n.\\n• 제품명 : 찌개두부 · 식품유형 : 두부 · 제조원 : F2-㈜피피이씨의령/경남 의령군 부림면 한지20길 40-21,\\nF3-풀무원식품주/충북 음성군 대소면 대소산단로 58. FS-서신식품(주)/충북 음성군 맹동면 맹동산단로 62\\n• 원재료명 및 함량: 대두 100%[외국산(미국, 캐나다, 중국 등)], 조제해수염화마그네슘,\\n현미유, 올리브유 대두 함유 • 품목보고번호: F2-1995061600622, F3-2003044504525,\\nFS-201104450381•유통전문판매원 : 풀무원식품(주)/충북 음성군 대소면 삼양로 730-27\\n총내용량 290g\\n영양정보\\n.\\n•이 용기는 재활용이 가능합니다. • 보관방법 : 냉장보관(0~10℃)\\n•사용상주의: 개봉 후 냉장보관하 거나 빨리 드시기 바랍니다..\\n반품 및 교환: 본사 및 구입처 • 본 제품은 공정거래위원회 고시 소비자 분쟁 해결\\n기준에 의거 교환 또는 보상을 받으실 수 있습니다. . 고객 기쁨센터: 080-022-\\n비닐류\\n0085• 풀무원은 고객의 의견을 존중합니다. • 부정·불량식품 신고는 국번없이 리드: OTHER / 용기:PP\\n1399 • www.pulmuone.kr\\n소비 2025.09.12 F2 까지\\n100g당 85 kcal 기한\\n나트륨 10mg 1% 탄수화물 1g0% 당류 1g 미만 1% 식이섬유 1g 미만3%\\n지방6g 11% 트랜스지방 0g 포화지방1g7% 콜레스테롤 0mg 0%\\n단백질 7g 13% 칼슘 31mg4% 철분 1.2mg 10%\\n1일 여야서부 가즈 대학 1비율(%)은 21\\n-200gkca 주이므로 개인의 필요 열량에 따라 다를 수 있습니다 8801114 139075\\n18F2 A\\n쉽게\\n열립니다\\n가\\nTIL\\nNo.1', 'ingredients_to_check': [], 'current_ingredient': '현미유', 'rag_result': {'confidence': 1.0, 'found_allergen': '없음'}, 'final_allergens': {'대두'}, 'final_output_json': '[\"대두\"]'}\n"
     ]
    }
   ],
   "source": [
    "print(final_state.__repr__())"
   ]
  },
  {
   "cell_type": "code",
   "execution_count": 32,
   "metadata": {},
   "outputs": [
    {
     "name": "stdout",
     "output_type": "stream",
     "text": [
      "{\n",
      "  \"image_path\": \"./data_ocr/김광무_142.jpg\",\n",
      "  \"raw_ocr_text\": \"부드럽고 촉촉해서 국물요리에 좋은\\n찌개두부\\n.\\n•포장재질(내면): 폴리에틸렌(리드지), 폴리프로필렌(용기)\\n양념이 쏙 배는\\n찌개용\\n조리예\\nww\\n냉장\\n보관\\n0~10℃\\n無첨가\\n290g\\n\\\"안전관리인증\\nHACCP\\n거품제거제(규소수지),\\n유화제글리세린지방산에스테르) (247kcal)\\n식품의약품안전처\\n.\\n• 제품명 : 찌개두부 · 식품유형 : 두부 · 제조원 : F2-㈜피피이씨의령/경남 의령군 부림면 한지20길 40-21,\\nF3-풀무원식품주/충북 음성군 대소면 대소산단로 58. FS-서신식품(주)/충북 음성군 맹동면 맹동산단로 62\\n• 원재료명 및 함량: 대두 100%[외국산(미국, 캐나다, 중국 등)], 조제해수염화마그네슘,\\n현미유, 올리브유 대두 함유 • 품목보고번호: F2-1995061600622, F3-2003044504525,\\nFS-201104450381•유통전문판매원 : 풀무원식품(주)/충북 음성군 대소면 삼양로 730-27\\n총내용량 290g\\n영양정보\\n.\\n•이 용기는 재활용이 가능합니다. • 보관방법 : 냉장보관(0~10℃)\\n•사용상주의: 개봉 후 냉장보관하 거나 빨리 드시기 바랍니다..\\n반품 및 교환: 본사 및 구입처 • 본 제품은 공정거래위원회 고시 소비자 분쟁 해결\\n기준에 의거 교환 또는 보상을 받으실 수 있습니다. . 고객 기쁨센터: 080-022-\\n비닐류\\n0085• 풀무원은 고객의 의견을 존중합니다. • 부정·불량식품 신고는 국번없이 리드: OTHER / 용기:PP\\n1399 • www.pulmuone.kr\\n소비 2025.09.12 F2 까지\\n100g당 85 kcal 기한\\n나트륨 10mg 1% 탄수화물 1g0% 당류 1g 미만 1% 식이섬유 1g 미만3%\\n지방6g 11% 트랜스지방 0g 포화지방1g7% 콜레스테롤 0mg 0%\\n단백질 7g 13% 칼슘 31mg4% 철분 1.2mg 10%\\n1일 여야서부 가즈 대학 1비율(%)은 21\\n-200gkca 주이므로 개인의 필요 열량에 따라 다를 수 있습니다 8801114 139075\\n18F2 A\\n쉽게\\n열립니다\\n가\\nTIL\\nNo.1\",\n",
      "  \"ingredients_to_check\": [],\n",
      "  \"current_ingredient\": \"현미유\",\n",
      "  \"rag_result\": {\n",
      "    \"confidence\": 1.0,\n",
      "    \"found_allergen\": \"없음\"\n",
      "  },\n",
      "  \"final_allergens\": [\n",
      "    \"대두\"\n",
      "  ],\n",
      "  \"final_output_json\": \"[\\\"대두\\\"]\"\n",
      "}\n"
     ]
    }
   ],
   "source": [
    "import json\n",
    "import ast\n",
    "\n",
    "# 원본 텍스트\n",
    "ugly_data_string = final_state.__repr__()\n",
    "\n",
    "# 문자열을 딕셔너리로 변환\n",
    "data_dict = ast.literal_eval(ugly_data_string)\n",
    "\n",
    "# `final_allergens` 값을 set에서 list로 변환\n",
    "data_dict['final_allergens'] = list(data_dict['final_allergens'])\n",
    "\n",
    "# 이제 JSON으로 변환 가능\n",
    "pretty_json_string = json.dumps(data_dict, indent=2, ensure_ascii=False)\n",
    "\n",
    "print(pretty_json_string)"
   ]
  },
  {
   "cell_type": "code",
   "execution_count": 24,
   "metadata": {},
   "outputs": [
    {
     "name": "stdout",
     "output_type": "stream",
     "text": [
      "['__class__', '__class_getitem__', '__contains__', '__delattr__', '__delitem__', '__dir__', '__doc__', '__eq__', '__format__', '__ge__', '__getattribute__', '__getitem__', '__gt__', '__hash__', '__init__', '__init_subclass__', '__ior__', '__iter__', '__le__', '__len__', '__lt__', '__ne__', '__new__', '__or__', '__reduce__', '__reduce_ex__', '__repr__', '__reversed__', '__ror__', '__setattr__', '__setitem__', '__sizeof__', '__str__', '__subclasshook__', 'clear', 'copy', 'fromkeys', 'get', 'items', 'keys', 'pop', 'popitem', 'setdefault', 'update', 'values']\n"
     ]
    }
   ],
   "source": [
    "print(dir(final_state))"
   ]
  },
  {
   "cell_type": "code",
   "execution_count": 34,
   "metadata": {},
   "outputs": [
    {
     "name": "stdout",
     "output_type": "stream",
     "text": [
      "Collecting gradio\n",
      "  Downloading gradio-5.44.1-py3-none-any.whl.metadata (16 kB)\n",
      "Collecting aiofiles<25.0,>=22.0 (from gradio)\n",
      "  Using cached aiofiles-24.1.0-py3-none-any.whl.metadata (10 kB)\n",
      "Requirement already satisfied: anyio<5.0,>=3.0 in /opt/anaconda3/envs/LangGraph/lib/python3.10/site-packages (from gradio) (4.10.0)\n",
      "Collecting brotli>=1.1.0 (from gradio)\n",
      "  Downloading Brotli-1.1.0-cp310-cp310-macosx_10_9_universal2.whl.metadata (5.5 kB)\n",
      "Collecting fastapi<1.0,>=0.115.2 (from gradio)\n",
      "  Using cached fastapi-0.116.1-py3-none-any.whl.metadata (28 kB)\n",
      "Collecting ffmpy (from gradio)\n",
      "  Downloading ffmpy-0.6.1-py3-none-any.whl.metadata (2.9 kB)\n",
      "Collecting gradio-client==1.12.1 (from gradio)\n",
      "  Downloading gradio_client-1.12.1-py3-none-any.whl.metadata (7.1 kB)\n",
      "Collecting groovy~=0.1 (from gradio)\n",
      "  Downloading groovy-0.1.2-py3-none-any.whl.metadata (6.1 kB)\n",
      "Requirement already satisfied: httpx<1.0,>=0.24.1 in /opt/anaconda3/envs/LangGraph/lib/python3.10/site-packages (from gradio) (0.28.1)\n",
      "Requirement already satisfied: huggingface-hub<1.0,>=0.33.5 in /opt/anaconda3/envs/LangGraph/lib/python3.10/site-packages (from gradio) (0.34.4)\n",
      "Requirement already satisfied: jinja2<4.0 in /opt/anaconda3/envs/LangGraph/lib/python3.10/site-packages (from gradio) (3.1.6)\n",
      "Requirement already satisfied: markupsafe<4.0,>=2.0 in /opt/anaconda3/envs/LangGraph/lib/python3.10/site-packages (from gradio) (3.0.2)\n",
      "Requirement already satisfied: numpy<3.0,>=1.0 in /opt/anaconda3/envs/LangGraph/lib/python3.10/site-packages (from gradio) (2.2.6)\n",
      "Requirement already satisfied: orjson~=3.0 in /opt/anaconda3/envs/LangGraph/lib/python3.10/site-packages (from gradio) (3.11.3)\n",
      "Requirement already satisfied: packaging in /opt/anaconda3/envs/LangGraph/lib/python3.10/site-packages (from gradio) (25.0)\n",
      "Requirement already satisfied: pandas<3.0,>=1.0 in /opt/anaconda3/envs/LangGraph/lib/python3.10/site-packages (from gradio) (2.3.2)\n",
      "Requirement already satisfied: pillow<12.0,>=8.0 in /opt/anaconda3/envs/LangGraph/lib/python3.10/site-packages (from gradio) (11.3.0)\n",
      "Requirement already satisfied: pydantic<2.12,>=2.0 in /opt/anaconda3/envs/LangGraph/lib/python3.10/site-packages (from gradio) (2.11.7)\n",
      "Collecting pydub (from gradio)\n",
      "  Downloading pydub-0.25.1-py2.py3-none-any.whl.metadata (1.4 kB)\n",
      "Collecting python-multipart>=0.0.18 (from gradio)\n",
      "  Using cached python_multipart-0.0.20-py3-none-any.whl.metadata (1.8 kB)\n",
      "Requirement already satisfied: pyyaml<7.0,>=5.0 in /opt/anaconda3/envs/LangGraph/lib/python3.10/site-packages (from gradio) (6.0.2)\n",
      "Collecting ruff>=0.9.3 (from gradio)\n",
      "  Downloading ruff-0.12.12-py3-none-macosx_11_0_arm64.whl.metadata (25 kB)\n",
      "Collecting safehttpx<0.2.0,>=0.1.6 (from gradio)\n",
      "  Downloading safehttpx-0.1.6-py3-none-any.whl.metadata (4.2 kB)\n",
      "Collecting semantic-version~=2.0 (from gradio)\n",
      "  Downloading semantic_version-2.10.0-py2.py3-none-any.whl.metadata (9.7 kB)\n",
      "Collecting starlette<1.0,>=0.40.0 (from gradio)\n",
      "  Downloading starlette-0.47.3-py3-none-any.whl.metadata (6.2 kB)\n",
      "Collecting tomlkit<0.14.0,>=0.12.0 (from gradio)\n",
      "  Downloading tomlkit-0.13.3-py3-none-any.whl.metadata (2.8 kB)\n",
      "Collecting typer<1.0,>=0.12 (from gradio)\n",
      "  Downloading typer-0.17.4-py3-none-any.whl.metadata (15 kB)\n",
      "Requirement already satisfied: typing-extensions~=4.0 in /opt/anaconda3/envs/LangGraph/lib/python3.10/site-packages (from gradio) (4.15.0)\n",
      "Collecting uvicorn>=0.14.0 (from gradio)\n",
      "  Using cached uvicorn-0.35.0-py3-none-any.whl.metadata (6.5 kB)\n",
      "Requirement already satisfied: fsspec in /opt/anaconda3/envs/LangGraph/lib/python3.10/site-packages (from gradio-client==1.12.1->gradio) (2025.9.0)\n",
      "Collecting websockets<16.0,>=10.0 (from gradio-client==1.12.1->gradio)\n",
      "  Downloading websockets-15.0.1-cp310-cp310-macosx_11_0_arm64.whl.metadata (6.8 kB)\n",
      "Requirement already satisfied: exceptiongroup>=1.0.2 in /opt/anaconda3/envs/LangGraph/lib/python3.10/site-packages (from anyio<5.0,>=3.0->gradio) (1.3.0)\n",
      "Requirement already satisfied: idna>=2.8 in /opt/anaconda3/envs/LangGraph/lib/python3.10/site-packages (from anyio<5.0,>=3.0->gradio) (3.10)\n",
      "Requirement already satisfied: sniffio>=1.1 in /opt/anaconda3/envs/LangGraph/lib/python3.10/site-packages (from anyio<5.0,>=3.0->gradio) (1.3.1)\n",
      "Requirement already satisfied: certifi in /opt/anaconda3/envs/LangGraph/lib/python3.10/site-packages (from httpx<1.0,>=0.24.1->gradio) (2025.8.3)\n",
      "Requirement already satisfied: httpcore==1.* in /opt/anaconda3/envs/LangGraph/lib/python3.10/site-packages (from httpx<1.0,>=0.24.1->gradio) (1.0.9)\n",
      "Requirement already satisfied: h11>=0.16 in /opt/anaconda3/envs/LangGraph/lib/python3.10/site-packages (from httpcore==1.*->httpx<1.0,>=0.24.1->gradio) (0.16.0)\n",
      "Requirement already satisfied: filelock in /opt/anaconda3/envs/LangGraph/lib/python3.10/site-packages (from huggingface-hub<1.0,>=0.33.5->gradio) (3.19.1)\n",
      "Requirement already satisfied: requests in /opt/anaconda3/envs/LangGraph/lib/python3.10/site-packages (from huggingface-hub<1.0,>=0.33.5->gradio) (2.32.5)\n",
      "Requirement already satisfied: tqdm>=4.42.1 in /opt/anaconda3/envs/LangGraph/lib/python3.10/site-packages (from huggingface-hub<1.0,>=0.33.5->gradio) (4.67.1)\n",
      "Requirement already satisfied: hf-xet<2.0.0,>=1.1.3 in /opt/anaconda3/envs/LangGraph/lib/python3.10/site-packages (from huggingface-hub<1.0,>=0.33.5->gradio) (1.1.9)\n",
      "Requirement already satisfied: python-dateutil>=2.8.2 in /opt/anaconda3/envs/LangGraph/lib/python3.10/site-packages (from pandas<3.0,>=1.0->gradio) (2.9.0.post0)\n",
      "Requirement already satisfied: pytz>=2020.1 in /opt/anaconda3/envs/LangGraph/lib/python3.10/site-packages (from pandas<3.0,>=1.0->gradio) (2025.2)\n",
      "Requirement already satisfied: tzdata>=2022.7 in /opt/anaconda3/envs/LangGraph/lib/python3.10/site-packages (from pandas<3.0,>=1.0->gradio) (2025.2)\n",
      "Requirement already satisfied: annotated-types>=0.6.0 in /opt/anaconda3/envs/LangGraph/lib/python3.10/site-packages (from pydantic<2.12,>=2.0->gradio) (0.7.0)\n",
      "Requirement already satisfied: pydantic-core==2.33.2 in /opt/anaconda3/envs/LangGraph/lib/python3.10/site-packages (from pydantic<2.12,>=2.0->gradio) (2.33.2)\n",
      "Requirement already satisfied: typing-inspection>=0.4.0 in /opt/anaconda3/envs/LangGraph/lib/python3.10/site-packages (from pydantic<2.12,>=2.0->gradio) (0.4.1)\n",
      "Requirement already satisfied: click>=8.0.0 in /opt/anaconda3/envs/LangGraph/lib/python3.10/site-packages (from typer<1.0,>=0.12->gradio) (8.2.1)\n",
      "Collecting shellingham>=1.3.0 (from typer<1.0,>=0.12->gradio)\n",
      "  Using cached shellingham-1.5.4-py2.py3-none-any.whl.metadata (3.5 kB)\n",
      "Requirement already satisfied: rich>=10.11.0 in /opt/anaconda3/envs/LangGraph/lib/python3.10/site-packages (from typer<1.0,>=0.12->gradio) (14.1.0)\n",
      "Requirement already satisfied: six>=1.5 in /opt/anaconda3/envs/LangGraph/lib/python3.10/site-packages (from python-dateutil>=2.8.2->pandas<3.0,>=1.0->gradio) (1.17.0)\n",
      "Requirement already satisfied: markdown-it-py>=2.2.0 in /opt/anaconda3/envs/LangGraph/lib/python3.10/site-packages (from rich>=10.11.0->typer<1.0,>=0.12->gradio) (4.0.0)\n",
      "Requirement already satisfied: pygments<3.0.0,>=2.13.0 in /opt/anaconda3/envs/LangGraph/lib/python3.10/site-packages (from rich>=10.11.0->typer<1.0,>=0.12->gradio) (2.19.2)\n",
      "Requirement already satisfied: mdurl~=0.1 in /opt/anaconda3/envs/LangGraph/lib/python3.10/site-packages (from markdown-it-py>=2.2.0->rich>=10.11.0->typer<1.0,>=0.12->gradio) (0.1.2)\n",
      "Requirement already satisfied: charset_normalizer<4,>=2 in /opt/anaconda3/envs/LangGraph/lib/python3.10/site-packages (from requests->huggingface-hub<1.0,>=0.33.5->gradio) (3.4.3)\n",
      "Requirement already satisfied: urllib3<3,>=1.21.1 in /opt/anaconda3/envs/LangGraph/lib/python3.10/site-packages (from requests->huggingface-hub<1.0,>=0.33.5->gradio) (2.5.0)\n",
      "Downloading gradio-5.44.1-py3-none-any.whl (60.2 MB)\n",
      "\u001b[2K   \u001b[38;2;114;156;31m━━━━━━━━━━━━━━━━━━━━━━━━━━━━━━━━━━━━━━━━\u001b[0m \u001b[32m60.2/60.2 MB\u001b[0m \u001b[31m36.3 MB/s\u001b[0m eta \u001b[36m0:00:00\u001b[0mm eta \u001b[36m0:00:01\u001b[0m[36m0:00:01\u001b[0m\n",
      "\u001b[?25hDownloading gradio_client-1.12.1-py3-none-any.whl (324 kB)\n",
      "Using cached aiofiles-24.1.0-py3-none-any.whl (15 kB)\n",
      "Using cached fastapi-0.116.1-py3-none-any.whl (95 kB)\n",
      "Downloading groovy-0.1.2-py3-none-any.whl (14 kB)\n",
      "Downloading safehttpx-0.1.6-py3-none-any.whl (8.7 kB)\n",
      "Downloading semantic_version-2.10.0-py2.py3-none-any.whl (15 kB)\n",
      "Downloading starlette-0.47.3-py3-none-any.whl (72 kB)\n",
      "Downloading tomlkit-0.13.3-py3-none-any.whl (38 kB)\n",
      "Downloading typer-0.17.4-py3-none-any.whl (46 kB)\n",
      "Downloading websockets-15.0.1-cp310-cp310-macosx_11_0_arm64.whl (173 kB)\n",
      "Downloading Brotli-1.1.0-cp310-cp310-macosx_10_9_universal2.whl (873 kB)\n",
      "\u001b[2K   \u001b[38;2;114;156;31m━━━━━━━━━━━━━━━━━━━━━━━━━━━━━━━━━━━━━━━━\u001b[0m \u001b[32m873.0/873.0 kB\u001b[0m \u001b[31m32.3 MB/s\u001b[0m eta \u001b[36m0:00:00\u001b[0m\n",
      "\u001b[?25hUsing cached python_multipart-0.0.20-py3-none-any.whl (24 kB)\n",
      "Downloading ruff-0.12.12-py3-none-macosx_11_0_arm64.whl (12.0 MB)\n",
      "\u001b[2K   \u001b[38;2;114;156;31m━━━━━━━━━━━━━━━━━━━━━━━━━━━━━━━━━━━━━━━━\u001b[0m \u001b[32m12.0/12.0 MB\u001b[0m \u001b[31m38.9 MB/s\u001b[0m eta \u001b[36m0:00:00\u001b[0mMB/s\u001b[0m eta \u001b[36m0:00:01\u001b[0m\n",
      "\u001b[?25hUsing cached shellingham-1.5.4-py2.py3-none-any.whl (9.8 kB)\n",
      "Using cached uvicorn-0.35.0-py3-none-any.whl (66 kB)\n",
      "Downloading ffmpy-0.6.1-py3-none-any.whl (5.5 kB)\n",
      "Downloading pydub-0.25.1-py2.py3-none-any.whl (32 kB)\n",
      "Installing collected packages: pydub, brotli, websockets, uvicorn, tomlkit, shellingham, semantic-version, ruff, python-multipart, groovy, ffmpy, aiofiles, typer, starlette, safehttpx, gradio-client, fastapi, gradio\n",
      "\u001b[2K   \u001b[38;2;114;156;31m━━━━━━━━━━━━━━━━━━━━━━━━━━━━━━━━━━━━━━━━\u001b[0m \u001b[32m18/18\u001b[0m [gradio];5;237m━━\u001b[0m \u001b[32m17/18\u001b[0m [gradio]]\n",
      "\u001b[1A\u001b[2KSuccessfully installed aiofiles-24.1.0 brotli-1.1.0 fastapi-0.116.1 ffmpy-0.6.1 gradio-5.44.1 gradio-client-1.12.1 groovy-0.1.2 pydub-0.25.1 python-multipart-0.0.20 ruff-0.12.12 safehttpx-0.1.6 semantic-version-2.10.0 shellingham-1.5.4 starlette-0.47.3 tomlkit-0.13.3 typer-0.17.4 uvicorn-0.35.0 websockets-15.0.1\n"
     ]
    }
   ],
   "source": [
    "!pip install gradio"
   ]
  },
  {
   "cell_type": "code",
   "execution_count": 35,
   "metadata": {},
   "outputs": [
    {
     "name": "stdout",
     "output_type": "stream",
     "text": [
      "* Running on local URL:  http://127.0.0.1:7860\n",
      "* To create a public link, set `share=True` in `launch()`.\n"
     ]
    },
    {
     "data": {
      "text/html": [
       "<div><iframe src=\"http://127.0.0.1:7860/\" width=\"100%\" height=\"500\" allow=\"autoplay; camera; microphone; clipboard-read; clipboard-write;\" frameborder=\"0\" allowfullscreen></iframe></div>"
      ],
      "text/plain": [
       "<IPython.core.display.HTML object>"
      ]
     },
     "metadata": {},
     "output_type": "display_data"
    },
    {
     "data": {
      "text/plain": []
     },
     "execution_count": 35,
     "metadata": {},
     "output_type": "execute_result"
    }
   ],
   "source": [
    "import gradio as gr\n",
    "from PIL import Image\n",
    "\n",
    "def process_image(image):\n",
    "    \"\"\"\n",
    "    This function takes a PIL Image object as input and returns a modified image.\n",
    "    For demonstration, it simply returns the input image.\n",
    "    \"\"\"\n",
    "    if image is None:\n",
    "        return None\n",
    "    # Example: You could perform image processing here, e.g., resizing, filtering\n",
    "    # resized_image = image.resize((100, 100))\n",
    "    return image\n",
    "\n",
    "# Create a Gradio interface\n",
    "iface = gr.Interface(\n",
    "    fn=process_image,\n",
    "    inputs=gr.Image(type=\"pil\", label=\"Upload an Image\"),  # Input component for image upload\n",
    "    outputs=gr.Image(type=\"pil\", label=\"Processed Image\"),  # Output component to display image\n",
    "    title=\"Gradio Image Upload Example\"\n",
    ")\n",
    "\n",
    "iface.launch()"
   ]
  },
  {
   "cell_type": "code",
   "execution_count": null,
   "metadata": {},
   "outputs": [],
   "source": []
  }
 ],
 "metadata": {
  "colab": {
   "authorship_tag": "ABX9TyMs2OSEsEhI+eP+P38efuYH",
   "provenance": []
  },
  "kernelspec": {
   "display_name": "Python 3 (ipykernel)",
   "language": "python",
   "name": "python3"
  },
  "language_info": {
   "codemirror_mode": {
    "name": "ipython",
    "version": 3
   },
   "file_extension": ".py",
   "mimetype": "text/x-python",
   "name": "python",
   "nbconvert_exporter": "python",
   "pygments_lexer": "ipython3",
   "version": "3.10.18"
  }
 },
 "nbformat": 4,
 "nbformat_minor": 4
}
