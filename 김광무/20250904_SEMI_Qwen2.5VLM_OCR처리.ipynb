{
 "cells": [
  {
   "cell_type": "code",
   "execution_count": 2,
   "metadata": {
    "colab": {
     "base_uri": "https://localhost:8080/"
    },
    "executionInfo": {
     "elapsed": 11007,
     "status": "ok",
     "timestamp": 1756880972372,
     "user": {
      "displayName": "김광무",
      "userId": "03808645168826839149"
     },
     "user_tz": -540
    },
    "id": "ucijk7ZkQ_nu",
    "outputId": "1dae12b4-4f19-4b28-fd9d-d0519c899432"
   },
   "outputs": [
    {
     "name": "stdout",
     "output_type": "stream",
     "text": [
      "\u001b[33mWARNING: Running pip as the 'root' user can result in broken permissions and conflicting behaviour with the system package manager, possibly rendering your system unusable. It is recommended to use a virtual environment instead: https://pip.pypa.io/warnings/venv. Use the --root-user-action option if you know what you are doing and want to suppress this warning.\u001b[0m\u001b[33m\n",
      "\u001b[0m\n",
      "\u001b[1m[\u001b[0m\u001b[34;49mnotice\u001b[0m\u001b[1;39;49m]\u001b[0m\u001b[39;49m A new release of pip is available: \u001b[0m\u001b[31;49m25.0.1\u001b[0m\u001b[39;49m -> \u001b[0m\u001b[32;49m25.2\u001b[0m\n",
      "\u001b[1m[\u001b[0m\u001b[34;49mnotice\u001b[0m\u001b[1;39;49m]\u001b[0m\u001b[39;49m To update, run: \u001b[0m\u001b[32;49mpython -m pip install --upgrade pip\u001b[0m\n"
     ]
    }
   ],
   "source": [
    "!pip install -q datasets transformers qwen_vl_utils"
   ]
  },
  {
   "cell_type": "code",
   "execution_count": 15,
   "metadata": {},
   "outputs": [
    {
     "name": "stdout",
     "output_type": "stream",
     "text": [
      "\u001b[33mWARNING: Running pip as the 'root' user can result in broken permissions and conflicting behaviour with the system package manager, possibly rendering your system unusable. It is recommended to use a virtual environment instead: https://pip.pypa.io/warnings/venv. Use the --root-user-action option if you know what you are doing and want to suppress this warning.\u001b[0m\u001b[33m\n",
      "\u001b[0m\n",
      "\u001b[1m[\u001b[0m\u001b[34;49mnotice\u001b[0m\u001b[1;39;49m]\u001b[0m\u001b[39;49m A new release of pip is available: \u001b[0m\u001b[31;49m25.0.1\u001b[0m\u001b[39;49m -> \u001b[0m\u001b[32;49m25.2\u001b[0m\n",
      "\u001b[1m[\u001b[0m\u001b[34;49mnotice\u001b[0m\u001b[1;39;49m]\u001b[0m\u001b[39;49m To update, run: \u001b[0m\u001b[32;49mpython -m pip install --upgrade pip\u001b[0m\n"
     ]
    }
   ],
   "source": [
    "!pip install -q accelerate"
   ]
  },
  {
   "cell_type": "code",
   "execution_count": 1,
   "metadata": {
    "executionInfo": {
     "elapsed": 4,
     "status": "ok",
     "timestamp": 1756880977022,
     "user": {
      "displayName": "김광무",
      "userId": "03808645168826839149"
     },
     "user_tz": -540
    },
    "id": "wEL24qPh-v4j"
   },
   "outputs": [],
   "source": [
    "import io\n",
    "import json\n",
    "from PIL import Image\n",
    "from datasets import load_dataset\n",
    "import torch\n",
    "from transformers import AutoModelForVision2Seq, AutoProcessor, Qwen2VLProcessor\n",
    "#from trl import SFTConfig, SFTTrainer\n",
    "#from peft import LoraConfig\n",
    "from qwen_vl_utils import process_vision_info\n",
    "\n"
   ]
  },
  {
   "cell_type": "code",
   "execution_count": 2,
   "metadata": {
    "executionInfo": {
     "elapsed": 9,
     "status": "ok",
     "timestamp": 1756880980380,
     "user": {
      "displayName": "김광무",
      "userId": "03808645168826839149"
     },
     "user_tz": -540
    },
    "id": "tzNreU73-64e"
   },
   "outputs": [],
   "source": [
    "# 시스템(assistant)에게 주어진 역할\n",
    "system_message = \"당신은 이미지로부터 문자와 숫자를 판독하는 전문적인 OCR 모델입니다\"\n",
    "\n",
    "# 실제로 사용자 입력 -> 모델이 답해야 하는 프롬프트\n",
    "prompt = \"\"\"입력 정보:\n",
    "- image: [image]\n",
    "\n",
    "위 이미지에서 모든 문자,숫자를 판독해서 텍스트로 결과를 출력하세요.\n",
    "출력 시 **아래 TEXT 형태**를 반드시 지키세요:\n",
    "result\n",
    "원재료명 설탕,물엿,젤라틴,D-소르비톨(감미료),산도조절제I,산도조절제II,산도조절제III,혼합제제I(젓산,젓산칼슘,이산화규소),향료3종,당류가공품,펙틴,산도조절제IV,블랙캐롯농축액,혼합재제II(홍화황색소,치자청색소,주정),천연향료(콜라향)\n",
    "복숭항,밀,우유,대두,땅콩,달걀,토마토 혼입 가능\n",
    "복숭항,밀,우유,대두,땅콩,달걀,토마토 와 같은 제조시설에서 제조\n",
    "\"\"\""
   ]
  },
  {
   "cell_type": "code",
   "execution_count": 3,
   "metadata": {
    "colab": {
     "base_uri": "https://localhost:8080/"
    },
    "executionInfo": {
     "elapsed": 1456,
     "status": "ok",
     "timestamp": 1756880983833,
     "user": {
      "displayName": "김광무",
      "userId": "03808645168826839149"
     },
     "user_tz": -540
    },
    "id": "sqdG25BoH2zd",
    "outputId": "2dec9073-b557-475c-fda7-c3142e4d1cea"
   },
   "outputs": [],
   "source": [
    "import io\n",
    "from PIL import Image\n",
    "from IPython.display import display\n",
    "import base64\n",
    "\n",
    "def load_and_display_image(file_path):\n",
    "  \"\"\"\n",
    "  로컬 JPG 파일을 불러와서 코랩 출력창에 표시합니다.\n",
    "\n",
    "  Args:\n",
    "    file_path (str): 읽어올 JPG 파일의 경로.\n",
    "  \"\"\"\n",
    "  try:\n",
    "    with open(file_path, \"rb\") as f:\n",
    "      image_data = f.read()\n",
    "\n",
    "    # 이미지 데이터를 메모리 버퍼에 씁니다.\n",
    "    buffer = io.BytesIO(image_data)\n",
    "\n",
    "    # 버퍼의 시작점으로 돌아갑니다.\n",
    "    buffer.seek(0)\n",
    "\n",
    "    # 버퍼에서 이미지를 엽니다.\n",
    "    image = Image.open(buffer)\n",
    "\n",
    "      # 이미지를 Base64 문자열로 인코딩\n",
    "    buffer_for_b64 = io.BytesIO()\n",
    "    image.save(buffer_for_b64, format='PNG')\n",
    "    encoded_string = base64.b64encode(buffer_for_b64.getvalue()).decode('utf-8')\n",
    "\n",
    "    # IPython.display.display 함수를 사용하여 이미지를 출력합니다.\n",
    "    #print(\"이미지를 출력합니다=\",len(encoded_string))\n",
    "    #display(image)\n",
    "\n",
    "    return image, encoded_string\n",
    "\n",
    "  except FileNotFoundError:\n",
    "    print(f\"Error: 파일 '{file_path}'을(를) 찾을 수 없습니다.\")\n",
    "  except Exception as e:\n",
    "    print(f\"Error: 이미지를 불러오는 중 오류가 발생했습니다: {e}\")\n",
    "\n"
   ]
  },
  {
   "cell_type": "code",
   "execution_count": 4,
   "metadata": {
    "executionInfo": {
     "elapsed": 15,
     "status": "ok",
     "timestamp": 1756881621568,
     "user": {
      "displayName": "김광무",
      "userId": "03808645168826839149"
     },
     "user_tz": -540
    },
    "id": "wegCn_s3Hdsu"
   },
   "outputs": [],
   "source": [
    "\n",
    "def format_data(image_path, txt_path):\n",
    "   #image_path = '/content/김광무_100.jpg'\n",
    "   #image, encoded_string = load_and_display_image(image_path)\n",
    "\n",
    "   return {\n",
    "       \"messages\": [\n",
    "           {\n",
    "               \"role\": \"system\",\n",
    "               \"content\": [\n",
    "                   {\n",
    "                       \"type\": \"text\",\n",
    "                       \"text\": system_message\n",
    "                   }\n",
    "               ],\n",
    "           },\n",
    "           {\n",
    "               \"role\": \"user\",\n",
    "               \"content\": [\n",
    "                   {\n",
    "                       \"type\": \"image\",\n",
    "                       \"image\": image_path,\n",
    "                   },\n",
    "               ],\n",
    "           },\n",
    "           {\n",
    "               \"role\": \"assistant\",\n",
    "               \"content\": [\n",
    "                   {\n",
    "                       \"type\": \"text\",\n",
    "                       \"text\": \"\",\n",
    "                   }\n",
    "               ],\n",
    "           },\n",
    "       ],\n",
    "      \"ocr_file_name\": txt_path,\n",
    "   }"
   ]
  },
  {
   "cell_type": "code",
   "execution_count": 5,
   "metadata": {
    "colab": {
     "base_uri": "https://localhost:8080/"
    },
    "executionInfo": {
     "elapsed": 971,
     "status": "ok",
     "timestamp": 1756881623922,
     "user": {
      "displayName": "김광무",
      "userId": "03808645168826839149"
     },
     "user_tz": -540
    },
    "id": "GALyNqAiSOh6",
    "outputId": "2cc294a4-1cda-4f27-a45f-41bae6c545c9"
   },
   "outputs": [],
   "source": [
    "import os\n",
    "\n",
    "folder_path = \"./data\"\n",
    "train_list= []\n",
    "\n",
    "for file_name in os.listdir(folder_path):\n",
    "  \n",
    "  if file_name.lower().endswith(\".jpg\"):\n",
    "    #print(\"file_name=\",file_name)\n",
    "    # 파일의 전체 경로를 만듭니다.\n",
    "    full_path = os.path.join(folder_path, file_name)\n",
    "    \n",
    "    # 1. 파일명에서 확장자를 제외한 부분(stem)을 가져옵니다.\n",
    "    file_stem, _ = os.path.splitext(file_name)\n",
    "    \n",
    "    # 2. 새로운 파일명(original_name_ocr.txt)을 만듭니다.\n",
    "    new_file_name = f\"{file_stem}_ocr.txt\"\n",
    "    \n",
    "    # 3. 원래 파일의 폴더 경로와 새로운 파일명을 합쳐서 새 경로를 만듭니다.\n",
    "    txt_path = os.path.join(folder_path, new_file_name)\n",
    "    \n",
    "    train_list.append(format_data(full_path, txt_path))\n",
    "    \n"
   ]
  },
  {
   "cell_type": "code",
   "execution_count": 6,
   "metadata": {
    "colab": {
     "base_uri": "https://localhost:8080/"
    },
    "executionInfo": {
     "elapsed": 5,
     "status": "ok",
     "timestamp": 1756881625780,
     "user": {
      "displayName": "김광무",
      "userId": "03808645168826839149"
     },
     "user_tz": -540
    },
    "id": "JRwJqLgg93JB",
    "outputId": "d777820e-8a17-4c86-b1bb-f22c47898558"
   },
   "outputs": [
    {
     "name": "stdout",
     "output_type": "stream",
     "text": [
      "62 {'messages': [{'role': 'system', 'content': [{'type': 'text', 'text': '당신은 이미지로부터 문자와 숫자를 판독하는 전문적인 OCR 모델입니다'}]}, {'role': 'user', 'content': [{'type': 'image', 'image': './data/김광무_103.jpg'}]}, {'role': 'assistant', 'content': [{'type': 'text', 'text': ''}]}], 'ocr_file_name': './data/김광무_103_ocr.txt'}\n"
     ]
    }
   ],
   "source": [
    "print(len(train_list), train_list[2])"
   ]
  },
  {
   "cell_type": "code",
   "execution_count": 7,
   "metadata": {
    "colab": {
     "base_uri": "https://localhost:8080/",
     "height": 745,
     "referenced_widgets": [
      "ae83aa696c2b4ea483bc1f781d6f31f8",
      "dc7bd221442d4cb382d0126e37468ea3",
      "abdd583457eb4931be1f0a77c36b7128",
      "0d09311a1f4d4c4cb39988fd8821fa16",
      "01e4da73ccee4a8bbbcf6bb4b5b3b559",
      "473c819f45304131b9b9d27364f894a7",
      "904ad4aeb0594e1b939f49d57cdb2335",
      "31545d7b63fa4b6ab4b9159825f0db3b",
      "2fa3ab32eb9a45e28df845fd6e3ff80a",
      "4b14648be1da4c9fb1f387e909956620",
      "1305df6a98954827aecb9936131a4b03",
      "a1cc2469e4ca44fca432647d16c04613",
      "081e49b6c4174db38f28785c4f3cedc7",
      "de34140a1d9942b08338f9bf6394701e",
      "98ac8b63e6a64953ad8d11ef2e005d9d",
      "be2738a26548483daec197e62a2929d4",
      "ffe7c84c611143b99449430079eee98c",
      "b140b8ab226e4d4b8676b3f2ab48080a",
      "95d71378916b491aa6e61ba318a842a4",
      "1dbaaac9b18e49f1a5619b09cd9027d1",
      "c312873ea1cc4961ab2fd21ce945521d",
      "4ba93db2072644ceb119e27f678aac7e",
      "abec916a989e4d0b82d7f774386ec0fa",
      "6962ce6d428d4cd69777ecc9606d7a80",
      "9f73a0a6e6ab4fb1a7f8a41f584d54ff",
      "2fbacdbd29ec4de8aa5a0f48b60c7c68",
      "d16a453e35f64ea69f837866765a4fac",
      "ea746bc4be504af585acbb2926c72f98",
      "791144be08554c568a3cea0f851852e2",
      "1c1042e2a124481ebddc77d2f7d0e397",
      "96ab198e39094092be5192f471af4b45",
      "4d30174eacb047f68d245a34611cb0a7",
      "d55e1a3cef0e4b838f4982edeb83fe86",
      "1306492850d3404ab48c62a2b4b59181",
      "8599746184ac463c8e295aa469601a7e",
      "951a7770c1bc44faa0afa94fb978f958",
      "56a1dc3e6dee45d791a312da9a15f4d0",
      "31fe36b1bee44228b2a41bc40d9cc774",
      "b247ba9464be4dcdad41ebc44d619424",
      "bf1c8271717847c489619b1a561af047",
      "eb151a1eec774e03bf8709c5903ec1e8",
      "1c8f46a6395248a3bd554c5af8392d77",
      "4e8074666aa447d59286b560e590829e",
      "e8a837e5ec134d25bb0b52f4ee1fbf55",
      "3e989a24fb3d4405865b1484e8a90c7c",
      "7ef5a52b133c4cd281c329875879a292",
      "ce30bef851434124b4116472749778a1",
      "702c3496d9374cf0bda0ecd953cffbdf",
      "98c3fe38ce67402e9ffa798605b0c6e4",
      "92af9dbd6ce14c95bea294b14a36c264",
      "1ce4f8e315e64e0d8bf45ea89bd3f127",
      "05d78ab7ed2d4a4c865481e9c2ebc8ad",
      "3cad2e13a9dc4ded949c79aacc310000",
      "8e7eaa75f56f42e3a122b9d61fae52b9",
      "82aeed6b11f1457e96a6f0c74be103ea",
      "b976a3bc86a844b0b01df6f626dfa2cf",
      "61845eb91cd646d6929cb14040b13d5f",
      "9a427999e8684a3e8fae512bdeb07821",
      "5684190dd634414682a9dda72b717b80",
      "32e7632e558b49048033f51e68664880",
      "9727ff649d2a4ca5a46c35968505631f",
      "ae4a7de2618c4c6e84a83498a70d99f8",
      "53251143b3944486964619d8c953b672",
      "55a28c5fd9344952bd8b11a6d481ca70",
      "f94637a844d448eca44ecb20e9459436",
      "4aa7fa6a958046bab400d6629a13db13",
      "eabfa405b48f414a9cf4ea198b77175a",
      "50f3cfb393694166afe2424122bcfd0d",
      "094b3d52d2e847fea4c2e367f2872164",
      "dfa680294f774e6691813a53570bf6b1",
      "f025b367f79e4d588914bc65c69233af",
      "7f0a1fe5f3054196af4c075ea478e7c2",
      "0adb59eee1e24fafbe9f6e6263601681",
      "b1440ea4162f481f94d095d9df1baa2f",
      "294238039ebb4facbad5e664212d0ff2",
      "4fa37f29c23d43cabb9298ed187c3238",
      "2ec22c477aaa487999239f1a581ff69a",
      "7dfbe208b035422b8e6d8b92d4a4f625",
      "9a0cb0a315a74660a188e0375d778e7d",
      "af2bf7bf77e5446394bf8c2de420099e",
      "f091bcf4155742c2a6f92a18f04eb8d9",
      "366e6dace4c547f7b959fa8c0d526f58",
      "91e7491bfdd54e528a3b190c3310a7d0",
      "3f292c0bc88440ef9efa676148896a78",
      "2d9cc556b1a9459a96af8bae12366018",
      "75674307aca146e890857321eb81e955",
      "f90624c377dd4de999a73ef491da00e3",
      "313a24ec995b4a53ab815090c36ad47e",
      "54bf301e9d194aa3a206b271f92d8b89",
      "8f529ab75bce4b579fa4a187fa527250",
      "abe12f74c3754733b99e70d5fa9118fc",
      "01dd43c790954681b6726acba7f3d3b3",
      "a403ac171d2549bb9d0423db88e680f5",
      "d3cfb38ec6d64dceb1d847ba0db6899a",
      "a0e8e0486fec4bd8b040e6e453934bd2",
      "92df5817423448baa0ccd8101a5ff7e4",
      "9f772146042143b08e3d60d8f0f4703b",
      "b693cea353fd4a338d3d883464a54d90",
      "a1ba4e0f2bfd46cabdf60e7d84a34e65",
      "07a7e6232b524a48af5bbddbf730be5c",
      "254f99e762594b1fb05619e72a2a3703",
      "dbe36fe05b8f45deb8ca9a03a0da5d51",
      "27b0104cfc7b4134a8e82b1243f91365",
      "b62f3565d5d14492998f2aba1d26cac6",
      "80c55eea528d41e1a210c4d61defe3b2",
      "3a352aed4ff84a3c883bbc972254b841",
      "6b146b478fc14f70b8c0c68e3c23da12",
      "1729a4f814f4439d804ac2c5566376d2",
      "414b943b98c043c9a6925105d5d49b8c",
      "9100badbf84e45348e1bea9ba48f237a",
      "1d9e4812f4b84590beef7c28a540d8a3",
      "1f94381d9263467197e30a6b61a0d28b",
      "d4977bb3c2d94d8884e4d3f3609c0ffc",
      "c1f112cde05f43a6b17d9ee09974c313",
      "d3f46b04097c41deb18783376e3c98be",
      "89dc6f12c3604d9a85cde776925ad3f5",
      "8effe523752c4cfdb46cc47437771f5d",
      "95837cabc41644d488e30dc1bba2dc5c",
      "4c96a7298ddb4563a6bb84ec91a88544",
      "728e679962e0493cad0f259dbae50fe1",
      "6147bec4fbb2432c88b5b2b1bcf12e9d",
      "177ae496ce7948b3a0688e9c0744c316",
      "e007e83d6bbb49dd8a12c9fe19e5e658",
      "290ccf234c8a4d578f5949145479a1bc",
      "3c29579b25cb4deaaae38fcecf44371d",
      "6f111e8212b044e18a9b47a2933d9f8f",
      "7ab2670e99384402b95d5aa9e473bd5b",
      "2ec17c7702c4403cbf71dc442724c8bd",
      "fa9b8e29916b4df897cd270ecd202a50",
      "e0d2483a8b0940eeaf228c8c97c38a9c",
      "565f4399b21741ad913059ce01a24a06",
      "87f8026a6e9945ff86d3fc2d247c620b",
      "83286cb145e848b49d09038ef25d32fa",
      "679119674e9e4023b4f1e7a1c6c50dba",
      "cf010744b0524f92afe7f6cf4650a6c2",
      "0738f03518574ae5ac814bda68e2a15f",
      "d2e0669938444e279f5e934bfc232dfc",
      "8115b23ce3c34540a633b98e9cd56450",
      "8676e2485345405c96ca44817acda857",
      "e000221cb1d946c39cb929e7ca0753e7",
      "91c08cc6357a4863ba95b8dbdd2ef86d",
      "7cbb1548ebb945429d3bf1310293eb47",
      "3bb281853aef44fd85827f4e6beb77ae",
      "57b109ef50f74552be71adff7afaac98",
      "f55a1436735c453aa0716202ccbb11cd",
      "657be360f028430fb57a9c962d210dc3",
      "802832b4d59d40b19c70e85907a448ee",
      "dbc895c4116d4e54ae3b2e343ba1ea02",
      "0de0de4f46e64c35aa5abfb8cc47cb8b",
      "dc4a14791a014bdbbc3c7751c824dd6d",
      "52f6f85968074fce95cb4ece3eb655e0",
      "9727008073e142dcabce5f36c4f905b1",
      "2c7cbb9e61f74a268b1e0a72909f68bf",
      "94122b39ce624eaf9065ec796d6bd73c",
      "1608dcba20d846b298091eb027640f2e",
      "367d9daccad041c4b88e068d4ca644de",
      "87863dcf298646fca2544778fbd25a28",
      "2d35c2a2f34a42b9996eb0640e87fb6d",
      "ea4a04dfa6e646dda06a9249ebf3447d",
      "d5143e125d614ee3a983baba593fce90",
      "6136307ab0b24881932475800fb47f5b",
      "c359509e72a940a085b5e95d11e626b5",
      "76a72f8e647b4c1baab589d7f9a965af",
      "00ef82d3cf4d4d4cb303a6507c8e138a",
      "bd3d032b835d4c7e92eaf5b23c52fae7",
      "3b040a0d286549f2ba7ca8ebfb7e5396",
      "eb91d4ed118d4fb3a11fa02cf29c4698",
      "2cb6fa5af5a14b2093c47ee52fff9645",
      "263dc127a6d542caac3ac2d70966eb0b",
      "37cb9024c35345eabbdc6648d1971146",
      "d4d42a16fe4d4f0998f996a06e197fb8",
      "0639042a84554a9293dea10d26c2a008",
      "2fa66f6610f8420d9fc1b6df3e91557a",
      "d0af6cf8c5f14f8b8952388a79150e71",
      "88a856aa329a4cf29320692696463de6",
      "624717de1f30479dbe38ccbbd08e4edd"
     ]
    },
    "executionInfo": {
     "elapsed": 373867,
     "status": "ok",
     "timestamp": 1756881515236,
     "user": {
      "displayName": "김광무",
      "userId": "03808645168826839149"
     },
     "user_tz": -540
    },
    "id": "2yszZd_R93JC",
    "outputId": "a0b551fc-6a4a-439e-c2b2-4d6140c70e53"
   },
   "outputs": [
    {
     "name": "stderr",
     "output_type": "stream",
     "text": [
      "/usr/local/lib/python3.11/dist-packages/transformers/models/auto/modeling_auto.py:2242: FutureWarning: The class `AutoModelForVision2Seq` is deprecated and will be removed in v5.0. Please use `AutoModelForImageTextToText` instead.\n",
      "  warnings.warn(\n",
      "`torch_dtype` is deprecated! Use `dtype` instead!\n"
     ]
    },
    {
     "data": {
      "application/vnd.jupyter.widget-view+json": {
       "model_id": "3cae5e57286248d2903784f4717632fc",
       "version_major": 2,
       "version_minor": 0
      },
      "text/plain": [
       "model.safetensors.index.json: 0.00B [00:00, ?B/s]"
      ]
     },
     "metadata": {},
     "output_type": "display_data"
    },
    {
     "data": {
      "application/vnd.jupyter.widget-view+json": {
       "model_id": "3255e63793d24c99b936a9bbbba29011",
       "version_major": 2,
       "version_minor": 0
      },
      "text/plain": [
       "Fetching 5 files:   0%|          | 0/5 [00:00<?, ?it/s]"
      ]
     },
     "metadata": {},
     "output_type": "display_data"
    },
    {
     "data": {
      "application/vnd.jupyter.widget-view+json": {
       "model_id": "416f4bb4b3c64348885776a6b7f848b8",
       "version_major": 2,
       "version_minor": 0
      },
      "text/plain": [
       "model-00003-of-00005.safetensors:   0%|          | 0.00/3.86G [00:00<?, ?B/s]"
      ]
     },
     "metadata": {},
     "output_type": "display_data"
    },
    {
     "data": {
      "application/vnd.jupyter.widget-view+json": {
       "model_id": "6b4f1282aae745789a2c92f490664d70",
       "version_major": 2,
       "version_minor": 0
      },
      "text/plain": [
       "model-00002-of-00005.safetensors:   0%|          | 0.00/3.86G [00:00<?, ?B/s]"
      ]
     },
     "metadata": {},
     "output_type": "display_data"
    },
    {
     "data": {
      "application/vnd.jupyter.widget-view+json": {
       "model_id": "7fe4d1ee28d44550a1c96381dd31622b",
       "version_major": 2,
       "version_minor": 0
      },
      "text/plain": [
       "model-00001-of-00005.safetensors:   0%|          | 0.00/3.90G [00:00<?, ?B/s]"
      ]
     },
     "metadata": {},
     "output_type": "display_data"
    },
    {
     "data": {
      "application/vnd.jupyter.widget-view+json": {
       "model_id": "46f7854a392b4d98b0ee7ebbcae53436",
       "version_major": 2,
       "version_minor": 0
      },
      "text/plain": [
       "model-00005-of-00005.safetensors:   0%|          | 0.00/1.09G [00:00<?, ?B/s]"
      ]
     },
     "metadata": {},
     "output_type": "display_data"
    },
    {
     "data": {
      "application/vnd.jupyter.widget-view+json": {
       "model_id": "ac1d9422895e4533aebdcc2ff96e25ff",
       "version_major": 2,
       "version_minor": 0
      },
      "text/plain": [
       "model-00004-of-00005.safetensors:   0%|          | 0.00/3.86G [00:00<?, ?B/s]"
      ]
     },
     "metadata": {},
     "output_type": "display_data"
    },
    {
     "data": {
      "application/vnd.jupyter.widget-view+json": {
       "model_id": "9b30893a6d874a44872acf5eabf0fbfe",
       "version_major": 2,
       "version_minor": 0
      },
      "text/plain": [
       "Loading checkpoint shards:   0%|          | 0/5 [00:00<?, ?it/s]"
      ]
     },
     "metadata": {},
     "output_type": "display_data"
    },
    {
     "data": {
      "application/vnd.jupyter.widget-view+json": {
       "model_id": "dc867bbc2ae9437baec3245858c92070",
       "version_major": 2,
       "version_minor": 0
      },
      "text/plain": [
       "generation_config.json:   0%|          | 0.00/244 [00:00<?, ?B/s]"
      ]
     },
     "metadata": {},
     "output_type": "display_data"
    },
    {
     "data": {
      "application/vnd.jupyter.widget-view+json": {
       "model_id": "e826af9f06b94230b261f6e01c5e42e3",
       "version_major": 2,
       "version_minor": 0
      },
      "text/plain": [
       "preprocessor_config.json:   0%|          | 0.00/347 [00:00<?, ?B/s]"
      ]
     },
     "metadata": {},
     "output_type": "display_data"
    },
    {
     "data": {
      "application/vnd.jupyter.widget-view+json": {
       "model_id": "7213c56e3afa4efcb69aa4f88446c91b",
       "version_major": 2,
       "version_minor": 0
      },
      "text/plain": [
       "Fetching 1 files:   0%|          | 0/1 [00:00<?, ?it/s]"
      ]
     },
     "metadata": {},
     "output_type": "display_data"
    },
    {
     "data": {
      "application/vnd.jupyter.widget-view+json": {
       "model_id": "fb04e7c99e164138aa911ee148664916",
       "version_major": 2,
       "version_minor": 0
      },
      "text/plain": [
       "Fetching 1 files:   0%|          | 0/1 [00:00<?, ?it/s]"
      ]
     },
     "metadata": {},
     "output_type": "display_data"
    },
    {
     "name": "stderr",
     "output_type": "stream",
     "text": [
      "The image processor of type `Qwen2VLImageProcessor` is now loaded as a fast processor by default, even if the model checkpoint was saved with a slow processor. This is a breaking change and may produce slightly different outputs. To continue using the slow processor, instantiate this class with `use_fast=False`. Note that this behavior will be extended to all models in a future release.\n"
     ]
    },
    {
     "data": {
      "application/vnd.jupyter.widget-view+json": {
       "model_id": "bbe1c8edfef84b00bada2ed8f62f8e7d",
       "version_major": 2,
       "version_minor": 0
      },
      "text/plain": [
       "tokenizer_config.json: 0.00B [00:00, ?B/s]"
      ]
     },
     "metadata": {},
     "output_type": "display_data"
    },
    {
     "data": {
      "application/vnd.jupyter.widget-view+json": {
       "model_id": "494d046f9b3848cc97254bf2c350845d",
       "version_major": 2,
       "version_minor": 0
      },
      "text/plain": [
       "vocab.json: 0.00B [00:00, ?B/s]"
      ]
     },
     "metadata": {},
     "output_type": "display_data"
    },
    {
     "data": {
      "application/vnd.jupyter.widget-view+json": {
       "model_id": "334d571914284346b95d9f31e64dab15",
       "version_major": 2,
       "version_minor": 0
      },
      "text/plain": [
       "merges.txt: 0.00B [00:00, ?B/s]"
      ]
     },
     "metadata": {},
     "output_type": "display_data"
    },
    {
     "data": {
      "application/vnd.jupyter.widget-view+json": {
       "model_id": "cdd6adba1a894253bfd8ddba5c1addb4",
       "version_major": 2,
       "version_minor": 0
      },
      "text/plain": [
       "tokenizer.json: 0.00B [00:00, ?B/s]"
      ]
     },
     "metadata": {},
     "output_type": "display_data"
    },
    {
     "data": {
      "application/vnd.jupyter.widget-view+json": {
       "model_id": "7b2892a8f08541a8a27858e84ed136e2",
       "version_major": 2,
       "version_minor": 0
      },
      "text/plain": [
       "Fetching 1 files:   0%|          | 0/1 [00:00<?, ?it/s]"
      ]
     },
     "metadata": {},
     "output_type": "display_data"
    },
    {
     "data": {
      "application/vnd.jupyter.widget-view+json": {
       "model_id": "2d0948f035b844b498e17aaeca961466",
       "version_major": 2,
       "version_minor": 0
      },
      "text/plain": [
       "chat_template.json: 0.00B [00:00, ?B/s]"
      ]
     },
     "metadata": {},
     "output_type": "display_data"
    }
   ],
   "source": [
    "model_id = \"Qwen/Qwen2-VL-7B-Instruct\"\n",
    "\n",
    "model = AutoModelForVision2Seq.from_pretrained(\n",
    "   model_id,\n",
    "   device_map=\"auto\",                            # GPU 메모리에 자동 할당\n",
    "   torch_dtype=torch.bfloat16,                   # bfloat16 정밀도 사용\n",
    ")\n",
    "\n",
    "processor = AutoProcessor.from_pretrained(model_id)  # 텍스트/이미지 전처리기 로드"
   ]
  },
  {
   "cell_type": "code",
   "execution_count": 8,
   "metadata": {
    "executionInfo": {
     "elapsed": 2,
     "status": "ok",
     "timestamp": 1756881635987,
     "user": {
      "displayName": "김광무",
      "userId": "03808645168826839149"
     },
     "user_tz": -540
    },
    "id": "OhzNYdnw93JC"
   },
   "outputs": [],
   "source": [
    "sample_data = train_list[0]['messages']\n",
    "\n",
    "sample_prompt = processor.apply_chat_template(\n",
    "    sample_data,\n",
    "    tokenize=False,\n",
    "    add_generation_prompt=False,\n",
    ")"
   ]
  },
  {
   "cell_type": "code",
   "execution_count": 9,
   "metadata": {
    "executionInfo": {
     "elapsed": 2,
     "status": "ok",
     "timestamp": 1756881636334,
     "user": {
      "displayName": "김광무",
      "userId": "03808645168826839149"
     },
     "user_tz": -540
    },
    "id": "v5IBqPrtQYe5"
   },
   "outputs": [],
   "source": [
    "def split_input_and_label(prompt):\n",
    "    input = prompt.split('<|im_start|>assistant')[0] + '<|im_start|>assistant'\n",
    "    label = prompt.split('<|im_start|>assistant')[1]\n",
    "    return input, label"
   ]
  },
  {
   "cell_type": "code",
   "execution_count": 10,
   "metadata": {
    "executionInfo": {
     "elapsed": 2,
     "status": "ok",
     "timestamp": 1756881636846,
     "user": {
      "displayName": "김광무",
      "userId": "03808645168826839149"
     },
     "user_tz": -540
    },
    "id": "xNbFNLF2Qa9p"
   },
   "outputs": [],
   "source": [
    "sample_prompt_input, sample_prompt_label = split_input_and_label(sample_prompt)"
   ]
  },
  {
   "cell_type": "code",
   "execution_count": 11,
   "metadata": {
    "executionInfo": {
     "elapsed": 60,
     "status": "ok",
     "timestamp": 1756881637747,
     "user": {
      "displayName": "김광무",
      "userId": "03808645168826839149"
     },
     "user_tz": -540
    },
    "id": "NU48_vqGQla2"
   },
   "outputs": [],
   "source": [
    "sample_data_image_inputs, sample_data_video_inputs = process_vision_info(sample_data)"
   ]
  },
  {
   "cell_type": "code",
   "execution_count": 12,
   "metadata": {
    "executionInfo": {
     "elapsed": 247,
     "status": "ok",
     "timestamp": 1756881641432,
     "user": {
      "displayName": "김광무",
      "userId": "03808645168826839149"
     },
     "user_tz": -540
    },
    "id": "sIZ9Lrz8Qo8g"
   },
   "outputs": [],
   "source": [
    "inputs = processor(\n",
    "    text=[sample_prompt_input],\n",
    "    images=sample_data_image_inputs,\n",
    "    videos=sample_data_video_inputs,\n",
    "    padding=True,\n",
    "    return_tensors=\"pt\",\n",
    ")\n",
    "inputs = inputs.to(\"cuda\")"
   ]
  },
  {
   "cell_type": "code",
   "execution_count": 13,
   "metadata": {
    "colab": {
     "base_uri": "https://localhost:8080/",
     "height": 436
    },
    "executionInfo": {
     "elapsed": 1773,
     "status": "error",
     "timestamp": 1756881645503,
     "user": {
      "displayName": "김광무",
      "userId": "03808645168826839149"
     },
     "user_tz": -540
    },
    "id": "j16vMgc4QrGC",
    "outputId": "295dbf66-f4f4-4c6e-dd7c-a00df2f0fb9a"
   },
   "outputs": [
    {
     "name": "stdout",
     "output_type": "stream",
     "text": [
      "추론결과=\n",
      "\n",
      "['\\n\\n이 이미지에는 다음과 같은 정보가 포함되어 있습니다:\\n\\n- 제품 이름: SPAM\\n- 제품 번호: 20080405015-227\\n- 포장재질: 폴리에틸렌\\n- 보관 방법: 0~10℃ 냉장보관\\n- 총 내용량: 605g\\n- 100g 당 칼로리: 285kcal\\n- 나트륨: 930mg (47%)\\n- 탄수화물: 8g (2%)\\n- 당류: 1g (미만)\\n- 지방: 23g (43%)\\n- 트랜스지방: 0g\\n- 포화지방: 7g (47%)\\n- 콜레스테롤: 50mg (17%)\\n- 단백질: 12g (22%)\\n\\n또한, 이 제품은 소비기한이 있으며, 별도의 기일까지 소비가 가능한 것으로 보입니다.']\n",
      "CPU times: user 12.2 s, sys: 552 ms, total: 12.8 s\n",
      "Wall time: 11.5 s\n"
     ]
    }
   ],
   "source": [
    "%%time\n",
    "# Inference: Generation of the output\n",
    "generated_ids = model.generate(\n",
    "    **inputs,\n",
    "    max_new_tokens=2048,\n",
    "    temperature=0.1,\n",
    "    top_p=0.001,\n",
    "    repetition_penalty=1.05,\n",
    ")\n",
    "\n",
    "generated_ids_trimmed = [out_ids[len(in_ids) :] for in_ids, out_ids in zip(inputs.input_ids, generated_ids)]\n",
    "output_text = processor.batch_decode(generated_ids_trimmed, skip_special_tokens=True, clean_up_tokenization_spaces=False)\n",
    "print(\"추론결과=\\n\")\n",
    "print(output_text)\n"
   ]
  },
  {
   "cell_type": "code",
   "execution_count": 18,
   "metadata": {},
   "outputs": [
    {
     "name": "stdout",
     "output_type": "stream",
     "text": [
      "\n",
      "\n",
      "이 이미지에는 다음과 같은 정보가 포함되어 있습니다:\n",
      "\n",
      "- 제품 이름: SPAM\n",
      "- 제품 번호: 20080405015-227\n",
      "- 포장재질: 폴리에틸렌\n",
      "- 보관 방법: 0~10℃ 냉장보관\n",
      "- 총 내용량: 605g\n",
      "- 100g 당 칼로리: 285kcal\n",
      "- 나트륨: 930mg (47%)\n",
      "- 탄수화물: 8g (2%)\n",
      "- 당류: 1g (미만)\n",
      "- 지방: 23g (43%)\n",
      "- 트랜스지방: 0g\n",
      "- 포화지방: 7g (47%)\n",
      "- 콜레스테롤: 50mg (17%)\n",
      "- 단백질: 12g (22%)\n",
      "\n",
      "또한, 이 제품은 소비기한이 있으며, 별도의 기일까지 소비가 가능한 것으로 보입니다.\n"
     ]
    }
   ],
   "source": [
    "print(output_text[0])"
   ]
  },
  {
   "cell_type": "code",
   "execution_count": 19,
   "metadata": {
    "id": "b9HNWMLtQsHn"
   },
   "outputs": [
    {
     "name": "stderr",
     "output_type": "stream",
     "text": [
      "  0%|          | 0/62 [00:00<?, ?it/s]"
     ]
    },
    {
     "name": "stdout",
     "output_type": "stream",
     "text": [
      "처리중 txt_path= ./data/김광무_146_ocr.txt\n"
     ]
    },
    {
     "name": "stderr",
     "output_type": "stream",
     "text": [
      "  2%|▏         | 1/62 [00:10<11:05, 10.92s/it]"
     ]
    },
    {
     "name": "stdout",
     "output_type": "stream",
     "text": [
      "추론결과=\n",
      "\n",
      "['\\n\\n이 이미지에는 다음과 같은 정보가 포함되어 있습니다:\\n\\n- 제품 이름: SPAM\\n- 제품 번호: 20080405015-227\\n- 포장재질: 폴리에틸렌\\n- 보관 방법: 0~10℃ 냉장보관\\n- 총 내용량: 605g\\n- 100g 당 칼로리: 285kcal\\n- 나트륨: 930mg (47%)\\n- 탄수화물: 8g (2%)\\n- 당류: 1g (미만)\\n- 지방: 23g (43%)\\n- 트랜스지방: 0g\\n- 포화지방: 7g (47%)\\n- 콜레스테롤: 50mg (17%)\\n- 단백질: 12g (22%)\\n\\n또한, 이 제품은 소비기한이 있으며, 별도의 기일까지 소비가 가능한 것으로 보입니다.']\n",
      "'./data/김광무_146_ocr.txt' 파일이 생성되었습니다.\n",
      "처리중 txt_path= ./data/김광무_147_ocr.txt\n"
     ]
    },
    {
     "name": "stderr",
     "output_type": "stream",
     "text": [
      "  3%|▎         | 2/62 [00:29<15:22, 15.38s/it]"
     ]
    },
    {
     "name": "stdout",
     "output_type": "stream",
     "text": [
      "추론결과=\n",
      "\n",
      "['\\n\\n이 이미지에는 다음과 같은 정보가 포함되어 있습니다:\\n\\n1. **제품명**: 파스타면, 알프레도파스타소스, 치즈파우더2\\n2. **식품유형**: 숙면/살균제품\\n3. **원재료명**:\\n   - 파스타면: 스파게티(이탈리아산), 옥배유{옥수수(외국산:러시아, 헝가리, 세르비아 등)}, 혼합제제(젖산, 젖산나트륨, 초산나트륨, 정제소금, 정제수)\\n   - 알프레도파스타소스: 정제수, UHT크림(유크림, 카라기난/독일산), 혼합제제(변성전분, 말토덱스트린), 치킨 엑기스(닭뼈:국산, 정제소금:국산), 치즈분말(덴마크산), 가공버터, 설탕, 그레이티드파마 산치즈, 정제소금, L-글루탐산나트륨(향미증진제), 효모추출물, 흑후추, 향미증진제\\n   - 치즈파우더2: 솔루베100{옥수수(호주산), 부마셀룰로스}, 그레이티드파마산치즈(파마산치즈, 분말셀룰로스)\\n\\n4. **내용량**: \\n   - 파스타면: 150g (2개입)\\n   - 알프레도파스타소스: 150g (2개입)\\n   - 치즈파우더2: 2.2g (2개입)\\n\\n5. **제조원**: (주)이가자연면 충청북도 음성군 맹동면 맹동산단로 38-3\\n6. **제조원 대상(주)**: 기흥공장 경기도 용인시 기흥구 동탄기흥로 681번길 28\\n\\n이 정보는 제품의 성분, 내용량, 제조업체 등의 정보를 제공합니다.']\n",
      "'./data/김광무_147_ocr.txt' 파일이 생성되었습니다.\n",
      "처리중 txt_path= ./data/김광무_103_ocr.txt\n"
     ]
    },
    {
     "name": "stderr",
     "output_type": "stream",
     "text": [
      "  5%|▍         | 3/62 [00:37<12:00, 12.21s/it]"
     ]
    },
    {
     "name": "stdout",
     "output_type": "stream",
     "text": [
      "추론결과=\n",
      "\n",
      "['\\n\\n이 이미지에는 다음과 같은 정보가 포함되어 있습니다:\\n\\n- 제품명: 쌀밥 / 130g (190 kcal)\\n- 내용량: 총 130g\\n- 영양 정보:\\n  - 칼로리: 190 kcal\\n  - 탄수화물: 43g (13%)\\n  - 당류: 0g (0%)\\n  - 지방: 0.9g (2%)\\n  - 단백질: 3g (5%)\\n\\n또한, 이 제품은 코리아 월드 클래스의 제품이며, 포장재질은 용기/리드(폴리프로필렌)입니다.']\n",
      "'./data/김광무_103_ocr.txt' 파일이 생성되었습니다.\n",
      "처리중 txt_path= ./data/김광무_142_ocr.txt\n"
     ]
    },
    {
     "name": "stderr",
     "output_type": "stream",
     "text": [
      "  6%|▋         | 4/62 [00:53<12:57, 13.41s/it]"
     ]
    },
    {
     "name": "stdout",
     "output_type": "stream",
     "text": [
      "추론결과=\n",
      "\n",
      "['\\n\\n이 이미지에는 다음과 같은 정보가 포함되어 있습니다:\\n\\n- 제품 이름: 씨개두부\\n- 제품 무게: 290g\\n- 에너지: 247kcal\\n- 보관 방법: 0~10℃의 냉장 보관\\n- 유통 기한: 2025년 09월 12일까지\\n- 원재료 및 함유물: 대두 100% (외국산), 조제해수염화마그네슘, 현미유, 올리브유\\n- 제품 번호: F2-1995061600622, F3-2003044504525, FS-201104450381\\n- 유통 전문 판매처: 풀무원식품(주)/충북 음성군 대소면 삼양로 730-27\\n- 영양 정보:\\n  - 칼슘: 10mg (1%)\\n  - 탄수화물: 1g (0%)\\n  - 당류: 1g (미만)\\n  - 식이섬유: 1g (미만)\\n  - 지방: 6g (11%)\\n  - 트랜스지방: 0g\\n  - 포화지방: 1g (7%)\\n  - 콜레스테롤: 0mg (0%)\\n  - 단백질: 7g (13%)\\n  - 칼륨: 31mg (4%)\\n  - 철분: 1.2mg (10%)\\n\\n이상의 정보를 제공합니다.']\n",
      "'./data/김광무_142_ocr.txt' 파일이 생성되었습니다.\n",
      "처리중 txt_path= ./data/김광무_102_ocr.txt\n"
     ]
    },
    {
     "name": "stderr",
     "output_type": "stream",
     "text": [
      "  8%|▊         | 5/62 [01:03<11:32, 12.15s/it]"
     ]
    },
    {
     "name": "stdout",
     "output_type": "stream",
     "text": [
      "추론결과=\n",
      "\n",
      "['\\n\\n이 이미지에는 다음과 같은 정보가 포함되어 있습니다:\\n\\n- **식품의 유형**: 밀가루 (밀: 호두, 바삭한)\\n- **원재료명**: 밀 함유\\n- **품목보고번호**: 1972016800179\\n- **포장재질(내면)**: 폴리에틸렌\\n\\n또한, 아래에는 제품의 영양 정보가 나열되어 있습니다:\\n\\n- **총 내용량**: 900g\\n- **100g 당**: \\n  - 나트륨: 42mg (2%)\\n  - 탄수화물: 78.2g (24%)\\n  - 당류: 6.57g (7%)\\n  - 지방: 1.12g (2%)\\n\\n이 정보는 한국식품안전공단에서 제공한 기준치에 대한 비율을 나타냅니다.']\n",
      "'./data/김광무_102_ocr.txt' 파일이 생성되었습니다.\n",
      "처리중 txt_path= ./data/김광무_101_ocr.txt\n"
     ]
    },
    {
     "name": "stderr",
     "output_type": "stream",
     "text": [
      " 10%|▉         | 6/62 [01:24<14:27, 15.49s/it]"
     ]
    },
    {
     "name": "stdout",
     "output_type": "stream",
     "text": [
      "추론결과=\n",
      "\n",
      "['\\n\\n이미지에서 다음 정보를 확인할 수 있습니다:\\n\\n- 제품명: 초코파이 정 바나나\\n- 원재료명: 밀가루(밀 미국산), 백설탕, 물엿, 쇼트닝(팜유 말레이시아산, 팜올레인유 말레이시아산), 식물성유지1(말레이시아산), 유당, 전란액, 탈지분유, 식물성유지2, 전지분유, 이소말토올리고당, 준초콜릿, 함수포도당, 주정, 산도조절제 3종, 젤라틴(돼지), 식물성유지3, 가당연유, 식물성크림, 분말유크림, 식염, 바나나농축분말[바나나농축액(이스라엘산)], 난백분, 당류가공품, 혼합제제(폴리글리세린지방산에스테르, 프로필렌글리콜, 글리세린지방산에스테르, 글리세린, 소르비탄지방산에스테르), 유화제 2종, 혼합제제(변성전분, 백설탕, 말토텍스트린), 혼합제제(카제인아트륨, 수산화칼슘, 아라비아검), 잔탄검, 기타가공품, 혼합제제[식물성유지, β-카로틴(착색료), 비타민E], 혼합제제[β-카로틴(착색료), 가공유지], 향료 6종, 혼합제제(D-소비톨, 가공유지, 향료, 포도당), 향료제제(향료, 젖산)\\n- 소금, 달걀, 우유, 대두, 돼지고기, 쇠고기 함유\\n- 영양정보: 총 내용량 1,110 g(37 g x 30개), 1개 (37 g) 당 172 kcal, 나트륨 65 mg (3 %), 탄수화물 23 g (7 %), 당류 13 g (13 %), 지방 8 g (15 %), 트랜스지방 0 g, 포화지방 4.7 g (31 %), 콜레스테롤 6 mg (2 %), 단백질 2 g (4 %)\\n\\n이 외에도 상품의 출시일, 유통기한, 제조사 정보 등이 포함되어 있습니다.']\n",
      "'./data/김광무_101_ocr.txt' 파일이 생성되었습니다.\n",
      "처리중 txt_path= ./data/김광무_148_ocr.txt\n"
     ]
    },
    {
     "name": "stderr",
     "output_type": "stream",
     "text": [
      " 11%|█▏        | 7/62 [01:46<15:58, 17.43s/it]"
     ]
    },
    {
     "name": "stdout",
     "output_type": "stream",
     "text": [
      "추론결과=\n",
      "\n",
      "['\\n\\n이 이미지에는 다음과 같은 정보가 포함되어 있습니다:\\n\\n- 제품 이름: 스모크 햄 라운드 (SMOKED HAM ROUND)\\n- 제품 무게: 730g (1,350 kcal)\\n- 원료 및 함량:\\n  - 돼지고기 (지방 일부 사용, 국산) 52.75%, 정제수, 닭고기 (국산, 기계발공육) 26.66%, 대두단백, 정제소금, 설탕, L-글루탐산나트륨, 카라키난, 염화칼륨, 복합향신료 DS-1, 혼합제제 (폴리인산나트륨, 피로인산나트륨, 메타인산나트륨, 초산나트륨, 아질산나트륨), 에리토브산나트륨 (산화방지제), 혼합제제 (스모크오일, 대두유), 혼합제제 (젖산나트륨, 페스트린, 치자황색소, 구연산삼나트륨, 구연산, 메타인산나트륨, 테스트린), 아질산나트륨 (발색제)\\n- 알레르기 유발물질: 돼지고기, 닭고기, 소고기, 대두, 우유, 밀 함유\\n- 포장재질: 폴리에틸렌 (PE)\\n- 보관 방법: (-2~10℃) 소비기한 후면 하단 표기일까지\\n- 제조사: 대상델리하임(주) 경기도 성남시 중원구 두촌대로 360\\n- 출산물 유통 전문판매원: 대상(주) 서울특별시 종로구 창경궁로 120, 6층\\n- 웹사이트: http://www.daesang.com, http://www.jungoneshop.com\\n- 영양 정보:\\n  - 총 내용량: 730g\\n  - 100g 당: 185 kcal\\n  - 나트륨: 790mg (40%)\\n  - 탄수화물: 10g (3%)\\n  - 당류: 3g (3%)\\n  - 지방: 11g (20%)\\n  - 트랜스지방: 0g\\n  - 포화지방: 3.6g (24%)\\n  - 단백질: 11g (20%)\\n\\n이 정보는 제품의 구성, 보관 방법, 영양 정보 등을 포함하고 있습니다.']\n",
      "'./data/김광무_148_ocr.txt' 파일이 생성되었습니다.\n",
      "처리중 txt_path= ./data/김광무_121_ocr.txt\n"
     ]
    },
    {
     "name": "stderr",
     "output_type": "stream",
     "text": [
      " 13%|█▎        | 8/62 [02:05<16:04, 17.86s/it]"
     ]
    },
    {
     "name": "stdout",
     "output_type": "stream",
     "text": [
      "추론결과=\n",
      "\n",
      "['\\n\\n이 이미지에는 다음과 같은 정보가 포함되어 있습니다:\\n\\n1. **제조업체**: (주)미정/경상북도 경주시 현곡면 안현로 358-7, 유동전문판매원: 씨제이제일제당주식회사 사/부산광역시 사하구 다대로 210\\n2. **제품의 유형**: 즉석조리식품\\n3. **소비기한 및 보관방법**: 실온보관\\n4. **원재료명**:\\n   - 정제수, 찌개용김치(절임배추(배추:국산), 고춧가루, 명품조미믹스, 설탕, 마늘, 대파), 돈육(돼지고기: 미국산), 두부[대두(외국산), 응고제], 찌개용 김치-국물, 갓은마늘, 삼겹수유, 한우사골추출물, 매실농축액, 양조간장-HO, 기타가공품, 라면소금, L-글루탐산나트륨(향미증진제), 효모식품, 향미증진제\\n5. **주의사항**:\\n   - 이 제품은 알류, 메밀, 땅콩, 고등어, 게, 새우, 복숭아 등을 사용한 제품과 같은 제조시설에서 제조하고 있습니다.\\n   - 원료 또는 부포함된 제품은 변질될 우려가 있으니 섭취에 주의하십시오.\\n6. **품목보고번호**: 20010538182-584\\n7. **영양정보**:\\n   - 칼로리: 270 kcal\\n   - 지방: 15g (28%)\\n   - 탄수화물: 18g (6%)\\n   - 당류: 7g (7%)\\n   - 나트륨: 1,820mg (91%)\\n   - 콜레스테롤: 55mg (18%)\\n\\n이 정보는 제품의 제조업체, 소비기한, 원재료, 주의사항, PCD 번호, 영양 정보 등을 포함하고 있습니다.']\n",
      "'./data/김광무_121_ocr.txt' 파일이 생성되었습니다.\n",
      "처리중 txt_path= ./data/김광무_106_ocr.txt\n"
     ]
    },
    {
     "name": "stderr",
     "output_type": "stream",
     "text": [
      " 15%|█▍        | 9/62 [02:27<16:55, 19.17s/it]"
     ]
    },
    {
     "name": "stdout",
     "output_type": "stream",
     "text": [
      "추론결과=\n",
      "\n",
      "['\\n\\n이 이미지에는 다음과 같은 정보가 포함되어 있습니다:\\n\\n- 제품 유형: 과자 (유치리제품)\\n- 품목 보고번호: 19960242067421\\n- 내포장재질: 폴리프로필렌\\n- 제조 판매원: 롯데 웰푸드(주) 대전광역시 대덕구 문평동로 18번길 21\\n- 원재료명: 밀가루, 혼합식용유, 야자유, 미량의 아미노산, 치아, 설탕, 산도조절제3종, 기타과당, 맥아분말, 천일염, 안데스 소금, 체다치즈분말, 레시틴, 향료, 효소제2종\\n- 영양 정보:\\n  - 나트륨: 500 mg (25%)\\n  - 탄수화물: 32 g (10%)\\n  - 당류: 3 g (3%)\\n  - 지방: 12 g (22%)\\n  - 트랜스지방: 0.5 g\\n  - 포화지방: 8 g (53%)\\n  - 콜레스테롤: 0 mg (0%)\\n  - 단백질: 3.4 g (6%)\\n- 총 내용량: 300 g (50 g x 6봉)\\n- 1봉 (50 g 당) 에 대한 열량: 250 kcal\\n- 1일 영양성분 기준치에 대한 비율 (%): 나트륨 25%, 탄수화물 10%, 당류 3%, 지방 22%, 트랜스지방 0.5%, 포화지방 53%, 콜레스테롤 0%, 단백질 6%\\n- 보관 방법: 쌍면 표기일까지 (연.월.일)\\n- 상품의 특징: 직사광선 및 습기를 피하며, 유통 중 변질품은 본사 및 구입 상점에서 항상 교환 가능합니다.\\n- 소비자 기본법에 의한 피해 보상: 부정 불량 식품 신고는 국법 없이 1399\\n- 휴지 줄는 고운 마음, 안 버리는 밤은 마음, 안 버리는 밤은 맥아 꺾질이므로 안심하고 드시기 바랍니다.\\n- 과자 표면에 보일 수 있는 검은 점은 안데스 소금 성분이므로 안심하고 드시기 바랍니다.\\n- 땅콩, 쇠고기 혼입 가능']\n",
      "'./data/김광무_106_ocr.txt' 파일이 생성되었습니다.\n",
      "처리중 txt_path= ./data/김광무_123_ocr.txt\n"
     ]
    },
    {
     "name": "stderr",
     "output_type": "stream",
     "text": [
      " 16%|█▌        | 10/62 [02:44<15:58, 18.44s/it]"
     ]
    },
    {
     "name": "stdout",
     "output_type": "stream",
     "text": [
      "추론결과=\n",
      "\n",
      "['\\n\\n이 이미지에는 다음과 같은 정보가 포함되어 있습니다:\\n\\n- 제품명: 대추차 플러스\\n- 식품유형: 고형차\\n- 업소명 및 소재지: (주)담터에프엔비/전라남도 순천시 승주읍 승주로 538-46\\n- 소비기한: 밀면 표기일까지\\n- 내용량: 225g(15g X 15포)\\n- 원재료명:\\n  - 설탕\\n  - 덱스트린\\n  - 대추농축 분말[덱스트린, 대추고형분(국산)], 호두(미국산), 아몬드(미국산), 건조대추(국산), 향료(대추향), 감자전분가공품[감자: 외국산(독일산, 덴마크산, 폴란드산 등)], 혼합제제(말토덱스트린, 카라멜색소IV), 정제소금, 구연산\\n- 호두 함유 경고: 호두 함유 경고 문구가 포함되어 있습니다.\\n- 용기(포장) 재질: 내포장재질-폴리에틸렌(PE)\\n- 품목보고번호: 20080509087-43\\n- 주의사항: 이 제품은 우유, 땅콩, 대두, 밀, 복숭아, 메밀을 사용한 제품과 같은 제조시설에서 제조하고 있습니다. 본 제품은 공정거래위원회 고시 소비자 보증 해결 기준에 의거 교환 또는 보상받을 수 있습니다. 질소충전, 스틱 끝 부분이 날카로운 주의사항이 포함되어 있습니다.\\n\\n이 정보는 제품의 성분, 사용 방법, 보관 방법 등을 포함하여 제품에 대한 중요한 정보를 제공합니다.']\n",
      "'./data/김광무_123_ocr.txt' 파일이 생성되었습니다.\n",
      "처리중 txt_path= ./data/김광무_136_ocr.txt\n"
     ]
    },
    {
     "name": "stderr",
     "output_type": "stream",
     "text": [
      " 18%|█▊        | 11/62 [03:01<15:17, 17.99s/it]"
     ]
    },
    {
     "name": "stdout",
     "output_type": "stream",
     "text": [
      "추론결과=\n",
      "\n",
      "['\\n\\n이 이미지에는 다음과 같은 정보가 포함되어 있습니다:\\n\\n- 제품 이름: 15곡미숫가루\\n- 중량: 1kg ± 3%\\n- 성분 및 함량:\\n  - 쌀보리(수입) 34%, 북음검정콩(중국) 20%, 소맥(미국) 10%, 대두(수입) 15%, 옥수수(수입) 11%, 찹찹쌀(중국) 3%, 찹쌀(중국) 3%, 창현미(중국) 3%, 창현미참쌀(중국) 0.76%, 창율무(중국) 0.05%, 창흑미(중국) 0.05%, 창수수(중국) 0.05%, 창차조(중국) 0.03%, 창기장(중국) 0.03%, 참깨(중국) 0.03%\\n- 보관 방법: 직사광선을 피하고 개봉 후 냉장보관\\n- 반품 및 교환처: 구입처 또는 대리점\\n- 주의사항: 병 제품에는 방부제가 전혀 없으므로 유통과정이나 보관부주의로 벌레가 생기거나 벌레짐이 생길 수 있습니다. 벌레가 생긴다는 것은 제품에 방부제가 전혀 없다는 증거이니 놀라지 마시고 소비자상담실로 전화주시면 바로 교환하여 드리겠습니다.\\n- 부정·불량식품 신고는 국번없이 1399\\n- 경기도 여주시 산북면 백자1길 22\\n- 품목보고번호: 1998037512216\\n- 오곡식품 (02)2694-6922\\n\\n이 외에도 상세한 정보가 포함되어 있습니다.']\n",
      "'./data/김광무_136_ocr.txt' 파일이 생성되었습니다.\n",
      "처리중 txt_path= ./data/김광무_134_ocr.txt\n"
     ]
    },
    {
     "name": "stderr",
     "output_type": "stream",
     "text": [
      " 19%|█▉        | 12/62 [03:15<14:12, 17.05s/it]"
     ]
    },
    {
     "name": "stdout",
     "output_type": "stream",
     "text": [
      "추론결과=\n",
      "\n",
      "['\\n\\n이 이미지에는 다음과 같은 정보가 포함되어 있습니다:\\n\\n- **제품 이름**: 지가 이리 멸치\\n- **원산지**: 국내산\\n- **업체명**: 월드마트\\n- **업체 번호**: 제2015-0073324\\n- **업체 주소**: 신월로 220, 지하 1층\\n- **보관 방법**: 직사광선을 피하고 건조한 곳에 보관하세요.\\n- **식품 종류**: 건어물류\\n- **포장재질**: PP, PE\\n- **성분 및 함량**: 건멸치 100% (수분 18.3%, 회분 16.2%, 단백질 61.6%, 지방 4.3%, 칼슘 2150.50mg/100g)\\n- **소분제조원**: 유독임건해 (송파 양재대로932) T.407-0666\\n- **가공(포장)년월일**: 2025/09/02\\n- **소비기한**: 2026/09/01\\n- **100g 당 가격**: 2900원\\n- **중량**: 166g\\n- **코드**: 2050190048106\\n- **품번**: 19\\n- **가격**: 4810원\\n\\n이 제품의 유통 기간은 2025년 9월 2일부터 2026년 9월 1일까지입니다.']\n",
      "'./data/김광무_134_ocr.txt' 파일이 생성되었습니다.\n",
      "처리중 txt_path= ./data/김광무_104_ocr.txt\n"
     ]
    },
    {
     "name": "stderr",
     "output_type": "stream",
     "text": [
      " 21%|██        | 13/62 [03:30<13:17, 16.27s/it]"
     ]
    },
    {
     "name": "stdout",
     "output_type": "stream",
     "text": [
      "추론결과=\n",
      "\n",
      "['\\n\\n이 이미지에는 다음과 같은 정보가 포함되어 있습니다:\\n\\n- 제품명: 바지락멸치 육수에는 1분량\\n- 포장재질(내면): 폴리프로필렌(PP)\\n- 원재료명: 정제소금(국산), 바지락액기스분말H[바지락: 국산], 델스트린, 저감미당, 정제소금(국산), 전분, 이스트액기스분말], 하얀 설탕, 바지락농축액IC[바지락(국산), 델스트린, 정제소금(국산), 청양고추], 말토덱스트린, 진국육수분말EX, 육수분말H, 복합조미식품, 훈연멸치분말(멸치:국산), 야채액기스분말, 디포리분말H, 팜유, 다시마농축분말, 효모식품, 조개분말(바지락살:국산), 무우즙, 청양고추액기스분말, 후춧가루\\n- 영양정보:\\n  - 나트륨: 12,910 mg (646 %)\\n  - 당류: 10 g (10 %)\\n  - 지방: 1.8 g (3 %)\\n  - 탄수화물: 39 g (13 %)\\n  - 단백질: 4 g (7 %)\\n\\n이 제품의 유통기한은 2027년 04월 20일까지입니다.']\n",
      "'./data/김광무_104_ocr.txt' 파일이 생성되었습니다.\n",
      "처리중 txt_path= ./data/김광무_111_ocr.txt\n"
     ]
    },
    {
     "name": "stderr",
     "output_type": "stream",
     "text": [
      " 23%|██▎       | 14/62 [03:46<13:04, 16.34s/it]"
     ]
    },
    {
     "name": "stdout",
     "output_type": "stream",
     "text": [
      "추론결과=\n",
      "\n",
      "['\\n\\n이 이미지에는 한글로 쓰여진 정보가 많습니다. 아래는 주요 내용입니다:\\n\\n- 제품 번호: 20090211043125\\n- 원재료 명세:\\n  - 면 50g: 쌀가루(쌀: 외국산), 소맥분(밀: 호주산), 소맥전분(향 가리산), 전분가공품(타피오카전분, 미분), 정제소금\\n  - 스프 8g: 정제소금(국내산), L-글루탐산나트륨(향미증진제), 설탕, 멸치맛분말(정제소금(국내산), 멸치분말(멸치: 국내산), 건파, 건미역, 멸치장국네스(멸치: 국내산), 고기맛액기스파우더, 매운조미고추맛분, 가쓰오부시분말, 건당근, 김후레 이크, 마늘분말, 양파분말, 참깨, 향미증진제1, 향미증진제2, 흑후추분말\\n- 제조사: (주)한스코리아 인천광역시 강화군 강화읍 중렬사로 103-17\\n- 보관 방법: 직사광선을 피하고 서늘하고 건조한 곳에 보관하세요.\\n- 주의사항: 닭고기, 알류, 메밀, 소고기, 우유 함유 내포장재질 용기/뚜껑-폴리에틸렌\\n- 상품 조리시나 조리 후 바로 드실경우 상품이 뜨거우니 화상에 주의하십시오.\\n\\n이 정보는 주로 제품의 재료, 제조사, 보관 방법, 주의사항 등에 대한 내용입니다.']\n",
      "'./data/김광무_111_ocr.txt' 파일이 생성되었습니다.\n",
      "처리중 txt_path= ./data/김광무_130_ocr.txt\n"
     ]
    },
    {
     "name": "stderr",
     "output_type": "stream",
     "text": [
      " 24%|██▍       | 15/62 [03:58<11:38, 14.87s/it]"
     ]
    },
    {
     "name": "stdout",
     "output_type": "stream",
     "text": [
      "추론결과=\n",
      "\n",
      "['\\n\\n이 이미지에는 다음과 같은 정보가 포함되어 있습니다:\\n\\n- **업체명 및 소재지**: 유동전문판매원: 씨제이제일제당 주식회사 부산광역시 사하구 다대로 210(장림동)\\n- **제조원**: 씨제이씨푸드 주식회사 경기도 이천시 신둔면 황무로 563-38\\n- **원재료명**:\\n  - 김(국산), 옥수수유{옥수수배아:외국산(미국,러시아,브라질 등)}, 참기름A [복음참깨가루(베트남산), 참깨(외국산)], 참기름B, 가공소금, 기타가공품\\n- **소비기한**: 개별제품 표시일까지\\n- **포장재질(내면)**: 파우치 : PP, 트레이 : PET\\n- **품목보고번호**: 20040358062209\\n\\n또한 영양 정보와 보관 방법, 식품유형 등의 정보도 포함되어 있습니다.']\n",
      "'./data/김광무_130_ocr.txt' 파일이 생성되었습니다.\n",
      "처리중 txt_path= ./data/김광무_145_ocr.txt\n"
     ]
    },
    {
     "name": "stderr",
     "output_type": "stream",
     "text": [
      " 26%|██▌       | 16/62 [04:13<11:30, 15.01s/it]"
     ]
    },
    {
     "name": "stdout",
     "output_type": "stream",
     "text": [
      "추론결과=\n",
      "\n",
      "['\\n\\n이 이미지에는 다음과 같은 정보가 포함되어 있습니다:\\n\\n- 제품명: 참순대\\n- 식품의 유형: 즉석조리식품\\n- 내용량: 500g\\n- 제조사 및 매장: (주)달솔, 충북 음성군 대소면 대소산단로 69-12\\n- 조리방법:\\n  1. 찬기: 물이 끓은 후 내용물을 넣고\\n  2. 꿀는 물: 봉지째 꿀는 물을 넣고\\n  3. 전자레인지(700w 기준) 약 4~5분 드십시오.\\n- 보관방법: 0~10℃ 이하 냉장보관\\n- 당면(중국산)[고구마전분, 타피오카전분, 황산알루미늄], 돈소창(국내산), 돈지방(국내산), 돈혈, 떡류(쌀떡), 양파, 복합조미식품, 당근, 정제소금, 옥수수전분, 돼지갈매기살, 마늘, L-글루탐산나트륨(향미증진제), 대파, 마가린, 설탕, 소스1, 소스2, 후추가루, 식육추출물, 이산화황, 동굴레당귀\\n- 포장재질: 폴리에틸렌(내면)\\n- 품목보고번호: 20130445227-160\\n\\n이 정보는 주로 제품의 구성, 사용 방법, 보관 방법 등에 대한 설명을 제공합니다.']\n",
      "'./data/김광무_145_ocr.txt' 파일이 생성되었습니다.\n",
      "처리중 txt_path= ./data/김광무_139_ocr.txt\n"
     ]
    },
    {
     "name": "stderr",
     "output_type": "stream",
     "text": [
      " 27%|██▋       | 17/62 [04:29<11:27, 15.27s/it]"
     ]
    },
    {
     "name": "stdout",
     "output_type": "stream",
     "text": [
      "추론결과=\n",
      "\n",
      "['\\n\\n이 이미지에는 다음과 같은 정보가 포함되어 있습니다:\\n\\n- 제품명: 동원 싱싱맛살\\n- 내용량: 500g\\n- 업소명 및 소재지: (주)동원F&B / 경기도 성남시 중원구 문촌대로 388번길 14 (www.dongwonfnb.com)\\n- 원재료명: 연육 56.52 % [외국산(인도, 베트남, 미국 등)/어육, D-소비톨, 설탕, 스(국내산), 천일염(호주산)], 조미액, 대두유, 설탕, 글리신, 대두단백, 계통축액, L-글산갈륨), 탄산칼슘, 혼합제제(향료1, 발효주정, 향료2, 게짜탕, 게액기스, 글리세린, 프로필렌글리콜), 혼합제제[폴리글리세린축합리시놀레인산에스테르, 카민(착색료)], 홍국색소, 파프리카추출색소, 레시틴, 산도조절제\\n- 포장재질(내면): 폴리에틸렌\\n- 품목보고번호: 19900275002636\\n- 보관방법: 냉장보관(0~10℃)\\n\\n이 제품은 알류, 우유, 새우, 토마토, 쇠고기, 돼지고기, 고등어, 조개류(굴, 전복, 홍합 포함)를 사용하는 제품과 같은 제조시설에서 제조하고 있습니다.']\n",
      "'./data/김광무_139_ocr.txt' 파일이 생성되었습니다.\n",
      "처리중 txt_path= ./data/김광무_133_ocr.txt\n"
     ]
    },
    {
     "name": "stderr",
     "output_type": "stream",
     "text": [
      " 29%|██▉       | 18/62 [04:45<11:18, 15.42s/it]"
     ]
    },
    {
     "name": "stdout",
     "output_type": "stream",
     "text": [
      "추론결과=\n",
      "\n",
      "['\\n\\n이 이미지에는 다음과 같은 정보가 포함되어 있습니다:\\n\\n- **제품 이름**: 원산지 (국내산)\\n- **업체**: 제2015-0073324\\n- **업체 종류**: 측석판매제조, 가공업\\n- **소분, 판매원**: 월드마트 T. 2699-7357 신월로220, 지하1층\\n- **보관 방법**: 직사광선을 피하고 건냉한 곳에 보관하세요.\\n- **반품 및 교환**: 구입처(건어물코너) *불량식품신고 \"1399\"\\n- **식품의 종류**: 건어물류\\n- **포장재질**: PP, PE\\n- **성분 및 함량**: 건멸치 100% (수분 18.3%, 회분 16.2%)\\n- **단백질**: 61.6%, 지방 4.3%, 칼슘 2150.50mg/100g\\n- **소분제조원**: (유)독임건해 (송파 양재대로932) T. 407-0666\\n- **가공(포장)년월일**: 2025/09/02\\n- **소비기한**: 2026/09/01\\n- **100g 당(원) 중량(g)**: 2800 178\\n- **코드 가격(원)**: 4980\\n- **바코드 번호**: 2050050049809\\n- **기타**: 월드 할인 마트']\n",
      "'./data/김광무_133_ocr.txt' 파일이 생성되었습니다.\n",
      "처리중 txt_path= ./data/김광무_128_ocr.txt\n"
     ]
    },
    {
     "name": "stderr",
     "output_type": "stream",
     "text": [
      " 31%|███       | 19/62 [04:58<10:31, 14.68s/it]"
     ]
    },
    {
     "name": "stdout",
     "output_type": "stream",
     "text": [
      "추론결과=\n",
      "\n",
      "['\\n\\n이 이미지에는 다음과 같은 정보가 포함되어 있습니다:\\n\\n- 제품명: 유동골뱅이\\n- 식품유형: 기타 수산물가공품(멸균제품)\\n- 내용량: 400g\\n- 고형량: 168g\\n- 원재료명: 정제수, 골뱅이(외국산: 영국, 아일랜드, 노르웨이 등), 혼합간장(탈지대두(외국산: 인도, 미국, 중국 등), 천일염(호주산), 기타과당, 주정, 소맥(밀: 미국산), 설탕, 기타과당, 정제소금(국내산), 구연산 대두, 말 함유\\n- 소비기한: 윗면 표기일까지\\n- 품목보고번호: 2004061902166\\n- 용기(포장)재질: 금속제(철, 뚜껑: 알미늄)\\n- 업소명 및 소재지: 유성물산교역(주) 고성공장 경상남도 고성군 고성읍 율대5길 71\\n- 안전관리인증: HACCP\\n\\n또한, 바코드 번호는 8801063120191입니다.']\n",
      "'./data/김광무_128_ocr.txt' 파일이 생성되었습니다.\n",
      "처리중 txt_path= ./data/김광무_140_ocr.txt\n"
     ]
    },
    {
     "name": "stderr",
     "output_type": "stream",
     "text": [
      " 32%|███▏      | 20/62 [05:19<11:37, 16.61s/it]"
     ]
    },
    {
     "name": "stdout",
     "output_type": "stream",
     "text": [
      "추론결과=\n",
      "\n",
      "['\\n\\n이 이미지에는 다음과 같은 정보가 포함되어 있습니다:\\n\\n- 제품명: 요리육수 한우사골\\n- 식품유형: 소스, 멸균제품\\n- 내용량: 1000 mL\\n- 제조원: (주)자연과 사람들/전남 담양군 금성면 금성공단길 10\\n- 유통전문판매원: 풀무원식품(주)/충북 음성군 대소면 삼양로 730-27\\n- 품목보고번호: 20010515081456\\n- 반품 및 교환: 판매원 및 구입처\\n- 포장재질: 폴리에틸렌(PE)\\n- 보관방법: 실온보관 1~35℃\\n- 원재료명: 정제수, 한우진사골 농축액[한우사골(국산), 한우 잡뼈(국산)/고형분 43 %], 정제소금(국산), 아미노베 이스PS[밀분해여과액(밀글루텐:프랑스산), 효모식품(태국산)], 복합조미식품, 대 파액기스1,향미 증진제, 마늘추 출농축액-P, 맛있는요리애, 혼합 야채베이스\\n- 대두, 밀, 쇠고기 함유\\n- 기타: 본 제품은 공정거래 위원회 고시 소비자 불량상품 신고는 국번 없이 1399 질소충전\\n\\n이 제품의 영양 정보는 다음과 같습니다:\\n\\n- 칼로리: 105 kcal\\n- 나트륨: 2210 mg (111%)\\n- 탄수화물: 2g (1%)\\n- 식이섬유: 0g (0%)\\n- 당류: 2g (2%)\\n- 지방: 7g (13%)\\n- 트랜스지방: 0g\\n- 포화지방: 3g (20%)\\n- 콜레스테롤: 0mg (0%)\\n- 단백질: 8g (15%)\\n- 비타민A: 0 µgRAE (0%)\\n- 비타민C: 0mg (0%)\\n- 칼슘: 45mg (6%)\\n- 철분: 0mg (0%)\\n\\n이 제품은 열에 민감하므로 실온에서 보관해야 합니다.']\n",
      "'./data/김광무_140_ocr.txt' 파일이 생성되었습니다.\n",
      "처리중 txt_path= ./data/김광무_141_ocr.txt\n"
     ]
    },
    {
     "name": "stderr",
     "output_type": "stream",
     "text": [
      " 34%|███▍      | 21/62 [05:35<11:20, 16.59s/it]"
     ]
    },
    {
     "name": "stdout",
     "output_type": "stream",
     "text": [
      "추론결과=\n",
      "\n",
      "['\\n\\n이 이미지에는 한글로 쓰여진 식품 라벨이 있습니다. 아래는 라벨에 있는 정보를 번역한 것입니다:\\n\\n- 제품명: 고소참장\\n- 식품유형: 혼합장(살균제품)\\n- 내용량: 450g\\n- 원재료명: 원장(대두, 호주산), 물엿, 혼합양념(중국산, 호주산), 정제소금, 중국), 고추장[소맥당화물(밀: 미국산, 호주산), 고춧가루], 한식매주된장(중국산/대두, 정제소금), 정제수, 다진마늘, 설탕, 물엿, 맛고기, 소스1, 참기름, 소스2, 복합조미식품, 효모추출물, 복은샬롯분, 오렌지식이섬유, 파프리카추출색소\\n- 영양정보:\\n  - 나트륨: 2070mg (104%)\\n  - 탄수화물: 33g (10%)\\n  - 식이섬유: 5g (20%)\\n  - 지방: 8g (15%)\\n  - 트랜스지방: 0g\\n  - 포화지방: 1.4g (9%)\\n  - 콜레스테롤: 0mg\\n  - 단백질: 9g (16%)\\n  - 비타민A: 0μg RAE (0%)\\n  - 비타민C: 0mg (0%)\\n  - 칼슘: 44mg (6%)\\n  - 철분: 1.7mg (14%)\\n\\n이 제품의 유통기한은 2025년 06월 24일까지입니다.']\n",
      "'./data/김광무_141_ocr.txt' 파일이 생성되었습니다.\n",
      "처리중 txt_path= ./data/김광무_105_ocr.txt\n"
     ]
    },
    {
     "name": "stderr",
     "output_type": "stream",
     "text": [
      " 35%|███▌      | 22/62 [06:38<20:10, 30.25s/it]"
     ]
    },
    {
     "name": "stdout",
     "output_type": "stream",
     "text": [
      "추론결과=\n",
      "\n",
      "['\\n\\n이 이미지에는 다음과 같은 정보가 포함되어 있습니다:\\n\\n- **제조업체**: 롯데 웰푸드(주)\\n- **제조업체 주소**: 대전광역시 대덕구 문평동로 18번길 21\\n- **제조업체 연락처**: 19960242067448\\n- **제조업체 소비기한**: 측면 표기일까지 (연.월.일)\\n- **원재료 명세**:\\n  - 전란액 (국내산), 설탕, 밀가루 (밀; 미국산), D-소비톨액 (감미료), 쇼트닝 I [가공유지 i {팜핵 에스테르화유 (팜핵 유; 말레이시아산)}, 채종유 (외국산), 가공유지 ii, 글리세린지방산 에스테르 i, 글리세린지방산 에스테르 ii], 쇼트닝 II, 고구마 유; 말레이시아산}, 채종유 (외국산), 가공유지 ii, 글리세린, 마가린, 미양유, 기타가공품 I, 물엿, 글리세린, 마가린, 미양유, 기타가공품 II, 기타식용유지가공품, 주정, 우유, 정제수, 페이스트 (고구마; 고창군), 기타가공품 I, 물엿, 글리세린, 마가린, 미양유, 기타가공품 III, 난황분, 기타요, 기타과당, 식물성크림, 가공유크림, 벌꿀 (국내산), 가공연유, 혼합제제 I (주정, 정제수, 젖산, 글리세 기타가공품 III, 난황분, 기타요, 기타과당, 식물성크림, 가공유크림, 벌꿀 (국내산), 가공연유, 혼합제제 I (주정, 정제수, 젖산, 글리세 기타가공품 III, 난황분, 기타요, 기타과당, 식물성크림, 가공유크림, 벌꿀 (국내산), 가공연유, 혼합제제 I (주정, 정제수, 젖산, 글리세 기타가공품 III, 난황분, 기타요, 기타과당, 식물성크림, 가공유크림, 벌꿀 (국내산), 가공연유, 혼합제제 I (주정, 정제수, 젖산, 글리세 기타가공품 III, 난황분, 기타요, 기타과당, 식물성크림, 가공유크림, 벌꿀 (국내산), 가공연유, 혼합제제 I (주정, 정제수, 젖산, 글리세 기타가공품 III, 난황분, 기타요, 기타과당, 식물성크림, 가공유크림, 벌꿀 (국내산), 가공연유, 혼합제제 I (주정, 정제수, 젖산, 글리세 기타가공품 III, 난황분, 기타요, 기타과당, 식물성크림, 가공유크림, 벌꿀 (국내산), 가공연유, 혼합제제 I (주정, 정제수, 젖산, 글리세 기타가공품 III, 난황분, 기타요, 기타과당, 식물성크림, 가공유크림, 벌꿀 (국내산), 가공연유, 혼합제제 I (주정, 정제수, 젖산, 글리세 기타가공품 III, 난황분, 기타요, 기타과당, 식물성크림, 가공유크림, 벌꿀 (국내산), 가공연유, 혼합제제 I (주정, 정제수, 젖산, 글리세 기타가공품 III, 난황분, 기타요, 기타과당, 식물성크림, 가공유크림, 벌꿀 (국내산), 가공연유, 혼합제제 I (주정, 정제수, 젖산, 글리세 기타가공품 III, 난황분, 기타요, 기타과당, 식물성크림, 가공유크림, 벌꿀 (국내산), 가공연유, 혼합제제 I (주정, 정제수, 젖산, 글리세 기타가공품 III, 난황분, 기타요, 기타과당, 식물성크림, 가공유크림, 벌꿀 (국내산), 가공연유, 혼합제제 I (주정, 정제수, 젖산, 글리세 기타가공품 III, 난황분, 기타요, 기타과당, 식물성크림, 가공유크림, 벌꿀 (국내산), 가공연유, 혼합제제 I (주정, 정제수, 젖산, 글리세 기타가공품 III, 난황분, 기타요, 기타과당, 식물성크림, 가공유크림, 벌꿀 (국내산), 가공연유, 혼합제제 I (주정, 정제수, 젖산, 글리세 기타가공품 III, 난황분, 기타요, 기타과당, 식물성크림, 가공유크림, 벌꿀 (국내산), 가공연유, 혼합제제 I (주정, 정제수, 젖산, 글리세 기타가공품 III, 난황분, 기타요, 기타과당, 식물성크림, 가공유크림, 벌꿀 (국내산), 가공연유, 혼합제제 I (주정, 정제수, 젖산, 글리세 기타가공품 III, 난황분, 기타요, 기타과당, 식물성크림, 가공유크림, 벌꿀 (국내산), 가공연유, 혼합제제 I (주정, 정제수, 젖산, 글리세 기타가공품 III, 난황분, 기타요, 기타과당, 식물성크림, 가공유크림, 벌꿀 (국내산), 가공연유, 혼합제제 I (주정, 정제수, 젖산, 글리세 기타가공품 III, 난황분, 기타요, 기타과당, 식물성크림, 가공유크림, 벌꿀 (국내산), 가공연유, 혼합제제 I (주정, 정제수, 젖산, 글리세 기타가공품 III, 난황분, 기타요, 기타과당, 식물성크림, 가공유크림, 벌꿀 (국내산), 가공연유, 혼합제제 I (주정, 정제수, 젖산, 글리세 기타가공품 III, 난황분, 기타요, 기타과당, 식물성크림, 가공유크림, 벌꿀 (국내산), 가공연유, 혼합제제 I (주정, 정제수, 젖산, 글리세 기타가공품 III, 난황분, 기타요, 기타과당, 식물성크림, 가공유크림, 벌꿀 (국내산), 가공연유, 혼합제제 I (주정, 정제수, 젖산, 글리세 기타가공품 III, 난황분, 기타요, 기타과당, 식물성크림, 가공유크림, 벌꿀 (국내산), 가공연유, 혼합제제 I (주정, 정제수, 젖산, 글리세 기터가공품 III, 난황분, 기타요, 기타과당, 식물성크림, 가공유크림, 벌꿀 (국내산), 가공연유, 혼합제제 I (주정, 정제수, 젖산, 글리세 기터가공품 III, 난황분, 기타요, 기타과당, 식물성크림, 가공유크림, 벌꿀 (국내산), 가공연유, 혼합제제 I (주정, 정제수, 젖산, 글리세 기터가공품 III, 난황분, 기타요, 기타과당, 식물성크림, 가공유크림, 벌꿀 (국내산), 가공연유']\n",
      "'./data/김광무_105_ocr.txt' 파일이 생성되었습니다.\n",
      "처리중 txt_path= ./data/김광무_135_ocr.txt\n"
     ]
    },
    {
     "name": "stderr",
     "output_type": "stream",
     "text": [
      " 37%|███▋      | 23/62 [06:53<16:42, 25.72s/it]"
     ]
    },
    {
     "name": "stdout",
     "output_type": "stream",
     "text": [
      "추론결과=\n",
      "\n",
      "['\\n\\n이 이미지에는 다음과 같은 정보가 포함되어 있습니다:\\n\\n- **제품 이름**: 보리 새우 원산지 (국내산)\\n- **업체 정보**:\\n  - 업체번호: 제2015-0073324\\n  - 업체명: 월드마트\\n  - 주소: 신월로220, 지하1층\\n- **보관 방법**: 직사광선을 피하고 건냉한 곳에 보관하세요.\\n- **재료**: 건새우 100%(다시용)\\n- **제조일자**: 2025/08/23\\n- **유통기한**: 2026/08/22\\n- **에너지 및 영양소**:\\n  - 100g 당 에너지: 3600kJ\\n  - 100g 당 칼로리: 860kcal\\n  - 100g 당 탄수화물: 164g\\n  - 100g 당 설탕: 0g\\n  - 100g 당 단백질: 0g\\n  - 100g 당 지방: 0g\\n  - 100g 당 포화지방: 0g\\n  - 100g 당 미네랄: 0g\\n  - 100g 당 비타민: 0g\\n- **제조업체**: 행풍수산\\n  - 주소: 전북군산시 소봉동 921번지\\n\\n이 정보는 제품의 성분, 에너지, 영양소, 유통 기간 등에 대한 중요한 정보를 제공합니다.']\n",
      "'./data/김광무_135_ocr.txt' 파일이 생성되었습니다.\n",
      "처리중 txt_path= ./data/김광무_118_ocr.txt\n"
     ]
    },
    {
     "name": "stderr",
     "output_type": "stream",
     "text": [
      " 39%|███▊      | 24/62 [07:05<13:39, 21.58s/it]"
     ]
    },
    {
     "name": "stdout",
     "output_type": "stream",
     "text": [
      "추론결과=\n",
      "\n",
      "['\\n\\n이 이미지에는 한글로 쓰여진 제품 정보가 포함되어 있습니다. 아래는 주요 내용입니다:\\n\\n- **제품 이름**: 토마토 페이스트\\n- **원료 명세**: 토마토, 소금, 설탕, 치즈, 식초, 젤라틴, 페놀, 아스코르브산, 수분\\n- **포장재질**: 레드-폴리에틸렌(내면), 두께-폴리프로필렌\\n- **용기**: 리드-폴리에틸렌(내면), 두께-폴리프로필렌\\n- **보관 방법**: 직사광선을 피하고 서늘한 곳에 보관하세요. 개봉 후 뚜껑을 꼭 닫아서 보관하세요.\\n- **영양 정보**:\\n  - 총 내용량: 280g\\n  - 칼로리: 130kcal\\n  - 탄수화물: 30g (9%)\\n  - 당류: 29g (29%)\\n\\n이 정보는 제품의 성분, 포장, 보관 방법, 영양 정보 등을 포함하고 있습니다.']\n",
      "'./data/김광무_118_ocr.txt' 파일이 생성되었습니다.\n",
      "처리중 txt_path= ./data/김광무_110_ocr.txt\n"
     ]
    },
    {
     "name": "stderr",
     "output_type": "stream",
     "text": [
      " 40%|████      | 25/62 [07:15<11:09, 18.08s/it]"
     ]
    },
    {
     "name": "stdout",
     "output_type": "stream",
     "text": [
      "추론결과=\n",
      "\n",
      "['\\n\\n이 이미지에는 다음과 같은 정보가 포함되어 있습니다:\\n\\n- 제품 이름: 육수실국수\\n- 포장 내용량: 77.5g (270 kcal)\\n- 가격: 1,980원\\n- 라벨 번호: 8801759014261\\n- 영양 정보:\\n  - 칼로리: 270 kcal\\n  - 탄수화물: 57g (18%)\\n  - 단백질: 9g (16%)\\n  - 지방: 2g (2%)\\n  - 철분: 0.5mg (1%)\\n  - 비타민 C: 0mg (0%)\\n\\n이 제품은 한국어로 표시되어 있으며, 포장에는 식품의 원재료, 영양 정보, 조리법 등이 명시되어 있습니다.']\n",
      "'./data/김광무_110_ocr.txt' 파일이 생성되었습니다.\n",
      "처리중 txt_path= ./data/김광무_112_ocr.txt\n"
     ]
    },
    {
     "name": "stderr",
     "output_type": "stream",
     "text": [
      " 42%|████▏     | 26/62 [07:33<10:54, 18.17s/it]"
     ]
    },
    {
     "name": "stdout",
     "output_type": "stream",
     "text": [
      "추론결과=\n",
      "\n",
      "[\"\\n\\n이 이미지에는 다음과 같은 정보가 포함되어 있습니다:\\n\\n1. **제품명**: 배추국수\\n2. **원재료**: 면/소맥분(밀:미국산, 호주산), 팥유(말레이시아산), 감자전분(덴마크산), 정제소금, 면류점가알칼리제(탄산칼륨, 탄산나트륨, 세이인산나트륨), 혼합제제{글리세린, d- 토포페롤(혼합형), 폴리글리세린지방산에스테르, 효소분해 레시틴}, 혼합제제(메타인산나트륨, 폴리인산나트륨, 제일 인산나트륨, 피로인산나트륨). 스프루/고추장, 설탕, 기타 과당, 냉동홍고추페이스트, 채종유, 정제수, 소고기맛간장, 양파, 다진양념베이스, 진육수추출액, 정제소금, 화이트식초, 배퓨레, 동치미농축액, 구연산, 참기름, 변성전분, 마늘, 파프 리카추출색소1, 파프리카추출색소2, 혼합제제(덱스트린, 카라멜색소III), 5'-리보뉴클레오티드이나트륨, 호박산이 나트륨, 고소한풍미유, 복음참깨, 복음흑깨, 구운김후레이크.\\n3. **밀, 대두, 우유, 쇠고기 함유**\\n4. **품목 번호**: 19860360007-405(안성), 보고번호 19720154001-461(부산)\\n5. **영양소 비교 표시**: 1350mg (1일 섭취 기준량)\\n\\n이 정보는 제품의 원재료, 함유물, 영양소 등에 대한 설명을 제공합니다.\"]\n",
      "'./data/김광무_112_ocr.txt' 파일이 생성되었습니다.\n",
      "처리중 txt_path= ./data/김광무_150_ocr.txt\n"
     ]
    },
    {
     "name": "stderr",
     "output_type": "stream",
     "text": [
      " 44%|████▎     | 27/62 [07:50<10:22, 17.78s/it]"
     ]
    },
    {
     "name": "stdout",
     "output_type": "stream",
     "text": [
      "추론결과=\n",
      "\n",
      "['\\n\\n이 이미지에는 한글로 쓰여진 제품 정보가 포함되어 있습니다. 아래는 주요 내용입니다:\\n\\n- **제품 유형**: 음료베이스\\n- **품목번호**: 19930336060363\\n- **소비기한**: 하단 표기일까지\\n- **원재료명**: 레드 애플 식초(사과농축액, 칠레산), 말티톨액(감미료), 에리스리톨(감미료), 사과농축액(칠레산), 구연산, 정제수, 알룰로오스, 난소화성말토덱스트린(옥수수: 외국산(러시아, 헝가리, 세르비아 등)), 올리고당, 알로에 베라겔동결건조분말(미국산)\\n- **유기산**: 초산으로서 2% 함유\\n- **업체명 및 대상**: 오산공장 : 경기도 오산시 가장로 595-66\\n- **내포장 용기**: 폴리에틸렌테프탈레이트, 외재질 캡 : 폴리프로필렌, 내캡 : 폴리에틸렌\\n- **보관방법**: 캡을 닫아 냉장보관\\n- **영양정보**:\\n  - **100ml 당**\\n    - 탄수화물: 27g (8%)\\n    - 당류: 3g (4%)\\n    - 식이섬유: 1g (0%)\\n    - 알룰로오스: 13g (0%)\\n    - 에리스리톨: 4g (0%)\\n    - 말티톨: 4g (0%)\\n\\n이 제품은 주로 탄수화물을 함유하고 있으며, 당류와 식이섬유는 적게 함유하고 있습니다.']\n",
      "'./data/김광무_150_ocr.txt' 파일이 생성되었습니다.\n",
      "처리중 txt_path= ./data/김광무_131_ocr.txt\n"
     ]
    },
    {
     "name": "stderr",
     "output_type": "stream",
     "text": [
      " 45%|████▌     | 28/62 [08:11<10:44, 18.94s/it]"
     ]
    },
    {
     "name": "stdout",
     "output_type": "stream",
     "text": [
      "추론결과=\n",
      "\n",
      "['\\n\\n이 이미지에는 다음과 같은 정보가 포함되어 있습니다:\\n\\n- 제품명: 오물조물양념 새우멸치파래돌김자반복음\\n- 식품의 유형: 조미김\\n- 업소명 및 소재지: (주)태산알엔디 영광공장 / 전남 영광군 대마면 전기차로 96(주1,2동)\\n- 소비기한: 전면 별도 표기일까지\\n- 내용량: 300g\\n- 원재료명 및 함량:\\n  - 콩기름(대두유) [대두:외국산(미국,브라질,아르헨티나등)], 산화방지제, 규소수지] 48.5%, 김(국산) 17.6%, 백설탕 9.7%, 건조멸치(국산) 8.8%, 북은참깨(외국산:인도,나이지리아, 에티오피아등) 6%, 복음대두분말(미국산,중국산) 4.4%, 건새우(국산) 3%, 가공소금 {정제 소금(국내산),L-글루탐산나트륨(향미증진제)} 2%\\n- 포장재질: 폴리에틸렌(내면)\\n- 품목보고번호: 20200531113721\\n- 영양정보:\\n  - 나트륨(Sodium): 370mg\\n  - 탄수화물(Total Carbohydrate): 10g\\n  - 당류(Sugars): 1g\\n  - 지방(Total Fat): 1g\\n  - 트랜스지방(Trans Fat): 0g\\n  - 포화지방(Saturated Fat): 0g\\n  - 콜레스테롤(Cholesterol): 0mg\\n  - 단백질(Protein): 10g\\n- 1일 영양성분 기준치에 대한 비율(%):\\n  - 기준이므로 개인의 필요 열량에 따라 다를 수 있습니다.\\n- 보관방법: 습기나 직사광선을 피하여 서늘한 곳에 보관하여 주십시오.\\n- 부적: 불량식품 신고는 국번없이 1399\\n- 반품 및 교환처: 구입처 및 판매원\\n- 소비자상담실: 070-4220-5670\\n\\n이 정보는 제품의 성분, 영양 정보, 보관 방법 등에 대한 설명을 제공합니다.']\n",
      "'./data/김광무_131_ocr.txt' 파일이 생성되었습니다.\n",
      "처리중 txt_path= ./data/김광무_151_ocr.txt\n"
     ]
    },
    {
     "name": "stderr",
     "output_type": "stream",
     "text": [
      " 47%|████▋     | 29/62 [08:21<08:56, 16.26s/it]"
     ]
    },
    {
     "name": "stdout",
     "output_type": "stream",
     "text": [
      "추론결과=\n",
      "\n",
      "['\\n\\n이 이미지에는 다음과 같은 정보가 포함되어 있습니다:\\n\\n- **제조일자**: 2025.04.09 11:22\\n- **소비기한**: 2026.10.08\\n- **총 내용량**: 1,900 g\\n- **100g 당 칼로리**: 225 kcal\\n- **나트륨**: 2,440 mg (122%)\\n- **탄수화물**: 46 g (14%)\\n- **당류**: 21 g (21%)\\n- **지방**: 2.4 g (4%)\\n- **포화지방**: 0 g (0%)\\n- **콜레스테롤**: 0 mg (0%)\\n- **단백질**: 5 g (9%)\\n\\n또한, 제품의 주요 성분과 보관 방법 등도 명시되어 있습니다.']\n",
      "'./data/김광무_151_ocr.txt' 파일이 생성되었습니다.\n",
      "처리중 txt_path= ./data/김광무_117_ocr.txt\n"
     ]
    },
    {
     "name": "stderr",
     "output_type": "stream",
     "text": [
      " 48%|████▊     | 30/62 [08:40<09:00, 16.88s/it]"
     ]
    },
    {
     "name": "stdout",
     "output_type": "stream",
     "text": [
      "추론결과=\n",
      "\n",
      "['\\n\\n이 이미지에는 다음과 같은 정보가 포함되어 있습니다:\\n\\n- 제품 이름: 1000 아일랜드 드레싱\\n- 소스: 유형\\n- 품목번호: 2001044505530\\n- 포장재질: 용기 - 폴리에틸렌(내면), 두께 - 폴리에틸렌\\n- 원료명: 식물성유지(외국산(아르헨티나, 미국, 중국 등)), 정제수, 스위트리시(미국산:피클, 설탕, 기타과당, 식초, 물엿), 토마토케찹[토마토페이스 트(외국산) 물엿, 설탕, 발효식초, 정제소금(국산)], 설탕, 발효식초, 정제소금, 낙향 액, 잔탄검, 양식료조제품, 우스타소스, 양미유, 포도당, 효소제제\\n- 대두, 토마토, 계란, 밀, 쇠고기, 조개류(굴) 함유\\n- 영양정보:\\n  - 100g 당: 칼로리 355kcal, 탄수화물 13g (4%), 당류 11g (11%), 지방 33g (61%), 트랜스지방 0g, 포화지방 5g (33%), 콜레스테롤 10mg (3%), 단백질 1g (1%)\\n  - 1일 영양소 기준치에 대한 비율(%)는 2,000kcal 기준으로 개인의 필요 열량에 따라 다를 수 있습니다.\\n- 총 내용량: 250g\\n- 유통기한: 2026.02.28 10:28\\n- 보관 방법: 0~10℃ 보관하고 얼지 않도록 주의하세요.\\n\\n이 외에도 여러 가지 정보가 포함되어 있습니다.']\n",
      "'./data/김광무_117_ocr.txt' 파일이 생성되었습니다.\n",
      "처리중 txt_path= ./data/김광무_137_ocr.txt\n"
     ]
    },
    {
     "name": "stderr",
     "output_type": "stream",
     "text": [
      " 50%|█████     | 31/62 [09:04<09:53, 19.14s/it]"
     ]
    },
    {
     "name": "stdout",
     "output_type": "stream",
     "text": [
      "추론결과=\n",
      "\n",
      "['\\n\\n이 이미지에는 다음과 같은 정보가 포함되어 있습니다:\\n\\n- 제품명: 동원 알찬 스모크 햄\\n- 내용량: 1kg (2,500 kcal)\\n- 품목보고번호: 20030532009271\\n- 제조사: 주소디프비앤에프/경상북도 영주시 가흥공단로 59-96 식품 유형 프레스햄(살균제품)\\n- 출산물용: 쥬동원F&B/충북 진천군 광혜원면 광혜원\\n- 전문판매원: 산단길 112 (www.dongwonfnb.com)\\n- 보관기준: 냉장보관 (-2~10℃)\\n- 원재료명 및 함량:\\n  - 닭고기 (기계발고육) 72.46% (국산), 정제수, 돼지고기 8.05% (지방 일부 사용/국산), 옥수수전분 [옥수수 (외국산:러시아, 헝가리, 세르비아 등)], 동화건조빵가루, 정제소금, 활성밀글루텐, 복합스파이스DWB, 설탕, 혼합제제 (폴리인산나트륨, 피로인산나트륨, 메타인산나트륨), L-글루탐산나트륨 (향미증진제), 소브산칼륨 (보존료), 카라기난, 락색소, 에리토브산나트륨 (산화방지제), 혼합제제 (정제수, 스모크향, 폴리소르베이트80, 초산), 아질산나트륨 (발색제), 혼합제제 (주정, 고량색소, 정제수, 설탕, 구연산, 안나토색소) 등\\n- 포장재질: 내면 폴리에틸렌\\n- 영양 정보:\\n  - 총 내용량: 1,000g\\n  - 1/33 팩 (30g) 당 75 kcal\\n  - 당류: 260mg (13%), 850mg (43%)\\n  - 탄수화물: 3g (1%), 11g (3%)\\n  - 지방: 6g (11%), 18g (33%)\\n  - 트랜스지방: 0g\\n  - 포화지방: 1.7g (11%), 8g (40%)\\n  - 콜레스테롤: 25mg (8%), 80mg (27%)\\n  - 단백질: 2g (4%), 8g (15%)\\n\\n이 정보는 제품의 성분, 영양 정보, 보관 방법 등을 포함하고 있습니다.']\n",
      "'./data/김광무_137_ocr.txt' 파일이 생성되었습니다.\n",
      "처리중 txt_path= ./data/김광무_138_ocr.txt\n"
     ]
    },
    {
     "name": "stderr",
     "output_type": "stream",
     "text": [
      " 52%|█████▏    | 32/62 [09:20<09:00, 18.02s/it]"
     ]
    },
    {
     "name": "stdout",
     "output_type": "stream",
     "text": [
      "추론결과=\n",
      "\n",
      "['\\n\\n이 이미지에는 다음과 같은 정보가 포함되어 있습니다:\\n\\n- 제품명: 맛이 깊은 부산어묵 일품사각\\n- 식품의 유형: 어묵 (유탕처리식품/비살균제품)\\n- 내용량: 200g\\n- 소비기한: 전면 표시일까지\\n- 업소명 및 소재지: (주)동원F&B / 경기도 성남시 중원구 둔촌대로 388번길 14 (www.dongwonfnb.com)\\n- 원재료명: 밀가루(밀/미국산, 호주산), 연육(중국산/어육, D-소비톨, 설탕, 산도조절제), 양파(중국산), 정제소금, 대두유, 두류가공품, 포도당, 자일로오스, 대두단백, L-글루탐산나트륨(향미증진제), 소브산칼륨(보존료), 레시틴, 트랜스글루타마\\n- 대두, 밀 함유\\n- 포장재질(내면): 폴리에틸렌\\n- 보관방법: 냉장보관 (0~10℃)\\n- 품목보고번호: 19900275002621\\n- 기타 정보: 이 제품은 알류, 게, 우유, 새우, 토마토, 오징어, 돼지고기, 쇠고기, 닭고기, 조개류, 고등어를 사용하는 제품과 같은 제조시설에서 제조하고 있습니다.']\n",
      "'./data/김광무_138_ocr.txt' 파일이 생성되었습니다.\n",
      "처리중 txt_path= ./data/김광무_132_ocr.txt\n"
     ]
    },
    {
     "name": "stderr",
     "output_type": "stream",
     "text": [
      " 53%|█████▎    | 33/62 [09:28<07:18, 15.13s/it]"
     ]
    },
    {
     "name": "stdout",
     "output_type": "stream",
     "text": [
      "추론결과=\n",
      "\n",
      "['\\n\\n이 이미지에는 다음과 같은 정보가 포함되어 있습니다:\\n\\n- 제품 이름: 웰빙혼합 15곡\\n- 원산지: 국산 100%\\n- 중량: 2kg\\n- 성분: 참쌀 27%, 현미 15%, 찰흑미 9%, 찰보리 12%, 찰현미 12%, 붉은약쌀, 홍삼찰보리, 발효현미, 차조 서리태, 녹미, 적두 백태, 수수, 기장\\n- 바코드 번호: 8 809018 268707']\n",
      "'./data/김광무_132_ocr.txt' 파일이 생성되었습니다.\n",
      "처리중 txt_path= ./data/김광무_119_ocr.txt\n"
     ]
    },
    {
     "name": "stderr",
     "output_type": "stream",
     "text": [
      " 55%|█████▍    | 34/62 [09:45<07:18, 15.66s/it]"
     ]
    },
    {
     "name": "stdout",
     "output_type": "stream",
     "text": [
      "추론결과=\n",
      "\n",
      "['\\n\\n이 이미지에는 다음과 같은 정보가 포함되어 있습니다:\\n\\n- **제품 유형**: 커피\\n- **중량**: 236g (11.8g x 20개)\\n- **원재료 명세**:\\n  - 식물성 크림: 올리고당, 식물성 경화유지(코코넛 오일, 인도네시아 코코넛 오일, 필리핀 코코넛 오일), 농축우유단백분말(뉴질랜드산), 제이인산 칼륨, 구연산칼륨\\n  - 설탕\\n  - 커피: Maxim 모카골드 마일드 (커피 원두: 브라질산 30%, 콜롬비아산 20%)\\n- **유유 함유**: 우유 함유\\n- **제조원**:\\n  - 동서식품(주) 인천공장: 인천광역시 부평구 새별로 55\\n  - 동서식품(주) 창원공장: 경상남도 창원시 의창구 반계로 40\\n- **봉지 포장 재질**: 폴리에틸렌\\n- **소비기한**: 옆면에 표시된 일자까지\\n- **품목보고 번호**:\\n  - 인천공장: 19750202004-247\\n  - 창원공장: 19860589043-75\\n\\n이 제품은 Maxim 모카골드 라이트 커피믹스 1봉지 (11.8g)를 잔에 넣고 기호에 맞게 뜨거운 물을 적당량 (약 80ml) 부어 완전히 용해한 후 음용하십시오.']\n",
      "'./data/김광무_119_ocr.txt' 파일이 생성되었습니다.\n",
      "처리중 txt_path= ./data/김광무_108_ocr.txt\n"
     ]
    },
    {
     "name": "stderr",
     "output_type": "stream",
     "text": [
      " 56%|█████▋    | 35/62 [09:57<06:31, 14.48s/it]"
     ]
    },
    {
     "name": "stdout",
     "output_type": "stream",
     "text": [
      "추론결과=\n",
      "\n",
      "['\\n\\n이 이미지에는 다음과 같은 정보가 포함되어 있습니다:\\n\\n- **제조사**: QIAOQIAO (LUOHE) FOOD CO., LTD\\n- **수입원**: 주한마루/ 경기도 성남시 분당구 황새울로 240번길 3 901호\\n- **유통전문 판매업소**: 주자연드림에프앤비 / 서울시 강동구 천중로 213\\n- **주말모스제과 / 경기도 성남시 중원구 갈마치로 288번길 14, A동 815호**\\n- **소비기한**: 별도 표기일까지 (읽는 방법 년/월/일순)\\n- **보관방법**: 직사광선을 피하여 건조한 곳에 실온 보관하십시오.\\n- **소비자 상담실**: 031-741-2000\\n- **포장재질**: 폴리에틸렌(내포장)\\n\\n또한, 제품의 내용량은 200g이며, 식품유형은 과자(유처리제품) 원산지는 중국입니다.']\n",
      "'./data/김광무_108_ocr.txt' 파일이 생성되었습니다.\n",
      "처리중 txt_path= ./data/김광무_107_ocr.txt\n"
     ]
    },
    {
     "name": "stderr",
     "output_type": "stream",
     "text": [
      " 58%|█████▊    | 36/62 [10:15<06:45, 15.61s/it]"
     ]
    },
    {
     "name": "stdout",
     "output_type": "stream",
     "text": [
      "추론결과=\n",
      "\n",
      "['\\n\\n이 이미지에는 다음과 같은 정보가 포함되어 있습니다:\\n\\n- 제품명: 핫브레이크 오리지널\\n- 식품유형: 초콜릿 가공품\\n- 소비기한: 후면표기일까지\\n- 품목보고번호: 19830487051117\\n- 포장재질: 폴리프로필렌\\n- 원재료명:\\n  - 기타열(물열, 말토올리고당), 땅콩(미국산), 백설탕, 유당(미국산), 식물성유지1(말레이시아산), 코코아드 블랙침, 땅콩버터, 견과류가공품1(아몬드, 백설탕, 아몬드분말, 식물성유지, 물엿), 견과류가공품2, 분말, 곡류가공품, 식염, 기타가공품, 코코아분말, 유화제, 합성향료2종, 혼합제제(D-소비톨, 가공유지, 향료, 포도당),\\n  - 호두, 복숭아, 토마토, 돼지고기, 쇠고기, 닭고기, 오징어, 새우, 게, 조개류(굴, 홍합 포함) 혼입가능\\n- 영양정보:\\n  - 칼로리: 190 mg\\n  - 탄수화물: 56 g\\n  - 당류: 44 g\\n  - 지방: 27 g\\n  - 트랜스지방: 0.5 g 미만\\n  - 포화지방: 11 g\\n  - 콜레스테롤: 7 mg\\n  - 단백질: 73 g\\n  - 비타민 A: 2 % (기준치에 대한)\\n  - 비타민 C: 18 % (기준치에 대한)\\n\\n이 정보는 제품의 성분, 영양 정보, 소비기한 등에 대한 중요한 정보를 제공합니다.']\n",
      "'./data/김광무_107_ocr.txt' 파일이 생성되었습니다.\n",
      "처리중 txt_path= ./data/김광무_126_ocr.txt\n"
     ]
    },
    {
     "name": "stderr",
     "output_type": "stream",
     "text": [
      " 60%|█████▉    | 37/62 [10:29<06:22, 15.30s/it]"
     ]
    },
    {
     "name": "stdout",
     "output_type": "stream",
     "text": [
      "추론결과=\n",
      "\n",
      "['\\n\\n이 이미지에는 다음과 같은 정보가 포함되어 있습니다:\\n\\n- 제품명: 발아현미숫차플러스\\n- 식품유형: 고형차\\n- 업소명 및 소재지: (주)담터/경기도 포천시 신북면 청신로 2097번길 85-8\\n- 소비기한: 전면 표기일까지\\n- 내용량: 225g(15g X 15포)\\n- 원재료명: 설탕, 기타가공품[덱스트린, 물엿, 유청분말(외국산: 칠레산, 핀란드산, 미국산 등), 식물성유지(말레이시아산), 유청단백분말], 썹알파분[미분(외국산), 썹분말(국산)], 보리분(국산), 식물성크림(물엿, 야자유, 카제인나트륨, 제이인산칼륨, 글리세린지방산에스테르), 발아현미분(국산), 검정콩분말, 통밀분말, 옥수수분, 정제소금\\n- 우유, 대두, 밀 함유\\n- 용기(포장)재질: 내포장재질-폴리에틸렌(PE)\\n- 품목보고번호: 19710372001231\\n- 바코드 번호: 8 803284 601749']\n",
      "'./data/김광무_126_ocr.txt' 파일이 생성되었습니다.\n",
      "처리중 txt_path= ./data/김광무_149_ocr.txt\n"
     ]
    },
    {
     "name": "stderr",
     "output_type": "stream",
     "text": [
      " 61%|██████▏   | 38/62 [10:39<05:23, 13.47s/it]"
     ]
    },
    {
     "name": "stdout",
     "output_type": "stream",
     "text": [
      "추론결과=\n",
      "\n",
      "['\\n\\n이 이미지에는 다음과 같은 정보가 포함되어 있습니다:\\n\\n- **제품 이름**: 오일리\\n- **제조업체**: 오뚜기\\n- **제조국**: 중국산\\n- **용기 내용량**: 1.8 L (100 ml 당 12 kcal)\\n- **영양 정보**:\\n  - **탄수화물**: 3g (1%)\\n  - **당류**: 3g (3%)\\n  - **포화지방**: 0g (0%)\\n  - **트랜스지방**: 0g (0%)\\n  - **콜레스테롤**: 0mg (0%)\\n  - **단백질**: 0g (0%)\\n\\n이 제품은 식용유로, 영양 정보는 100ml 당 기준입니다.']\n",
      "'./data/김광무_149_ocr.txt' 파일이 생성되었습니다.\n",
      "처리중 txt_path= ./data/김광무_143_ocr.txt\n"
     ]
    },
    {
     "name": "stderr",
     "output_type": "stream",
     "text": [
      " 63%|██████▎   | 39/62 [10:52<05:09, 13.45s/it]"
     ]
    },
    {
     "name": "stdout",
     "output_type": "stream",
     "text": [
      "추론결과=\n",
      "\n",
      "['\\n\\n이 이미지에는 다음과 같은 정보가 포함되어 있습니다:\\n\\n- 제품명: 대림선 시선과 김바오어\\n- 제조사: (주)한일식품 경남 진주시 대곡면 대화로 68\\n- 포장재질: 폴리에스테르\\n- 내용량: 100g\\n- 식품유형: 절임식품(살균제품)\\n- 보관방법: 직사광선을 피하여 실온(1~35℃) 보관\\n- 원재료: 연자(87.01%), 우엉(98%), 정제염수, 정제소금, 기타과당, 소매, 글루타산나트륨, 카라멜색소, 물엿, 설탕, 기타과당\\n- 보조제: 비닐류\\n- 영양정보: 총 내용량 100g, 칼로리 24kcal, 탄수화물 5g, 단백질 0g, 지방 0g, 나트륨 920mg, 포화지방 0g, 트랜스지방 0g, 콜레스테롤 0mg, 당류 0g, 칼슘 0g, 철분 0mg, 비타민A 0%, 비타민C 0%\\n\\n이 정보는 제품의 구성, 보관 방법, 영양 정보 등을 제공합니다.']\n",
      "'./data/김광무_143_ocr.txt' 파일이 생성되었습니다.\n",
      "처리중 txt_path= ./data/김광무_114_ocr.txt\n"
     ]
    },
    {
     "name": "stderr",
     "output_type": "stream",
     "text": [
      " 65%|██████▍   | 40/62 [11:10<05:25, 14.79s/it]"
     ]
    },
    {
     "name": "stdout",
     "output_type": "stream",
     "text": [
      "추론결과=\n",
      "\n",
      "['\\n\\n이 이미지에는 다음과 같은 정보가 포함되어 있습니다:\\n\\n- 제조일자: 2025.06.11\\n- 소비기한: 2026.06.10 11:24\\n- 제품명: 사계절 찹쌀장\\n- 내용량: 500g\\n- 식품유형: 혼합장(살균제품)\\n- 원재료명: 대두(외국산), 소맥분(밀:미국산, 호주산), 정제소금, 밀쌀, 중국, 물엿, 발효곡물(소맥분:밀:미국산, 호주산), 정제소금(국산), 밀쌀, 중국, 아난설탕, 고추양념(중국산), 주정, 정제수, 다진양파, 탈지대두분, 고추양념분, 생마늘베이스, 표고버섯베이스, 복은대두분, 북은참깨, 야채농축액A, 에틸렌, 유산지-실리콘고무\\n- 포장재질: 용기/뚜껑-폴리프로필렌, 리드지-폴리에틸렌, 유산지-실리콘고무\\n- 보관방법: 직사광선을 피해 실온보관, 개봉 후 냉장보관 권장\\n- 영양정보:\\n  - 총내용량: 500g / 100g 당 210kcal\\n  - 나트륨: 2,510mg (126%)\\n  - 탄수화물: 37g (11%)\\n  - 당류: 23g (23%)\\n  - 지방: 3.1g (6%)\\n  - 트랜스지방: 0g\\n  - 포화지방: 0.6g (4%)\\n  - 콜레스테롤: 0mg (0%)\\n  - 단백질: 8g (15%)\\n\\n이상의 정보를 제공합니다.']\n",
      "'./data/김광무_114_ocr.txt' 파일이 생성되었습니다.\n",
      "처리중 txt_path= ./data/김광무_120_ocr.txt\n"
     ]
    },
    {
     "name": "stderr",
     "output_type": "stream",
     "text": [
      " 66%|██████▌   | 41/62 [11:28<05:32, 15.85s/it]"
     ]
    },
    {
     "name": "stdout",
     "output_type": "stream",
     "text": [
      "추론결과=\n",
      "\n",
      "['\\n\\n이 이미지에는 다음과 같은 정보가 포함되어 있습니다:\\n\\n- 제품 유형: 커피\\n- 중량: 236g (11.8g x 20개)\\n- 원재료 명세:\\n  - 설탕, 식물성 크림(올리고당, 식물성 경화유지{코코넛 오일(인도네시아산, 필리핀산)}, 농축우유단백분말(뉴질랜드산), 제이인산칼륨, 구연산칼륨), 커피[Maxim 오리지날(커피원두: 베트남산 55%, 브라질산 24%)] 13.98% 우유 함유\\n- 제조원:\\n  - 동서식품(주) 인천공장: 인천광역시 부평구 새별로 55\\n  - 동서식품(주) 창원공장: 경상남도 창원시 의창구 반계로 40\\n- 보증기한: 옆면에 표시된 일자까지\\n- 품목보고번호:\\n  - 19750202004-73(인천공장)\\n  - 19860589043-7(창원공장)\\n\\n이 제품은 소비자 기본법에 따른 소비자 분쟁 해결 기준에 따라 피해를 보상해 드립니다.\\n\\n사용기준: Maxim 오리지날 커피믹스 1봉지(11.8g)를 잔에 넣고 기호에 맞게 뜨거운 물을 적당량(약 80ml) 부어 완전히 용해한 후 음용하십시오.\\n\\n부정, 불량식품 신고는 국번 없이 1399\\n\\nMAXIM은 몬델리즈 인터내셔널 그룹의 상표이며 라이선스 하에 사용됩니다.\\n\\n스틱 끝부분이 날카로우니 주의하세요.\\n\\n유동질서 확립을 위해 날개 판매를 삼가 주십시오.']\n",
      "'./data/김광무_120_ocr.txt' 파일이 생성되었습니다.\n",
      "처리중 txt_path= ./data/김광무_122_ocr.txt\n"
     ]
    },
    {
     "name": "stderr",
     "output_type": "stream",
     "text": [
      " 68%|██████▊   | 42/62 [12:33<10:11, 30.55s/it]"
     ]
    },
    {
     "name": "stdout",
     "output_type": "stream",
     "text": [
      "추론결과=\n",
      "\n",
      "['\\n\\n이 이미지에는 다음과 같은 정보가 포함되어 있습니다:\\n\\n- 제품명: 버섯야채죽\\n- 식품의 유형: 즉석조리식품\\n- 내용량: 420g\\n- 업소명 및 소재지:\\n  - F1. 씨제이제일제당주식회사 부산광역시 사하구 다대로 210\\n  - F2. 씨제이제일제당(주) 진천 BLOSSOM CAMPUS 3동/ 충청북도 진천군 진천읍 씨제이로110\\n- 원재료명:\\n  - 정제수, 멸쌀(국산), 표고버섯(중국산), 양파(국산), 새송이버섯(국산), 당근, 서류 가공품, 닭고기추출농축액, 베지터블시즈닝, 파액기스, 야채육수분말, 복합조미식품, 혼합제제(변성전분, 말토덱스트린), 옥배유, 향미증진제, 효모식품, 덱스트린, 재제소금, 참기름, 레시틴\\n- 유유, 대두, 밀, 쇠고기, 닭고기 함유\\n- 품목보고번호: F1: 19910144038707, F2: 20190450208-119\\n- 소비기한: 상부 표기일까지\\n- 보관방법: 직사광선을 피한 실온에 보관하시오.\\n- 반품 및 교환처: 구입처 및 대리점\\n- 기타 정보: 부정·불량식품 신고는 국번없이 1399, 메밀, 땅콩, 고등어, 게, 새우, 돼지고기, 복 이 제품은 알류, 메밀, 땅콩, 고등어, 게, 새우, 돼지고기, 복 이 제품은 알류, 메밀, 땅콩, 고등어, 게, 새우, 돼지고기, 복 이 제품은 알류, 메밀, 땅콩, 고등어, 게, 새우, 돼지고기, 복 이 제품은 알류, 메밀, 땅콩, 고등어, 게, 새우, 돼지고기, 복 이 제품은 알류, 메밀, 땅콩, 고등어, 게, 새우, 돼지고기, 복 이 제품은 알류, 메밀, 땅콩, 고등어, 게, 새우, 돼지고기, 복 이 제품은 알류, 메밀, 땅콩, 고등어, 게, 새우, 돼지고기, 복 이 제품은 알류, 메밀, 땅콩, 고등어, 게, 새우, 돼지고기, 복 이 제품은 알류, 메밀, 땅콩, 고등어, 게, 새우, 돼지고기, 복 이 제품은 알류, 메밀, 땅콩, 고등어, 게, 새우, 돼지고기, 복 이 제품은 알류, 메밀, 땅콩, 고등어, 게, 새우, 돼지고기, 복 이 제품은 알류, 메밀, 땅콩, 고등어, 게, 새우, 돼지고기, 복 이 제품은 알류, 메밀, 땅콩, 고등어, 게, 새우, 돼지고기, 복 이 제품은 알류, 메밀, 땅콩, 고등어, 게, 새우, 돼지고기, 복 이 제품은 알류, 메밀, 땅콩, 고등어, 게, 새우, 돼지고기, 복 이 제품은 알류, 메밀, 땅콩, 고등어, 게, 새우, 돼지고기, 복 이 제품은 알류, 메밀, 땅콩, 고등어, 게, 새우, 돼지고기, 복 이 제품은 알류, 메밀, 땅콩, 고등어, 게, 새우, 돼지고기, 복 이 제품은 알류, 메밀, 땅콩, 고등어, 게, 새우, 돼지고기, 복 이 제품은 알류, 메밀, 땅콩, 고등어, 게, 새우, 돼지고기, 복 이 제품은 알류, 메밀, 땅콩, 고등어, 게, 새우, 돼지고기, 복 이 제품은 알류, 메밀, 땅콩, 고등어, 게, 새우, 돼지고기, 복 이 제품은 알류, 메밀, 땅콩, 고등어, 게, 새우, 돼지고기, 복 이 제품은 알류, 메밀, 땅콩, 고등어, 게, 새우, 돼지고기, 복 이 제품은 알류, 메밀, 땅콩, 고등어, 게, 새우, 돼지고기, 복 이 제품은 알류, 메밀, 땅콩, 고등어, 게, 새우, 돼지고기, 복 이 제품은 알류, 메밀, 땅콩, 고등어, 게, 새우, 돼지고기, 복 이 제품은 알류, 메밀, 땅콩, 고등어, 게, 새우, 돼지고기, 복 이 제품은 알류, 메밀, 땅콩, 고등어, 게, 새우, 돼지고기, 복 이 제품은 알류, 메밀, 땅콩, 고등어, 게, 새우, 돼지고기, 복 이 제품은 알류, 메밀, 땅콩, 고등어, 게, 새우, 돼지고기, 복 이 제품은 알류, 메밀, 땅콩, 고등어, 게, 새우, 돼지고기, 복 이 제품은 알류, 메밀, 땅콩, 고등어, 게, 새우, 돼지고기, 복 이 제품은 알류, 메밀, 땅콩, 고등어, 게, 새우, 돼지고기, 복 이 제품은 알류, 메밀, 땅콩, 고등어, 게, 새우, 돼지고기, 복 이 제품은 알류, 메밀, 땅콩, 고등어, 게, 새우, 돼지고기, 복 이 제품은 알류, 메밀, 땅콩, 고등어, 게, 새우, 돼지고기, 복 이 제품은 알류, 메밀, 땅콩, 고등어, 게, 새우, 돼지고기, 복 이 제품은 알류, 메밀, 땅콩, 고등어, 게, 새우, 돼지고기, 복 이 제품은 알류, 메밀, 땅콩, 고등어, 게, 새우, 돼지고기, 복 이 제품은 알류, 메밀, 땅콩, 고등어, 게, 새우, 돼지고기, 복 이 제품은 알류, 메밀, 땅콩, 고등어, 게, 새우, 돼지고기, 복 이 제품은 알류, 메밀, 땅콩, 고등어, 게, 새우, 돼지고기, 복 이 제품은 알류, 메밀, 땅콩, 고등어, 게, 새우, 돼지고기, 복 이 제품은 알류, 메밀, 땅콩, 고등어, 게, 새우, 돼지고기, 복 이 제품은 알류, 메밀, 땅콩, 고등어, 게, 새우, 돼지고기, 복 이 제품은 알류, 메밀, 땅콩, 고등어, 게, 새우, 돼지고기, 복 이 제품은 알류, 메밀, 땅콩, 고등어, 게, 새우, 돼지고기, 복 이 제품은 알류, 메밀, 땅콩, 고등어, 게, 새우, 돼지고기, 복 이 제품은 알류, 메밀, 땅콩, 고등어, 게, 새우, 돼지고기, 복 이 제품은 알류, 메밀, 땅콩, 고등어, 게, 새우, 돼지고기, 복 이 제품은 알류, 메밀, 땅콩, 고등어, 게, 새우, 돼지고기, 복 이 제품은 알류, 메밀, 땅콩, 고등어, 게, 새우, 돼지고기, 복 이 제품은']\n",
      "'./data/김광무_122_ocr.txt' 파일이 생성되었습니다.\n",
      "처리중 txt_path= ./data/김광무_116_ocr.txt\n"
     ]
    },
    {
     "name": "stderr",
     "output_type": "stream",
     "text": [
      " 69%|██████▉   | 43/62 [12:45<07:54, 24.95s/it]"
     ]
    },
    {
     "name": "stdout",
     "output_type": "stream",
     "text": [
      "추론결과=\n",
      "\n",
      "['\\n\\n이 이미지에는 다음과 같은 정보가 포함되어 있습니다:\\n\\n- 제품 유형: 소스 (살균제품)\\n- 품목보고번호: 19950449002348\\n- 업소명 및 소재지: 대상(주) 천안공장, 충남 천안시 서북구\\n- 원재료명: 다이스트토마토, 정제수, 토마토페이스트, 양파, 대두유, 설탕, 변성전분, 발효식초, 마늘, 정제소금, 치킨엑기스, 고추가루, 한우아채유, 바질, 오레가노, 흑후추\\n- 내포장재질: 용기 - 유리, 뚜껑 - 철, 플라염화비닐\\n- 유통기한: 2026.07.09\\n- 패키지 번호: F12404\\n\\n이 정보는 제품의 성분, 제조자, 유통 기간 등에 대한 중요한 정보를 제공합니다.']\n",
      "'./data/김광무_116_ocr.txt' 파일이 생성되었습니다.\n",
      "처리중 txt_path= ./data/김광무_109_ocr.txt\n"
     ]
    },
    {
     "name": "stderr",
     "output_type": "stream",
     "text": [
      " 71%|███████   | 44/62 [13:05<07:02, 23.48s/it]"
     ]
    },
    {
     "name": "stdout",
     "output_type": "stream",
     "text": [
      "추론결과=\n",
      "\n",
      "['\\n\\n이 이미지에는 다음과 같은 정보가 포함되어 있습니다:\\n\\n- 제품명: 쇼고기면\\n- 식품유형: 유탕면\\n- 포장재질: 폴리프로필렌\\n- 소비기한: 전면 또는 측면 표기일까지\\n- 품목보고번호: 19880383127920(원주공장), 1971048700250(익산공장)\\n- 업소명 및 소재지: 삼양식품(주) 서울특별시 성북구 오피\\n- 원료명: 소맥분(미국산), 팜유(말레이시아산), 변성전분1, 변성전분2, 활성소맥글루텐, 정제소금{해수(국내산), 천일염(호주산)}, 미감에스유, 면류첨가알칼리제(탄산칼륨, 탄산나트륨, 제이인산나트륨), 구아검, 녹차풍미유, 비타민B2, 구연산 / 분말소프 : 정제소금{해수(국내산), 천일염(호주산)}, 소고기베이스, 조미맛분, 정백당, 뿌음양념분말, 발효간장베이스, 건청경채후레이크, 매운양념분말, 비프풍미분, 양념간장분, 건당근후레이크, 효모추출물, 농후미, 식물성크림분말, 혼합양념분말, 건파, 혼합제제(L-라이신, L-글루탐산), 흙후추분말, 마늘분말, 팜유, 매운조미고추맛분, 비프향분말, 양미증진제1, 파프리카추출색소, 혼합제제(말토덱스트린, 카라멜색소Ⅲ), 양미증진제2.\\n- 유유, 대두, 밀, 돼지고기, 쇼고기 함유\\n\\n이 정보는 제품의 구성, 보관 방법, 생산자 정보 등에 대한 설명을 제공합니다.']\n",
      "'./data/김광무_109_ocr.txt' 파일이 생성되었습니다.\n",
      "처리중 txt_path= ./data/차지예_004_ocr.txt\n"
     ]
    },
    {
     "name": "stderr",
     "output_type": "stream",
     "text": [
      " 73%|███████▎  | 45/62 [13:20<05:57, 21.06s/it]"
     ]
    },
    {
     "name": "stdout",
     "output_type": "stream",
     "text": [
      "추론결과=\n",
      "\n",
      "['\\n\\n이 이미지에는 다음과 같은 정보가 포함되어 있습니다:\\n\\n- 제품명: 팔도비빔면\\n- 식품유형: 유탕면\\n- 내용량: 130g (525kcal)\\n- 소비기한: 후면표기일까지\\n- 원재료명:\\n  - 면/소액분: 밀, 대두 함유\\n  - 소금, 감미료S, 아채풍미액, 면류첨가알칼리제(탄산칼륨, 탄산나트륨, 피로인산나트륨), 구아검, 혼합제제(폴리인산나트륨, 메타인산나트륨, 메타인산칼륨), 녹차풍미액 스프/\\n  - 설탕, 정제수, 고추장, 양념간장액, 덱스트린, 정제소금, 고춧가루, 식초, 홍고추액기스, 맛베 이스사과농축과즙, 마늘엑기스, 통참깨참기름, 효모추출물, 겨자분말, 산도조절제2종, 양 파농축액혼합아채엑기스, 파프리카추출색소, 향미증진제2종, 구아검, 참깨, 김, 만두향미유\\n- 포장재질: 플라프로필렌(내면)\\n- 품목보고번호: 19830358021-21(F1)/20120512055-43(F2)\\n- 소명 및 재지: (주)팔도 이천공장 F1 : 경기도 이천시 부발읍 중부대로 1655 (주)팔도 나주공장 F2 : 전남 나주시 동수농공단지길 62-107\\n- 고객상담실: 1577-8593 / 080-023-8593 (수신자요금부담) paldofood.co.kr']\n",
      "'./data/차지예_004_ocr.txt' 파일이 생성되었습니다.\n",
      "처리중 txt_path= ./data/김광무_129_ocr.txt\n"
     ]
    },
    {
     "name": "stderr",
     "output_type": "stream",
     "text": [
      " 74%|███████▍  | 46/62 [13:33<04:54, 18.39s/it]"
     ]
    },
    {
     "name": "stdout",
     "output_type": "stream",
     "text": [
      "추론결과=\n",
      "\n",
      "['\\n\\n이 이미지에는 다음과 같은 정보가 포함되어 있습니다:\\n\\n- **제품 번호**: 19860309018248\\n- **원료**: 밀가루(미국산), 설탕, 포도당, 옥수수유(옥수씨는 외국산), 팽창제제(산성피로인산나트륨, 탄산수소나트륨, 전분, 제일인산칼슘, 첫산칼슘), 식물성크림(말레이시아산), 정제소금, 합성향료(바닐라향)\\n- **소비기한**: 뒷면 상단 표시일까지\\n- **포장재질**: 폴리에틸렌(내면)\\n- **제조원**: 오뚜기라면주식회사 경기도 안양시 동안구 흥안대로 405\\n- **고객상담실**: 080-088-1212(수신자요금부담)\\n\\n이 제품의 총 내용량은 1kg이며, 100g당 열량은 350kcal입니다.']\n",
      "'./data/김광무_129_ocr.txt' 파일이 생성되었습니다.\n",
      "처리중 txt_path= ./data/차지예_003_ocr.txt\n"
     ]
    },
    {
     "name": "stderr",
     "output_type": "stream",
     "text": [
      " 76%|███████▌  | 47/62 [13:46<04:14, 16.98s/it]"
     ]
    },
    {
     "name": "stdout",
     "output_type": "stream",
     "text": [
      "추론결과=\n",
      "\n",
      "[\"\\n\\n이 이미지에는 다음과 같은 정보가 포함되어 있습니다:\\n\\n- 제품명: 신라면, 식품유형: 유탕면\\n- 원재료명: 면/소맥분(밀:미국산, 호주산), 감자전분(독일산), 팜유(말레이시아산), 변성전분, 난각칼슘, 정제 소금, 아채조미주출물, 면류첨가알칼리제(탄산 칼륨, 탄산나트륨, 제이인산나트륨), 혼합제제 (메타인산나트륨, 폴리인산나트륨, 제일인산 나트륨, 피로인산나트륨), 올리고녹차풍미액, 비타민B2. 스프루/소고기맛베이스, 정제소금, 매콤양념분말, 간장양념분말, 설탕, 조미아미노산 간장분말, 복음양념분, 조미소고기분말, 후추가루, 마늘베이스, 간장분말, 조미양념분, 조미홍고추 분말, 5'-리보뉴클레오티드이나트륨, 매운맛 조미분, 호박산이나트륨, 대두단백, 건파, 건청 경채, 건표고버섯, 건당근, 고추맛후레이크.\\n- 소비기한: 후면 표기일까지\\n- 포장재질: 플리프로필렌\\n- 품목 보고번호: 19760342001-155(안양), 19860360007-21(안성), 20010549541-1(구미), 19720154001-1(부산)\"]\n",
      "'./data/차지예_003_ocr.txt' 파일이 생성되었습니다.\n",
      "처리중 txt_path= ./data/김광무_127_ocr.txt\n"
     ]
    },
    {
     "name": "stderr",
     "output_type": "stream",
     "text": [
      " 77%|███████▋  | 48/62 [14:01<03:48, 16.36s/it]"
     ]
    },
    {
     "name": "stdout",
     "output_type": "stream",
     "text": [
      "추론결과=\n",
      "\n",
      "['\\n\\n이 이미지에는 다음과 같은 정보가 포함되어 있습니다:\\n\\n- 내용량: 1kg\\n- 원재료 및 함량: 사양벌꿀 100% (국산)\\n- 포장재질: 용기-PET, 뚜껑-PP\\n- 소비업체: (주)꽃샘식품/경기도 포천시 소화읍 축엽산로 35번길 83\\n- 반품 및 교환장소: 본사 또는 소비자상담실 (080-541-9920)\\n- 보관방법: 사용 후에는 뚜껑을 꼭 닫아 상온의 건조한 곳에 보관하세요. 냉장고에 보관하지 마십시오. 벌꿀은 성분 조성상 저온이나 온도변화에 의해 결정이 생길 수 있으나 품질에는 이상이 없습니다. 결정된 꿀은 따뜻한 물에 중탕으로 두시면 결정이 없어집니다.\\n- 부정·불량식품 신고는 국번없이 1399\\n- 본 제품은 공정거래위원회 고시 소비자 불평해결기준에 의거 교환 또는 보상을 받으실 수 있습니다.\\n- 만 12개월 미만의 영아에게는 섭취 시키지 마십시오.\\n\\n- 포장일: 2025.05.30\\n- 소비기한: 2027.05.29\\n\\n- 바코드 번호: 8803217011003\\n- 재활용 기호: PP']\n",
      "'./data/김광무_127_ocr.txt' 파일이 생성되었습니다.\n",
      "처리중 txt_path= ./data/김광무_115_ocr.txt\n"
     ]
    },
    {
     "name": "stderr",
     "output_type": "stream",
     "text": [
      " 79%|███████▉  | 49/62 [15:04<06:35, 30.40s/it]"
     ]
    },
    {
     "name": "stdout",
     "output_type": "stream",
     "text": [
      "추론결과=\n",
      "\n",
      "['\\n\\n이 이미지에는 다음과 같은 정보가 포함되어 있습니다:\\n\\n- 제품명: 백설 대왕 납작당면\\n- 내용량: 300g\\n- 제조사: SISHUI LIFENG FOOD PRODUCTS CO., LTD\\n- 수입업체: 씨제이제일제당(주)/서울특별시 중구 동호로 330\\n- 소비기한: 후면 하단 표기일까지\\n- 보관법: 실온에 보관하세요.\\n- 원산지: 중국\\n- 반품 및 교환처: 전국 판매점 및 대리점\\n- 주의사항:\\n  - 삽은 당면을 찬물에 행글 때 직접 손을 대면 화상의 위험이 있으니 가급적 바닥에서 행글하세요.\\n  - 삽은 당면은 변질될 우려가 있으니 가급적 바닥에서 행글하세요.\\n  - 개봉 후 가급적 한 번에 드시고, 장기간 보관할 때는 벌레가 들어갈 수 있으니 밀봉 보관해주세요.\\n  - 이 제품은 알류우, 유, 대두, 밀, 쇠고기, 메밀, 땅콩, 고등어, 게, 새우, 복숭아, 토마토, 호두, 닭고\\n  - 유, 대두, 밀, 쇠고기, 메밀, 땅콩, 고등어, 게, 새우, 복숭아, 토마토, 호두, 닭고\\n  - 유, 대두, 밀, 쇠고기, 메밀, 땅콩, 고등어, 게, 새우, 복숭아, 토마토, 호두, 닭고\\n  - 유, 대두, 밀, 쇠고기, 메밀, 땅콩, 고등어, 게, 새우, 복숭아, 토마토, 호두, 닭고\\n  - 유, 대두, 밀, 쇠고기, 메밀, 땅콩, 고등어, 게, 새우, 복숭아, 토마토, 호두, 닭고\\n  - 유, 대두, 밀, 쇠고기, 메밀, 땅콩, 고등어, 게, 새우, 복숭아, 토마토, 호두, 닭고\\n  - 유, 대두, 밀, 쇠고기, 메밀, 땅콩, 고등어, 게, 새우, 복숭아, 토마토, 호두, 닭고\\n  - 유, 대두, 밀, 쇠고기, 메밀, 땅콩, 고등어, 게, 새우, 복숭아, 토마토, 호두, 닭고\\n  - 유, 대두, 밀, 쇠고기, 메밀, 땅콩, 고등어, 게, 새우, 복숭아, 토마토, 호두, 닭고\\n  - 유, 대두, 밀, 쇠고기, 메밀, 땅콩, 고등어, 게, 새우, 복숭아, 토마토, 호두, 닭고\\n  - 유, 대두, 밀, 쇠고기, 메밀, 땅콩, 고등어, 게, 새우, 복숭아, 토마토, 호두, 닭고\\n  - 유, 대두, 밀, 쇠고기, 메밀, 땅콩, 고등어, 게, 새우, 복숭아, 토마토, 호두, 닭고\\n  - 유, 대두, 밀, 쇠고기, 메밀, 땅콩, 고등어, 게, 새우, 복숭아, 토마토, 호두, 닭고\\n  - 유, 대두, 밀, 쇠고기, 메밀, 땅콩, 고등어, 게, 새우, 복숭아, 토마토, 호두, 닭고\\n  - 유, 대두, 밀, 쇠고기, 메밀, 땅콩, 고등어, 게, 새우, 복숭아, 토마토, 호두, 닭고\\n  - 유, 대두, 밀, 쇠고기, 메밀, 땅콩, 고등어, 게, 새우, 복숭아, 토마토, 호두, 닭고\\n  - 유, 대두, 밀, 쇠고기, 메밀, 땅콩, 고등어, 게, 새우, 복숭아, 토마토, 호두, 닭고\\n  - 유, 대두, 밀, 쇠고기, 메밀, 땅콩, 고등어, 게, 새우, 복숭아, 토마토, 호두, 닭고\\n  - 유, 대두, 밀, 쇠고기, 메밀, 땅콩, 고등어, 게, 새우, 복숭아, 토마토, 호두, 닭고\\n  - 유, 대두, 밀, 쇠고기, 메밀, 땅콩, 고등어, 게, 새우, 복숭아, 토마토, 호두, 닭고\\n  - 유, 대두, 밀, 쇠고기, 메밀, 땅콩, 고등어, 게, 새우, 복숭아, 토마토, 호두, 닭고\\n  - 유, 대두, 밀, 쇠고기, 메밀, 땅콩, 고등어, 게, 새우, 복숭아, 토마토, 호두, 닭고\\n  - 유, 대두, 밀, 쇠고기, 메밀, 땅콩, 고등어, 게, 새우, 복숭아, 토마토, 호두, 닭고\\n  - 유, 대두, 밀, 쇠고기, 메밀, 땅콩, 고등어, 게, 새우, 복숭아, 토마토, 호두, 닭고\\n  - 유, 대두, 밀, 쇠고기, 메밀, 땅콩, 고등어, 게, 새우, 복숭아, 토마토, 호두, 닭고\\n  - 유, 대두, 밀, 쇠고기, 메밀, 땅콩, 고등어, 게, 새우, 복숭아, 토마토, 호두, 닭고\\n  - 유, 대두, 밀, 쇠고기, 메밀, 땅콩, 고등어, 게, 새우, 복숭아, 토마토, 호두, 닭고\\n  - 유, 대두, 밀, 쇠고기, 메밀, 땅콩, 고등어, 게, 새우, 복숭아, 토마토, 호두, 닭고\\n  - 유, 대두, 밀, 쇠고기, 메밀, 땅콩, 고등어, 게, 새우, 복숭아, 토마토, 호두, 닭고\\n  - 유, 대두, 밀, 쇠고기, 메밀, 땅콩, 고등어, 게, 새우, 복숭아, 토마토, 호두, 닭고\\n  - 유, 대두, 밀, 쇠고기, 메밀, 땅콩, 고등어, 게, 새우, 복숭아, 토마토, 호두, 닭고\\n  - 유, 대두, 밀, 쇠고기, 메밀, 땅콩, 고등어, 게, 새우, 복숭아, 토마토, 호두, 닭고\\n  - 유, 대두, 밀, 쇠고기, 메밀, 땅콩, 고등어, 게, 새우, 복숭아, 토마토, 호두, 닭고\\n  - 유, 대두, 밀, 쇠고기, 메밀, 땅콩, 고등어, 게, 새우, 복숭아, 토마토, 호두, 닭고\\n  - 유, 대두, 밀, 쇠고기, 메밀, 땅콩, 고등어, 게, 새우, 복숭아, 토마토, 호두, 닭고\\n  - 유, 대두, �']\n",
      "'./data/김광무_115_ocr.txt' 파일이 생성되었습니다.\n",
      "처리중 txt_path= ./data/김광무_124_ocr.txt\n"
     ]
    },
    {
     "name": "stderr",
     "output_type": "stream",
     "text": [
      " 81%|████████  | 50/62 [15:20<05:13, 26.10s/it]"
     ]
    },
    {
     "name": "stdout",
     "output_type": "stream",
     "text": [
      "추론결과=\n",
      "\n",
      "['\\n\\n이 이미지에는 다음과 같은 정보가 포함되어 있습니다:\\n\\n- 제품명: (주)담터에프엔비/전라남도 순천시 승주읍 승주로 538-46\\n- 소비기한: 전면 상단 표기일까지\\n- 내용량: 225g(15g X 15포)\\n- 원재료명:\\n  - 설탕, 덱스트린, 아몬드(미국산), 쌍화농축액분말Ⅰ[천궁(국산), 작약(국산), 당귀(국산), 황기, 숙지황, 감초, 계피], 감자 전분가공품[감자: 외국산(독일산, 덴마크산, 폴란드산 등)], 건조대추, 대추농축액분말, 호두, 혼합제제(말토덱스트린, 카라멜색소IV), 생강농축분말, 정제소금, 첨즙분말, 쌍화 농축액분말Ⅱ[당귀(국산), 천궁(국산), 계피, 감초, 백작약(국산), 황기, 숙지황], 구연산\\n- 호두 함유\\n- 용기(포장)재질: 내포장재질-폴리에틸렌(PE)\\n- 품목보고번호: 20080509087-45\\n\\n이 제품은 우유, 떡콩, 대두, 밀, 복숭아를 사용한 제품과 같은 제조시설에서 제조하고 있습니다. 본 제품은 공정거래위원회 고시 소비자 분쟁 해결 기준에 의거 교환 또는 보상받을 수 있습니다.']\n",
      "'./data/김광무_124_ocr.txt' 파일이 생성되었습니다.\n",
      "처리중 txt_path= ./data/차지예_005_ocr.txt\n"
     ]
    },
    {
     "name": "stderr",
     "output_type": "stream",
     "text": [
      " 82%|████████▏ | 51/62 [15:33<04:03, 22.15s/it]"
     ]
    },
    {
     "name": "stdout",
     "output_type": "stream",
     "text": [
      "추론결과=\n",
      "\n",
      "['\\n\\n이 이미지에는 다음과 같은 정보가 포함되어 있습니다:\\n\\n- **식품유형**: 커피\\n- **중량**: 3,627 g (11.7 g x 310개)\\n- **원재료명**:\\n  - 자일로스 슈거 [설탕, 자일로스, 난소화성 말토덱스트린]\\n  - 무지방우유 함유 프리마 [올리고당, 식물성경화유지 {코코넛 오일(인도네시아산, 필리핀산)}, 무지방 농축우유(국산), 제이인산칼륨, 농축우유단백분말], 커피 [Maxim 화이트골드 (커피원두 : 브라질산 45%, 페루산 25%)] 10.25%\\n- **제조원**:\\n  - 동서식품(주) 인천공장: 인천광역시 부평구 새벌로 55\\n  - 동서식품(주) 창원공장: 경상남도 창원시 의창구 반계로 40\\n- **봉지포장재질**: 플라스틱\\n- **소비기한**: 옆면에 표시된 일자까지\\n- **품목보고번호**: \\n  - 인천공장: 19750202004-162\\n  - 창원공장: 19860589043-66\\n\\n이 제품은 유유 함유이며, 사용법은 1봉지(11.7 g)를 잔에 넣고 기호에 맞게 끓여운 물을 적당량 (약 80 ml) 부어 완전히 용해한 후 음용하십시오.']\n",
      "'./data/차지예_005_ocr.txt' 파일이 생성되었습니다.\n",
      "처리중 txt_path= ./data/김광무_113_ocr.txt\n"
     ]
    },
    {
     "name": "stderr",
     "output_type": "stream",
     "text": [
      " 84%|████████▍ | 52/62 [15:50<03:25, 20.55s/it]"
     ]
    },
    {
     "name": "stdout",
     "output_type": "stream",
     "text": [
      "추론결과=\n",
      "\n",
      "[\"\\n\\n이 이미지에는 한글로 쓰여진 텍스트가 많습니다. 아래는 텍스트의 일부를 추출한 것입니다:\\n\\n```\\n제품명: 신라면블랙시발\\n식품유형: 면/소맥분(말: 호주산, 미국산), 감자전분(덴마크산), 팜유(말레이시아산), 변성전분, 식물성분(메타인산나트륨, 플라인산나트륨, 제일인산나트륨, 피로인산나트륨), 올리고녹차분말, 색소. 스프루/돈골추출물분말, 덱스트린, 비크림, 정제말토스, 육수맛조미베이스, 본오일분말, 양파풍미분, 양파볶음분말, 버섯야채조미분, 참깨조미분말, 우글조미분말, 양파분말, 칠리맛풍미분, 설탕, 정제소금, 5'-리보뉴클레오티드이나트륨, 간장분말, 참기름양파볶음분말, 후추가루, 김치조미베이스, 조미홍고추분말, 호박산이어분말, 조미분, 생강추출물분말, 건청경채, 고기고명, 계란후레이크, 건표고버섯, 린홍고추분말, 밀, 대두, 계란, 우유, 땅콩, 새우, 닭고기, 돼지고기, 쇠고기 함유\\n\\n포장재질: 폴리에틸렌\\n용기재질: 폴리에틸렌(내면)+종이(외면)\\n```\\n\\n이 텍스트는 제품의 성분과 포장 재료에 대한 정보를 제공합니다.\"]\n",
      "'./data/김광무_113_ocr.txt' 파일이 생성되었습니다.\n",
      "처리중 txt_path= ./data/김광무_125_ocr.txt\n"
     ]
    },
    {
     "name": "stderr",
     "output_type": "stream",
     "text": [
      " 85%|████████▌ | 53/62 [16:10<03:02, 20.24s/it]"
     ]
    },
    {
     "name": "stdout",
     "output_type": "stream",
     "text": [
      "추론결과=\n",
      "\n",
      "['\\n\\n이 이미지에는 다음과 같은 정보가 포함되어 있습니다:\\n\\n- 제품명: 단호박마차\\n- 식품유형: 고형차\\n- 업소명 및 소재지: (주)담터 / 경기도 포천시 신북면 청신로 2097번길 85-8\\n- 소비기한: 전면 표기일까지\\n- 내용량: 255g (17g X 15포)\\n- 원재료명: 단호박마알파옥분[옥수수 분말(외국산: 호주산, 브라질산, 인도산 등), 단호박분말(국산), 마분말(국산)], 식물성크림분[물엿, 야자유(외국산: 인도네시아산, 필리핀산, 말레이시아산 등), 카제인나트륨, 제이인산칼륨, 글리세린 지방산에스테르], 설탕, 단호박분말(국산), 유청분말, 정제소금\\n- 보관방법: 직사광선을 피하여 통풍이 잘되는 서늘한 장소에 보관하십시오.\\n- 용기(포장)재질: 내포장재질-폴리에틸렌(PE)\\n- 품목보고번호: 1971037200186\\n\\n영양정보:\\n- 총 내용량: 255g (17g X 15포)\\n- 1포(17g) 당: 75 kcal\\n- 나트륨: 159mg (8%)\\n- 탄수화물: 13g (4%)\\n- 당류: 6g (6%)\\n- 지방: 2.5g (5%)\\n- 트랜스지방: 0g\\n- 포화지방: 1.6g (11%)\\n\\n이 제품은 호두, 땅콩, 대두, 밀, 복숭아를 사용한 제품과 같은 제조시설에서 제조하고 있습니다. 본 제품은 공정거래위원회 고시 소비자 불만 해결 기준에 의거 교환 또는 보상받을 수 있습니다. 스틱 끝 부분이 날카로우니 주의하세요. 질소충전']\n",
      "'./data/김광무_125_ocr.txt' 파일이 생성되었습니다.\n",
      "처리중 txt_path= ./data/김광무_100_ocr.txt\n"
     ]
    },
    {
     "name": "stderr",
     "output_type": "stream",
     "text": [
      " 87%|████████▋ | 54/62 [16:29<02:38, 19.81s/it]"
     ]
    },
    {
     "name": "stdout",
     "output_type": "stream",
     "text": [
      "추론결과=\n",
      "\n",
      "['\\n\\n이 이미지에는 다음과 같은 정보가 포함되어 있습니다:\\n\\n- 제품명: 짱서요 MINI\\n- 식품유형: 캔디류\\n- 내용량: 162g (510 kcal) (27g (85 kcal) x 6봉)\\n- 유동전문 판매원: 롯데웰푸드(주) 서울시 영등포구 양평로21길 25\\n- 제조원: 국제제과(주) 충북 청주시 청원구 오창읍 과학산업3로 188\\n- 품목보고번호: 20010415034655\\n- 소비기한: 후면 표기일까지 (연.월.일)\\n- 내포장재질: 폴리프로필렌\\n- 원재료명:\\n  - 설탕, 물엿, 젤라틴, D-소비톨액(감미료), 산도조절제Ⅰ, 산도조절제Ⅱ, 산도조절제Ⅲ, 혼합제Ⅰ(젖산, 젖산칼슘, 이산화규소), 향료3종, 당류가공품, 페틴, 산도조절제Ⅳ, 블랙캐롯농축액, 혼합제Ⅱ(홍화황색소, 치자청색소, 주정), 천연향료(콜라향)\\n- 보관 방법: 제품이 고온에 약하지 않도록 30℃ 이하에서 직사광선을 피해 낮은 습도로 보관해 주시고, 개봉 후 빨리 드십시오.\\n- 소비자기본법에 의한 피해 보상: 부정·불량식품 신고는 국번 없이 1399\\n- 유동 중 변질품은 구입 상점 및 본사에서 항상 교환 종류별로 수량이 다를 수 있으나 제품 중량에는 차이가 없습니다. 신맛에 주의하세요.\\n- 한 입에 삼키지 않도록 주의하세요.\\n\\n이 정보는 제품의 내용량, 제조사, 소비기한, 원재료 등에 대한 설명을 제공합니다.']\n",
      "'./data/김광무_100_ocr.txt' 파일이 생성되었습니다.\n",
      "처리중 txt_path= ./data/차지예_001_ocr.txt\n"
     ]
    },
    {
     "name": "stderr",
     "output_type": "stream",
     "text": [
      " 89%|████████▊ | 55/62 [16:32<01:45, 15.04s/it]"
     ]
    },
    {
     "name": "stdout",
     "output_type": "stream",
     "text": [
      "추론결과=\n",
      "\n",
      "['\\n\\n이 이미지에는 한국어로 작성된 텍스트가 포함되어 있습니다. 아래는 이미지에서 읽을 수 있는 내용입니다:\\n\\n```\\n가다란어 79% (원양산), 카놀라 유(외국산: 캐나다, 호주, 이탈리아 등), 당근(국산)\\n```\\n\\n이 텍스트는 가다란어의 비율을 나타내며, 원양산과 외국산의 카놀라 유, 그리고 당근을 사용하고 있다는 것을 의미합니다.']\n",
      "'./data/차지예_001_ocr.txt' 파일이 생성되었습니다.\n",
      "처리중 txt_path= ./data/차지예_010_ocr.txt\n"
     ]
    },
    {
     "name": "stderr",
     "output_type": "stream",
     "text": [
      " 90%|█████████ | 56/62 [16:45<01:25, 14.26s/it]"
     ]
    },
    {
     "name": "stdout",
     "output_type": "stream",
     "text": [
      "추론결과=\n",
      "\n",
      "['\\n\\n이 이미지에는 다음과 같은 정보가 포함되어 있습니다:\\n\\n- **원재료명**: 1등급 원유 99.3%, 탄산칼슘혼합제 0.677%, 구연산철암모늄, 비타민A혼합제, 비타민B2, 비타민D3 혼합제, 염산\\n- **포장재질**: 폴리에틸렌\\n- **품목보고번호**: 19980476017162\\n- **저지방·유지방 함량**: 1.5% 이하\\n- **살균제품**: 130℃ 이상에서 3초 이상 개봉 후 냉장보관하시고 빠른 시일 내에 드세요.\\n- **칼슘이 과도하게 섭취되도록 혼들어 드십시오.**\\n- **이 제품은 알류, 메밀, 땅콩, 대두, 밀, 복숭아, 토마토, 호두, 돼지고기, 쇠고기를 사용한 제품과 같은 제조시설에서 제조하고 있습니다.**\\n- **이 제품은 소비자분쟁 해결기준에 의거 교환 또는 보상을 받을 수 있습니다.**\\n- **반품 및 교환**: 구입처 및 대리점\\n- **부정·불량 식품 신고는 국번없이 1399**\\n- **고객상담실**: 080-589-3223/4\\n\\n이 정보는 주로 제품의 성분, 포장, 보관 방법, 안전 지침 등에 대한 내용을 포함하고 있습니다.']\n",
      "'./data/차지예_010_ocr.txt' 파일이 생성되었습니다.\n",
      "처리중 txt_path= ./data/차지예_007_ocr.txt\n"
     ]
    },
    {
     "name": "stderr",
     "output_type": "stream",
     "text": [
      " 92%|█████████▏| 57/62 [16:59<01:11, 14.25s/it]"
     ]
    },
    {
     "name": "stdout",
     "output_type": "stream",
     "text": [
      "추론결과=\n",
      "\n",
      "['\\n\\n이 이미지에는 다음과 같은 정보가 포함되어 있습니다:\\n\\n- 제품명: 쉐킷쉐킷 치즈맛 시즈닝\\n- 식품유형: 복합조미식품\\n- 내용량: 7g\\n- 소비기한: 별도 표시일까지\\n- 조성원:\\n  - 가공치즈 20% (덴마크산/체다치즈 87%, 유청분말, 제이인산 나트륨, 정제소금, 덱스트린, 포도당, 기타설탕 [설탕, 전분], 가공 유크림 [유크림 (호주산), 유당 (미국산), 카제인나트륨, 제이인산칼륨, 유화제], 기타가공품1 [가공버터 (호주산)], 유당 (미국산), 카제인나트륨, 유화제, 정제소금, 혼합분유 (탈지분유, 탈염휘이퍼미에이드), 정제소금, 유청, 복합조미식품, 이산화규소, 향미증 진제, 구연산, DL-사과산, 효소처리스테비아, 기타 가공품2, 향료, 심황색소, 파프리카추출색소)\\n  - 기타: 알레르기물질 (우유, 대두, 밀 함유)\\n\\n- 포장내질: 폴리에틸렌\\n- 품목보고번호: 199104450777021\\n\\n- 보관방법: 실온보관 (1~35℃)\\n- 반품 및 교환장소: 유통전 문판매원 및 구입처\\n- 부정 불량식품 신고는 국번없이 1399로 가능합니다.\\n- 소비자상담실: 1588-9282']\n",
      "'./data/차지예_007_ocr.txt' 파일이 생성되었습니다.\n",
      "처리중 txt_path= ./data/차지예_002_ocr.txt\n"
     ]
    },
    {
     "name": "stderr",
     "output_type": "stream",
     "text": [
      " 94%|█████████▎| 58/62 [17:14<00:58, 14.53s/it]"
     ]
    },
    {
     "name": "stdout",
     "output_type": "stream",
     "text": [
      "추론결과=\n",
      "\n",
      "['\\n\\n이 이미지에는 다음과 같은 정보가 포함되어 있습니다:\\n\\n- 제품의 내용량: 120g (500 kcal)\\n- 소비기한: 후면 표기일까지\\n- 원재료 및 소맥분: 밀, 호주산, 말레이시아산, 덴마크산, 독일산, 변성전분 1, 변성전분 2, 글루텐, 정제소금, 감미유 S, 시즈닝조미액, 면류첨가물, 피로인산나트륨, 혼합제제, 알긴산프릴리콜 스프, 정제소금, 고추가루 1, 건양배추, 건청경채, 고추가루 2, 비프시즈닝분말, L-글루탐산나트륨(향미증진제), 장국베이스, 쇠고기조미분말, 불고기맛분말, 핫스파이스분말, 소고기전골에스, 조미분에이, 건파, 설탕, 매운풍미분, 매운양념분말, 사골설령탕분말, 양조간장분말, 건표고버섯, 조미매늘분, 양지베이스분말, 향후추분말, 효모조미액분말, 핫베이스분말, 표고버섯액분말, 건홍피망, 계란, 우유, 대두, 밀, 대지고기, 쇠고기 함유\\n- 포장재질: 폴리프로필렌 (내면)\\n- 품목보고번호: 19830358021-262(F1) / 20120512055-16(F2)\\n- 업소명 및 소재지: (주)팔도 이천공장 F1 : 경기도 이천시 부발읍 중부대로 1655 (주)팔도 나주공장 F2 : 전남 나주시 동수농공단지길 62-107']\n",
      "'./data/차지예_002_ocr.txt' 파일이 생성되었습니다.\n",
      "처리중 txt_path= ./data/차지예_011_ocr.txt\n"
     ]
    },
    {
     "name": "stderr",
     "output_type": "stream",
     "text": [
      " 95%|█████████▌| 59/62 [17:33<00:47, 15.71s/it]"
     ]
    },
    {
     "name": "stdout",
     "output_type": "stream",
     "text": [
      "추론결과=\n",
      "\n",
      "['\\n\\n이 이미지에는 다음과 같은 정보가 포함되어 있습니다:\\n\\n- 제품명: 복숭아홍차 베이스\\n- 내용량: 970 ml\\n- 유형: 음료베이스\\n- 유통기한: 용기 하단 표시일까지\\n- 품목보고번호: 19830242017-79\\n\\n제품의 주요 성분은 다음과 같습니다:\\n- 정제수, 기타 과당, 설탕, 올리고당, 복숭아과즙으로 15.4%(복숭아 함량 35%)\\n- 사과산, 구연산, 합성향료(복숭아향), 홍차추출분말, 칠레산, 곡감농축액(국산), 스테비올배당체, 데스트린, 카라멜색소, 혼합제제(베리류색소, 프로필렌글리콜, 적양배추색소 주정), 구연산나트륨, 잔탄검, 수크랄로스(감미료), 자당지방산 에스테르(유화제), 정제소금, 자몽종자추출물\\n\\n포장재질은 용기(폴리에틸렌테프탈레이트) / 두경(폴리에틸렌)이며, 업소명 및 소재지는 주광야식품 대전광역시 대덕구 신탄진로 738번길 134입니다.\\n\\n보관 방법은 직사광선을 피하고 건조하고 서늘한 곳에 보관하십시오.\\n\\n주의사항은 개봉 후 냉장보관하거나 빨리 드시기 바랍니다.\\n\\n반품 및 교환은 소비자 상담실 및 구입처에 문의해야 합니다.\\n\\n영양 정보는 다음과 같습니다:\\n- 총 내용량: 970 ml (50 ml x 19회)\\n- 50 ml 당:\\n  - 나트륨: 0mg (0%)\\n  - 탄수화물: 19g (6%)\\n  - 당류: 18g (18%)\\n  - 지방: 0g (0%)\\n  - 트랜스지방: 0g (0%)\\n  - 포화지방: 0g (0%)\\n  - 콜레스테롤: 0mg (0%)\\n  - 단백질: 0g (0%)\\n\\n이상이 이 이미지에서 판독된 정보입니다.']\n",
      "'./data/차지예_011_ocr.txt' 파일이 생성되었습니다.\n",
      "처리중 txt_path= ./data/차지예_006_ocr.txt\n"
     ]
    },
    {
     "name": "stderr",
     "output_type": "stream",
     "text": [
      " 97%|█████████▋| 60/62 [18:35<00:59, 29.58s/it]"
     ]
    },
    {
     "name": "stdout",
     "output_type": "stream",
     "text": [
      "추론결과=\n",
      "\n",
      "['\\n\\n이 이미지에는 다음과 같은 정보가 포함되어 있습니다:\\n\\n1. **제품명**: 콘마요소스\\n2. **식품 유형**: 소스\\n3. **내용량**: 40g\\n4. **영양 정보**:\\n   - 나트륨: 115mg (11%)\\n   - 탄수화물: 8g (2%)\\n   - 지방: 6g (6%)\\n   - 트랜스지방: 0g (0%)\\n   - 오메가-3 지방: 1.9g (13%)\\n   - 당류: 6g (6%)\\n   - 조지방: 12g (22%)\\n   - 브레스테롤: 5mg (1%)\\n   - 칼슘: 0.4g (1%)\\n   - 비타민 A: 11% (기준치에 대한 비율)\\n   - 비타민 C: 11% (기준치에 대한 비율)\\n   - 비타민 E: 11% (기준치에 대한 비율)\\n   - 칼륨: 11% (기준치에 대한 비율)\\n   - 철분: 11% (기준치에 대한 비율)\\n   - 단백질: 11% (기준치에 대한 비율)\\n   - 탄수화물: 11% (기준치에 대한 비율)\\n   - 지방: 11% (기준치에 대한 비율)\\n   - 칼슘: 11% (기준치에 대한 비율)\\n   - 비타민 A: 11% (기준치에 대한 비율)\\n   - 비타민 C: 11% (기준치에 대한 비율)\\n   - 비타민 E: 11% (기준치에 대한 비율)\\n   - 칼륨: 11% (기준치에 대한 비율)\\n   - 철분: 11% (기준치에 대한 비율)\\n   - 단백질: 11% (기준치에 대한 비율)\\n   - 탄수화물: 11% (기준치에 대한 비율)\\n   - 지방: 11% (기준치에 대한 비율)\\n   - 칼슘: 11% (기준치에 대한 비율)\\n   - 비타민 A: 11% (기준치에 대한 비율)\\n   - 비타민 C: 11% (기준치에 대한 비율)\\n   - 비타민 E: 11% (기준치에 대한 비율)\\n   - 칼륨: 11% (기준치에 대한 비율)\\n   - 철분: 11% (기준치에 대한 비율)\\n   - 단백질: 11% (기준치에 대한 비율)\\n   - 탄수화물: 11% (기준치에 대한 비율)\\n   - 지방: 11% (기준치에 대한 비율)\\n   - 칼슘: 11% (기준치에 대한 비율)\\n   - 비타민 A: 11% (기준치에 대한 비율)\\n   - 비타민 C: 11% (기준치에 대한 비율)\\n   - 비타민 E: 11% (기준치에 대한 비율)\\n   - 칼륨: 11% (기준치에 대한 비율)\\n   - 철분: 11% (기준치에 대한 비율)\\n   - 단백질: 11% (기준치에 대한 비율)\\n   - 탄수화물: 11% (기준치에 대한 비율)\\n   - 지방: 11% (기준치에 대한 비율)\\n   - 칼슘: 11% (기준치에 대한 비율)\\n   - 비타민 A: 11% (기준치에 대한 비율)\\n   - 비타민 C: 11% (기준치에 대한 비율)\\n   - 비타민 E: 11% (기준치에 대한 비율)\\n   - 칼륨: 11% (기준치에 대한 비율)\\n   - 철분: 11% (기준치에 대한 비율)\\n   - 단백질: 11% (기준치에 대한 비율)\\n   - 탄수화물: 11% (기준치에 대한 비율)\\n   - 지방: 11% (기준치에 대한 비율)\\n   - 칼슘: 11% (기준치에 대한 비율)\\n   - 비타민 A: 11% (기준치에 대한 비율)\\n   - 비타민 C: 11% (기준치에 대한 비율)\\n   - 비타민 E: 11% (기준치에 대한 비율)\\n   - 칼륨: 11% (기준치에 대한 비율)\\n   - 철분: 11% (기준치에 대한 비율)\\n   - 단백질: 11% (기준치에 대한 비율)\\n   - 탄수화물: 11% (기준치에 대한 비율)\\n   - 지방: 11% (기준치에 대한 비율)\\n   - 칼슘: 11% (기준치에 대한 비율)\\n   - 비타민 A: 11% (기준치에 대한 비율)\\n   - 비타민 C: 11% (기준치에 대한 비율)\\n   - 비타민 E: 11% (기준치에 대한 비율)\\n   - 칼륨: 11% (기준치에 대한 비율)\\n   - 철분: 11% (기준치에 대한 비율)\\n   - 단백질: 11% (기준치에 대한 비율)\\n   - 탄수화물: 11% (기준치에 대한 비율)\\n   - 지방: 11% (기준치에 대한 비율)\\n   - 칼슘: 11% (기준치에 대한 비율)\\n   - 비타민 A: 11% (기준치에 대한 비율)\\n   - 비타민 C: 11% (기준치에 대한 비율)\\n   - 비타민 E: 11% (기준치에 대한 비율)\\n   - 칼륨: 11% (기준치에 대한 비율)\\n   - 철분: 11% (기준치에 대한 비율)\\n   - 단백질: 11% (기준치에 대한 비율)\\n   - 탄수화물: 11% (기준치에 대한 비율)\\n   - 지방: 11% (기준치에 대한 비율)\\n   - 칼슘: 11% (기준치에 대한 비율)\\n   - 비타민 A: 11% (기준치에 대한 비율)\\n   - 비타민 C: 11% (기준치에 대한 비율)\\n   - 비타민 E: 11% (기준치에 대한 비율)\\n   - 칼륨: 11% (기준치에 대한 비율)\\n   - 철분: 11% (기준치에 대한 비율)\\n   - 단백질: 11% (기준치에 대한 비율)\\n   - 탄수화물: 11% (기준치에 대한 비율)\\n   - 지방: 11% (기준치에 대한 비율)\\n   - 칼슘: 11% (기준치에 대한 비율)\\n   - 비타민 A: 11% (기준치에 대한 비율)\\n   - 비타민 C: 11% (기준치에 대한 비율)\\n   - 비타민 E: 11% (기준치에 대한 비율)\\n   - 칼륨: 11% (기준치에 대한 비율)\\n   - 철분: 11% (기준치에 대한 비율)\\n   - 단백질: 11% (기준치에 대한 비율)\\n   - 탄수화물: 11% (기준치에 대한 비율)\\n   - 지방: 11% (기준치에 대한 비율)\\n   - 칼슘: 11% (기준치에 대한 비율)\\n   - 비타민 A: 11% (기준치에 대한 비율)\\n   - 비타민 C: 11% (기준치에 대한 비율)\\n   - 비타민 E: 11% (기준치에 대한 비율)\\n   - 칼륨: 11% (기준치에 대한 비율)\\n   - 철분: 11% (기준치에 대한 비율)\\n   - 단']\n",
      "'./data/차지예_006_ocr.txt' 파일이 생성되었습니다.\n",
      "처리중 txt_path= ./data/차지예_009_ocr.txt\n"
     ]
    },
    {
     "name": "stderr",
     "output_type": "stream",
     "text": [
      " 98%|█████████▊| 61/62 [18:47<00:24, 24.37s/it]"
     ]
    },
    {
     "name": "stdout",
     "output_type": "stream",
     "text": [
      "추론결과=\n",
      "\n",
      "['\\n\\n이 이미지에는 다음과 같은 정보가 포함되어 있습니다:\\n\\n- 제품명: 백설 돼지갈비양념\\n- 식품의 유형: 소스 (살균제품)\\n- 내용량: 500g\\n- 제조사: 씨제이제일제당(주) 충청남도 논산시 연무읍 축본2길 16\\n- 포장재질: 용기 - 유리, 뚜껑 - 폴리염화비닐\\n- 소비기한: 하단 표기일까지\\n- 보관방법: 실온 보관, 개봉 후 냉장보관 권장\\n- 품목보고번호: 20020464088-38\\n- 원재료명: 혼합간장{아미노산액(탈지대두: 외국산), 양조간장원액(탈지대두: 외국산), 정제소금, 기타과당}, 설탕, 기타과당, 배류{배(국산), 비타민C}, 정제수, 양파퓨레(중국산), 사과퓨레{사과(국산), 비타민C}, 다진마늘, 다진생강, 카라멜색소Ⅲ, 후춧가루, 양미증진제, 정제소금, 산도조절제, L-글루탐산나트륨(향미증 진제), 잔탄검, 청양고추액기스C, 감귤류추출물\\n- 대두, 밀 함유\\n- 반품 및 교환장소: 전국판매점\\n- 유통기한: 2026.02.18 20:18 DBS']\n",
      "'./data/차지예_009_ocr.txt' 파일이 생성되었습니다.\n",
      "처리중 txt_path= ./data/차지예_008_ocr.txt\n"
     ]
    },
    {
     "name": "stderr",
     "output_type": "stream",
     "text": [
      "100%|██████████| 62/62 [19:00<00:00, 18.40s/it]"
     ]
    },
    {
     "name": "stdout",
     "output_type": "stream",
     "text": [
      "추론결과=\n",
      "\n",
      "['\\n\\n이 이미지에는 다음과 같은 정보가 포함되어 있습니다:\\n\\n- 제품 유형: 과자(유처리제품)\\n- 품목보고번호: 19960242067421\\n- 내포장재질: 플리프로필렌\\n- 제조판매원: 롯데웰푸드(주) 대전광역시 대덕구 문평동로 18번길 21\\n- 원재료명: 밀가루(밀;미국산), 혼합식용유[팜유(말레이시아산),야자유(외국산;필리핀,인도네시아,말레이시아 등), 토코페롤(혼합형)], 쇼트닝[가공유지(팜핵에스테르화유;말레이시아산),우지(호주산),팜유,팜스테라린유,레시틴],설탕, 기타과당,산도조절제3종, 쇼트닝Ⅱ, 맥아분말, 천일염, 안데스 소금(아르헨티나산), 체다치즈분말, 레시틴, 항료, 효소제2종\\n- 영양정보:\\n  - 총 내용량: 300g (50g x 6봉)\\n  - 1봉(50g)당: 265kcal\\n  - 나트륨: 520mg (26%)\\n  - 탄수화물: 33g (10%)\\n  - 당류: 5g (5%)\\n  - 지방: 13g (24%)\\n  - 트랜스지방: 0.5g 미만\\n  - 포화지방: 7g (47%)\\n  - 콜레스테롤: 5mg 미만\\n  - 단백질: 3.4g (6%)\\n\\n이 정보는 제품의 구성 및 영양 정보를 제공합니다.']\n",
      "'./data/차지예_008_ocr.txt' 파일이 생성되었습니다.\n",
      "CPU times: user 26min 8s, sys: 4min 21s, total: 30min 29s\n",
      "Wall time: 19min\n"
     ]
    },
    {
     "name": "stderr",
     "output_type": "stream",
     "text": [
      "\n"
     ]
    }
   ],
   "source": [
    "%%time\n",
    "from tqdm import tqdm\n",
    "\n",
    "for index, item in enumerate(tqdm(train_list)):\n",
    "    test_data = item['messages']\n",
    "    txt_path = item['ocr_file_name']\n",
    "    print(\"처리중 txt_path=\", txt_path)\n",
    "\n",
    "    test_prompt = processor.apply_chat_template(\n",
    "        test_data,\n",
    "        tokenize=False,\n",
    "        add_generation_prompt=False,\n",
    "    )\n",
    "    \n",
    "    test_prompt_input, test_prompt_label = split_input_and_label(test_prompt)\n",
    "    test_data_image_inputs, test_data_video_inputs = process_vision_info(test_data)\n",
    "    \n",
    "    inputs = processor(\n",
    "        text=[test_prompt_input],\n",
    "        images=test_data_image_inputs,\n",
    "        videos=test_data_video_inputs,\n",
    "        padding=True,\n",
    "        return_tensors=\"pt\",\n",
    "    )\n",
    "    inputs = inputs.to(\"cuda\")\n",
    "    \n",
    "    # Inference: Generation of the output\n",
    "    generated_ids = model.generate(\n",
    "        **inputs,\n",
    "        max_new_tokens=2048,\n",
    "        temperature=0.1,\n",
    "        top_p=0.001,\n",
    "        repetition_penalty=1.05,\n",
    "    )\n",
    "\n",
    "    generated_ids_trimmed = [out_ids[len(in_ids) :] for in_ids, out_ids in zip(inputs.input_ids, generated_ids)]\n",
    "    output_text = processor.batch_decode(generated_ids_trimmed, skip_special_tokens=True, clean_up_tokenization_spaces=False)\n",
    "    print(\"추론결과=\\n\")\n",
    "    print(output_text)    \n",
    "    \n",
    "    # 새 .txt 파일을 생성하고 내용을 씁니다.\n",
    "    with open(txt_path, \"w\", encoding=\"utf-8\") as f:\n",
    "        f.write(output_text[0])\n",
    "        f.close()\n",
    "\n",
    "    print(f\"'{txt_path}' 파일이 생성되었습니다.\")   "
   ]
  },
  {
   "cell_type": "code",
   "execution_count": null,
   "metadata": {
    "id": "AZ3b7AQjQsFb"
   },
   "outputs": [],
   "source": []
  },
  {
   "cell_type": "code",
   "execution_count": null,
   "metadata": {
    "id": "11goHLxBQsCu"
   },
   "outputs": [],
   "source": []
  }
 ],
 "metadata": {
  "accelerator": "GPU",
  "colab": {
   "gpuType": "T4",
   "provenance": []
  },
  "kernelspec": {
   "display_name": "Python 3 (ipykernel)",
   "language": "python",
   "name": "python3"
  },
  "language_info": {
   "codemirror_mode": {
    "name": "ipython",
    "version": 3
   },
   "file_extension": ".py",
   "mimetype": "text/x-python",
   "name": "python",
   "nbconvert_exporter": "python",
   "pygments_lexer": "ipython3",
   "version": "3.11.11"
  },
  "widgets": {
   "application/vnd.jupyter.widget-state+json": {
    "00ef82d3cf4d4d4cb303a6507c8e138a": {
     "model_module": "@jupyter-widgets/base",
     "model_module_version": "1.2.0",
     "model_name": "LayoutModel",
     "state": {
      "_model_module": "@jupyter-widgets/base",
      "_model_module_version": "1.2.0",
      "_model_name": "LayoutModel",
      "_view_count": null,
      "_view_module": "@jupyter-widgets/base",
      "_view_module_version": "1.2.0",
      "_view_name": "LayoutView",
      "align_content": null,
      "align_items": null,
      "align_self": null,
      "border": null,
      "bottom": null,
      "display": null,
      "flex": null,
      "flex_flow": null,
      "grid_area": null,
      "grid_auto_columns": null,
      "grid_auto_flow": null,
      "grid_auto_rows": null,
      "grid_column": null,
      "grid_gap": null,
      "grid_row": null,
      "grid_template_areas": null,
      "grid_template_columns": null,
      "grid_template_rows": null,
      "height": null,
      "justify_content": null,
      "justify_items": null,
      "left": null,
      "margin": null,
      "max_height": null,
      "max_width": null,
      "min_height": null,
      "min_width": null,
      "object_fit": null,
      "object_position": null,
      "order": null,
      "overflow": null,
      "overflow_x": null,
      "overflow_y": null,
      "padding": null,
      "right": null,
      "top": null,
      "visibility": null,
      "width": null
     }
    },
    "01dd43c790954681b6726acba7f3d3b3": {
     "model_module": "@jupyter-widgets/controls",
     "model_module_version": "1.5.0",
     "model_name": "HTMLModel",
     "state": {
      "_dom_classes": [],
      "_model_module": "@jupyter-widgets/controls",
      "_model_module_version": "1.5.0",
      "_model_name": "HTMLModel",
      "_view_count": null,
      "_view_module": "@jupyter-widgets/controls",
      "_view_module_version": "1.5.0",
      "_view_name": "HTMLView",
      "description": "",
      "description_tooltip": null,
      "layout": "IPY_MODEL_b693cea353fd4a338d3d883464a54d90",
      "placeholder": "​",
      "style": "IPY_MODEL_a1ba4e0f2bfd46cabdf60e7d84a34e65",
      "value": " 5/5 [01:01&lt;00:00, 13.44s/it]"
     }
    },
    "01e4da73ccee4a8bbbcf6bb4b5b3b559": {
     "model_module": "@jupyter-widgets/base",
     "model_module_version": "1.2.0",
     "model_name": "LayoutModel",
     "state": {
      "_model_module": "@jupyter-widgets/base",
      "_model_module_version": "1.2.0",
      "_model_name": "LayoutModel",
      "_view_count": null,
      "_view_module": "@jupyter-widgets/base",
      "_view_module_version": "1.2.0",
      "_view_name": "LayoutView",
      "align_content": null,
      "align_items": null,
      "align_self": null,
      "border": null,
      "bottom": null,
      "display": null,
      "flex": null,
      "flex_flow": null,
      "grid_area": null,
      "grid_auto_columns": null,
      "grid_auto_flow": null,
      "grid_auto_rows": null,
      "grid_column": null,
      "grid_gap": null,
      "grid_row": null,
      "grid_template_areas": null,
      "grid_template_columns": null,
      "grid_template_rows": null,
      "height": null,
      "justify_content": null,
      "justify_items": null,
      "left": null,
      "margin": null,
      "max_height": null,
      "max_width": null,
      "min_height": null,
      "min_width": null,
      "object_fit": null,
      "object_position": null,
      "order": null,
      "overflow": null,
      "overflow_x": null,
      "overflow_y": null,
      "padding": null,
      "right": null,
      "top": null,
      "visibility": null,
      "width": null
     }
    },
    "05d78ab7ed2d4a4c865481e9c2ebc8ad": {
     "model_module": "@jupyter-widgets/base",
     "model_module_version": "1.2.0",
     "model_name": "LayoutModel",
     "state": {
      "_model_module": "@jupyter-widgets/base",
      "_model_module_version": "1.2.0",
      "_model_name": "LayoutModel",
      "_view_count": null,
      "_view_module": "@jupyter-widgets/base",
      "_view_module_version": "1.2.0",
      "_view_name": "LayoutView",
      "align_content": null,
      "align_items": null,
      "align_self": null,
      "border": null,
      "bottom": null,
      "display": null,
      "flex": null,
      "flex_flow": null,
      "grid_area": null,
      "grid_auto_columns": null,
      "grid_auto_flow": null,
      "grid_auto_rows": null,
      "grid_column": null,
      "grid_gap": null,
      "grid_row": null,
      "grid_template_areas": null,
      "grid_template_columns": null,
      "grid_template_rows": null,
      "height": null,
      "justify_content": null,
      "justify_items": null,
      "left": null,
      "margin": null,
      "max_height": null,
      "max_width": null,
      "min_height": null,
      "min_width": null,
      "object_fit": null,
      "object_position": null,
      "order": null,
      "overflow": null,
      "overflow_x": null,
      "overflow_y": null,
      "padding": null,
      "right": null,
      "top": null,
      "visibility": null,
      "width": null
     }
    },
    "0639042a84554a9293dea10d26c2a008": {
     "model_module": "@jupyter-widgets/controls",
     "model_module_version": "1.5.0",
     "model_name": "DescriptionStyleModel",
     "state": {
      "_model_module": "@jupyter-widgets/controls",
      "_model_module_version": "1.5.0",
      "_model_name": "DescriptionStyleModel",
      "_view_count": null,
      "_view_module": "@jupyter-widgets/base",
      "_view_module_version": "1.2.0",
      "_view_name": "StyleView",
      "description_width": ""
     }
    },
    "0738f03518574ae5ac814bda68e2a15f": {
     "model_module": "@jupyter-widgets/controls",
     "model_module_version": "1.5.0",
     "model_name": "HTMLModel",
     "state": {
      "_dom_classes": [],
      "_model_module": "@jupyter-widgets/controls",
      "_model_module_version": "1.5.0",
      "_model_name": "HTMLModel",
      "_view_count": null,
      "_view_module": "@jupyter-widgets/controls",
      "_view_module_version": "1.5.0",
      "_view_name": "HTMLView",
      "description": "",
      "description_tooltip": null,
      "layout": "IPY_MODEL_7cbb1548ebb945429d3bf1310293eb47",
      "placeholder": "​",
      "style": "IPY_MODEL_3bb281853aef44fd85827f4e6beb77ae",
      "value": " 2.78M/? [00:00&lt;00:00, 60.1MB/s]"
     }
    },
    "07a7e6232b524a48af5bbddbf730be5c": {
     "model_module": "@jupyter-widgets/controls",
     "model_module_version": "1.5.0",
     "model_name": "HBoxModel",
     "state": {
      "_dom_classes": [],
      "_model_module": "@jupyter-widgets/controls",
      "_model_module_version": "1.5.0",
      "_model_name": "HBoxModel",
      "_view_count": null,
      "_view_module": "@jupyter-widgets/controls",
      "_view_module_version": "1.5.0",
      "_view_name": "HBoxView",
      "box_style": "",
      "children": [
       "IPY_MODEL_254f99e762594b1fb05619e72a2a3703",
       "IPY_MODEL_dbe36fe05b8f45deb8ca9a03a0da5d51",
       "IPY_MODEL_27b0104cfc7b4134a8e82b1243f91365"
      ],
      "layout": "IPY_MODEL_b62f3565d5d14492998f2aba1d26cac6"
     }
    },
    "081e49b6c4174db38f28785c4f3cedc7": {
     "model_module": "@jupyter-widgets/controls",
     "model_module_version": "1.5.0",
     "model_name": "HTMLModel",
     "state": {
      "_dom_classes": [],
      "_model_module": "@jupyter-widgets/controls",
      "_model_module_version": "1.5.0",
      "_model_name": "HTMLModel",
      "_view_count": null,
      "_view_module": "@jupyter-widgets/controls",
      "_view_module_version": "1.5.0",
      "_view_name": "HTMLView",
      "description": "",
      "description_tooltip": null,
      "layout": "IPY_MODEL_ffe7c84c611143b99449430079eee98c",
      "placeholder": "​",
      "style": "IPY_MODEL_b140b8ab226e4d4b8676b3f2ab48080a",
      "value": "model.safetensors.index.json: "
     }
    },
    "094b3d52d2e847fea4c2e367f2872164": {
     "model_module": "@jupyter-widgets/controls",
     "model_module_version": "1.5.0",
     "model_name": "FloatProgressModel",
     "state": {
      "_dom_classes": [],
      "_model_module": "@jupyter-widgets/controls",
      "_model_module_version": "1.5.0",
      "_model_name": "FloatProgressModel",
      "_view_count": null,
      "_view_module": "@jupyter-widgets/controls",
      "_view_module_version": "1.5.0",
      "_view_name": "ProgressView",
      "bar_style": "success",
      "description": "",
      "description_tooltip": null,
      "layout": "IPY_MODEL_b1440ea4162f481f94d095d9df1baa2f",
      "max": 3864733680,
      "min": 0,
      "orientation": "horizontal",
      "style": "IPY_MODEL_294238039ebb4facbad5e664212d0ff2",
      "value": 3864733680
     }
    },
    "0adb59eee1e24fafbe9f6e6263601681": {
     "model_module": "@jupyter-widgets/controls",
     "model_module_version": "1.5.0",
     "model_name": "DescriptionStyleModel",
     "state": {
      "_model_module": "@jupyter-widgets/controls",
      "_model_module_version": "1.5.0",
      "_model_name": "DescriptionStyleModel",
      "_view_count": null,
      "_view_module": "@jupyter-widgets/base",
      "_view_module_version": "1.2.0",
      "_view_name": "StyleView",
      "description_width": ""
     }
    },
    "0d09311a1f4d4c4cb39988fd8821fa16": {
     "model_module": "@jupyter-widgets/controls",
     "model_module_version": "1.5.0",
     "model_name": "HTMLModel",
     "state": {
      "_dom_classes": [],
      "_model_module": "@jupyter-widgets/controls",
      "_model_module_version": "1.5.0",
      "_model_name": "HTMLModel",
      "_view_count": null,
      "_view_module": "@jupyter-widgets/controls",
      "_view_module_version": "1.5.0",
      "_view_name": "HTMLView",
      "description": "",
      "description_tooltip": null,
      "layout": "IPY_MODEL_4b14648be1da4c9fb1f387e909956620",
      "placeholder": "​",
      "style": "IPY_MODEL_1305df6a98954827aecb9936131a4b03",
      "value": " 1.20k/? [00:00&lt;00:00, 96.0kB/s]"
     }
    },
    "0de0de4f46e64c35aa5abfb8cc47cb8b": {
     "model_module": "@jupyter-widgets/base",
     "model_module_version": "1.2.0",
     "model_name": "LayoutModel",
     "state": {
      "_model_module": "@jupyter-widgets/base",
      "_model_module_version": "1.2.0",
      "_model_name": "LayoutModel",
      "_view_count": null,
      "_view_module": "@jupyter-widgets/base",
      "_view_module_version": "1.2.0",
      "_view_name": "LayoutView",
      "align_content": null,
      "align_items": null,
      "align_self": null,
      "border": null,
      "bottom": null,
      "display": null,
      "flex": null,
      "flex_flow": null,
      "grid_area": null,
      "grid_auto_columns": null,
      "grid_auto_flow": null,
      "grid_auto_rows": null,
      "grid_column": null,
      "grid_gap": null,
      "grid_row": null,
      "grid_template_areas": null,
      "grid_template_columns": null,
      "grid_template_rows": null,
      "height": null,
      "justify_content": null,
      "justify_items": null,
      "left": null,
      "margin": null,
      "max_height": null,
      "max_width": null,
      "min_height": null,
      "min_width": null,
      "object_fit": null,
      "object_position": null,
      "order": null,
      "overflow": null,
      "overflow_x": null,
      "overflow_y": null,
      "padding": null,
      "right": null,
      "top": null,
      "visibility": null,
      "width": null
     }
    },
    "1305df6a98954827aecb9936131a4b03": {
     "model_module": "@jupyter-widgets/controls",
     "model_module_version": "1.5.0",
     "model_name": "DescriptionStyleModel",
     "state": {
      "_model_module": "@jupyter-widgets/controls",
      "_model_module_version": "1.5.0",
      "_model_name": "DescriptionStyleModel",
      "_view_count": null,
      "_view_module": "@jupyter-widgets/base",
      "_view_module_version": "1.2.0",
      "_view_name": "StyleView",
      "description_width": ""
     }
    },
    "1306492850d3404ab48c62a2b4b59181": {
     "model_module": "@jupyter-widgets/controls",
     "model_module_version": "1.5.0",
     "model_name": "HBoxModel",
     "state": {
      "_dom_classes": [],
      "_model_module": "@jupyter-widgets/controls",
      "_model_module_version": "1.5.0",
      "_model_name": "HBoxModel",
      "_view_count": null,
      "_view_module": "@jupyter-widgets/controls",
      "_view_module_version": "1.5.0",
      "_view_name": "HBoxView",
      "box_style": "",
      "children": [
       "IPY_MODEL_8599746184ac463c8e295aa469601a7e",
       "IPY_MODEL_951a7770c1bc44faa0afa94fb978f958",
       "IPY_MODEL_56a1dc3e6dee45d791a312da9a15f4d0"
      ],
      "layout": "IPY_MODEL_31fe36b1bee44228b2a41bc40d9cc774"
     }
    },
    "1608dcba20d846b298091eb027640f2e": {
     "model_module": "@jupyter-widgets/controls",
     "model_module_version": "1.5.0",
     "model_name": "HBoxModel",
     "state": {
      "_dom_classes": [],
      "_model_module": "@jupyter-widgets/controls",
      "_model_module_version": "1.5.0",
      "_model_name": "HBoxModel",
      "_view_count": null,
      "_view_module": "@jupyter-widgets/controls",
      "_view_module_version": "1.5.0",
      "_view_name": "HBoxView",
      "box_style": "",
      "children": [
       "IPY_MODEL_367d9daccad041c4b88e068d4ca644de",
       "IPY_MODEL_87863dcf298646fca2544778fbd25a28",
       "IPY_MODEL_2d35c2a2f34a42b9996eb0640e87fb6d"
      ],
      "layout": "IPY_MODEL_ea4a04dfa6e646dda06a9249ebf3447d"
     }
    },
    "1729a4f814f4439d804ac2c5566376d2": {
     "model_module": "@jupyter-widgets/controls",
     "model_module_version": "1.5.0",
     "model_name": "ProgressStyleModel",
     "state": {
      "_model_module": "@jupyter-widgets/controls",
      "_model_module_version": "1.5.0",
      "_model_name": "ProgressStyleModel",
      "_view_count": null,
      "_view_module": "@jupyter-widgets/base",
      "_view_module_version": "1.2.0",
      "_view_name": "StyleView",
      "bar_color": null,
      "description_width": ""
     }
    },
    "177ae496ce7948b3a0688e9c0744c316": {
     "model_module": "@jupyter-widgets/controls",
     "model_module_version": "1.5.0",
     "model_name": "HBoxModel",
     "state": {
      "_dom_classes": [],
      "_model_module": "@jupyter-widgets/controls",
      "_model_module_version": "1.5.0",
      "_model_name": "HBoxModel",
      "_view_count": null,
      "_view_module": "@jupyter-widgets/controls",
      "_view_module_version": "1.5.0",
      "_view_name": "HBoxView",
      "box_style": "",
      "children": [
       "IPY_MODEL_e007e83d6bbb49dd8a12c9fe19e5e658",
       "IPY_MODEL_290ccf234c8a4d578f5949145479a1bc",
       "IPY_MODEL_3c29579b25cb4deaaae38fcecf44371d"
      ],
      "layout": "IPY_MODEL_6f111e8212b044e18a9b47a2933d9f8f"
     }
    },
    "1c1042e2a124481ebddc77d2f7d0e397": {
     "model_module": "@jupyter-widgets/base",
     "model_module_version": "1.2.0",
     "model_name": "LayoutModel",
     "state": {
      "_model_module": "@jupyter-widgets/base",
      "_model_module_version": "1.2.0",
      "_model_name": "LayoutModel",
      "_view_count": null,
      "_view_module": "@jupyter-widgets/base",
      "_view_module_version": "1.2.0",
      "_view_name": "LayoutView",
      "align_content": null,
      "align_items": null,
      "align_self": null,
      "border": null,
      "bottom": null,
      "display": null,
      "flex": null,
      "flex_flow": null,
      "grid_area": null,
      "grid_auto_columns": null,
      "grid_auto_flow": null,
      "grid_auto_rows": null,
      "grid_column": null,
      "grid_gap": null,
      "grid_row": null,
      "grid_template_areas": null,
      "grid_template_columns": null,
      "grid_template_rows": null,
      "height": null,
      "justify_content": null,
      "justify_items": null,
      "left": null,
      "margin": null,
      "max_height": null,
      "max_width": null,
      "min_height": null,
      "min_width": null,
      "object_fit": null,
      "object_position": null,
      "order": null,
      "overflow": null,
      "overflow_x": null,
      "overflow_y": null,
      "padding": null,
      "right": null,
      "top": null,
      "visibility": null,
      "width": null
     }
    },
    "1c8f46a6395248a3bd554c5af8392d77": {
     "model_module": "@jupyter-widgets/controls",
     "model_module_version": "1.5.0",
     "model_name": "ProgressStyleModel",
     "state": {
      "_model_module": "@jupyter-widgets/controls",
      "_model_module_version": "1.5.0",
      "_model_name": "ProgressStyleModel",
      "_view_count": null,
      "_view_module": "@jupyter-widgets/base",
      "_view_module_version": "1.2.0",
      "_view_name": "StyleView",
      "bar_color": null,
      "description_width": ""
     }
    },
    "1ce4f8e315e64e0d8bf45ea89bd3f127": {
     "model_module": "@jupyter-widgets/controls",
     "model_module_version": "1.5.0",
     "model_name": "DescriptionStyleModel",
     "state": {
      "_model_module": "@jupyter-widgets/controls",
      "_model_module_version": "1.5.0",
      "_model_name": "DescriptionStyleModel",
      "_view_count": null,
      "_view_module": "@jupyter-widgets/base",
      "_view_module_version": "1.2.0",
      "_view_name": "StyleView",
      "description_width": ""
     }
    },
    "1d9e4812f4b84590beef7c28a540d8a3": {
     "model_module": "@jupyter-widgets/controls",
     "model_module_version": "1.5.0",
     "model_name": "HBoxModel",
     "state": {
      "_dom_classes": [],
      "_model_module": "@jupyter-widgets/controls",
      "_model_module_version": "1.5.0",
      "_model_name": "HBoxModel",
      "_view_count": null,
      "_view_module": "@jupyter-widgets/controls",
      "_view_module_version": "1.5.0",
      "_view_name": "HBoxView",
      "box_style": "",
      "children": [
       "IPY_MODEL_1f94381d9263467197e30a6b61a0d28b",
       "IPY_MODEL_d4977bb3c2d94d8884e4d3f3609c0ffc",
       "IPY_MODEL_c1f112cde05f43a6b17d9ee09974c313"
      ],
      "layout": "IPY_MODEL_d3f46b04097c41deb18783376e3c98be"
     }
    },
    "1dbaaac9b18e49f1a5619b09cd9027d1": {
     "model_module": "@jupyter-widgets/controls",
     "model_module_version": "1.5.0",
     "model_name": "ProgressStyleModel",
     "state": {
      "_model_module": "@jupyter-widgets/controls",
      "_model_module_version": "1.5.0",
      "_model_name": "ProgressStyleModel",
      "_view_count": null,
      "_view_module": "@jupyter-widgets/base",
      "_view_module_version": "1.2.0",
      "_view_name": "StyleView",
      "bar_color": null,
      "description_width": ""
     }
    },
    "1f94381d9263467197e30a6b61a0d28b": {
     "model_module": "@jupyter-widgets/controls",
     "model_module_version": "1.5.0",
     "model_name": "HTMLModel",
     "state": {
      "_dom_classes": [],
      "_model_module": "@jupyter-widgets/controls",
      "_model_module_version": "1.5.0",
      "_model_name": "HTMLModel",
      "_view_count": null,
      "_view_module": "@jupyter-widgets/controls",
      "_view_module_version": "1.5.0",
      "_view_name": "HTMLView",
      "description": "",
      "description_tooltip": null,
      "layout": "IPY_MODEL_89dc6f12c3604d9a85cde776925ad3f5",
      "placeholder": "​",
      "style": "IPY_MODEL_8effe523752c4cfdb46cc47437771f5d",
      "value": "preprocessor_config.json: 100%"
     }
    },
    "254f99e762594b1fb05619e72a2a3703": {
     "model_module": "@jupyter-widgets/controls",
     "model_module_version": "1.5.0",
     "model_name": "HTMLModel",
     "state": {
      "_dom_classes": [],
      "_model_module": "@jupyter-widgets/controls",
      "_model_module_version": "1.5.0",
      "_model_name": "HTMLModel",
      "_view_count": null,
      "_view_module": "@jupyter-widgets/controls",
      "_view_module_version": "1.5.0",
      "_view_name": "HTMLView",
      "description": "",
      "description_tooltip": null,
      "layout": "IPY_MODEL_80c55eea528d41e1a210c4d61defe3b2",
      "placeholder": "​",
      "style": "IPY_MODEL_3a352aed4ff84a3c883bbc972254b841",
      "value": "generation_config.json: 100%"
     }
    },
    "263dc127a6d542caac3ac2d70966eb0b": {
     "model_module": "@jupyter-widgets/controls",
     "model_module_version": "1.5.0",
     "model_name": "HTMLModel",
     "state": {
      "_dom_classes": [],
      "_model_module": "@jupyter-widgets/controls",
      "_model_module_version": "1.5.0",
      "_model_name": "HTMLModel",
      "_view_count": null,
      "_view_module": "@jupyter-widgets/controls",
      "_view_module_version": "1.5.0",
      "_view_name": "HTMLView",
      "description": "",
      "description_tooltip": null,
      "layout": "IPY_MODEL_88a856aa329a4cf29320692696463de6",
      "placeholder": "​",
      "style": "IPY_MODEL_624717de1f30479dbe38ccbbd08e4edd",
      "value": " 1.05k/? [00:00&lt;00:00, 61.6kB/s]"
     }
    },
    "27b0104cfc7b4134a8e82b1243f91365": {
     "model_module": "@jupyter-widgets/controls",
     "model_module_version": "1.5.0",
     "model_name": "HTMLModel",
     "state": {
      "_dom_classes": [],
      "_model_module": "@jupyter-widgets/controls",
      "_model_module_version": "1.5.0",
      "_model_name": "HTMLModel",
      "_view_count": null,
      "_view_module": "@jupyter-widgets/controls",
      "_view_module_version": "1.5.0",
      "_view_name": "HTMLView",
      "description": "",
      "description_tooltip": null,
      "layout": "IPY_MODEL_414b943b98c043c9a6925105d5d49b8c",
      "placeholder": "​",
      "style": "IPY_MODEL_9100badbf84e45348e1bea9ba48f237a",
      "value": " 244/244 [00:00&lt;00:00, 15.2kB/s]"
     }
    },
    "290ccf234c8a4d578f5949145479a1bc": {
     "model_module": "@jupyter-widgets/controls",
     "model_module_version": "1.5.0",
     "model_name": "FloatProgressModel",
     "state": {
      "_dom_classes": [],
      "_model_module": "@jupyter-widgets/controls",
      "_model_module_version": "1.5.0",
      "_model_name": "FloatProgressModel",
      "_view_count": null,
      "_view_module": "@jupyter-widgets/controls",
      "_view_module_version": "1.5.0",
      "_view_name": "ProgressView",
      "bar_style": "success",
      "description": "",
      "description_tooltip": null,
      "layout": "IPY_MODEL_fa9b8e29916b4df897cd270ecd202a50",
      "max": 1,
      "min": 0,
      "orientation": "horizontal",
      "style": "IPY_MODEL_e0d2483a8b0940eeaf228c8c97c38a9c",
      "value": 1
     }
    },
    "294238039ebb4facbad5e664212d0ff2": {
     "model_module": "@jupyter-widgets/controls",
     "model_module_version": "1.5.0",
     "model_name": "ProgressStyleModel",
     "state": {
      "_model_module": "@jupyter-widgets/controls",
      "_model_module_version": "1.5.0",
      "_model_name": "ProgressStyleModel",
      "_view_count": null,
      "_view_module": "@jupyter-widgets/base",
      "_view_module_version": "1.2.0",
      "_view_name": "StyleView",
      "bar_color": null,
      "description_width": ""
     }
    },
    "2c7cbb9e61f74a268b1e0a72909f68bf": {
     "model_module": "@jupyter-widgets/base",
     "model_module_version": "1.2.0",
     "model_name": "LayoutModel",
     "state": {
      "_model_module": "@jupyter-widgets/base",
      "_model_module_version": "1.2.0",
      "_model_name": "LayoutModel",
      "_view_count": null,
      "_view_module": "@jupyter-widgets/base",
      "_view_module_version": "1.2.0",
      "_view_name": "LayoutView",
      "align_content": null,
      "align_items": null,
      "align_self": null,
      "border": null,
      "bottom": null,
      "display": null,
      "flex": null,
      "flex_flow": null,
      "grid_area": null,
      "grid_auto_columns": null,
      "grid_auto_flow": null,
      "grid_auto_rows": null,
      "grid_column": null,
      "grid_gap": null,
      "grid_row": null,
      "grid_template_areas": null,
      "grid_template_columns": null,
      "grid_template_rows": null,
      "height": null,
      "justify_content": null,
      "justify_items": null,
      "left": null,
      "margin": null,
      "max_height": null,
      "max_width": null,
      "min_height": null,
      "min_width": null,
      "object_fit": null,
      "object_position": null,
      "order": null,
      "overflow": null,
      "overflow_x": null,
      "overflow_y": null,
      "padding": null,
      "right": null,
      "top": null,
      "visibility": null,
      "width": null
     }
    },
    "2cb6fa5af5a14b2093c47ee52fff9645": {
     "model_module": "@jupyter-widgets/controls",
     "model_module_version": "1.5.0",
     "model_name": "FloatProgressModel",
     "state": {
      "_dom_classes": [],
      "_model_module": "@jupyter-widgets/controls",
      "_model_module_version": "1.5.0",
      "_model_name": "FloatProgressModel",
      "_view_count": null,
      "_view_module": "@jupyter-widgets/controls",
      "_view_module_version": "1.5.0",
      "_view_name": "ProgressView",
      "bar_style": "success",
      "description": "",
      "description_tooltip": null,
      "layout": "IPY_MODEL_2fa66f6610f8420d9fc1b6df3e91557a",
      "max": 1,
      "min": 0,
      "orientation": "horizontal",
      "style": "IPY_MODEL_d0af6cf8c5f14f8b8952388a79150e71",
      "value": 1
     }
    },
    "2d35c2a2f34a42b9996eb0640e87fb6d": {
     "model_module": "@jupyter-widgets/controls",
     "model_module_version": "1.5.0",
     "model_name": "HTMLModel",
     "state": {
      "_dom_classes": [],
      "_model_module": "@jupyter-widgets/controls",
      "_model_module_version": "1.5.0",
      "_model_name": "HTMLModel",
      "_view_count": null,
      "_view_module": "@jupyter-widgets/controls",
      "_view_module_version": "1.5.0",
      "_view_name": "HTMLView",
      "description": "",
      "description_tooltip": null,
      "layout": "IPY_MODEL_00ef82d3cf4d4d4cb303a6507c8e138a",
      "placeholder": "​",
      "style": "IPY_MODEL_bd3d032b835d4c7e92eaf5b23c52fae7",
      "value": " 7.03M/? [00:00&lt;00:00, 114MB/s]"
     }
    },
    "2d9cc556b1a9459a96af8bae12366018": {
     "model_module": "@jupyter-widgets/base",
     "model_module_version": "1.2.0",
     "model_name": "LayoutModel",
     "state": {
      "_model_module": "@jupyter-widgets/base",
      "_model_module_version": "1.2.0",
      "_model_name": "LayoutModel",
      "_view_count": null,
      "_view_module": "@jupyter-widgets/base",
      "_view_module_version": "1.2.0",
      "_view_name": "LayoutView",
      "align_content": null,
      "align_items": null,
      "align_self": null,
      "border": null,
      "bottom": null,
      "display": null,
      "flex": null,
      "flex_flow": null,
      "grid_area": null,
      "grid_auto_columns": null,
      "grid_auto_flow": null,
      "grid_auto_rows": null,
      "grid_column": null,
      "grid_gap": null,
      "grid_row": null,
      "grid_template_areas": null,
      "grid_template_columns": null,
      "grid_template_rows": null,
      "height": null,
      "justify_content": null,
      "justify_items": null,
      "left": null,
      "margin": null,
      "max_height": null,
      "max_width": null,
      "min_height": null,
      "min_width": null,
      "object_fit": null,
      "object_position": null,
      "order": null,
      "overflow": null,
      "overflow_x": null,
      "overflow_y": null,
      "padding": null,
      "right": null,
      "top": null,
      "visibility": null,
      "width": null
     }
    },
    "2ec17c7702c4403cbf71dc442724c8bd": {
     "model_module": "@jupyter-widgets/controls",
     "model_module_version": "1.5.0",
     "model_name": "DescriptionStyleModel",
     "state": {
      "_model_module": "@jupyter-widgets/controls",
      "_model_module_version": "1.5.0",
      "_model_name": "DescriptionStyleModel",
      "_view_count": null,
      "_view_module": "@jupyter-widgets/base",
      "_view_module_version": "1.2.0",
      "_view_name": "StyleView",
      "description_width": ""
     }
    },
    "2ec22c477aaa487999239f1a581ff69a": {
     "model_module": "@jupyter-widgets/controls",
     "model_module_version": "1.5.0",
     "model_name": "DescriptionStyleModel",
     "state": {
      "_model_module": "@jupyter-widgets/controls",
      "_model_module_version": "1.5.0",
      "_model_name": "DescriptionStyleModel",
      "_view_count": null,
      "_view_module": "@jupyter-widgets/base",
      "_view_module_version": "1.2.0",
      "_view_name": "StyleView",
      "description_width": ""
     }
    },
    "2fa3ab32eb9a45e28df845fd6e3ff80a": {
     "model_module": "@jupyter-widgets/controls",
     "model_module_version": "1.5.0",
     "model_name": "ProgressStyleModel",
     "state": {
      "_model_module": "@jupyter-widgets/controls",
      "_model_module_version": "1.5.0",
      "_model_name": "ProgressStyleModel",
      "_view_count": null,
      "_view_module": "@jupyter-widgets/base",
      "_view_module_version": "1.2.0",
      "_view_name": "StyleView",
      "bar_color": null,
      "description_width": ""
     }
    },
    "2fa66f6610f8420d9fc1b6df3e91557a": {
     "model_module": "@jupyter-widgets/base",
     "model_module_version": "1.2.0",
     "model_name": "LayoutModel",
     "state": {
      "_model_module": "@jupyter-widgets/base",
      "_model_module_version": "1.2.0",
      "_model_name": "LayoutModel",
      "_view_count": null,
      "_view_module": "@jupyter-widgets/base",
      "_view_module_version": "1.2.0",
      "_view_name": "LayoutView",
      "align_content": null,
      "align_items": null,
      "align_self": null,
      "border": null,
      "bottom": null,
      "display": null,
      "flex": null,
      "flex_flow": null,
      "grid_area": null,
      "grid_auto_columns": null,
      "grid_auto_flow": null,
      "grid_auto_rows": null,
      "grid_column": null,
      "grid_gap": null,
      "grid_row": null,
      "grid_template_areas": null,
      "grid_template_columns": null,
      "grid_template_rows": null,
      "height": null,
      "justify_content": null,
      "justify_items": null,
      "left": null,
      "margin": null,
      "max_height": null,
      "max_width": null,
      "min_height": null,
      "min_width": null,
      "object_fit": null,
      "object_position": null,
      "order": null,
      "overflow": null,
      "overflow_x": null,
      "overflow_y": null,
      "padding": null,
      "right": null,
      "top": null,
      "visibility": null,
      "width": "20px"
     }
    },
    "2fbacdbd29ec4de8aa5a0f48b60c7c68": {
     "model_module": "@jupyter-widgets/controls",
     "model_module_version": "1.5.0",
     "model_name": "HTMLModel",
     "state": {
      "_dom_classes": [],
      "_model_module": "@jupyter-widgets/controls",
      "_model_module_version": "1.5.0",
      "_model_name": "HTMLModel",
      "_view_count": null,
      "_view_module": "@jupyter-widgets/controls",
      "_view_module_version": "1.5.0",
      "_view_name": "HTMLView",
      "description": "",
      "description_tooltip": null,
      "layout": "IPY_MODEL_4d30174eacb047f68d245a34611cb0a7",
      "placeholder": "​",
      "style": "IPY_MODEL_d55e1a3cef0e4b838f4982edeb83fe86",
      "value": " 5/5 [05:06&lt;00:00, 69.09s/it]"
     }
    },
    "313a24ec995b4a53ab815090c36ad47e": {
     "model_module": "@jupyter-widgets/controls",
     "model_module_version": "1.5.0",
     "model_name": "DescriptionStyleModel",
     "state": {
      "_model_module": "@jupyter-widgets/controls",
      "_model_module_version": "1.5.0",
      "_model_name": "DescriptionStyleModel",
      "_view_count": null,
      "_view_module": "@jupyter-widgets/base",
      "_view_module_version": "1.2.0",
      "_view_name": "StyleView",
      "description_width": ""
     }
    },
    "31545d7b63fa4b6ab4b9159825f0db3b": {
     "model_module": "@jupyter-widgets/base",
     "model_module_version": "1.2.0",
     "model_name": "LayoutModel",
     "state": {
      "_model_module": "@jupyter-widgets/base",
      "_model_module_version": "1.2.0",
      "_model_name": "LayoutModel",
      "_view_count": null,
      "_view_module": "@jupyter-widgets/base",
      "_view_module_version": "1.2.0",
      "_view_name": "LayoutView",
      "align_content": null,
      "align_items": null,
      "align_self": null,
      "border": null,
      "bottom": null,
      "display": null,
      "flex": null,
      "flex_flow": null,
      "grid_area": null,
      "grid_auto_columns": null,
      "grid_auto_flow": null,
      "grid_auto_rows": null,
      "grid_column": null,
      "grid_gap": null,
      "grid_row": null,
      "grid_template_areas": null,
      "grid_template_columns": null,
      "grid_template_rows": null,
      "height": null,
      "justify_content": null,
      "justify_items": null,
      "left": null,
      "margin": null,
      "max_height": null,
      "max_width": null,
      "min_height": null,
      "min_width": null,
      "object_fit": null,
      "object_position": null,
      "order": null,
      "overflow": null,
      "overflow_x": null,
      "overflow_y": null,
      "padding": null,
      "right": null,
      "top": null,
      "visibility": null,
      "width": "20px"
     }
    },
    "31fe36b1bee44228b2a41bc40d9cc774": {
     "model_module": "@jupyter-widgets/base",
     "model_module_version": "1.2.0",
     "model_name": "LayoutModel",
     "state": {
      "_model_module": "@jupyter-widgets/base",
      "_model_module_version": "1.2.0",
      "_model_name": "LayoutModel",
      "_view_count": null,
      "_view_module": "@jupyter-widgets/base",
      "_view_module_version": "1.2.0",
      "_view_name": "LayoutView",
      "align_content": null,
      "align_items": null,
      "align_self": null,
      "border": null,
      "bottom": null,
      "display": null,
      "flex": null,
      "flex_flow": null,
      "grid_area": null,
      "grid_auto_columns": null,
      "grid_auto_flow": null,
      "grid_auto_rows": null,
      "grid_column": null,
      "grid_gap": null,
      "grid_row": null,
      "grid_template_areas": null,
      "grid_template_columns": null,
      "grid_template_rows": null,
      "height": null,
      "justify_content": null,
      "justify_items": null,
      "left": null,
      "margin": null,
      "max_height": null,
      "max_width": null,
      "min_height": null,
      "min_width": null,
      "object_fit": null,
      "object_position": null,
      "order": null,
      "overflow": null,
      "overflow_x": null,
      "overflow_y": null,
      "padding": null,
      "right": null,
      "top": null,
      "visibility": null,
      "width": null
     }
    },
    "32e7632e558b49048033f51e68664880": {
     "model_module": "@jupyter-widgets/base",
     "model_module_version": "1.2.0",
     "model_name": "LayoutModel",
     "state": {
      "_model_module": "@jupyter-widgets/base",
      "_model_module_version": "1.2.0",
      "_model_name": "LayoutModel",
      "_view_count": null,
      "_view_module": "@jupyter-widgets/base",
      "_view_module_version": "1.2.0",
      "_view_name": "LayoutView",
      "align_content": null,
      "align_items": null,
      "align_self": null,
      "border": null,
      "bottom": null,
      "display": null,
      "flex": null,
      "flex_flow": null,
      "grid_area": null,
      "grid_auto_columns": null,
      "grid_auto_flow": null,
      "grid_auto_rows": null,
      "grid_column": null,
      "grid_gap": null,
      "grid_row": null,
      "grid_template_areas": null,
      "grid_template_columns": null,
      "grid_template_rows": null,
      "height": null,
      "justify_content": null,
      "justify_items": null,
      "left": null,
      "margin": null,
      "max_height": null,
      "max_width": null,
      "min_height": null,
      "min_width": null,
      "object_fit": null,
      "object_position": null,
      "order": null,
      "overflow": null,
      "overflow_x": null,
      "overflow_y": null,
      "padding": null,
      "right": null,
      "top": null,
      "visibility": null,
      "width": null
     }
    },
    "366e6dace4c547f7b959fa8c0d526f58": {
     "model_module": "@jupyter-widgets/base",
     "model_module_version": "1.2.0",
     "model_name": "LayoutModel",
     "state": {
      "_model_module": "@jupyter-widgets/base",
      "_model_module_version": "1.2.0",
      "_model_name": "LayoutModel",
      "_view_count": null,
      "_view_module": "@jupyter-widgets/base",
      "_view_module_version": "1.2.0",
      "_view_name": "LayoutView",
      "align_content": null,
      "align_items": null,
      "align_self": null,
      "border": null,
      "bottom": null,
      "display": null,
      "flex": null,
      "flex_flow": null,
      "grid_area": null,
      "grid_auto_columns": null,
      "grid_auto_flow": null,
      "grid_auto_rows": null,
      "grid_column": null,
      "grid_gap": null,
      "grid_row": null,
      "grid_template_areas": null,
      "grid_template_columns": null,
      "grid_template_rows": null,
      "height": null,
      "justify_content": null,
      "justify_items": null,
      "left": null,
      "margin": null,
      "max_height": null,
      "max_width": null,
      "min_height": null,
      "min_width": null,
      "object_fit": null,
      "object_position": null,
      "order": null,
      "overflow": null,
      "overflow_x": null,
      "overflow_y": null,
      "padding": null,
      "right": null,
      "top": null,
      "visibility": null,
      "width": null
     }
    },
    "367d9daccad041c4b88e068d4ca644de": {
     "model_module": "@jupyter-widgets/controls",
     "model_module_version": "1.5.0",
     "model_name": "HTMLModel",
     "state": {
      "_dom_classes": [],
      "_model_module": "@jupyter-widgets/controls",
      "_model_module_version": "1.5.0",
      "_model_name": "HTMLModel",
      "_view_count": null,
      "_view_module": "@jupyter-widgets/controls",
      "_view_module_version": "1.5.0",
      "_view_name": "HTMLView",
      "description": "",
      "description_tooltip": null,
      "layout": "IPY_MODEL_d5143e125d614ee3a983baba593fce90",
      "placeholder": "​",
      "style": "IPY_MODEL_6136307ab0b24881932475800fb47f5b",
      "value": "tokenizer.json: "
     }
    },
    "37cb9024c35345eabbdc6648d1971146": {
     "model_module": "@jupyter-widgets/base",
     "model_module_version": "1.2.0",
     "model_name": "LayoutModel",
     "state": {
      "_model_module": "@jupyter-widgets/base",
      "_model_module_version": "1.2.0",
      "_model_name": "LayoutModel",
      "_view_count": null,
      "_view_module": "@jupyter-widgets/base",
      "_view_module_version": "1.2.0",
      "_view_name": "LayoutView",
      "align_content": null,
      "align_items": null,
      "align_self": null,
      "border": null,
      "bottom": null,
      "display": null,
      "flex": null,
      "flex_flow": null,
      "grid_area": null,
      "grid_auto_columns": null,
      "grid_auto_flow": null,
      "grid_auto_rows": null,
      "grid_column": null,
      "grid_gap": null,
      "grid_row": null,
      "grid_template_areas": null,
      "grid_template_columns": null,
      "grid_template_rows": null,
      "height": null,
      "justify_content": null,
      "justify_items": null,
      "left": null,
      "margin": null,
      "max_height": null,
      "max_width": null,
      "min_height": null,
      "min_width": null,
      "object_fit": null,
      "object_position": null,
      "order": null,
      "overflow": null,
      "overflow_x": null,
      "overflow_y": null,
      "padding": null,
      "right": null,
      "top": null,
      "visibility": null,
      "width": null
     }
    },
    "3a352aed4ff84a3c883bbc972254b841": {
     "model_module": "@jupyter-widgets/controls",
     "model_module_version": "1.5.0",
     "model_name": "DescriptionStyleModel",
     "state": {
      "_model_module": "@jupyter-widgets/controls",
      "_model_module_version": "1.5.0",
      "_model_name": "DescriptionStyleModel",
      "_view_count": null,
      "_view_module": "@jupyter-widgets/base",
      "_view_module_version": "1.2.0",
      "_view_name": "StyleView",
      "description_width": ""
     }
    },
    "3b040a0d286549f2ba7ca8ebfb7e5396": {
     "model_module": "@jupyter-widgets/controls",
     "model_module_version": "1.5.0",
     "model_name": "HBoxModel",
     "state": {
      "_dom_classes": [],
      "_model_module": "@jupyter-widgets/controls",
      "_model_module_version": "1.5.0",
      "_model_name": "HBoxModel",
      "_view_count": null,
      "_view_module": "@jupyter-widgets/controls",
      "_view_module_version": "1.5.0",
      "_view_name": "HBoxView",
      "box_style": "",
      "children": [
       "IPY_MODEL_eb91d4ed118d4fb3a11fa02cf29c4698",
       "IPY_MODEL_2cb6fa5af5a14b2093c47ee52fff9645",
       "IPY_MODEL_263dc127a6d542caac3ac2d70966eb0b"
      ],
      "layout": "IPY_MODEL_37cb9024c35345eabbdc6648d1971146"
     }
    },
    "3bb281853aef44fd85827f4e6beb77ae": {
     "model_module": "@jupyter-widgets/controls",
     "model_module_version": "1.5.0",
     "model_name": "DescriptionStyleModel",
     "state": {
      "_model_module": "@jupyter-widgets/controls",
      "_model_module_version": "1.5.0",
      "_model_name": "DescriptionStyleModel",
      "_view_count": null,
      "_view_module": "@jupyter-widgets/base",
      "_view_module_version": "1.2.0",
      "_view_name": "StyleView",
      "description_width": ""
     }
    },
    "3c29579b25cb4deaaae38fcecf44371d": {
     "model_module": "@jupyter-widgets/controls",
     "model_module_version": "1.5.0",
     "model_name": "HTMLModel",
     "state": {
      "_dom_classes": [],
      "_model_module": "@jupyter-widgets/controls",
      "_model_module_version": "1.5.0",
      "_model_name": "HTMLModel",
      "_view_count": null,
      "_view_module": "@jupyter-widgets/controls",
      "_view_module_version": "1.5.0",
      "_view_name": "HTMLView",
      "description": "",
      "description_tooltip": null,
      "layout": "IPY_MODEL_565f4399b21741ad913059ce01a24a06",
      "placeholder": "​",
      "style": "IPY_MODEL_87f8026a6e9945ff86d3fc2d247c620b",
      "value": " 4.19k/? [00:00&lt;00:00, 221kB/s]"
     }
    },
    "3cad2e13a9dc4ded949c79aacc310000": {
     "model_module": "@jupyter-widgets/controls",
     "model_module_version": "1.5.0",
     "model_name": "ProgressStyleModel",
     "state": {
      "_model_module": "@jupyter-widgets/controls",
      "_model_module_version": "1.5.0",
      "_model_name": "ProgressStyleModel",
      "_view_count": null,
      "_view_module": "@jupyter-widgets/base",
      "_view_module_version": "1.2.0",
      "_view_name": "StyleView",
      "bar_color": null,
      "description_width": ""
     }
    },
    "3e989a24fb3d4405865b1484e8a90c7c": {
     "model_module": "@jupyter-widgets/controls",
     "model_module_version": "1.5.0",
     "model_name": "HBoxModel",
     "state": {
      "_dom_classes": [],
      "_model_module": "@jupyter-widgets/controls",
      "_model_module_version": "1.5.0",
      "_model_name": "HBoxModel",
      "_view_count": null,
      "_view_module": "@jupyter-widgets/controls",
      "_view_module_version": "1.5.0",
      "_view_name": "HBoxView",
      "box_style": "",
      "children": [
       "IPY_MODEL_7ef5a52b133c4cd281c329875879a292",
       "IPY_MODEL_ce30bef851434124b4116472749778a1",
       "IPY_MODEL_702c3496d9374cf0bda0ecd953cffbdf"
      ],
      "layout": "IPY_MODEL_98c3fe38ce67402e9ffa798605b0c6e4"
     }
    },
    "3f292c0bc88440ef9efa676148896a78": {
     "model_module": "@jupyter-widgets/controls",
     "model_module_version": "1.5.0",
     "model_name": "DescriptionStyleModel",
     "state": {
      "_model_module": "@jupyter-widgets/controls",
      "_model_module_version": "1.5.0",
      "_model_name": "DescriptionStyleModel",
      "_view_count": null,
      "_view_module": "@jupyter-widgets/base",
      "_view_module_version": "1.2.0",
      "_view_name": "StyleView",
      "description_width": ""
     }
    },
    "414b943b98c043c9a6925105d5d49b8c": {
     "model_module": "@jupyter-widgets/base",
     "model_module_version": "1.2.0",
     "model_name": "LayoutModel",
     "state": {
      "_model_module": "@jupyter-widgets/base",
      "_model_module_version": "1.2.0",
      "_model_name": "LayoutModel",
      "_view_count": null,
      "_view_module": "@jupyter-widgets/base",
      "_view_module_version": "1.2.0",
      "_view_name": "LayoutView",
      "align_content": null,
      "align_items": null,
      "align_self": null,
      "border": null,
      "bottom": null,
      "display": null,
      "flex": null,
      "flex_flow": null,
      "grid_area": null,
      "grid_auto_columns": null,
      "grid_auto_flow": null,
      "grid_auto_rows": null,
      "grid_column": null,
      "grid_gap": null,
      "grid_row": null,
      "grid_template_areas": null,
      "grid_template_columns": null,
      "grid_template_rows": null,
      "height": null,
      "justify_content": null,
      "justify_items": null,
      "left": null,
      "margin": null,
      "max_height": null,
      "max_width": null,
      "min_height": null,
      "min_width": null,
      "object_fit": null,
      "object_position": null,
      "order": null,
      "overflow": null,
      "overflow_x": null,
      "overflow_y": null,
      "padding": null,
      "right": null,
      "top": null,
      "visibility": null,
      "width": null
     }
    },
    "473c819f45304131b9b9d27364f894a7": {
     "model_module": "@jupyter-widgets/base",
     "model_module_version": "1.2.0",
     "model_name": "LayoutModel",
     "state": {
      "_model_module": "@jupyter-widgets/base",
      "_model_module_version": "1.2.0",
      "_model_name": "LayoutModel",
      "_view_count": null,
      "_view_module": "@jupyter-widgets/base",
      "_view_module_version": "1.2.0",
      "_view_name": "LayoutView",
      "align_content": null,
      "align_items": null,
      "align_self": null,
      "border": null,
      "bottom": null,
      "display": null,
      "flex": null,
      "flex_flow": null,
      "grid_area": null,
      "grid_auto_columns": null,
      "grid_auto_flow": null,
      "grid_auto_rows": null,
      "grid_column": null,
      "grid_gap": null,
      "grid_row": null,
      "grid_template_areas": null,
      "grid_template_columns": null,
      "grid_template_rows": null,
      "height": null,
      "justify_content": null,
      "justify_items": null,
      "left": null,
      "margin": null,
      "max_height": null,
      "max_width": null,
      "min_height": null,
      "min_width": null,
      "object_fit": null,
      "object_position": null,
      "order": null,
      "overflow": null,
      "overflow_x": null,
      "overflow_y": null,
      "padding": null,
      "right": null,
      "top": null,
      "visibility": null,
      "width": null
     }
    },
    "4aa7fa6a958046bab400d6629a13db13": {
     "model_module": "@jupyter-widgets/controls",
     "model_module_version": "1.5.0",
     "model_name": "DescriptionStyleModel",
     "state": {
      "_model_module": "@jupyter-widgets/controls",
      "_model_module_version": "1.5.0",
      "_model_name": "DescriptionStyleModel",
      "_view_count": null,
      "_view_module": "@jupyter-widgets/base",
      "_view_module_version": "1.2.0",
      "_view_name": "StyleView",
      "description_width": ""
     }
    },
    "4b14648be1da4c9fb1f387e909956620": {
     "model_module": "@jupyter-widgets/base",
     "model_module_version": "1.2.0",
     "model_name": "LayoutModel",
     "state": {
      "_model_module": "@jupyter-widgets/base",
      "_model_module_version": "1.2.0",
      "_model_name": "LayoutModel",
      "_view_count": null,
      "_view_module": "@jupyter-widgets/base",
      "_view_module_version": "1.2.0",
      "_view_name": "LayoutView",
      "align_content": null,
      "align_items": null,
      "align_self": null,
      "border": null,
      "bottom": null,
      "display": null,
      "flex": null,
      "flex_flow": null,
      "grid_area": null,
      "grid_auto_columns": null,
      "grid_auto_flow": null,
      "grid_auto_rows": null,
      "grid_column": null,
      "grid_gap": null,
      "grid_row": null,
      "grid_template_areas": null,
      "grid_template_columns": null,
      "grid_template_rows": null,
      "height": null,
      "justify_content": null,
      "justify_items": null,
      "left": null,
      "margin": null,
      "max_height": null,
      "max_width": null,
      "min_height": null,
      "min_width": null,
      "object_fit": null,
      "object_position": null,
      "order": null,
      "overflow": null,
      "overflow_x": null,
      "overflow_y": null,
      "padding": null,
      "right": null,
      "top": null,
      "visibility": null,
      "width": null
     }
    },
    "4ba93db2072644ceb119e27f678aac7e": {
     "model_module": "@jupyter-widgets/controls",
     "model_module_version": "1.5.0",
     "model_name": "DescriptionStyleModel",
     "state": {
      "_model_module": "@jupyter-widgets/controls",
      "_model_module_version": "1.5.0",
      "_model_name": "DescriptionStyleModel",
      "_view_count": null,
      "_view_module": "@jupyter-widgets/base",
      "_view_module_version": "1.2.0",
      "_view_name": "StyleView",
      "description_width": ""
     }
    },
    "4c96a7298ddb4563a6bb84ec91a88544": {
     "model_module": "@jupyter-widgets/controls",
     "model_module_version": "1.5.0",
     "model_name": "ProgressStyleModel",
     "state": {
      "_model_module": "@jupyter-widgets/controls",
      "_model_module_version": "1.5.0",
      "_model_name": "ProgressStyleModel",
      "_view_count": null,
      "_view_module": "@jupyter-widgets/base",
      "_view_module_version": "1.2.0",
      "_view_name": "StyleView",
      "bar_color": null,
      "description_width": ""
     }
    },
    "4d30174eacb047f68d245a34611cb0a7": {
     "model_module": "@jupyter-widgets/base",
     "model_module_version": "1.2.0",
     "model_name": "LayoutModel",
     "state": {
      "_model_module": "@jupyter-widgets/base",
      "_model_module_version": "1.2.0",
      "_model_name": "LayoutModel",
      "_view_count": null,
      "_view_module": "@jupyter-widgets/base",
      "_view_module_version": "1.2.0",
      "_view_name": "LayoutView",
      "align_content": null,
      "align_items": null,
      "align_self": null,
      "border": null,
      "bottom": null,
      "display": null,
      "flex": null,
      "flex_flow": null,
      "grid_area": null,
      "grid_auto_columns": null,
      "grid_auto_flow": null,
      "grid_auto_rows": null,
      "grid_column": null,
      "grid_gap": null,
      "grid_row": null,
      "grid_template_areas": null,
      "grid_template_columns": null,
      "grid_template_rows": null,
      "height": null,
      "justify_content": null,
      "justify_items": null,
      "left": null,
      "margin": null,
      "max_height": null,
      "max_width": null,
      "min_height": null,
      "min_width": null,
      "object_fit": null,
      "object_position": null,
      "order": null,
      "overflow": null,
      "overflow_x": null,
      "overflow_y": null,
      "padding": null,
      "right": null,
      "top": null,
      "visibility": null,
      "width": null
     }
    },
    "4e8074666aa447d59286b560e590829e": {
     "model_module": "@jupyter-widgets/base",
     "model_module_version": "1.2.0",
     "model_name": "LayoutModel",
     "state": {
      "_model_module": "@jupyter-widgets/base",
      "_model_module_version": "1.2.0",
      "_model_name": "LayoutModel",
      "_view_count": null,
      "_view_module": "@jupyter-widgets/base",
      "_view_module_version": "1.2.0",
      "_view_name": "LayoutView",
      "align_content": null,
      "align_items": null,
      "align_self": null,
      "border": null,
      "bottom": null,
      "display": null,
      "flex": null,
      "flex_flow": null,
      "grid_area": null,
      "grid_auto_columns": null,
      "grid_auto_flow": null,
      "grid_auto_rows": null,
      "grid_column": null,
      "grid_gap": null,
      "grid_row": null,
      "grid_template_areas": null,
      "grid_template_columns": null,
      "grid_template_rows": null,
      "height": null,
      "justify_content": null,
      "justify_items": null,
      "left": null,
      "margin": null,
      "max_height": null,
      "max_width": null,
      "min_height": null,
      "min_width": null,
      "object_fit": null,
      "object_position": null,
      "order": null,
      "overflow": null,
      "overflow_x": null,
      "overflow_y": null,
      "padding": null,
      "right": null,
      "top": null,
      "visibility": null,
      "width": null
     }
    },
    "4fa37f29c23d43cabb9298ed187c3238": {
     "model_module": "@jupyter-widgets/base",
     "model_module_version": "1.2.0",
     "model_name": "LayoutModel",
     "state": {
      "_model_module": "@jupyter-widgets/base",
      "_model_module_version": "1.2.0",
      "_model_name": "LayoutModel",
      "_view_count": null,
      "_view_module": "@jupyter-widgets/base",
      "_view_module_version": "1.2.0",
      "_view_name": "LayoutView",
      "align_content": null,
      "align_items": null,
      "align_self": null,
      "border": null,
      "bottom": null,
      "display": null,
      "flex": null,
      "flex_flow": null,
      "grid_area": null,
      "grid_auto_columns": null,
      "grid_auto_flow": null,
      "grid_auto_rows": null,
      "grid_column": null,
      "grid_gap": null,
      "grid_row": null,
      "grid_template_areas": null,
      "grid_template_columns": null,
      "grid_template_rows": null,
      "height": null,
      "justify_content": null,
      "justify_items": null,
      "left": null,
      "margin": null,
      "max_height": null,
      "max_width": null,
      "min_height": null,
      "min_width": null,
      "object_fit": null,
      "object_position": null,
      "order": null,
      "overflow": null,
      "overflow_x": null,
      "overflow_y": null,
      "padding": null,
      "right": null,
      "top": null,
      "visibility": null,
      "width": null
     }
    },
    "50f3cfb393694166afe2424122bcfd0d": {
     "model_module": "@jupyter-widgets/controls",
     "model_module_version": "1.5.0",
     "model_name": "HTMLModel",
     "state": {
      "_dom_classes": [],
      "_model_module": "@jupyter-widgets/controls",
      "_model_module_version": "1.5.0",
      "_model_name": "HTMLModel",
      "_view_count": null,
      "_view_module": "@jupyter-widgets/controls",
      "_view_module_version": "1.5.0",
      "_view_name": "HTMLView",
      "description": "",
      "description_tooltip": null,
      "layout": "IPY_MODEL_7f0a1fe5f3054196af4c075ea478e7c2",
      "placeholder": "​",
      "style": "IPY_MODEL_0adb59eee1e24fafbe9f6e6263601681",
      "value": "model-00004-of-00005.safetensors: 100%"
     }
    },
    "52f6f85968074fce95cb4ece3eb655e0": {
     "model_module": "@jupyter-widgets/base",
     "model_module_version": "1.2.0",
     "model_name": "LayoutModel",
     "state": {
      "_model_module": "@jupyter-widgets/base",
      "_model_module_version": "1.2.0",
      "_model_name": "LayoutModel",
      "_view_count": null,
      "_view_module": "@jupyter-widgets/base",
      "_view_module_version": "1.2.0",
      "_view_name": "LayoutView",
      "align_content": null,
      "align_items": null,
      "align_self": null,
      "border": null,
      "bottom": null,
      "display": null,
      "flex": null,
      "flex_flow": null,
      "grid_area": null,
      "grid_auto_columns": null,
      "grid_auto_flow": null,
      "grid_auto_rows": null,
      "grid_column": null,
      "grid_gap": null,
      "grid_row": null,
      "grid_template_areas": null,
      "grid_template_columns": null,
      "grid_template_rows": null,
      "height": null,
      "justify_content": null,
      "justify_items": null,
      "left": null,
      "margin": null,
      "max_height": null,
      "max_width": null,
      "min_height": null,
      "min_width": null,
      "object_fit": null,
      "object_position": null,
      "order": null,
      "overflow": null,
      "overflow_x": null,
      "overflow_y": null,
      "padding": null,
      "right": null,
      "top": null,
      "visibility": null,
      "width": "20px"
     }
    },
    "53251143b3944486964619d8c953b672": {
     "model_module": "@jupyter-widgets/base",
     "model_module_version": "1.2.0",
     "model_name": "LayoutModel",
     "state": {
      "_model_module": "@jupyter-widgets/base",
      "_model_module_version": "1.2.0",
      "_model_name": "LayoutModel",
      "_view_count": null,
      "_view_module": "@jupyter-widgets/base",
      "_view_module_version": "1.2.0",
      "_view_name": "LayoutView",
      "align_content": null,
      "align_items": null,
      "align_self": null,
      "border": null,
      "bottom": null,
      "display": null,
      "flex": null,
      "flex_flow": null,
      "grid_area": null,
      "grid_auto_columns": null,
      "grid_auto_flow": null,
      "grid_auto_rows": null,
      "grid_column": null,
      "grid_gap": null,
      "grid_row": null,
      "grid_template_areas": null,
      "grid_template_columns": null,
      "grid_template_rows": null,
      "height": null,
      "justify_content": null,
      "justify_items": null,
      "left": null,
      "margin": null,
      "max_height": null,
      "max_width": null,
      "min_height": null,
      "min_width": null,
      "object_fit": null,
      "object_position": null,
      "order": null,
      "overflow": null,
      "overflow_x": null,
      "overflow_y": null,
      "padding": null,
      "right": null,
      "top": null,
      "visibility": null,
      "width": null
     }
    },
    "54bf301e9d194aa3a206b271f92d8b89": {
     "model_module": "@jupyter-widgets/controls",
     "model_module_version": "1.5.0",
     "model_name": "HBoxModel",
     "state": {
      "_dom_classes": [],
      "_model_module": "@jupyter-widgets/controls",
      "_model_module_version": "1.5.0",
      "_model_name": "HBoxModel",
      "_view_count": null,
      "_view_module": "@jupyter-widgets/controls",
      "_view_module_version": "1.5.0",
      "_view_name": "HBoxView",
      "box_style": "",
      "children": [
       "IPY_MODEL_8f529ab75bce4b579fa4a187fa527250",
       "IPY_MODEL_abe12f74c3754733b99e70d5fa9118fc",
       "IPY_MODEL_01dd43c790954681b6726acba7f3d3b3"
      ],
      "layout": "IPY_MODEL_a403ac171d2549bb9d0423db88e680f5"
     }
    },
    "55a28c5fd9344952bd8b11a6d481ca70": {
     "model_module": "@jupyter-widgets/controls",
     "model_module_version": "1.5.0",
     "model_name": "ProgressStyleModel",
     "state": {
      "_model_module": "@jupyter-widgets/controls",
      "_model_module_version": "1.5.0",
      "_model_name": "ProgressStyleModel",
      "_view_count": null,
      "_view_module": "@jupyter-widgets/base",
      "_view_module_version": "1.2.0",
      "_view_name": "StyleView",
      "bar_color": null,
      "description_width": ""
     }
    },
    "565f4399b21741ad913059ce01a24a06": {
     "model_module": "@jupyter-widgets/base",
     "model_module_version": "1.2.0",
     "model_name": "LayoutModel",
     "state": {
      "_model_module": "@jupyter-widgets/base",
      "_model_module_version": "1.2.0",
      "_model_name": "LayoutModel",
      "_view_count": null,
      "_view_module": "@jupyter-widgets/base",
      "_view_module_version": "1.2.0",
      "_view_name": "LayoutView",
      "align_content": null,
      "align_items": null,
      "align_self": null,
      "border": null,
      "bottom": null,
      "display": null,
      "flex": null,
      "flex_flow": null,
      "grid_area": null,
      "grid_auto_columns": null,
      "grid_auto_flow": null,
      "grid_auto_rows": null,
      "grid_column": null,
      "grid_gap": null,
      "grid_row": null,
      "grid_template_areas": null,
      "grid_template_columns": null,
      "grid_template_rows": null,
      "height": null,
      "justify_content": null,
      "justify_items": null,
      "left": null,
      "margin": null,
      "max_height": null,
      "max_width": null,
      "min_height": null,
      "min_width": null,
      "object_fit": null,
      "object_position": null,
      "order": null,
      "overflow": null,
      "overflow_x": null,
      "overflow_y": null,
      "padding": null,
      "right": null,
      "top": null,
      "visibility": null,
      "width": null
     }
    },
    "5684190dd634414682a9dda72b717b80": {
     "model_module": "@jupyter-widgets/controls",
     "model_module_version": "1.5.0",
     "model_name": "HTMLModel",
     "state": {
      "_dom_classes": [],
      "_model_module": "@jupyter-widgets/controls",
      "_model_module_version": "1.5.0",
      "_model_name": "HTMLModel",
      "_view_count": null,
      "_view_module": "@jupyter-widgets/controls",
      "_view_module_version": "1.5.0",
      "_view_name": "HTMLView",
      "description": "",
      "description_tooltip": null,
      "layout": "IPY_MODEL_f94637a844d448eca44ecb20e9459436",
      "placeholder": "​",
      "style": "IPY_MODEL_4aa7fa6a958046bab400d6629a13db13",
      "value": " 1.09G/1.09G [01:02&lt;00:00, 17.5MB/s]"
     }
    },
    "56a1dc3e6dee45d791a312da9a15f4d0": {
     "model_module": "@jupyter-widgets/controls",
     "model_module_version": "1.5.0",
     "model_name": "HTMLModel",
     "state": {
      "_dom_classes": [],
      "_model_module": "@jupyter-widgets/controls",
      "_model_module_version": "1.5.0",
      "_model_name": "HTMLModel",
      "_view_count": null,
      "_view_module": "@jupyter-widgets/controls",
      "_view_module_version": "1.5.0",
      "_view_name": "HTMLView",
      "description": "",
      "description_tooltip": null,
      "layout": "IPY_MODEL_4e8074666aa447d59286b560e590829e",
      "placeholder": "​",
      "style": "IPY_MODEL_e8a837e5ec134d25bb0b52f4ee1fbf55",
      "value": " 3.86G/3.86G [05:06&lt;00:00, 13.8MB/s]"
     }
    },
    "57b109ef50f74552be71adff7afaac98": {
     "model_module": "@jupyter-widgets/controls",
     "model_module_version": "1.5.0",
     "model_name": "HBoxModel",
     "state": {
      "_dom_classes": [],
      "_model_module": "@jupyter-widgets/controls",
      "_model_module_version": "1.5.0",
      "_model_name": "HBoxModel",
      "_view_count": null,
      "_view_module": "@jupyter-widgets/controls",
      "_view_module_version": "1.5.0",
      "_view_name": "HBoxView",
      "box_style": "",
      "children": [
       "IPY_MODEL_f55a1436735c453aa0716202ccbb11cd",
       "IPY_MODEL_657be360f028430fb57a9c962d210dc3",
       "IPY_MODEL_802832b4d59d40b19c70e85907a448ee"
      ],
      "layout": "IPY_MODEL_dbc895c4116d4e54ae3b2e343ba1ea02"
     }
    },
    "6136307ab0b24881932475800fb47f5b": {
     "model_module": "@jupyter-widgets/controls",
     "model_module_version": "1.5.0",
     "model_name": "DescriptionStyleModel",
     "state": {
      "_model_module": "@jupyter-widgets/controls",
      "_model_module_version": "1.5.0",
      "_model_name": "DescriptionStyleModel",
      "_view_count": null,
      "_view_module": "@jupyter-widgets/base",
      "_view_module_version": "1.2.0",
      "_view_name": "StyleView",
      "description_width": ""
     }
    },
    "6147bec4fbb2432c88b5b2b1bcf12e9d": {
     "model_module": "@jupyter-widgets/controls",
     "model_module_version": "1.5.0",
     "model_name": "DescriptionStyleModel",
     "state": {
      "_model_module": "@jupyter-widgets/controls",
      "_model_module_version": "1.5.0",
      "_model_name": "DescriptionStyleModel",
      "_view_count": null,
      "_view_module": "@jupyter-widgets/base",
      "_view_module_version": "1.2.0",
      "_view_name": "StyleView",
      "description_width": ""
     }
    },
    "61845eb91cd646d6929cb14040b13d5f": {
     "model_module": "@jupyter-widgets/controls",
     "model_module_version": "1.5.0",
     "model_name": "HTMLModel",
     "state": {
      "_dom_classes": [],
      "_model_module": "@jupyter-widgets/controls",
      "_model_module_version": "1.5.0",
      "_model_name": "HTMLModel",
      "_view_count": null,
      "_view_module": "@jupyter-widgets/controls",
      "_view_module_version": "1.5.0",
      "_view_name": "HTMLView",
      "description": "",
      "description_tooltip": null,
      "layout": "IPY_MODEL_9727ff649d2a4ca5a46c35968505631f",
      "placeholder": "​",
      "style": "IPY_MODEL_ae4a7de2618c4c6e84a83498a70d99f8",
      "value": "model-00005-of-00005.safetensors: 100%"
     }
    },
    "624717de1f30479dbe38ccbbd08e4edd": {
     "model_module": "@jupyter-widgets/controls",
     "model_module_version": "1.5.0",
     "model_name": "DescriptionStyleModel",
     "state": {
      "_model_module": "@jupyter-widgets/controls",
      "_model_module_version": "1.5.0",
      "_model_name": "DescriptionStyleModel",
      "_view_count": null,
      "_view_module": "@jupyter-widgets/base",
      "_view_module_version": "1.2.0",
      "_view_name": "StyleView",
      "description_width": ""
     }
    },
    "657be360f028430fb57a9c962d210dc3": {
     "model_module": "@jupyter-widgets/controls",
     "model_module_version": "1.5.0",
     "model_name": "FloatProgressModel",
     "state": {
      "_dom_classes": [],
      "_model_module": "@jupyter-widgets/controls",
      "_model_module_version": "1.5.0",
      "_model_name": "FloatProgressModel",
      "_view_count": null,
      "_view_module": "@jupyter-widgets/controls",
      "_view_module_version": "1.5.0",
      "_view_name": "ProgressView",
      "bar_style": "success",
      "description": "",
      "description_tooltip": null,
      "layout": "IPY_MODEL_52f6f85968074fce95cb4ece3eb655e0",
      "max": 1,
      "min": 0,
      "orientation": "horizontal",
      "style": "IPY_MODEL_9727008073e142dcabce5f36c4f905b1",
      "value": 1
     }
    },
    "679119674e9e4023b4f1e7a1c6c50dba": {
     "model_module": "@jupyter-widgets/controls",
     "model_module_version": "1.5.0",
     "model_name": "HTMLModel",
     "state": {
      "_dom_classes": [],
      "_model_module": "@jupyter-widgets/controls",
      "_model_module_version": "1.5.0",
      "_model_name": "HTMLModel",
      "_view_count": null,
      "_view_module": "@jupyter-widgets/controls",
      "_view_module_version": "1.5.0",
      "_view_name": "HTMLView",
      "description": "",
      "description_tooltip": null,
      "layout": "IPY_MODEL_8115b23ce3c34540a633b98e9cd56450",
      "placeholder": "​",
      "style": "IPY_MODEL_8676e2485345405c96ca44817acda857",
      "value": "vocab.json: "
     }
    },
    "6962ce6d428d4cd69777ecc9606d7a80": {
     "model_module": "@jupyter-widgets/controls",
     "model_module_version": "1.5.0",
     "model_name": "HTMLModel",
     "state": {
      "_dom_classes": [],
      "_model_module": "@jupyter-widgets/controls",
      "_model_module_version": "1.5.0",
      "_model_name": "HTMLModel",
      "_view_count": null,
      "_view_module": "@jupyter-widgets/controls",
      "_view_module_version": "1.5.0",
      "_view_name": "HTMLView",
      "description": "",
      "description_tooltip": null,
      "layout": "IPY_MODEL_ea746bc4be504af585acbb2926c72f98",
      "placeholder": "​",
      "style": "IPY_MODEL_791144be08554c568a3cea0f851852e2",
      "value": "Fetching 5 files: 100%"
     }
    },
    "6b146b478fc14f70b8c0c68e3c23da12": {
     "model_module": "@jupyter-widgets/base",
     "model_module_version": "1.2.0",
     "model_name": "LayoutModel",
     "state": {
      "_model_module": "@jupyter-widgets/base",
      "_model_module_version": "1.2.0",
      "_model_name": "LayoutModel",
      "_view_count": null,
      "_view_module": "@jupyter-widgets/base",
      "_view_module_version": "1.2.0",
      "_view_name": "LayoutView",
      "align_content": null,
      "align_items": null,
      "align_self": null,
      "border": null,
      "bottom": null,
      "display": null,
      "flex": null,
      "flex_flow": null,
      "grid_area": null,
      "grid_auto_columns": null,
      "grid_auto_flow": null,
      "grid_auto_rows": null,
      "grid_column": null,
      "grid_gap": null,
      "grid_row": null,
      "grid_template_areas": null,
      "grid_template_columns": null,
      "grid_template_rows": null,
      "height": null,
      "justify_content": null,
      "justify_items": null,
      "left": null,
      "margin": null,
      "max_height": null,
      "max_width": null,
      "min_height": null,
      "min_width": null,
      "object_fit": null,
      "object_position": null,
      "order": null,
      "overflow": null,
      "overflow_x": null,
      "overflow_y": null,
      "padding": null,
      "right": null,
      "top": null,
      "visibility": null,
      "width": null
     }
    },
    "6f111e8212b044e18a9b47a2933d9f8f": {
     "model_module": "@jupyter-widgets/base",
     "model_module_version": "1.2.0",
     "model_name": "LayoutModel",
     "state": {
      "_model_module": "@jupyter-widgets/base",
      "_model_module_version": "1.2.0",
      "_model_name": "LayoutModel",
      "_view_count": null,
      "_view_module": "@jupyter-widgets/base",
      "_view_module_version": "1.2.0",
      "_view_name": "LayoutView",
      "align_content": null,
      "align_items": null,
      "align_self": null,
      "border": null,
      "bottom": null,
      "display": null,
      "flex": null,
      "flex_flow": null,
      "grid_area": null,
      "grid_auto_columns": null,
      "grid_auto_flow": null,
      "grid_auto_rows": null,
      "grid_column": null,
      "grid_gap": null,
      "grid_row": null,
      "grid_template_areas": null,
      "grid_template_columns": null,
      "grid_template_rows": null,
      "height": null,
      "justify_content": null,
      "justify_items": null,
      "left": null,
      "margin": null,
      "max_height": null,
      "max_width": null,
      "min_height": null,
      "min_width": null,
      "object_fit": null,
      "object_position": null,
      "order": null,
      "overflow": null,
      "overflow_x": null,
      "overflow_y": null,
      "padding": null,
      "right": null,
      "top": null,
      "visibility": null,
      "width": null
     }
    },
    "702c3496d9374cf0bda0ecd953cffbdf": {
     "model_module": "@jupyter-widgets/controls",
     "model_module_version": "1.5.0",
     "model_name": "HTMLModel",
     "state": {
      "_dom_classes": [],
      "_model_module": "@jupyter-widgets/controls",
      "_model_module_version": "1.5.0",
      "_model_name": "HTMLModel",
      "_view_count": null,
      "_view_module": "@jupyter-widgets/controls",
      "_view_module_version": "1.5.0",
      "_view_name": "HTMLView",
      "description": "",
      "description_tooltip": null,
      "layout": "IPY_MODEL_8e7eaa75f56f42e3a122b9d61fae52b9",
      "placeholder": "​",
      "style": "IPY_MODEL_82aeed6b11f1457e96a6f0c74be103ea",
      "value": " 3.86G/3.86G [05:05&lt;00:00, 16.3MB/s]"
     }
    },
    "728e679962e0493cad0f259dbae50fe1": {
     "model_module": "@jupyter-widgets/base",
     "model_module_version": "1.2.0",
     "model_name": "LayoutModel",
     "state": {
      "_model_module": "@jupyter-widgets/base",
      "_model_module_version": "1.2.0",
      "_model_name": "LayoutModel",
      "_view_count": null,
      "_view_module": "@jupyter-widgets/base",
      "_view_module_version": "1.2.0",
      "_view_name": "LayoutView",
      "align_content": null,
      "align_items": null,
      "align_self": null,
      "border": null,
      "bottom": null,
      "display": null,
      "flex": null,
      "flex_flow": null,
      "grid_area": null,
      "grid_auto_columns": null,
      "grid_auto_flow": null,
      "grid_auto_rows": null,
      "grid_column": null,
      "grid_gap": null,
      "grid_row": null,
      "grid_template_areas": null,
      "grid_template_columns": null,
      "grid_template_rows": null,
      "height": null,
      "justify_content": null,
      "justify_items": null,
      "left": null,
      "margin": null,
      "max_height": null,
      "max_width": null,
      "min_height": null,
      "min_width": null,
      "object_fit": null,
      "object_position": null,
      "order": null,
      "overflow": null,
      "overflow_x": null,
      "overflow_y": null,
      "padding": null,
      "right": null,
      "top": null,
      "visibility": null,
      "width": null
     }
    },
    "75674307aca146e890857321eb81e955": {
     "model_module": "@jupyter-widgets/controls",
     "model_module_version": "1.5.0",
     "model_name": "ProgressStyleModel",
     "state": {
      "_model_module": "@jupyter-widgets/controls",
      "_model_module_version": "1.5.0",
      "_model_name": "ProgressStyleModel",
      "_view_count": null,
      "_view_module": "@jupyter-widgets/base",
      "_view_module_version": "1.2.0",
      "_view_name": "StyleView",
      "bar_color": null,
      "description_width": ""
     }
    },
    "76a72f8e647b4c1baab589d7f9a965af": {
     "model_module": "@jupyter-widgets/controls",
     "model_module_version": "1.5.0",
     "model_name": "ProgressStyleModel",
     "state": {
      "_model_module": "@jupyter-widgets/controls",
      "_model_module_version": "1.5.0",
      "_model_name": "ProgressStyleModel",
      "_view_count": null,
      "_view_module": "@jupyter-widgets/base",
      "_view_module_version": "1.2.0",
      "_view_name": "StyleView",
      "bar_color": null,
      "description_width": ""
     }
    },
    "791144be08554c568a3cea0f851852e2": {
     "model_module": "@jupyter-widgets/controls",
     "model_module_version": "1.5.0",
     "model_name": "DescriptionStyleModel",
     "state": {
      "_model_module": "@jupyter-widgets/controls",
      "_model_module_version": "1.5.0",
      "_model_name": "DescriptionStyleModel",
      "_view_count": null,
      "_view_module": "@jupyter-widgets/base",
      "_view_module_version": "1.2.0",
      "_view_name": "StyleView",
      "description_width": ""
     }
    },
    "7ab2670e99384402b95d5aa9e473bd5b": {
     "model_module": "@jupyter-widgets/base",
     "model_module_version": "1.2.0",
     "model_name": "LayoutModel",
     "state": {
      "_model_module": "@jupyter-widgets/base",
      "_model_module_version": "1.2.0",
      "_model_name": "LayoutModel",
      "_view_count": null,
      "_view_module": "@jupyter-widgets/base",
      "_view_module_version": "1.2.0",
      "_view_name": "LayoutView",
      "align_content": null,
      "align_items": null,
      "align_self": null,
      "border": null,
      "bottom": null,
      "display": null,
      "flex": null,
      "flex_flow": null,
      "grid_area": null,
      "grid_auto_columns": null,
      "grid_auto_flow": null,
      "grid_auto_rows": null,
      "grid_column": null,
      "grid_gap": null,
      "grid_row": null,
      "grid_template_areas": null,
      "grid_template_columns": null,
      "grid_template_rows": null,
      "height": null,
      "justify_content": null,
      "justify_items": null,
      "left": null,
      "margin": null,
      "max_height": null,
      "max_width": null,
      "min_height": null,
      "min_width": null,
      "object_fit": null,
      "object_position": null,
      "order": null,
      "overflow": null,
      "overflow_x": null,
      "overflow_y": null,
      "padding": null,
      "right": null,
      "top": null,
      "visibility": null,
      "width": null
     }
    },
    "7cbb1548ebb945429d3bf1310293eb47": {
     "model_module": "@jupyter-widgets/base",
     "model_module_version": "1.2.0",
     "model_name": "LayoutModel",
     "state": {
      "_model_module": "@jupyter-widgets/base",
      "_model_module_version": "1.2.0",
      "_model_name": "LayoutModel",
      "_view_count": null,
      "_view_module": "@jupyter-widgets/base",
      "_view_module_version": "1.2.0",
      "_view_name": "LayoutView",
      "align_content": null,
      "align_items": null,
      "align_self": null,
      "border": null,
      "bottom": null,
      "display": null,
      "flex": null,
      "flex_flow": null,
      "grid_area": null,
      "grid_auto_columns": null,
      "grid_auto_flow": null,
      "grid_auto_rows": null,
      "grid_column": null,
      "grid_gap": null,
      "grid_row": null,
      "grid_template_areas": null,
      "grid_template_columns": null,
      "grid_template_rows": null,
      "height": null,
      "justify_content": null,
      "justify_items": null,
      "left": null,
      "margin": null,
      "max_height": null,
      "max_width": null,
      "min_height": null,
      "min_width": null,
      "object_fit": null,
      "object_position": null,
      "order": null,
      "overflow": null,
      "overflow_x": null,
      "overflow_y": null,
      "padding": null,
      "right": null,
      "top": null,
      "visibility": null,
      "width": null
     }
    },
    "7dfbe208b035422b8e6d8b92d4a4f625": {
     "model_module": "@jupyter-widgets/controls",
     "model_module_version": "1.5.0",
     "model_name": "HBoxModel",
     "state": {
      "_dom_classes": [],
      "_model_module": "@jupyter-widgets/controls",
      "_model_module_version": "1.5.0",
      "_model_name": "HBoxModel",
      "_view_count": null,
      "_view_module": "@jupyter-widgets/controls",
      "_view_module_version": "1.5.0",
      "_view_name": "HBoxView",
      "box_style": "",
      "children": [
       "IPY_MODEL_9a0cb0a315a74660a188e0375d778e7d",
       "IPY_MODEL_af2bf7bf77e5446394bf8c2de420099e",
       "IPY_MODEL_f091bcf4155742c2a6f92a18f04eb8d9"
      ],
      "layout": "IPY_MODEL_366e6dace4c547f7b959fa8c0d526f58"
     }
    },
    "7ef5a52b133c4cd281c329875879a292": {
     "model_module": "@jupyter-widgets/controls",
     "model_module_version": "1.5.0",
     "model_name": "HTMLModel",
     "state": {
      "_dom_classes": [],
      "_model_module": "@jupyter-widgets/controls",
      "_model_module_version": "1.5.0",
      "_model_name": "HTMLModel",
      "_view_count": null,
      "_view_module": "@jupyter-widgets/controls",
      "_view_module_version": "1.5.0",
      "_view_name": "HTMLView",
      "description": "",
      "description_tooltip": null,
      "layout": "IPY_MODEL_92af9dbd6ce14c95bea294b14a36c264",
      "placeholder": "​",
      "style": "IPY_MODEL_1ce4f8e315e64e0d8bf45ea89bd3f127",
      "value": "model-00002-of-00005.safetensors: 100%"
     }
    },
    "7f0a1fe5f3054196af4c075ea478e7c2": {
     "model_module": "@jupyter-widgets/base",
     "model_module_version": "1.2.0",
     "model_name": "LayoutModel",
     "state": {
      "_model_module": "@jupyter-widgets/base",
      "_model_module_version": "1.2.0",
      "_model_name": "LayoutModel",
      "_view_count": null,
      "_view_module": "@jupyter-widgets/base",
      "_view_module_version": "1.2.0",
      "_view_name": "LayoutView",
      "align_content": null,
      "align_items": null,
      "align_self": null,
      "border": null,
      "bottom": null,
      "display": null,
      "flex": null,
      "flex_flow": null,
      "grid_area": null,
      "grid_auto_columns": null,
      "grid_auto_flow": null,
      "grid_auto_rows": null,
      "grid_column": null,
      "grid_gap": null,
      "grid_row": null,
      "grid_template_areas": null,
      "grid_template_columns": null,
      "grid_template_rows": null,
      "height": null,
      "justify_content": null,
      "justify_items": null,
      "left": null,
      "margin": null,
      "max_height": null,
      "max_width": null,
      "min_height": null,
      "min_width": null,
      "object_fit": null,
      "object_position": null,
      "order": null,
      "overflow": null,
      "overflow_x": null,
      "overflow_y": null,
      "padding": null,
      "right": null,
      "top": null,
      "visibility": null,
      "width": null
     }
    },
    "802832b4d59d40b19c70e85907a448ee": {
     "model_module": "@jupyter-widgets/controls",
     "model_module_version": "1.5.0",
     "model_name": "HTMLModel",
     "state": {
      "_dom_classes": [],
      "_model_module": "@jupyter-widgets/controls",
      "_model_module_version": "1.5.0",
      "_model_name": "HTMLModel",
      "_view_count": null,
      "_view_module": "@jupyter-widgets/controls",
      "_view_module_version": "1.5.0",
      "_view_name": "HTMLView",
      "description": "",
      "description_tooltip": null,
      "layout": "IPY_MODEL_2c7cbb9e61f74a268b1e0a72909f68bf",
      "placeholder": "​",
      "style": "IPY_MODEL_94122b39ce624eaf9065ec796d6bd73c",
      "value": " 1.67M/? [00:00&lt;00:00, 52.9MB/s]"
     }
    },
    "80c55eea528d41e1a210c4d61defe3b2": {
     "model_module": "@jupyter-widgets/base",
     "model_module_version": "1.2.0",
     "model_name": "LayoutModel",
     "state": {
      "_model_module": "@jupyter-widgets/base",
      "_model_module_version": "1.2.0",
      "_model_name": "LayoutModel",
      "_view_count": null,
      "_view_module": "@jupyter-widgets/base",
      "_view_module_version": "1.2.0",
      "_view_name": "LayoutView",
      "align_content": null,
      "align_items": null,
      "align_self": null,
      "border": null,
      "bottom": null,
      "display": null,
      "flex": null,
      "flex_flow": null,
      "grid_area": null,
      "grid_auto_columns": null,
      "grid_auto_flow": null,
      "grid_auto_rows": null,
      "grid_column": null,
      "grid_gap": null,
      "grid_row": null,
      "grid_template_areas": null,
      "grid_template_columns": null,
      "grid_template_rows": null,
      "height": null,
      "justify_content": null,
      "justify_items": null,
      "left": null,
      "margin": null,
      "max_height": null,
      "max_width": null,
      "min_height": null,
      "min_width": null,
      "object_fit": null,
      "object_position": null,
      "order": null,
      "overflow": null,
      "overflow_x": null,
      "overflow_y": null,
      "padding": null,
      "right": null,
      "top": null,
      "visibility": null,
      "width": null
     }
    },
    "8115b23ce3c34540a633b98e9cd56450": {
     "model_module": "@jupyter-widgets/base",
     "model_module_version": "1.2.0",
     "model_name": "LayoutModel",
     "state": {
      "_model_module": "@jupyter-widgets/base",
      "_model_module_version": "1.2.0",
      "_model_name": "LayoutModel",
      "_view_count": null,
      "_view_module": "@jupyter-widgets/base",
      "_view_module_version": "1.2.0",
      "_view_name": "LayoutView",
      "align_content": null,
      "align_items": null,
      "align_self": null,
      "border": null,
      "bottom": null,
      "display": null,
      "flex": null,
      "flex_flow": null,
      "grid_area": null,
      "grid_auto_columns": null,
      "grid_auto_flow": null,
      "grid_auto_rows": null,
      "grid_column": null,
      "grid_gap": null,
      "grid_row": null,
      "grid_template_areas": null,
      "grid_template_columns": null,
      "grid_template_rows": null,
      "height": null,
      "justify_content": null,
      "justify_items": null,
      "left": null,
      "margin": null,
      "max_height": null,
      "max_width": null,
      "min_height": null,
      "min_width": null,
      "object_fit": null,
      "object_position": null,
      "order": null,
      "overflow": null,
      "overflow_x": null,
      "overflow_y": null,
      "padding": null,
      "right": null,
      "top": null,
      "visibility": null,
      "width": null
     }
    },
    "82aeed6b11f1457e96a6f0c74be103ea": {
     "model_module": "@jupyter-widgets/controls",
     "model_module_version": "1.5.0",
     "model_name": "DescriptionStyleModel",
     "state": {
      "_model_module": "@jupyter-widgets/controls",
      "_model_module_version": "1.5.0",
      "_model_name": "DescriptionStyleModel",
      "_view_count": null,
      "_view_module": "@jupyter-widgets/base",
      "_view_module_version": "1.2.0",
      "_view_name": "StyleView",
      "description_width": ""
     }
    },
    "83286cb145e848b49d09038ef25d32fa": {
     "model_module": "@jupyter-widgets/controls",
     "model_module_version": "1.5.0",
     "model_name": "HBoxModel",
     "state": {
      "_dom_classes": [],
      "_model_module": "@jupyter-widgets/controls",
      "_model_module_version": "1.5.0",
      "_model_name": "HBoxModel",
      "_view_count": null,
      "_view_module": "@jupyter-widgets/controls",
      "_view_module_version": "1.5.0",
      "_view_name": "HBoxView",
      "box_style": "",
      "children": [
       "IPY_MODEL_679119674e9e4023b4f1e7a1c6c50dba",
       "IPY_MODEL_cf010744b0524f92afe7f6cf4650a6c2",
       "IPY_MODEL_0738f03518574ae5ac814bda68e2a15f"
      ],
      "layout": "IPY_MODEL_d2e0669938444e279f5e934bfc232dfc"
     }
    },
    "8599746184ac463c8e295aa469601a7e": {
     "model_module": "@jupyter-widgets/controls",
     "model_module_version": "1.5.0",
     "model_name": "HTMLModel",
     "state": {
      "_dom_classes": [],
      "_model_module": "@jupyter-widgets/controls",
      "_model_module_version": "1.5.0",
      "_model_name": "HTMLModel",
      "_view_count": null,
      "_view_module": "@jupyter-widgets/controls",
      "_view_module_version": "1.5.0",
      "_view_name": "HTMLView",
      "description": "",
      "description_tooltip": null,
      "layout": "IPY_MODEL_b247ba9464be4dcdad41ebc44d619424",
      "placeholder": "​",
      "style": "IPY_MODEL_bf1c8271717847c489619b1a561af047",
      "value": "model-00003-of-00005.safetensors: 100%"
     }
    },
    "8676e2485345405c96ca44817acda857": {
     "model_module": "@jupyter-widgets/controls",
     "model_module_version": "1.5.0",
     "model_name": "DescriptionStyleModel",
     "state": {
      "_model_module": "@jupyter-widgets/controls",
      "_model_module_version": "1.5.0",
      "_model_name": "DescriptionStyleModel",
      "_view_count": null,
      "_view_module": "@jupyter-widgets/base",
      "_view_module_version": "1.2.0",
      "_view_name": "StyleView",
      "description_width": ""
     }
    },
    "87863dcf298646fca2544778fbd25a28": {
     "model_module": "@jupyter-widgets/controls",
     "model_module_version": "1.5.0",
     "model_name": "FloatProgressModel",
     "state": {
      "_dom_classes": [],
      "_model_module": "@jupyter-widgets/controls",
      "_model_module_version": "1.5.0",
      "_model_name": "FloatProgressModel",
      "_view_count": null,
      "_view_module": "@jupyter-widgets/controls",
      "_view_module_version": "1.5.0",
      "_view_name": "ProgressView",
      "bar_style": "success",
      "description": "",
      "description_tooltip": null,
      "layout": "IPY_MODEL_c359509e72a940a085b5e95d11e626b5",
      "max": 1,
      "min": 0,
      "orientation": "horizontal",
      "style": "IPY_MODEL_76a72f8e647b4c1baab589d7f9a965af",
      "value": 1
     }
    },
    "87f8026a6e9945ff86d3fc2d247c620b": {
     "model_module": "@jupyter-widgets/controls",
     "model_module_version": "1.5.0",
     "model_name": "DescriptionStyleModel",
     "state": {
      "_model_module": "@jupyter-widgets/controls",
      "_model_module_version": "1.5.0",
      "_model_name": "DescriptionStyleModel",
      "_view_count": null,
      "_view_module": "@jupyter-widgets/base",
      "_view_module_version": "1.2.0",
      "_view_name": "StyleView",
      "description_width": ""
     }
    },
    "88a856aa329a4cf29320692696463de6": {
     "model_module": "@jupyter-widgets/base",
     "model_module_version": "1.2.0",
     "model_name": "LayoutModel",
     "state": {
      "_model_module": "@jupyter-widgets/base",
      "_model_module_version": "1.2.0",
      "_model_name": "LayoutModel",
      "_view_count": null,
      "_view_module": "@jupyter-widgets/base",
      "_view_module_version": "1.2.0",
      "_view_name": "LayoutView",
      "align_content": null,
      "align_items": null,
      "align_self": null,
      "border": null,
      "bottom": null,
      "display": null,
      "flex": null,
      "flex_flow": null,
      "grid_area": null,
      "grid_auto_columns": null,
      "grid_auto_flow": null,
      "grid_auto_rows": null,
      "grid_column": null,
      "grid_gap": null,
      "grid_row": null,
      "grid_template_areas": null,
      "grid_template_columns": null,
      "grid_template_rows": null,
      "height": null,
      "justify_content": null,
      "justify_items": null,
      "left": null,
      "margin": null,
      "max_height": null,
      "max_width": null,
      "min_height": null,
      "min_width": null,
      "object_fit": null,
      "object_position": null,
      "order": null,
      "overflow": null,
      "overflow_x": null,
      "overflow_y": null,
      "padding": null,
      "right": null,
      "top": null,
      "visibility": null,
      "width": null
     }
    },
    "89dc6f12c3604d9a85cde776925ad3f5": {
     "model_module": "@jupyter-widgets/base",
     "model_module_version": "1.2.0",
     "model_name": "LayoutModel",
     "state": {
      "_model_module": "@jupyter-widgets/base",
      "_model_module_version": "1.2.0",
      "_model_name": "LayoutModel",
      "_view_count": null,
      "_view_module": "@jupyter-widgets/base",
      "_view_module_version": "1.2.0",
      "_view_name": "LayoutView",
      "align_content": null,
      "align_items": null,
      "align_self": null,
      "border": null,
      "bottom": null,
      "display": null,
      "flex": null,
      "flex_flow": null,
      "grid_area": null,
      "grid_auto_columns": null,
      "grid_auto_flow": null,
      "grid_auto_rows": null,
      "grid_column": null,
      "grid_gap": null,
      "grid_row": null,
      "grid_template_areas": null,
      "grid_template_columns": null,
      "grid_template_rows": null,
      "height": null,
      "justify_content": null,
      "justify_items": null,
      "left": null,
      "margin": null,
      "max_height": null,
      "max_width": null,
      "min_height": null,
      "min_width": null,
      "object_fit": null,
      "object_position": null,
      "order": null,
      "overflow": null,
      "overflow_x": null,
      "overflow_y": null,
      "padding": null,
      "right": null,
      "top": null,
      "visibility": null,
      "width": null
     }
    },
    "8e7eaa75f56f42e3a122b9d61fae52b9": {
     "model_module": "@jupyter-widgets/base",
     "model_module_version": "1.2.0",
     "model_name": "LayoutModel",
     "state": {
      "_model_module": "@jupyter-widgets/base",
      "_model_module_version": "1.2.0",
      "_model_name": "LayoutModel",
      "_view_count": null,
      "_view_module": "@jupyter-widgets/base",
      "_view_module_version": "1.2.0",
      "_view_name": "LayoutView",
      "align_content": null,
      "align_items": null,
      "align_self": null,
      "border": null,
      "bottom": null,
      "display": null,
      "flex": null,
      "flex_flow": null,
      "grid_area": null,
      "grid_auto_columns": null,
      "grid_auto_flow": null,
      "grid_auto_rows": null,
      "grid_column": null,
      "grid_gap": null,
      "grid_row": null,
      "grid_template_areas": null,
      "grid_template_columns": null,
      "grid_template_rows": null,
      "height": null,
      "justify_content": null,
      "justify_items": null,
      "left": null,
      "margin": null,
      "max_height": null,
      "max_width": null,
      "min_height": null,
      "min_width": null,
      "object_fit": null,
      "object_position": null,
      "order": null,
      "overflow": null,
      "overflow_x": null,
      "overflow_y": null,
      "padding": null,
      "right": null,
      "top": null,
      "visibility": null,
      "width": null
     }
    },
    "8effe523752c4cfdb46cc47437771f5d": {
     "model_module": "@jupyter-widgets/controls",
     "model_module_version": "1.5.0",
     "model_name": "DescriptionStyleModel",
     "state": {
      "_model_module": "@jupyter-widgets/controls",
      "_model_module_version": "1.5.0",
      "_model_name": "DescriptionStyleModel",
      "_view_count": null,
      "_view_module": "@jupyter-widgets/base",
      "_view_module_version": "1.2.0",
      "_view_name": "StyleView",
      "description_width": ""
     }
    },
    "8f529ab75bce4b579fa4a187fa527250": {
     "model_module": "@jupyter-widgets/controls",
     "model_module_version": "1.5.0",
     "model_name": "HTMLModel",
     "state": {
      "_dom_classes": [],
      "_model_module": "@jupyter-widgets/controls",
      "_model_module_version": "1.5.0",
      "_model_name": "HTMLModel",
      "_view_count": null,
      "_view_module": "@jupyter-widgets/controls",
      "_view_module_version": "1.5.0",
      "_view_name": "HTMLView",
      "description": "",
      "description_tooltip": null,
      "layout": "IPY_MODEL_d3cfb38ec6d64dceb1d847ba0db6899a",
      "placeholder": "​",
      "style": "IPY_MODEL_a0e8e0486fec4bd8b040e6e453934bd2",
      "value": "Loading checkpoint shards: 100%"
     }
    },
    "904ad4aeb0594e1b939f49d57cdb2335": {
     "model_module": "@jupyter-widgets/controls",
     "model_module_version": "1.5.0",
     "model_name": "DescriptionStyleModel",
     "state": {
      "_model_module": "@jupyter-widgets/controls",
      "_model_module_version": "1.5.0",
      "_model_name": "DescriptionStyleModel",
      "_view_count": null,
      "_view_module": "@jupyter-widgets/base",
      "_view_module_version": "1.2.0",
      "_view_name": "StyleView",
      "description_width": ""
     }
    },
    "9100badbf84e45348e1bea9ba48f237a": {
     "model_module": "@jupyter-widgets/controls",
     "model_module_version": "1.5.0",
     "model_name": "DescriptionStyleModel",
     "state": {
      "_model_module": "@jupyter-widgets/controls",
      "_model_module_version": "1.5.0",
      "_model_name": "DescriptionStyleModel",
      "_view_count": null,
      "_view_module": "@jupyter-widgets/base",
      "_view_module_version": "1.2.0",
      "_view_name": "StyleView",
      "description_width": ""
     }
    },
    "91c08cc6357a4863ba95b8dbdd2ef86d": {
     "model_module": "@jupyter-widgets/controls",
     "model_module_version": "1.5.0",
     "model_name": "ProgressStyleModel",
     "state": {
      "_model_module": "@jupyter-widgets/controls",
      "_model_module_version": "1.5.0",
      "_model_name": "ProgressStyleModel",
      "_view_count": null,
      "_view_module": "@jupyter-widgets/base",
      "_view_module_version": "1.2.0",
      "_view_name": "StyleView",
      "bar_color": null,
      "description_width": ""
     }
    },
    "91e7491bfdd54e528a3b190c3310a7d0": {
     "model_module": "@jupyter-widgets/base",
     "model_module_version": "1.2.0",
     "model_name": "LayoutModel",
     "state": {
      "_model_module": "@jupyter-widgets/base",
      "_model_module_version": "1.2.0",
      "_model_name": "LayoutModel",
      "_view_count": null,
      "_view_module": "@jupyter-widgets/base",
      "_view_module_version": "1.2.0",
      "_view_name": "LayoutView",
      "align_content": null,
      "align_items": null,
      "align_self": null,
      "border": null,
      "bottom": null,
      "display": null,
      "flex": null,
      "flex_flow": null,
      "grid_area": null,
      "grid_auto_columns": null,
      "grid_auto_flow": null,
      "grid_auto_rows": null,
      "grid_column": null,
      "grid_gap": null,
      "grid_row": null,
      "grid_template_areas": null,
      "grid_template_columns": null,
      "grid_template_rows": null,
      "height": null,
      "justify_content": null,
      "justify_items": null,
      "left": null,
      "margin": null,
      "max_height": null,
      "max_width": null,
      "min_height": null,
      "min_width": null,
      "object_fit": null,
      "object_position": null,
      "order": null,
      "overflow": null,
      "overflow_x": null,
      "overflow_y": null,
      "padding": null,
      "right": null,
      "top": null,
      "visibility": null,
      "width": null
     }
    },
    "92af9dbd6ce14c95bea294b14a36c264": {
     "model_module": "@jupyter-widgets/base",
     "model_module_version": "1.2.0",
     "model_name": "LayoutModel",
     "state": {
      "_model_module": "@jupyter-widgets/base",
      "_model_module_version": "1.2.0",
      "_model_name": "LayoutModel",
      "_view_count": null,
      "_view_module": "@jupyter-widgets/base",
      "_view_module_version": "1.2.0",
      "_view_name": "LayoutView",
      "align_content": null,
      "align_items": null,
      "align_self": null,
      "border": null,
      "bottom": null,
      "display": null,
      "flex": null,
      "flex_flow": null,
      "grid_area": null,
      "grid_auto_columns": null,
      "grid_auto_flow": null,
      "grid_auto_rows": null,
      "grid_column": null,
      "grid_gap": null,
      "grid_row": null,
      "grid_template_areas": null,
      "grid_template_columns": null,
      "grid_template_rows": null,
      "height": null,
      "justify_content": null,
      "justify_items": null,
      "left": null,
      "margin": null,
      "max_height": null,
      "max_width": null,
      "min_height": null,
      "min_width": null,
      "object_fit": null,
      "object_position": null,
      "order": null,
      "overflow": null,
      "overflow_x": null,
      "overflow_y": null,
      "padding": null,
      "right": null,
      "top": null,
      "visibility": null,
      "width": null
     }
    },
    "92df5817423448baa0ccd8101a5ff7e4": {
     "model_module": "@jupyter-widgets/base",
     "model_module_version": "1.2.0",
     "model_name": "LayoutModel",
     "state": {
      "_model_module": "@jupyter-widgets/base",
      "_model_module_version": "1.2.0",
      "_model_name": "LayoutModel",
      "_view_count": null,
      "_view_module": "@jupyter-widgets/base",
      "_view_module_version": "1.2.0",
      "_view_name": "LayoutView",
      "align_content": null,
      "align_items": null,
      "align_self": null,
      "border": null,
      "bottom": null,
      "display": null,
      "flex": null,
      "flex_flow": null,
      "grid_area": null,
      "grid_auto_columns": null,
      "grid_auto_flow": null,
      "grid_auto_rows": null,
      "grid_column": null,
      "grid_gap": null,
      "grid_row": null,
      "grid_template_areas": null,
      "grid_template_columns": null,
      "grid_template_rows": null,
      "height": null,
      "justify_content": null,
      "justify_items": null,
      "left": null,
      "margin": null,
      "max_height": null,
      "max_width": null,
      "min_height": null,
      "min_width": null,
      "object_fit": null,
      "object_position": null,
      "order": null,
      "overflow": null,
      "overflow_x": null,
      "overflow_y": null,
      "padding": null,
      "right": null,
      "top": null,
      "visibility": null,
      "width": null
     }
    },
    "94122b39ce624eaf9065ec796d6bd73c": {
     "model_module": "@jupyter-widgets/controls",
     "model_module_version": "1.5.0",
     "model_name": "DescriptionStyleModel",
     "state": {
      "_model_module": "@jupyter-widgets/controls",
      "_model_module_version": "1.5.0",
      "_model_name": "DescriptionStyleModel",
      "_view_count": null,
      "_view_module": "@jupyter-widgets/base",
      "_view_module_version": "1.2.0",
      "_view_name": "StyleView",
      "description_width": ""
     }
    },
    "951a7770c1bc44faa0afa94fb978f958": {
     "model_module": "@jupyter-widgets/controls",
     "model_module_version": "1.5.0",
     "model_name": "FloatProgressModel",
     "state": {
      "_dom_classes": [],
      "_model_module": "@jupyter-widgets/controls",
      "_model_module_version": "1.5.0",
      "_model_name": "FloatProgressModel",
      "_view_count": null,
      "_view_module": "@jupyter-widgets/controls",
      "_view_module_version": "1.5.0",
      "_view_name": "ProgressView",
      "bar_style": "success",
      "description": "",
      "description_tooltip": null,
      "layout": "IPY_MODEL_eb151a1eec774e03bf8709c5903ec1e8",
      "max": 3864726424,
      "min": 0,
      "orientation": "horizontal",
      "style": "IPY_MODEL_1c8f46a6395248a3bd554c5af8392d77",
      "value": 3864726424
     }
    },
    "95837cabc41644d488e30dc1bba2dc5c": {
     "model_module": "@jupyter-widgets/base",
     "model_module_version": "1.2.0",
     "model_name": "LayoutModel",
     "state": {
      "_model_module": "@jupyter-widgets/base",
      "_model_module_version": "1.2.0",
      "_model_name": "LayoutModel",
      "_view_count": null,
      "_view_module": "@jupyter-widgets/base",
      "_view_module_version": "1.2.0",
      "_view_name": "LayoutView",
      "align_content": null,
      "align_items": null,
      "align_self": null,
      "border": null,
      "bottom": null,
      "display": null,
      "flex": null,
      "flex_flow": null,
      "grid_area": null,
      "grid_auto_columns": null,
      "grid_auto_flow": null,
      "grid_auto_rows": null,
      "grid_column": null,
      "grid_gap": null,
      "grid_row": null,
      "grid_template_areas": null,
      "grid_template_columns": null,
      "grid_template_rows": null,
      "height": null,
      "justify_content": null,
      "justify_items": null,
      "left": null,
      "margin": null,
      "max_height": null,
      "max_width": null,
      "min_height": null,
      "min_width": null,
      "object_fit": null,
      "object_position": null,
      "order": null,
      "overflow": null,
      "overflow_x": null,
      "overflow_y": null,
      "padding": null,
      "right": null,
      "top": null,
      "visibility": null,
      "width": null
     }
    },
    "95d71378916b491aa6e61ba318a842a4": {
     "model_module": "@jupyter-widgets/base",
     "model_module_version": "1.2.0",
     "model_name": "LayoutModel",
     "state": {
      "_model_module": "@jupyter-widgets/base",
      "_model_module_version": "1.2.0",
      "_model_name": "LayoutModel",
      "_view_count": null,
      "_view_module": "@jupyter-widgets/base",
      "_view_module_version": "1.2.0",
      "_view_name": "LayoutView",
      "align_content": null,
      "align_items": null,
      "align_self": null,
      "border": null,
      "bottom": null,
      "display": null,
      "flex": null,
      "flex_flow": null,
      "grid_area": null,
      "grid_auto_columns": null,
      "grid_auto_flow": null,
      "grid_auto_rows": null,
      "grid_column": null,
      "grid_gap": null,
      "grid_row": null,
      "grid_template_areas": null,
      "grid_template_columns": null,
      "grid_template_rows": null,
      "height": null,
      "justify_content": null,
      "justify_items": null,
      "left": null,
      "margin": null,
      "max_height": null,
      "max_width": null,
      "min_height": null,
      "min_width": null,
      "object_fit": null,
      "object_position": null,
      "order": null,
      "overflow": null,
      "overflow_x": null,
      "overflow_y": null,
      "padding": null,
      "right": null,
      "top": null,
      "visibility": null,
      "width": "20px"
     }
    },
    "96ab198e39094092be5192f471af4b45": {
     "model_module": "@jupyter-widgets/controls",
     "model_module_version": "1.5.0",
     "model_name": "ProgressStyleModel",
     "state": {
      "_model_module": "@jupyter-widgets/controls",
      "_model_module_version": "1.5.0",
      "_model_name": "ProgressStyleModel",
      "_view_count": null,
      "_view_module": "@jupyter-widgets/base",
      "_view_module_version": "1.2.0",
      "_view_name": "StyleView",
      "bar_color": null,
      "description_width": ""
     }
    },
    "9727008073e142dcabce5f36c4f905b1": {
     "model_module": "@jupyter-widgets/controls",
     "model_module_version": "1.5.0",
     "model_name": "ProgressStyleModel",
     "state": {
      "_model_module": "@jupyter-widgets/controls",
      "_model_module_version": "1.5.0",
      "_model_name": "ProgressStyleModel",
      "_view_count": null,
      "_view_module": "@jupyter-widgets/base",
      "_view_module_version": "1.2.0",
      "_view_name": "StyleView",
      "bar_color": null,
      "description_width": ""
     }
    },
    "9727ff649d2a4ca5a46c35968505631f": {
     "model_module": "@jupyter-widgets/base",
     "model_module_version": "1.2.0",
     "model_name": "LayoutModel",
     "state": {
      "_model_module": "@jupyter-widgets/base",
      "_model_module_version": "1.2.0",
      "_model_name": "LayoutModel",
      "_view_count": null,
      "_view_module": "@jupyter-widgets/base",
      "_view_module_version": "1.2.0",
      "_view_name": "LayoutView",
      "align_content": null,
      "align_items": null,
      "align_self": null,
      "border": null,
      "bottom": null,
      "display": null,
      "flex": null,
      "flex_flow": null,
      "grid_area": null,
      "grid_auto_columns": null,
      "grid_auto_flow": null,
      "grid_auto_rows": null,
      "grid_column": null,
      "grid_gap": null,
      "grid_row": null,
      "grid_template_areas": null,
      "grid_template_columns": null,
      "grid_template_rows": null,
      "height": null,
      "justify_content": null,
      "justify_items": null,
      "left": null,
      "margin": null,
      "max_height": null,
      "max_width": null,
      "min_height": null,
      "min_width": null,
      "object_fit": null,
      "object_position": null,
      "order": null,
      "overflow": null,
      "overflow_x": null,
      "overflow_y": null,
      "padding": null,
      "right": null,
      "top": null,
      "visibility": null,
      "width": null
     }
    },
    "98ac8b63e6a64953ad8d11ef2e005d9d": {
     "model_module": "@jupyter-widgets/controls",
     "model_module_version": "1.5.0",
     "model_name": "HTMLModel",
     "state": {
      "_dom_classes": [],
      "_model_module": "@jupyter-widgets/controls",
      "_model_module_version": "1.5.0",
      "_model_name": "HTMLModel",
      "_view_count": null,
      "_view_module": "@jupyter-widgets/controls",
      "_view_module_version": "1.5.0",
      "_view_name": "HTMLView",
      "description": "",
      "description_tooltip": null,
      "layout": "IPY_MODEL_c312873ea1cc4961ab2fd21ce945521d",
      "placeholder": "​",
      "style": "IPY_MODEL_4ba93db2072644ceb119e27f678aac7e",
      "value": " 56.5k/? [00:00&lt;00:00, 5.76MB/s]"
     }
    },
    "98c3fe38ce67402e9ffa798605b0c6e4": {
     "model_module": "@jupyter-widgets/base",
     "model_module_version": "1.2.0",
     "model_name": "LayoutModel",
     "state": {
      "_model_module": "@jupyter-widgets/base",
      "_model_module_version": "1.2.0",
      "_model_name": "LayoutModel",
      "_view_count": null,
      "_view_module": "@jupyter-widgets/base",
      "_view_module_version": "1.2.0",
      "_view_name": "LayoutView",
      "align_content": null,
      "align_items": null,
      "align_self": null,
      "border": null,
      "bottom": null,
      "display": null,
      "flex": null,
      "flex_flow": null,
      "grid_area": null,
      "grid_auto_columns": null,
      "grid_auto_flow": null,
      "grid_auto_rows": null,
      "grid_column": null,
      "grid_gap": null,
      "grid_row": null,
      "grid_template_areas": null,
      "grid_template_columns": null,
      "grid_template_rows": null,
      "height": null,
      "justify_content": null,
      "justify_items": null,
      "left": null,
      "margin": null,
      "max_height": null,
      "max_width": null,
      "min_height": null,
      "min_width": null,
      "object_fit": null,
      "object_position": null,
      "order": null,
      "overflow": null,
      "overflow_x": null,
      "overflow_y": null,
      "padding": null,
      "right": null,
      "top": null,
      "visibility": null,
      "width": null
     }
    },
    "9a0cb0a315a74660a188e0375d778e7d": {
     "model_module": "@jupyter-widgets/controls",
     "model_module_version": "1.5.0",
     "model_name": "HTMLModel",
     "state": {
      "_dom_classes": [],
      "_model_module": "@jupyter-widgets/controls",
      "_model_module_version": "1.5.0",
      "_model_name": "HTMLModel",
      "_view_count": null,
      "_view_module": "@jupyter-widgets/controls",
      "_view_module_version": "1.5.0",
      "_view_name": "HTMLView",
      "description": "",
      "description_tooltip": null,
      "layout": "IPY_MODEL_91e7491bfdd54e528a3b190c3310a7d0",
      "placeholder": "​",
      "style": "IPY_MODEL_3f292c0bc88440ef9efa676148896a78",
      "value": "model-00001-of-00005.safetensors: 100%"
     }
    },
    "9a427999e8684a3e8fae512bdeb07821": {
     "model_module": "@jupyter-widgets/controls",
     "model_module_version": "1.5.0",
     "model_name": "FloatProgressModel",
     "state": {
      "_dom_classes": [],
      "_model_module": "@jupyter-widgets/controls",
      "_model_module_version": "1.5.0",
      "_model_name": "FloatProgressModel",
      "_view_count": null,
      "_view_module": "@jupyter-widgets/controls",
      "_view_module_version": "1.5.0",
      "_view_name": "ProgressView",
      "bar_style": "success",
      "description": "",
      "description_tooltip": null,
      "layout": "IPY_MODEL_53251143b3944486964619d8c953b672",
      "max": 1089994880,
      "min": 0,
      "orientation": "horizontal",
      "style": "IPY_MODEL_55a28c5fd9344952bd8b11a6d481ca70",
      "value": 1089994880
     }
    },
    "9f73a0a6e6ab4fb1a7f8a41f584d54ff": {
     "model_module": "@jupyter-widgets/controls",
     "model_module_version": "1.5.0",
     "model_name": "FloatProgressModel",
     "state": {
      "_dom_classes": [],
      "_model_module": "@jupyter-widgets/controls",
      "_model_module_version": "1.5.0",
      "_model_name": "FloatProgressModel",
      "_view_count": null,
      "_view_module": "@jupyter-widgets/controls",
      "_view_module_version": "1.5.0",
      "_view_name": "ProgressView",
      "bar_style": "success",
      "description": "",
      "description_tooltip": null,
      "layout": "IPY_MODEL_1c1042e2a124481ebddc77d2f7d0e397",
      "max": 5,
      "min": 0,
      "orientation": "horizontal",
      "style": "IPY_MODEL_96ab198e39094092be5192f471af4b45",
      "value": 5
     }
    },
    "9f772146042143b08e3d60d8f0f4703b": {
     "model_module": "@jupyter-widgets/controls",
     "model_module_version": "1.5.0",
     "model_name": "ProgressStyleModel",
     "state": {
      "_model_module": "@jupyter-widgets/controls",
      "_model_module_version": "1.5.0",
      "_model_name": "ProgressStyleModel",
      "_view_count": null,
      "_view_module": "@jupyter-widgets/base",
      "_view_module_version": "1.2.0",
      "_view_name": "StyleView",
      "bar_color": null,
      "description_width": ""
     }
    },
    "a0e8e0486fec4bd8b040e6e453934bd2": {
     "model_module": "@jupyter-widgets/controls",
     "model_module_version": "1.5.0",
     "model_name": "DescriptionStyleModel",
     "state": {
      "_model_module": "@jupyter-widgets/controls",
      "_model_module_version": "1.5.0",
      "_model_name": "DescriptionStyleModel",
      "_view_count": null,
      "_view_module": "@jupyter-widgets/base",
      "_view_module_version": "1.2.0",
      "_view_name": "StyleView",
      "description_width": ""
     }
    },
    "a1ba4e0f2bfd46cabdf60e7d84a34e65": {
     "model_module": "@jupyter-widgets/controls",
     "model_module_version": "1.5.0",
     "model_name": "DescriptionStyleModel",
     "state": {
      "_model_module": "@jupyter-widgets/controls",
      "_model_module_version": "1.5.0",
      "_model_name": "DescriptionStyleModel",
      "_view_count": null,
      "_view_module": "@jupyter-widgets/base",
      "_view_module_version": "1.2.0",
      "_view_name": "StyleView",
      "description_width": ""
     }
    },
    "a1cc2469e4ca44fca432647d16c04613": {
     "model_module": "@jupyter-widgets/controls",
     "model_module_version": "1.5.0",
     "model_name": "HBoxModel",
     "state": {
      "_dom_classes": [],
      "_model_module": "@jupyter-widgets/controls",
      "_model_module_version": "1.5.0",
      "_model_name": "HBoxModel",
      "_view_count": null,
      "_view_module": "@jupyter-widgets/controls",
      "_view_module_version": "1.5.0",
      "_view_name": "HBoxView",
      "box_style": "",
      "children": [
       "IPY_MODEL_081e49b6c4174db38f28785c4f3cedc7",
       "IPY_MODEL_de34140a1d9942b08338f9bf6394701e",
       "IPY_MODEL_98ac8b63e6a64953ad8d11ef2e005d9d"
      ],
      "layout": "IPY_MODEL_be2738a26548483daec197e62a2929d4"
     }
    },
    "a403ac171d2549bb9d0423db88e680f5": {
     "model_module": "@jupyter-widgets/base",
     "model_module_version": "1.2.0",
     "model_name": "LayoutModel",
     "state": {
      "_model_module": "@jupyter-widgets/base",
      "_model_module_version": "1.2.0",
      "_model_name": "LayoutModel",
      "_view_count": null,
      "_view_module": "@jupyter-widgets/base",
      "_view_module_version": "1.2.0",
      "_view_name": "LayoutView",
      "align_content": null,
      "align_items": null,
      "align_self": null,
      "border": null,
      "bottom": null,
      "display": null,
      "flex": null,
      "flex_flow": null,
      "grid_area": null,
      "grid_auto_columns": null,
      "grid_auto_flow": null,
      "grid_auto_rows": null,
      "grid_column": null,
      "grid_gap": null,
      "grid_row": null,
      "grid_template_areas": null,
      "grid_template_columns": null,
      "grid_template_rows": null,
      "height": null,
      "justify_content": null,
      "justify_items": null,
      "left": null,
      "margin": null,
      "max_height": null,
      "max_width": null,
      "min_height": null,
      "min_width": null,
      "object_fit": null,
      "object_position": null,
      "order": null,
      "overflow": null,
      "overflow_x": null,
      "overflow_y": null,
      "padding": null,
      "right": null,
      "top": null,
      "visibility": null,
      "width": null
     }
    },
    "abdd583457eb4931be1f0a77c36b7128": {
     "model_module": "@jupyter-widgets/controls",
     "model_module_version": "1.5.0",
     "model_name": "FloatProgressModel",
     "state": {
      "_dom_classes": [],
      "_model_module": "@jupyter-widgets/controls",
      "_model_module_version": "1.5.0",
      "_model_name": "FloatProgressModel",
      "_view_count": null,
      "_view_module": "@jupyter-widgets/controls",
      "_view_module_version": "1.5.0",
      "_view_name": "ProgressView",
      "bar_style": "success",
      "description": "",
      "description_tooltip": null,
      "layout": "IPY_MODEL_31545d7b63fa4b6ab4b9159825f0db3b",
      "max": 1,
      "min": 0,
      "orientation": "horizontal",
      "style": "IPY_MODEL_2fa3ab32eb9a45e28df845fd6e3ff80a",
      "value": 1
     }
    },
    "abe12f74c3754733b99e70d5fa9118fc": {
     "model_module": "@jupyter-widgets/controls",
     "model_module_version": "1.5.0",
     "model_name": "FloatProgressModel",
     "state": {
      "_dom_classes": [],
      "_model_module": "@jupyter-widgets/controls",
      "_model_module_version": "1.5.0",
      "_model_name": "FloatProgressModel",
      "_view_count": null,
      "_view_module": "@jupyter-widgets/controls",
      "_view_module_version": "1.5.0",
      "_view_name": "ProgressView",
      "bar_style": "success",
      "description": "",
      "description_tooltip": null,
      "layout": "IPY_MODEL_92df5817423448baa0ccd8101a5ff7e4",
      "max": 5,
      "min": 0,
      "orientation": "horizontal",
      "style": "IPY_MODEL_9f772146042143b08e3d60d8f0f4703b",
      "value": 5
     }
    },
    "abec916a989e4d0b82d7f774386ec0fa": {
     "model_module": "@jupyter-widgets/controls",
     "model_module_version": "1.5.0",
     "model_name": "HBoxModel",
     "state": {
      "_dom_classes": [],
      "_model_module": "@jupyter-widgets/controls",
      "_model_module_version": "1.5.0",
      "_model_name": "HBoxModel",
      "_view_count": null,
      "_view_module": "@jupyter-widgets/controls",
      "_view_module_version": "1.5.0",
      "_view_name": "HBoxView",
      "box_style": "",
      "children": [
       "IPY_MODEL_6962ce6d428d4cd69777ecc9606d7a80",
       "IPY_MODEL_9f73a0a6e6ab4fb1a7f8a41f584d54ff",
       "IPY_MODEL_2fbacdbd29ec4de8aa5a0f48b60c7c68"
      ],
      "layout": "IPY_MODEL_d16a453e35f64ea69f837866765a4fac"
     }
    },
    "ae4a7de2618c4c6e84a83498a70d99f8": {
     "model_module": "@jupyter-widgets/controls",
     "model_module_version": "1.5.0",
     "model_name": "DescriptionStyleModel",
     "state": {
      "_model_module": "@jupyter-widgets/controls",
      "_model_module_version": "1.5.0",
      "_model_name": "DescriptionStyleModel",
      "_view_count": null,
      "_view_module": "@jupyter-widgets/base",
      "_view_module_version": "1.2.0",
      "_view_name": "StyleView",
      "description_width": ""
     }
    },
    "ae83aa696c2b4ea483bc1f781d6f31f8": {
     "model_module": "@jupyter-widgets/controls",
     "model_module_version": "1.5.0",
     "model_name": "HBoxModel",
     "state": {
      "_dom_classes": [],
      "_model_module": "@jupyter-widgets/controls",
      "_model_module_version": "1.5.0",
      "_model_name": "HBoxModel",
      "_view_count": null,
      "_view_module": "@jupyter-widgets/controls",
      "_view_module_version": "1.5.0",
      "_view_name": "HBoxView",
      "box_style": "",
      "children": [
       "IPY_MODEL_dc7bd221442d4cb382d0126e37468ea3",
       "IPY_MODEL_abdd583457eb4931be1f0a77c36b7128",
       "IPY_MODEL_0d09311a1f4d4c4cb39988fd8821fa16"
      ],
      "layout": "IPY_MODEL_01e4da73ccee4a8bbbcf6bb4b5b3b559"
     }
    },
    "af2bf7bf77e5446394bf8c2de420099e": {
     "model_module": "@jupyter-widgets/controls",
     "model_module_version": "1.5.0",
     "model_name": "FloatProgressModel",
     "state": {
      "_dom_classes": [],
      "_model_module": "@jupyter-widgets/controls",
      "_model_module_version": "1.5.0",
      "_model_name": "FloatProgressModel",
      "_view_count": null,
      "_view_module": "@jupyter-widgets/controls",
      "_view_module_version": "1.5.0",
      "_view_name": "ProgressView",
      "bar_style": "success",
      "description": "",
      "description_tooltip": null,
      "layout": "IPY_MODEL_2d9cc556b1a9459a96af8bae12366018",
      "max": 3898649896,
      "min": 0,
      "orientation": "horizontal",
      "style": "IPY_MODEL_75674307aca146e890857321eb81e955",
      "value": 3898649896
     }
    },
    "b140b8ab226e4d4b8676b3f2ab48080a": {
     "model_module": "@jupyter-widgets/controls",
     "model_module_version": "1.5.0",
     "model_name": "DescriptionStyleModel",
     "state": {
      "_model_module": "@jupyter-widgets/controls",
      "_model_module_version": "1.5.0",
      "_model_name": "DescriptionStyleModel",
      "_view_count": null,
      "_view_module": "@jupyter-widgets/base",
      "_view_module_version": "1.2.0",
      "_view_name": "StyleView",
      "description_width": ""
     }
    },
    "b1440ea4162f481f94d095d9df1baa2f": {
     "model_module": "@jupyter-widgets/base",
     "model_module_version": "1.2.0",
     "model_name": "LayoutModel",
     "state": {
      "_model_module": "@jupyter-widgets/base",
      "_model_module_version": "1.2.0",
      "_model_name": "LayoutModel",
      "_view_count": null,
      "_view_module": "@jupyter-widgets/base",
      "_view_module_version": "1.2.0",
      "_view_name": "LayoutView",
      "align_content": null,
      "align_items": null,
      "align_self": null,
      "border": null,
      "bottom": null,
      "display": null,
      "flex": null,
      "flex_flow": null,
      "grid_area": null,
      "grid_auto_columns": null,
      "grid_auto_flow": null,
      "grid_auto_rows": null,
      "grid_column": null,
      "grid_gap": null,
      "grid_row": null,
      "grid_template_areas": null,
      "grid_template_columns": null,
      "grid_template_rows": null,
      "height": null,
      "justify_content": null,
      "justify_items": null,
      "left": null,
      "margin": null,
      "max_height": null,
      "max_width": null,
      "min_height": null,
      "min_width": null,
      "object_fit": null,
      "object_position": null,
      "order": null,
      "overflow": null,
      "overflow_x": null,
      "overflow_y": null,
      "padding": null,
      "right": null,
      "top": null,
      "visibility": null,
      "width": null
     }
    },
    "b247ba9464be4dcdad41ebc44d619424": {
     "model_module": "@jupyter-widgets/base",
     "model_module_version": "1.2.0",
     "model_name": "LayoutModel",
     "state": {
      "_model_module": "@jupyter-widgets/base",
      "_model_module_version": "1.2.0",
      "_model_name": "LayoutModel",
      "_view_count": null,
      "_view_module": "@jupyter-widgets/base",
      "_view_module_version": "1.2.0",
      "_view_name": "LayoutView",
      "align_content": null,
      "align_items": null,
      "align_self": null,
      "border": null,
      "bottom": null,
      "display": null,
      "flex": null,
      "flex_flow": null,
      "grid_area": null,
      "grid_auto_columns": null,
      "grid_auto_flow": null,
      "grid_auto_rows": null,
      "grid_column": null,
      "grid_gap": null,
      "grid_row": null,
      "grid_template_areas": null,
      "grid_template_columns": null,
      "grid_template_rows": null,
      "height": null,
      "justify_content": null,
      "justify_items": null,
      "left": null,
      "margin": null,
      "max_height": null,
      "max_width": null,
      "min_height": null,
      "min_width": null,
      "object_fit": null,
      "object_position": null,
      "order": null,
      "overflow": null,
      "overflow_x": null,
      "overflow_y": null,
      "padding": null,
      "right": null,
      "top": null,
      "visibility": null,
      "width": null
     }
    },
    "b62f3565d5d14492998f2aba1d26cac6": {
     "model_module": "@jupyter-widgets/base",
     "model_module_version": "1.2.0",
     "model_name": "LayoutModel",
     "state": {
      "_model_module": "@jupyter-widgets/base",
      "_model_module_version": "1.2.0",
      "_model_name": "LayoutModel",
      "_view_count": null,
      "_view_module": "@jupyter-widgets/base",
      "_view_module_version": "1.2.0",
      "_view_name": "LayoutView",
      "align_content": null,
      "align_items": null,
      "align_self": null,
      "border": null,
      "bottom": null,
      "display": null,
      "flex": null,
      "flex_flow": null,
      "grid_area": null,
      "grid_auto_columns": null,
      "grid_auto_flow": null,
      "grid_auto_rows": null,
      "grid_column": null,
      "grid_gap": null,
      "grid_row": null,
      "grid_template_areas": null,
      "grid_template_columns": null,
      "grid_template_rows": null,
      "height": null,
      "justify_content": null,
      "justify_items": null,
      "left": null,
      "margin": null,
      "max_height": null,
      "max_width": null,
      "min_height": null,
      "min_width": null,
      "object_fit": null,
      "object_position": null,
      "order": null,
      "overflow": null,
      "overflow_x": null,
      "overflow_y": null,
      "padding": null,
      "right": null,
      "top": null,
      "visibility": null,
      "width": null
     }
    },
    "b693cea353fd4a338d3d883464a54d90": {
     "model_module": "@jupyter-widgets/base",
     "model_module_version": "1.2.0",
     "model_name": "LayoutModel",
     "state": {
      "_model_module": "@jupyter-widgets/base",
      "_model_module_version": "1.2.0",
      "_model_name": "LayoutModel",
      "_view_count": null,
      "_view_module": "@jupyter-widgets/base",
      "_view_module_version": "1.2.0",
      "_view_name": "LayoutView",
      "align_content": null,
      "align_items": null,
      "align_self": null,
      "border": null,
      "bottom": null,
      "display": null,
      "flex": null,
      "flex_flow": null,
      "grid_area": null,
      "grid_auto_columns": null,
      "grid_auto_flow": null,
      "grid_auto_rows": null,
      "grid_column": null,
      "grid_gap": null,
      "grid_row": null,
      "grid_template_areas": null,
      "grid_template_columns": null,
      "grid_template_rows": null,
      "height": null,
      "justify_content": null,
      "justify_items": null,
      "left": null,
      "margin": null,
      "max_height": null,
      "max_width": null,
      "min_height": null,
      "min_width": null,
      "object_fit": null,
      "object_position": null,
      "order": null,
      "overflow": null,
      "overflow_x": null,
      "overflow_y": null,
      "padding": null,
      "right": null,
      "top": null,
      "visibility": null,
      "width": null
     }
    },
    "b976a3bc86a844b0b01df6f626dfa2cf": {
     "model_module": "@jupyter-widgets/controls",
     "model_module_version": "1.5.0",
     "model_name": "HBoxModel",
     "state": {
      "_dom_classes": [],
      "_model_module": "@jupyter-widgets/controls",
      "_model_module_version": "1.5.0",
      "_model_name": "HBoxModel",
      "_view_count": null,
      "_view_module": "@jupyter-widgets/controls",
      "_view_module_version": "1.5.0",
      "_view_name": "HBoxView",
      "box_style": "",
      "children": [
       "IPY_MODEL_61845eb91cd646d6929cb14040b13d5f",
       "IPY_MODEL_9a427999e8684a3e8fae512bdeb07821",
       "IPY_MODEL_5684190dd634414682a9dda72b717b80"
      ],
      "layout": "IPY_MODEL_32e7632e558b49048033f51e68664880"
     }
    },
    "bd3d032b835d4c7e92eaf5b23c52fae7": {
     "model_module": "@jupyter-widgets/controls",
     "model_module_version": "1.5.0",
     "model_name": "DescriptionStyleModel",
     "state": {
      "_model_module": "@jupyter-widgets/controls",
      "_model_module_version": "1.5.0",
      "_model_name": "DescriptionStyleModel",
      "_view_count": null,
      "_view_module": "@jupyter-widgets/base",
      "_view_module_version": "1.2.0",
      "_view_name": "StyleView",
      "description_width": ""
     }
    },
    "be2738a26548483daec197e62a2929d4": {
     "model_module": "@jupyter-widgets/base",
     "model_module_version": "1.2.0",
     "model_name": "LayoutModel",
     "state": {
      "_model_module": "@jupyter-widgets/base",
      "_model_module_version": "1.2.0",
      "_model_name": "LayoutModel",
      "_view_count": null,
      "_view_module": "@jupyter-widgets/base",
      "_view_module_version": "1.2.0",
      "_view_name": "LayoutView",
      "align_content": null,
      "align_items": null,
      "align_self": null,
      "border": null,
      "bottom": null,
      "display": null,
      "flex": null,
      "flex_flow": null,
      "grid_area": null,
      "grid_auto_columns": null,
      "grid_auto_flow": null,
      "grid_auto_rows": null,
      "grid_column": null,
      "grid_gap": null,
      "grid_row": null,
      "grid_template_areas": null,
      "grid_template_columns": null,
      "grid_template_rows": null,
      "height": null,
      "justify_content": null,
      "justify_items": null,
      "left": null,
      "margin": null,
      "max_height": null,
      "max_width": null,
      "min_height": null,
      "min_width": null,
      "object_fit": null,
      "object_position": null,
      "order": null,
      "overflow": null,
      "overflow_x": null,
      "overflow_y": null,
      "padding": null,
      "right": null,
      "top": null,
      "visibility": null,
      "width": null
     }
    },
    "bf1c8271717847c489619b1a561af047": {
     "model_module": "@jupyter-widgets/controls",
     "model_module_version": "1.5.0",
     "model_name": "DescriptionStyleModel",
     "state": {
      "_model_module": "@jupyter-widgets/controls",
      "_model_module_version": "1.5.0",
      "_model_name": "DescriptionStyleModel",
      "_view_count": null,
      "_view_module": "@jupyter-widgets/base",
      "_view_module_version": "1.2.0",
      "_view_name": "StyleView",
      "description_width": ""
     }
    },
    "c1f112cde05f43a6b17d9ee09974c313": {
     "model_module": "@jupyter-widgets/controls",
     "model_module_version": "1.5.0",
     "model_name": "HTMLModel",
     "state": {
      "_dom_classes": [],
      "_model_module": "@jupyter-widgets/controls",
      "_model_module_version": "1.5.0",
      "_model_name": "HTMLModel",
      "_view_count": null,
      "_view_module": "@jupyter-widgets/controls",
      "_view_module_version": "1.5.0",
      "_view_name": "HTMLView",
      "description": "",
      "description_tooltip": null,
      "layout": "IPY_MODEL_728e679962e0493cad0f259dbae50fe1",
      "placeholder": "​",
      "style": "IPY_MODEL_6147bec4fbb2432c88b5b2b1bcf12e9d",
      "value": " 347/347 [00:00&lt;00:00, 30.7kB/s]"
     }
    },
    "c312873ea1cc4961ab2fd21ce945521d": {
     "model_module": "@jupyter-widgets/base",
     "model_module_version": "1.2.0",
     "model_name": "LayoutModel",
     "state": {
      "_model_module": "@jupyter-widgets/base",
      "_model_module_version": "1.2.0",
      "_model_name": "LayoutModel",
      "_view_count": null,
      "_view_module": "@jupyter-widgets/base",
      "_view_module_version": "1.2.0",
      "_view_name": "LayoutView",
      "align_content": null,
      "align_items": null,
      "align_self": null,
      "border": null,
      "bottom": null,
      "display": null,
      "flex": null,
      "flex_flow": null,
      "grid_area": null,
      "grid_auto_columns": null,
      "grid_auto_flow": null,
      "grid_auto_rows": null,
      "grid_column": null,
      "grid_gap": null,
      "grid_row": null,
      "grid_template_areas": null,
      "grid_template_columns": null,
      "grid_template_rows": null,
      "height": null,
      "justify_content": null,
      "justify_items": null,
      "left": null,
      "margin": null,
      "max_height": null,
      "max_width": null,
      "min_height": null,
      "min_width": null,
      "object_fit": null,
      "object_position": null,
      "order": null,
      "overflow": null,
      "overflow_x": null,
      "overflow_y": null,
      "padding": null,
      "right": null,
      "top": null,
      "visibility": null,
      "width": null
     }
    },
    "c359509e72a940a085b5e95d11e626b5": {
     "model_module": "@jupyter-widgets/base",
     "model_module_version": "1.2.0",
     "model_name": "LayoutModel",
     "state": {
      "_model_module": "@jupyter-widgets/base",
      "_model_module_version": "1.2.0",
      "_model_name": "LayoutModel",
      "_view_count": null,
      "_view_module": "@jupyter-widgets/base",
      "_view_module_version": "1.2.0",
      "_view_name": "LayoutView",
      "align_content": null,
      "align_items": null,
      "align_self": null,
      "border": null,
      "bottom": null,
      "display": null,
      "flex": null,
      "flex_flow": null,
      "grid_area": null,
      "grid_auto_columns": null,
      "grid_auto_flow": null,
      "grid_auto_rows": null,
      "grid_column": null,
      "grid_gap": null,
      "grid_row": null,
      "grid_template_areas": null,
      "grid_template_columns": null,
      "grid_template_rows": null,
      "height": null,
      "justify_content": null,
      "justify_items": null,
      "left": null,
      "margin": null,
      "max_height": null,
      "max_width": null,
      "min_height": null,
      "min_width": null,
      "object_fit": null,
      "object_position": null,
      "order": null,
      "overflow": null,
      "overflow_x": null,
      "overflow_y": null,
      "padding": null,
      "right": null,
      "top": null,
      "visibility": null,
      "width": "20px"
     }
    },
    "ce30bef851434124b4116472749778a1": {
     "model_module": "@jupyter-widgets/controls",
     "model_module_version": "1.5.0",
     "model_name": "FloatProgressModel",
     "state": {
      "_dom_classes": [],
      "_model_module": "@jupyter-widgets/controls",
      "_model_module_version": "1.5.0",
      "_model_name": "FloatProgressModel",
      "_view_count": null,
      "_view_module": "@jupyter-widgets/controls",
      "_view_module_version": "1.5.0",
      "_view_name": "ProgressView",
      "bar_style": "success",
      "description": "",
      "description_tooltip": null,
      "layout": "IPY_MODEL_05d78ab7ed2d4a4c865481e9c2ebc8ad",
      "max": 3864726320,
      "min": 0,
      "orientation": "horizontal",
      "style": "IPY_MODEL_3cad2e13a9dc4ded949c79aacc310000",
      "value": 3864726320
     }
    },
    "cf010744b0524f92afe7f6cf4650a6c2": {
     "model_module": "@jupyter-widgets/controls",
     "model_module_version": "1.5.0",
     "model_name": "FloatProgressModel",
     "state": {
      "_dom_classes": [],
      "_model_module": "@jupyter-widgets/controls",
      "_model_module_version": "1.5.0",
      "_model_name": "FloatProgressModel",
      "_view_count": null,
      "_view_module": "@jupyter-widgets/controls",
      "_view_module_version": "1.5.0",
      "_view_name": "ProgressView",
      "bar_style": "success",
      "description": "",
      "description_tooltip": null,
      "layout": "IPY_MODEL_e000221cb1d946c39cb929e7ca0753e7",
      "max": 1,
      "min": 0,
      "orientation": "horizontal",
      "style": "IPY_MODEL_91c08cc6357a4863ba95b8dbdd2ef86d",
      "value": 1
     }
    },
    "d0af6cf8c5f14f8b8952388a79150e71": {
     "model_module": "@jupyter-widgets/controls",
     "model_module_version": "1.5.0",
     "model_name": "ProgressStyleModel",
     "state": {
      "_model_module": "@jupyter-widgets/controls",
      "_model_module_version": "1.5.0",
      "_model_name": "ProgressStyleModel",
      "_view_count": null,
      "_view_module": "@jupyter-widgets/base",
      "_view_module_version": "1.2.0",
      "_view_name": "StyleView",
      "bar_color": null,
      "description_width": ""
     }
    },
    "d16a453e35f64ea69f837866765a4fac": {
     "model_module": "@jupyter-widgets/base",
     "model_module_version": "1.2.0",
     "model_name": "LayoutModel",
     "state": {
      "_model_module": "@jupyter-widgets/base",
      "_model_module_version": "1.2.0",
      "_model_name": "LayoutModel",
      "_view_count": null,
      "_view_module": "@jupyter-widgets/base",
      "_view_module_version": "1.2.0",
      "_view_name": "LayoutView",
      "align_content": null,
      "align_items": null,
      "align_self": null,
      "border": null,
      "bottom": null,
      "display": null,
      "flex": null,
      "flex_flow": null,
      "grid_area": null,
      "grid_auto_columns": null,
      "grid_auto_flow": null,
      "grid_auto_rows": null,
      "grid_column": null,
      "grid_gap": null,
      "grid_row": null,
      "grid_template_areas": null,
      "grid_template_columns": null,
      "grid_template_rows": null,
      "height": null,
      "justify_content": null,
      "justify_items": null,
      "left": null,
      "margin": null,
      "max_height": null,
      "max_width": null,
      "min_height": null,
      "min_width": null,
      "object_fit": null,
      "object_position": null,
      "order": null,
      "overflow": null,
      "overflow_x": null,
      "overflow_y": null,
      "padding": null,
      "right": null,
      "top": null,
      "visibility": null,
      "width": null
     }
    },
    "d2e0669938444e279f5e934bfc232dfc": {
     "model_module": "@jupyter-widgets/base",
     "model_module_version": "1.2.0",
     "model_name": "LayoutModel",
     "state": {
      "_model_module": "@jupyter-widgets/base",
      "_model_module_version": "1.2.0",
      "_model_name": "LayoutModel",
      "_view_count": null,
      "_view_module": "@jupyter-widgets/base",
      "_view_module_version": "1.2.0",
      "_view_name": "LayoutView",
      "align_content": null,
      "align_items": null,
      "align_self": null,
      "border": null,
      "bottom": null,
      "display": null,
      "flex": null,
      "flex_flow": null,
      "grid_area": null,
      "grid_auto_columns": null,
      "grid_auto_flow": null,
      "grid_auto_rows": null,
      "grid_column": null,
      "grid_gap": null,
      "grid_row": null,
      "grid_template_areas": null,
      "grid_template_columns": null,
      "grid_template_rows": null,
      "height": null,
      "justify_content": null,
      "justify_items": null,
      "left": null,
      "margin": null,
      "max_height": null,
      "max_width": null,
      "min_height": null,
      "min_width": null,
      "object_fit": null,
      "object_position": null,
      "order": null,
      "overflow": null,
      "overflow_x": null,
      "overflow_y": null,
      "padding": null,
      "right": null,
      "top": null,
      "visibility": null,
      "width": null
     }
    },
    "d3cfb38ec6d64dceb1d847ba0db6899a": {
     "model_module": "@jupyter-widgets/base",
     "model_module_version": "1.2.0",
     "model_name": "LayoutModel",
     "state": {
      "_model_module": "@jupyter-widgets/base",
      "_model_module_version": "1.2.0",
      "_model_name": "LayoutModel",
      "_view_count": null,
      "_view_module": "@jupyter-widgets/base",
      "_view_module_version": "1.2.0",
      "_view_name": "LayoutView",
      "align_content": null,
      "align_items": null,
      "align_self": null,
      "border": null,
      "bottom": null,
      "display": null,
      "flex": null,
      "flex_flow": null,
      "grid_area": null,
      "grid_auto_columns": null,
      "grid_auto_flow": null,
      "grid_auto_rows": null,
      "grid_column": null,
      "grid_gap": null,
      "grid_row": null,
      "grid_template_areas": null,
      "grid_template_columns": null,
      "grid_template_rows": null,
      "height": null,
      "justify_content": null,
      "justify_items": null,
      "left": null,
      "margin": null,
      "max_height": null,
      "max_width": null,
      "min_height": null,
      "min_width": null,
      "object_fit": null,
      "object_position": null,
      "order": null,
      "overflow": null,
      "overflow_x": null,
      "overflow_y": null,
      "padding": null,
      "right": null,
      "top": null,
      "visibility": null,
      "width": null
     }
    },
    "d3f46b04097c41deb18783376e3c98be": {
     "model_module": "@jupyter-widgets/base",
     "model_module_version": "1.2.0",
     "model_name": "LayoutModel",
     "state": {
      "_model_module": "@jupyter-widgets/base",
      "_model_module_version": "1.2.0",
      "_model_name": "LayoutModel",
      "_view_count": null,
      "_view_module": "@jupyter-widgets/base",
      "_view_module_version": "1.2.0",
      "_view_name": "LayoutView",
      "align_content": null,
      "align_items": null,
      "align_self": null,
      "border": null,
      "bottom": null,
      "display": null,
      "flex": null,
      "flex_flow": null,
      "grid_area": null,
      "grid_auto_columns": null,
      "grid_auto_flow": null,
      "grid_auto_rows": null,
      "grid_column": null,
      "grid_gap": null,
      "grid_row": null,
      "grid_template_areas": null,
      "grid_template_columns": null,
      "grid_template_rows": null,
      "height": null,
      "justify_content": null,
      "justify_items": null,
      "left": null,
      "margin": null,
      "max_height": null,
      "max_width": null,
      "min_height": null,
      "min_width": null,
      "object_fit": null,
      "object_position": null,
      "order": null,
      "overflow": null,
      "overflow_x": null,
      "overflow_y": null,
      "padding": null,
      "right": null,
      "top": null,
      "visibility": null,
      "width": null
     }
    },
    "d4977bb3c2d94d8884e4d3f3609c0ffc": {
     "model_module": "@jupyter-widgets/controls",
     "model_module_version": "1.5.0",
     "model_name": "FloatProgressModel",
     "state": {
      "_dom_classes": [],
      "_model_module": "@jupyter-widgets/controls",
      "_model_module_version": "1.5.0",
      "_model_name": "FloatProgressModel",
      "_view_count": null,
      "_view_module": "@jupyter-widgets/controls",
      "_view_module_version": "1.5.0",
      "_view_name": "ProgressView",
      "bar_style": "success",
      "description": "",
      "description_tooltip": null,
      "layout": "IPY_MODEL_95837cabc41644d488e30dc1bba2dc5c",
      "max": 347,
      "min": 0,
      "orientation": "horizontal",
      "style": "IPY_MODEL_4c96a7298ddb4563a6bb84ec91a88544",
      "value": 347
     }
    },
    "d4d42a16fe4d4f0998f996a06e197fb8": {
     "model_module": "@jupyter-widgets/base",
     "model_module_version": "1.2.0",
     "model_name": "LayoutModel",
     "state": {
      "_model_module": "@jupyter-widgets/base",
      "_model_module_version": "1.2.0",
      "_model_name": "LayoutModel",
      "_view_count": null,
      "_view_module": "@jupyter-widgets/base",
      "_view_module_version": "1.2.0",
      "_view_name": "LayoutView",
      "align_content": null,
      "align_items": null,
      "align_self": null,
      "border": null,
      "bottom": null,
      "display": null,
      "flex": null,
      "flex_flow": null,
      "grid_area": null,
      "grid_auto_columns": null,
      "grid_auto_flow": null,
      "grid_auto_rows": null,
      "grid_column": null,
      "grid_gap": null,
      "grid_row": null,
      "grid_template_areas": null,
      "grid_template_columns": null,
      "grid_template_rows": null,
      "height": null,
      "justify_content": null,
      "justify_items": null,
      "left": null,
      "margin": null,
      "max_height": null,
      "max_width": null,
      "min_height": null,
      "min_width": null,
      "object_fit": null,
      "object_position": null,
      "order": null,
      "overflow": null,
      "overflow_x": null,
      "overflow_y": null,
      "padding": null,
      "right": null,
      "top": null,
      "visibility": null,
      "width": null
     }
    },
    "d5143e125d614ee3a983baba593fce90": {
     "model_module": "@jupyter-widgets/base",
     "model_module_version": "1.2.0",
     "model_name": "LayoutModel",
     "state": {
      "_model_module": "@jupyter-widgets/base",
      "_model_module_version": "1.2.0",
      "_model_name": "LayoutModel",
      "_view_count": null,
      "_view_module": "@jupyter-widgets/base",
      "_view_module_version": "1.2.0",
      "_view_name": "LayoutView",
      "align_content": null,
      "align_items": null,
      "align_self": null,
      "border": null,
      "bottom": null,
      "display": null,
      "flex": null,
      "flex_flow": null,
      "grid_area": null,
      "grid_auto_columns": null,
      "grid_auto_flow": null,
      "grid_auto_rows": null,
      "grid_column": null,
      "grid_gap": null,
      "grid_row": null,
      "grid_template_areas": null,
      "grid_template_columns": null,
      "grid_template_rows": null,
      "height": null,
      "justify_content": null,
      "justify_items": null,
      "left": null,
      "margin": null,
      "max_height": null,
      "max_width": null,
      "min_height": null,
      "min_width": null,
      "object_fit": null,
      "object_position": null,
      "order": null,
      "overflow": null,
      "overflow_x": null,
      "overflow_y": null,
      "padding": null,
      "right": null,
      "top": null,
      "visibility": null,
      "width": null
     }
    },
    "d55e1a3cef0e4b838f4982edeb83fe86": {
     "model_module": "@jupyter-widgets/controls",
     "model_module_version": "1.5.0",
     "model_name": "DescriptionStyleModel",
     "state": {
      "_model_module": "@jupyter-widgets/controls",
      "_model_module_version": "1.5.0",
      "_model_name": "DescriptionStyleModel",
      "_view_count": null,
      "_view_module": "@jupyter-widgets/base",
      "_view_module_version": "1.2.0",
      "_view_name": "StyleView",
      "description_width": ""
     }
    },
    "dbc895c4116d4e54ae3b2e343ba1ea02": {
     "model_module": "@jupyter-widgets/base",
     "model_module_version": "1.2.0",
     "model_name": "LayoutModel",
     "state": {
      "_model_module": "@jupyter-widgets/base",
      "_model_module_version": "1.2.0",
      "_model_name": "LayoutModel",
      "_view_count": null,
      "_view_module": "@jupyter-widgets/base",
      "_view_module_version": "1.2.0",
      "_view_name": "LayoutView",
      "align_content": null,
      "align_items": null,
      "align_self": null,
      "border": null,
      "bottom": null,
      "display": null,
      "flex": null,
      "flex_flow": null,
      "grid_area": null,
      "grid_auto_columns": null,
      "grid_auto_flow": null,
      "grid_auto_rows": null,
      "grid_column": null,
      "grid_gap": null,
      "grid_row": null,
      "grid_template_areas": null,
      "grid_template_columns": null,
      "grid_template_rows": null,
      "height": null,
      "justify_content": null,
      "justify_items": null,
      "left": null,
      "margin": null,
      "max_height": null,
      "max_width": null,
      "min_height": null,
      "min_width": null,
      "object_fit": null,
      "object_position": null,
      "order": null,
      "overflow": null,
      "overflow_x": null,
      "overflow_y": null,
      "padding": null,
      "right": null,
      "top": null,
      "visibility": null,
      "width": null
     }
    },
    "dbe36fe05b8f45deb8ca9a03a0da5d51": {
     "model_module": "@jupyter-widgets/controls",
     "model_module_version": "1.5.0",
     "model_name": "FloatProgressModel",
     "state": {
      "_dom_classes": [],
      "_model_module": "@jupyter-widgets/controls",
      "_model_module_version": "1.5.0",
      "_model_name": "FloatProgressModel",
      "_view_count": null,
      "_view_module": "@jupyter-widgets/controls",
      "_view_module_version": "1.5.0",
      "_view_name": "ProgressView",
      "bar_style": "success",
      "description": "",
      "description_tooltip": null,
      "layout": "IPY_MODEL_6b146b478fc14f70b8c0c68e3c23da12",
      "max": 244,
      "min": 0,
      "orientation": "horizontal",
      "style": "IPY_MODEL_1729a4f814f4439d804ac2c5566376d2",
      "value": 244
     }
    },
    "dc4a14791a014bdbbc3c7751c824dd6d": {
     "model_module": "@jupyter-widgets/controls",
     "model_module_version": "1.5.0",
     "model_name": "DescriptionStyleModel",
     "state": {
      "_model_module": "@jupyter-widgets/controls",
      "_model_module_version": "1.5.0",
      "_model_name": "DescriptionStyleModel",
      "_view_count": null,
      "_view_module": "@jupyter-widgets/base",
      "_view_module_version": "1.2.0",
      "_view_name": "StyleView",
      "description_width": ""
     }
    },
    "dc7bd221442d4cb382d0126e37468ea3": {
     "model_module": "@jupyter-widgets/controls",
     "model_module_version": "1.5.0",
     "model_name": "HTMLModel",
     "state": {
      "_dom_classes": [],
      "_model_module": "@jupyter-widgets/controls",
      "_model_module_version": "1.5.0",
      "_model_name": "HTMLModel",
      "_view_count": null,
      "_view_module": "@jupyter-widgets/controls",
      "_view_module_version": "1.5.0",
      "_view_name": "HTMLView",
      "description": "",
      "description_tooltip": null,
      "layout": "IPY_MODEL_473c819f45304131b9b9d27364f894a7",
      "placeholder": "​",
      "style": "IPY_MODEL_904ad4aeb0594e1b939f49d57cdb2335",
      "value": "config.json: "
     }
    },
    "de34140a1d9942b08338f9bf6394701e": {
     "model_module": "@jupyter-widgets/controls",
     "model_module_version": "1.5.0",
     "model_name": "FloatProgressModel",
     "state": {
      "_dom_classes": [],
      "_model_module": "@jupyter-widgets/controls",
      "_model_module_version": "1.5.0",
      "_model_name": "FloatProgressModel",
      "_view_count": null,
      "_view_module": "@jupyter-widgets/controls",
      "_view_module_version": "1.5.0",
      "_view_name": "ProgressView",
      "bar_style": "success",
      "description": "",
      "description_tooltip": null,
      "layout": "IPY_MODEL_95d71378916b491aa6e61ba318a842a4",
      "max": 1,
      "min": 0,
      "orientation": "horizontal",
      "style": "IPY_MODEL_1dbaaac9b18e49f1a5619b09cd9027d1",
      "value": 1
     }
    },
    "dfa680294f774e6691813a53570bf6b1": {
     "model_module": "@jupyter-widgets/controls",
     "model_module_version": "1.5.0",
     "model_name": "HTMLModel",
     "state": {
      "_dom_classes": [],
      "_model_module": "@jupyter-widgets/controls",
      "_model_module_version": "1.5.0",
      "_model_name": "HTMLModel",
      "_view_count": null,
      "_view_module": "@jupyter-widgets/controls",
      "_view_module_version": "1.5.0",
      "_view_name": "HTMLView",
      "description": "",
      "description_tooltip": null,
      "layout": "IPY_MODEL_4fa37f29c23d43cabb9298ed187c3238",
      "placeholder": "​",
      "style": "IPY_MODEL_2ec22c477aaa487999239f1a581ff69a",
      "value": " 3.86G/3.86G [04:35&lt;00:00, 10.7MB/s]"
     }
    },
    "e000221cb1d946c39cb929e7ca0753e7": {
     "model_module": "@jupyter-widgets/base",
     "model_module_version": "1.2.0",
     "model_name": "LayoutModel",
     "state": {
      "_model_module": "@jupyter-widgets/base",
      "_model_module_version": "1.2.0",
      "_model_name": "LayoutModel",
      "_view_count": null,
      "_view_module": "@jupyter-widgets/base",
      "_view_module_version": "1.2.0",
      "_view_name": "LayoutView",
      "align_content": null,
      "align_items": null,
      "align_self": null,
      "border": null,
      "bottom": null,
      "display": null,
      "flex": null,
      "flex_flow": null,
      "grid_area": null,
      "grid_auto_columns": null,
      "grid_auto_flow": null,
      "grid_auto_rows": null,
      "grid_column": null,
      "grid_gap": null,
      "grid_row": null,
      "grid_template_areas": null,
      "grid_template_columns": null,
      "grid_template_rows": null,
      "height": null,
      "justify_content": null,
      "justify_items": null,
      "left": null,
      "margin": null,
      "max_height": null,
      "max_width": null,
      "min_height": null,
      "min_width": null,
      "object_fit": null,
      "object_position": null,
      "order": null,
      "overflow": null,
      "overflow_x": null,
      "overflow_y": null,
      "padding": null,
      "right": null,
      "top": null,
      "visibility": null,
      "width": "20px"
     }
    },
    "e007e83d6bbb49dd8a12c9fe19e5e658": {
     "model_module": "@jupyter-widgets/controls",
     "model_module_version": "1.5.0",
     "model_name": "HTMLModel",
     "state": {
      "_dom_classes": [],
      "_model_module": "@jupyter-widgets/controls",
      "_model_module_version": "1.5.0",
      "_model_name": "HTMLModel",
      "_view_count": null,
      "_view_module": "@jupyter-widgets/controls",
      "_view_module_version": "1.5.0",
      "_view_name": "HTMLView",
      "description": "",
      "description_tooltip": null,
      "layout": "IPY_MODEL_7ab2670e99384402b95d5aa9e473bd5b",
      "placeholder": "​",
      "style": "IPY_MODEL_2ec17c7702c4403cbf71dc442724c8bd",
      "value": "tokenizer_config.json: "
     }
    },
    "e0d2483a8b0940eeaf228c8c97c38a9c": {
     "model_module": "@jupyter-widgets/controls",
     "model_module_version": "1.5.0",
     "model_name": "ProgressStyleModel",
     "state": {
      "_model_module": "@jupyter-widgets/controls",
      "_model_module_version": "1.5.0",
      "_model_name": "ProgressStyleModel",
      "_view_count": null,
      "_view_module": "@jupyter-widgets/base",
      "_view_module_version": "1.2.0",
      "_view_name": "StyleView",
      "bar_color": null,
      "description_width": ""
     }
    },
    "e8a837e5ec134d25bb0b52f4ee1fbf55": {
     "model_module": "@jupyter-widgets/controls",
     "model_module_version": "1.5.0",
     "model_name": "DescriptionStyleModel",
     "state": {
      "_model_module": "@jupyter-widgets/controls",
      "_model_module_version": "1.5.0",
      "_model_name": "DescriptionStyleModel",
      "_view_count": null,
      "_view_module": "@jupyter-widgets/base",
      "_view_module_version": "1.2.0",
      "_view_name": "StyleView",
      "description_width": ""
     }
    },
    "ea4a04dfa6e646dda06a9249ebf3447d": {
     "model_module": "@jupyter-widgets/base",
     "model_module_version": "1.2.0",
     "model_name": "LayoutModel",
     "state": {
      "_model_module": "@jupyter-widgets/base",
      "_model_module_version": "1.2.0",
      "_model_name": "LayoutModel",
      "_view_count": null,
      "_view_module": "@jupyter-widgets/base",
      "_view_module_version": "1.2.0",
      "_view_name": "LayoutView",
      "align_content": null,
      "align_items": null,
      "align_self": null,
      "border": null,
      "bottom": null,
      "display": null,
      "flex": null,
      "flex_flow": null,
      "grid_area": null,
      "grid_auto_columns": null,
      "grid_auto_flow": null,
      "grid_auto_rows": null,
      "grid_column": null,
      "grid_gap": null,
      "grid_row": null,
      "grid_template_areas": null,
      "grid_template_columns": null,
      "grid_template_rows": null,
      "height": null,
      "justify_content": null,
      "justify_items": null,
      "left": null,
      "margin": null,
      "max_height": null,
      "max_width": null,
      "min_height": null,
      "min_width": null,
      "object_fit": null,
      "object_position": null,
      "order": null,
      "overflow": null,
      "overflow_x": null,
      "overflow_y": null,
      "padding": null,
      "right": null,
      "top": null,
      "visibility": null,
      "width": null
     }
    },
    "ea746bc4be504af585acbb2926c72f98": {
     "model_module": "@jupyter-widgets/base",
     "model_module_version": "1.2.0",
     "model_name": "LayoutModel",
     "state": {
      "_model_module": "@jupyter-widgets/base",
      "_model_module_version": "1.2.0",
      "_model_name": "LayoutModel",
      "_view_count": null,
      "_view_module": "@jupyter-widgets/base",
      "_view_module_version": "1.2.0",
      "_view_name": "LayoutView",
      "align_content": null,
      "align_items": null,
      "align_self": null,
      "border": null,
      "bottom": null,
      "display": null,
      "flex": null,
      "flex_flow": null,
      "grid_area": null,
      "grid_auto_columns": null,
      "grid_auto_flow": null,
      "grid_auto_rows": null,
      "grid_column": null,
      "grid_gap": null,
      "grid_row": null,
      "grid_template_areas": null,
      "grid_template_columns": null,
      "grid_template_rows": null,
      "height": null,
      "justify_content": null,
      "justify_items": null,
      "left": null,
      "margin": null,
      "max_height": null,
      "max_width": null,
      "min_height": null,
      "min_width": null,
      "object_fit": null,
      "object_position": null,
      "order": null,
      "overflow": null,
      "overflow_x": null,
      "overflow_y": null,
      "padding": null,
      "right": null,
      "top": null,
      "visibility": null,
      "width": null
     }
    },
    "eabfa405b48f414a9cf4ea198b77175a": {
     "model_module": "@jupyter-widgets/controls",
     "model_module_version": "1.5.0",
     "model_name": "HBoxModel",
     "state": {
      "_dom_classes": [],
      "_model_module": "@jupyter-widgets/controls",
      "_model_module_version": "1.5.0",
      "_model_name": "HBoxModel",
      "_view_count": null,
      "_view_module": "@jupyter-widgets/controls",
      "_view_module_version": "1.5.0",
      "_view_name": "HBoxView",
      "box_style": "",
      "children": [
       "IPY_MODEL_50f3cfb393694166afe2424122bcfd0d",
       "IPY_MODEL_094b3d52d2e847fea4c2e367f2872164",
       "IPY_MODEL_dfa680294f774e6691813a53570bf6b1"
      ],
      "layout": "IPY_MODEL_f025b367f79e4d588914bc65c69233af"
     }
    },
    "eb151a1eec774e03bf8709c5903ec1e8": {
     "model_module": "@jupyter-widgets/base",
     "model_module_version": "1.2.0",
     "model_name": "LayoutModel",
     "state": {
      "_model_module": "@jupyter-widgets/base",
      "_model_module_version": "1.2.0",
      "_model_name": "LayoutModel",
      "_view_count": null,
      "_view_module": "@jupyter-widgets/base",
      "_view_module_version": "1.2.0",
      "_view_name": "LayoutView",
      "align_content": null,
      "align_items": null,
      "align_self": null,
      "border": null,
      "bottom": null,
      "display": null,
      "flex": null,
      "flex_flow": null,
      "grid_area": null,
      "grid_auto_columns": null,
      "grid_auto_flow": null,
      "grid_auto_rows": null,
      "grid_column": null,
      "grid_gap": null,
      "grid_row": null,
      "grid_template_areas": null,
      "grid_template_columns": null,
      "grid_template_rows": null,
      "height": null,
      "justify_content": null,
      "justify_items": null,
      "left": null,
      "margin": null,
      "max_height": null,
      "max_width": null,
      "min_height": null,
      "min_width": null,
      "object_fit": null,
      "object_position": null,
      "order": null,
      "overflow": null,
      "overflow_x": null,
      "overflow_y": null,
      "padding": null,
      "right": null,
      "top": null,
      "visibility": null,
      "width": null
     }
    },
    "eb91d4ed118d4fb3a11fa02cf29c4698": {
     "model_module": "@jupyter-widgets/controls",
     "model_module_version": "1.5.0",
     "model_name": "HTMLModel",
     "state": {
      "_dom_classes": [],
      "_model_module": "@jupyter-widgets/controls",
      "_model_module_version": "1.5.0",
      "_model_name": "HTMLModel",
      "_view_count": null,
      "_view_module": "@jupyter-widgets/controls",
      "_view_module_version": "1.5.0",
      "_view_name": "HTMLView",
      "description": "",
      "description_tooltip": null,
      "layout": "IPY_MODEL_d4d42a16fe4d4f0998f996a06e197fb8",
      "placeholder": "​",
      "style": "IPY_MODEL_0639042a84554a9293dea10d26c2a008",
      "value": "chat_template.json: "
     }
    },
    "f025b367f79e4d588914bc65c69233af": {
     "model_module": "@jupyter-widgets/base",
     "model_module_version": "1.2.0",
     "model_name": "LayoutModel",
     "state": {
      "_model_module": "@jupyter-widgets/base",
      "_model_module_version": "1.2.0",
      "_model_name": "LayoutModel",
      "_view_count": null,
      "_view_module": "@jupyter-widgets/base",
      "_view_module_version": "1.2.0",
      "_view_name": "LayoutView",
      "align_content": null,
      "align_items": null,
      "align_self": null,
      "border": null,
      "bottom": null,
      "display": null,
      "flex": null,
      "flex_flow": null,
      "grid_area": null,
      "grid_auto_columns": null,
      "grid_auto_flow": null,
      "grid_auto_rows": null,
      "grid_column": null,
      "grid_gap": null,
      "grid_row": null,
      "grid_template_areas": null,
      "grid_template_columns": null,
      "grid_template_rows": null,
      "height": null,
      "justify_content": null,
      "justify_items": null,
      "left": null,
      "margin": null,
      "max_height": null,
      "max_width": null,
      "min_height": null,
      "min_width": null,
      "object_fit": null,
      "object_position": null,
      "order": null,
      "overflow": null,
      "overflow_x": null,
      "overflow_y": null,
      "padding": null,
      "right": null,
      "top": null,
      "visibility": null,
      "width": null
     }
    },
    "f091bcf4155742c2a6f92a18f04eb8d9": {
     "model_module": "@jupyter-widgets/controls",
     "model_module_version": "1.5.0",
     "model_name": "HTMLModel",
     "state": {
      "_dom_classes": [],
      "_model_module": "@jupyter-widgets/controls",
      "_model_module_version": "1.5.0",
      "_model_name": "HTMLModel",
      "_view_count": null,
      "_view_module": "@jupyter-widgets/controls",
      "_view_module_version": "1.5.0",
      "_view_name": "HTMLView",
      "description": "",
      "description_tooltip": null,
      "layout": "IPY_MODEL_f90624c377dd4de999a73ef491da00e3",
      "placeholder": "​",
      "style": "IPY_MODEL_313a24ec995b4a53ab815090c36ad47e",
      "value": " 3.90G/3.90G [05:01&lt;00:00, 7.26MB/s]"
     }
    },
    "f55a1436735c453aa0716202ccbb11cd": {
     "model_module": "@jupyter-widgets/controls",
     "model_module_version": "1.5.0",
     "model_name": "HTMLModel",
     "state": {
      "_dom_classes": [],
      "_model_module": "@jupyter-widgets/controls",
      "_model_module_version": "1.5.0",
      "_model_name": "HTMLModel",
      "_view_count": null,
      "_view_module": "@jupyter-widgets/controls",
      "_view_module_version": "1.5.0",
      "_view_name": "HTMLView",
      "description": "",
      "description_tooltip": null,
      "layout": "IPY_MODEL_0de0de4f46e64c35aa5abfb8cc47cb8b",
      "placeholder": "​",
      "style": "IPY_MODEL_dc4a14791a014bdbbc3c7751c824dd6d",
      "value": "merges.txt: "
     }
    },
    "f90624c377dd4de999a73ef491da00e3": {
     "model_module": "@jupyter-widgets/base",
     "model_module_version": "1.2.0",
     "model_name": "LayoutModel",
     "state": {
      "_model_module": "@jupyter-widgets/base",
      "_model_module_version": "1.2.0",
      "_model_name": "LayoutModel",
      "_view_count": null,
      "_view_module": "@jupyter-widgets/base",
      "_view_module_version": "1.2.0",
      "_view_name": "LayoutView",
      "align_content": null,
      "align_items": null,
      "align_self": null,
      "border": null,
      "bottom": null,
      "display": null,
      "flex": null,
      "flex_flow": null,
      "grid_area": null,
      "grid_auto_columns": null,
      "grid_auto_flow": null,
      "grid_auto_rows": null,
      "grid_column": null,
      "grid_gap": null,
      "grid_row": null,
      "grid_template_areas": null,
      "grid_template_columns": null,
      "grid_template_rows": null,
      "height": null,
      "justify_content": null,
      "justify_items": null,
      "left": null,
      "margin": null,
      "max_height": null,
      "max_width": null,
      "min_height": null,
      "min_width": null,
      "object_fit": null,
      "object_position": null,
      "order": null,
      "overflow": null,
      "overflow_x": null,
      "overflow_y": null,
      "padding": null,
      "right": null,
      "top": null,
      "visibility": null,
      "width": null
     }
    },
    "f94637a844d448eca44ecb20e9459436": {
     "model_module": "@jupyter-widgets/base",
     "model_module_version": "1.2.0",
     "model_name": "LayoutModel",
     "state": {
      "_model_module": "@jupyter-widgets/base",
      "_model_module_version": "1.2.0",
      "_model_name": "LayoutModel",
      "_view_count": null,
      "_view_module": "@jupyter-widgets/base",
      "_view_module_version": "1.2.0",
      "_view_name": "LayoutView",
      "align_content": null,
      "align_items": null,
      "align_self": null,
      "border": null,
      "bottom": null,
      "display": null,
      "flex": null,
      "flex_flow": null,
      "grid_area": null,
      "grid_auto_columns": null,
      "grid_auto_flow": null,
      "grid_auto_rows": null,
      "grid_column": null,
      "grid_gap": null,
      "grid_row": null,
      "grid_template_areas": null,
      "grid_template_columns": null,
      "grid_template_rows": null,
      "height": null,
      "justify_content": null,
      "justify_items": null,
      "left": null,
      "margin": null,
      "max_height": null,
      "max_width": null,
      "min_height": null,
      "min_width": null,
      "object_fit": null,
      "object_position": null,
      "order": null,
      "overflow": null,
      "overflow_x": null,
      "overflow_y": null,
      "padding": null,
      "right": null,
      "top": null,
      "visibility": null,
      "width": null
     }
    },
    "fa9b8e29916b4df897cd270ecd202a50": {
     "model_module": "@jupyter-widgets/base",
     "model_module_version": "1.2.0",
     "model_name": "LayoutModel",
     "state": {
      "_model_module": "@jupyter-widgets/base",
      "_model_module_version": "1.2.0",
      "_model_name": "LayoutModel",
      "_view_count": null,
      "_view_module": "@jupyter-widgets/base",
      "_view_module_version": "1.2.0",
      "_view_name": "LayoutView",
      "align_content": null,
      "align_items": null,
      "align_self": null,
      "border": null,
      "bottom": null,
      "display": null,
      "flex": null,
      "flex_flow": null,
      "grid_area": null,
      "grid_auto_columns": null,
      "grid_auto_flow": null,
      "grid_auto_rows": null,
      "grid_column": null,
      "grid_gap": null,
      "grid_row": null,
      "grid_template_areas": null,
      "grid_template_columns": null,
      "grid_template_rows": null,
      "height": null,
      "justify_content": null,
      "justify_items": null,
      "left": null,
      "margin": null,
      "max_height": null,
      "max_width": null,
      "min_height": null,
      "min_width": null,
      "object_fit": null,
      "object_position": null,
      "order": null,
      "overflow": null,
      "overflow_x": null,
      "overflow_y": null,
      "padding": null,
      "right": null,
      "top": null,
      "visibility": null,
      "width": "20px"
     }
    },
    "ffe7c84c611143b99449430079eee98c": {
     "model_module": "@jupyter-widgets/base",
     "model_module_version": "1.2.0",
     "model_name": "LayoutModel",
     "state": {
      "_model_module": "@jupyter-widgets/base",
      "_model_module_version": "1.2.0",
      "_model_name": "LayoutModel",
      "_view_count": null,
      "_view_module": "@jupyter-widgets/base",
      "_view_module_version": "1.2.0",
      "_view_name": "LayoutView",
      "align_content": null,
      "align_items": null,
      "align_self": null,
      "border": null,
      "bottom": null,
      "display": null,
      "flex": null,
      "flex_flow": null,
      "grid_area": null,
      "grid_auto_columns": null,
      "grid_auto_flow": null,
      "grid_auto_rows": null,
      "grid_column": null,
      "grid_gap": null,
      "grid_row": null,
      "grid_template_areas": null,
      "grid_template_columns": null,
      "grid_template_rows": null,
      "height": null,
      "justify_content": null,
      "justify_items": null,
      "left": null,
      "margin": null,
      "max_height": null,
      "max_width": null,
      "min_height": null,
      "min_width": null,
      "object_fit": null,
      "object_position": null,
      "order": null,
      "overflow": null,
      "overflow_x": null,
      "overflow_y": null,
      "padding": null,
      "right": null,
      "top": null,
      "visibility": null,
      "width": null
     }
    }
   }
  }
 },
 "nbformat": 4,
 "nbformat_minor": 4
}
